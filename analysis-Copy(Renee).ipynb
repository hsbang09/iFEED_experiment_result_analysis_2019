{
 "cells": [
  {
   "cell_type": "code",
   "execution_count": 12,
   "metadata": {},
   "outputs": [
    {
     "data": {
      "text/plain": [
       "<module 'visualization' from 'C:\\\\Users\\\\renee\\\\Documents\\\\GitHub\\\\iFEED_experiment_result_analysis_2019\\\\visualization.py'>"
      ]
     },
     "execution_count": 12,
     "metadata": {},
     "output_type": "execute_result"
    }
   ],
   "source": [
    "import numpy as np\n",
    "import importlib\n",
    "from matplotlib import pyplot as plt\n",
    "import pandas as pd\n",
    "import math\n",
    "import os\n",
    "import scipy.stats as st\n",
    "%matplotlib inline\n",
    "\n",
    "import analyzer \n",
    "import subject\n",
    "import visualization\n",
    "import seaborn as sns\n",
    "importlib.reload(analyzer)\n",
    "importlib.reload(subject)\n",
    "importlib.reload(visualization)"
   ]
  },
  {
   "cell_type": "markdown",
   "metadata": {},
   "source": [
    "Set file paths"
   ]
  },
  {
   "cell_type": "code",
   "execution_count": 2,
   "metadata": {},
   "outputs": [],
   "source": [
    "rootPath = 'C:\\\\Users\\\\renee\\\\Documents\\\\GitHub\\\\iFEED_experiment_result_analysis_2019\\\\data'"
   ]
  },
  {
   "cell_type": "code",
   "execution_count": 3,
   "metadata": {},
   "outputs": [],
   "source": [
    "surveyDataFilePath = os.path.join(rootPath, 'survey.csv')\n",
    "loggedDataFilesRootPath = rootPath"
   ]
  },
  {
   "cell_type": "markdown",
   "metadata": {},
   "source": [
    "Initialize the analyzer"
   ]
  },
  {
   "cell_type": "code",
   "execution_count": 13,
   "metadata": {
    "scrolled": false
   },
   "outputs": [],
   "source": [
    "resultAnalyzer = analyzer.ResultAnalyzer(surveyDataFilePath, loggedDataFilesRootPath)"
   ]
  },
  {
   "cell_type": "code",
   "execution_count": 14,
   "metadata": {},
   "outputs": [],
   "source": [
    "s0 = resultAnalyzer.subjects[0]\n",
    "s1 = resultAnalyzer.subjects[1]\n",
    "s2 = resultAnalyzer.subjects[2]\n",
    "s3 = resultAnalyzer.subjects[3]\n",
    "s4 = resultAnalyzer.subjects[4]\n",
    "s5 = resultAnalyzer.subjects[5]"
   ]
  },
  {
   "cell_type": "code",
   "execution_count": 15,
   "metadata": {},
   "outputs": [
    {
     "data": {
      "text/plain": [
       "{}"
      ]
     },
     "execution_count": 15,
     "metadata": {},
     "output_type": "execute_result"
    }
   ],
   "source": [
    "s0.feature_synthesis_dist2UP\n"
   ]
  },
  {
   "cell_type": "raw",
   "metadata": {},
   "source": [
    "g1 = [s0]\n",
    "g2 = [s1]\n",
    "g3 = [s2]\n",
    "g4 = [s3]\n",
    "g5 = [s4]\n",
    "g6 = [s5]"
   ]
  },
  {
   "cell_type": "code",
   "execution_count": null,
   "metadata": {},
   "outputs": [],
   "source": [
    "sub=s3.feature_synthesis_task_data['features_found']\n",
    "print(sub)"
   ]
  },
  {
   "cell_type": "code",
   "execution_count": 11,
   "metadata": {},
   "outputs": [
    {
     "name": "stdout",
     "output_type": "stream",
     "text": [
      "0.08205574912891987\n",
      "0.8754646840148699\n"
     ]
    }
   ],
   "source": [
    "x = s3.feature_synthesis_task_data['features_found'][1]['metrics'][2]\n",
    "print(x)\n",
    "y = s3.feature_synthesis_task_data['features_found'][1]['metrics'][3]\n",
    "print(y)"
   ]
  },
  {
   "cell_type": "code",
   "execution_count": null,
   "metadata": {},
   "outputs": [],
   "source": [
    "s3.feature_synthesis_dist2UP = 10\n",
    "for count, feature in enumerate(sub):\n",
    "    #print(count)\n",
    "    x = s3.feature_synthesis_task_data['features_found'][count]['metrics'][2]\n",
    "    y = s3.feature_synthesis_task_data['features_found'][count]['metrics'][3]\n",
    "    distNew = math.sqrt((1.0 - x)**2 + (1.0 - y)**2)\n",
    "    print(distNew)\n",
    "    if distNew <  s3.feature_synthesis_dist2UP:\n",
    "        s3.feature_synthesis_dist2UP = distNew\n",
    "    \n",
    "print(s3.feature_synthesis_dist2UP)"
   ]
  },
  {
   "cell_type": "code",
   "execution_count": null,
   "metadata": {},
   "outputs": [],
   "source": [
    "s3.feature_synthesis_dist2UP = 2\n",
    "print(s3.feature_synthesis_dist2UP)"
   ]
  },
  {
   "cell_type": "code",
   "execution_count": null,
   "metadata": {
    "scrolled": false
   },
   "outputs": [],
   "source": [
    "visualizer = visualization.Visualizer([g1,g2], ['a','p'])"
   ]
  },
  {
   "cell_type": "code",
   "execution_count": null,
   "metadata": {
    "scrolled": false
   },
   "outputs": [],
   "source": [
    "\n"
   ]
  },
  {
   "cell_type": "code",
   "execution_count": null,
   "metadata": {},
   "outputs": [],
   "source": [
    "visualizer.selfAssessmentPlot()"
   ]
  },
  {
   "cell_type": "code",
   "execution_count": null,
   "metadata": {},
   "outputs": [],
   "source": []
  },
  {
   "cell_type": "code",
   "execution_count": null,
   "metadata": {
    "scrolled": true
   },
   "outputs": [],
   "source": [
    "fig, ax = plt.subplots(figsize=(13,6))\n",
    "\n",
    "# set width of bar\n",
    "barWidth = 0.25\n",
    " \n",
    "# set height of bar\n",
    "q1 = [12, 13, 1, 8]\n",
    "q2 = [11, 6, 16, 17]\n",
    " \n",
    "# Set position of bar on X axis\n",
    "r1 = np.arange(len(q1))\n",
    "r2 = [x + barWidth for x in r1]\n",
    " \n",
    "# Make the plot\n",
    "plt.bar(r1, q1, color='#7f6d5f', width=barWidth, edgecolor='white', label = 'Sub0')\n",
    "plt.bar(r2, q2, color='#557f2d', width=barWidth, edgecolor='white', label = 'Sub1')\n",
    " \n",
    "# Add xticks on the middle of the group bars\n",
    "plt.xlabel('Self Assessment', fontweight='bold')\n",
    "plt.ylabel('Frequency', fontweight='bold')\n",
    "ax.grid(True)\n",
    "plt.xticks([r + barWidth for r in range(len(q1))], ['Q1', 'Q2'])\n",
    " \n",
    "# Create legend & Show graphic\n",
    "plt.legend()\n",
    "plt.show()\n"
   ]
  },
  {
   "cell_type": "code",
   "execution_count": null,
   "metadata": {},
   "outputs": [],
   "source": [
    "x = np.zeros((2,3))\n",
    "a = [0, 1, 2]\n",
    "b = [3, 4, 5]\n",
    "l = [a, b]\n",
    "\n",
    "\n",
    "for d, i in enumerate(l):\n",
    "    print(i)\n",
    "    x[d] = i\n",
    "    \n",
    "#x[d]=[1, 2, 3]\n",
    "print(x)"
   ]
  },
  {
   "cell_type": "code",
   "execution_count": null,
   "metadata": {},
   "outputs": [],
   "source": [
    "a=np.arange(2)\n",
    "\n",
    "for i, ele in enumerate(a):\n",
    "    b = a + 2*i\n",
    "    print(i, b)"
   ]
  },
  {
   "cell_type": "code",
   "execution_count": null,
   "metadata": {},
   "outputs": [],
   "source": [
    "# group of subject input?\n",
    "group=[s0,s1]\n",
    "\n",
    "Question2=[]\n",
    "for subject in group:\n",
    "    n=subject.feature_preference_data['generalization'][1]\n",
    "    Question2.append(n)\n",
    "    \n",
    "print(Question2)"
   ]
  },
  {
   "cell_type": "code",
   "execution_count": null,
   "metadata": {},
   "outputs": [],
   "source": [
    "fig, ax = plt.subplots(figsize=(13,6))\n",
    "hist = plt.hist([x, y], color=['r','b'], alpha=0.6)\n",
    "    \n",
    "ax.legend(['s0','s1'])\n",
    "ax.grid(True)\n",
    "ax.set_xlabel('Answer Choice')\n",
    "ax.set_ylabel('Frequency')\n",
    "plt.show()"
   ]
  },
  {
   "cell_type": "code",
   "execution_count": null,
   "metadata": {},
   "outputs": [],
   "source": [
    "x = np.random.randn(100)\n",
    "y = np.random.randn(100)\n",
    "z = np.random.randn(70)"
   ]
  },
  {
   "cell_type": "code",
   "execution_count": null,
   "metadata": {},
   "outputs": [],
   "source": [
    "sns.set();\n",
    "sns.distplot([x,y], color)\n"
   ]
  },
  {
   "cell_type": "code",
   "execution_count": null,
   "metadata": {
    "scrolled": true
   },
   "outputs": [],
   "source": [
    "s0.feature_synthesis_task_data['features_found']\n",
    "s0.design_synthesis_task_data\n",
    "s0.feature_synthesis_task_data"
   ]
  },
  {
   "cell_type": "code",
   "execution_count": null,
   "metadata": {},
   "outputs": [],
   "source": [
    "for j in range(2):\n",
    "    print(j)"
   ]
  },
  {
   "cell_type": "code",
   "execution_count": null,
   "metadata": {},
   "outputs": [],
   "source": [
    "s0.demographic_data"
   ]
  },
  {
   "cell_type": "code",
   "execution_count": null,
   "metadata": {},
   "outputs": [],
   "source": [
    "s1.demographic_data"
   ]
  },
  {
   "cell_type": "code",
   "execution_count": null,
   "metadata": {},
   "outputs": [],
   "source": [
    "def majorDemographicString(argument): \n",
    "    switcher = {  \n",
    "        1: \"Aerospace Engineering\", \n",
    "        2: \"Biological / Agricultural / Biomedial Engineering\", \n",
    "        3: \"Chemical Engineering\",\n",
    "        4: \"Civil / Environmental Engineering\",\n",
    "        5: \"Computer Science / Information Science\",\n",
    "        6: \"Electrical Engineering\",\n",
    "        7: \"Industrial / Systems Engineering\",\n",
    "        8: \"Mechanical Engineering\",\n",
    "        9: \"Mathematics / Statistics\",\n",
    "        10: \"Physics\",\n",
    "        11: \"Chemistry\",\n",
    "        12: \"Biological Science\",\n",
    "        13: \"Other\",\n",
    "    } \n",
    "\n",
    "    return switcher.get(argument, \"nothing\") "
   ]
  },
  {
   "cell_type": "code",
   "execution_count": null,
   "metadata": {},
   "outputs": [],
   "source": [
    "Major=s0.demographic_data['major']\n",
    "print(Major[1])\n",
    "Major2=Major.split(',')\n",
    "print(Major2)\n",
    "MajorIntList=[int(i) for i in Major2]\n",
    "print(MajorIntList)\n",
    "type(MajorIntList)"
   ]
  },
  {
   "cell_type": "code",
   "execution_count": null,
   "metadata": {},
   "outputs": [],
   "source": [
    "MajorStringList=MajorIntList\n",
    "for w in range(len(MajorIntList)):\n",
    "    print(w)\n",
    "    MajorStringList[w]=majorDemographicString(MajorIntList[w]) \n",
    "print(MajorStringList)\n",
    "concatMajor=', '.join(MajorStringList)"
   ]
  },
  {
   "cell_type": "code",
   "execution_count": null,
   "metadata": {},
   "outputs": [],
   "source": [
    "s0.demographic_data['major']=concatMajor\n",
    "s0.demographic_data"
   ]
  },
  {
   "cell_type": "code",
   "execution_count": null,
   "metadata": {
    "scrolled": true
   },
   "outputs": [],
   "source": [
    "subjects=resultAnalyzer.subjects\n",
    "majorArray=[1,2]\n",
    "print(majorArray[0])"
   ]
  },
  {
   "cell_type": "code",
   "execution_count": null,
   "metadata": {},
   "outputs": [],
   "source": [
    "for i in majorArray:\n",
    "    majorTest=majorDemographicString(majorArray[i-1])\n",
    "    print(majorTest)\n",
    "    print(i)\n"
   ]
  },
  {
   "cell_type": "code",
   "execution_count": null,
   "metadata": {},
   "outputs": [],
   "source": [
    "def employerTypeDemographicString(argument): \n",
    "    switcher = {  \n",
    "        1: \"For profit\", \n",
    "        2: \"Non-profit (non-profit research organization, government contractor, etc.)\", \n",
    "        3: \"Government\",\n",
    "        4: \"Academic institution\",\n",
    "        5: \"Other\",\n",
    "    } \n",
    "\n",
    "    return switcher.get(argument, \"nothing\") "
   ]
  },
  {
   "cell_type": "code",
   "execution_count": null,
   "metadata": {},
   "outputs": [],
   "source": [
    "employerTest=employerTypeDemographicString(1)\n",
    "print(employerTest)"
   ]
  },
  {
   "cell_type": "code",
   "execution_count": null,
   "metadata": {},
   "outputs": [],
   "source": []
  },
  {
   "cell_type": "code",
   "execution_count": null,
   "metadata": {
    "scrolled": false
   },
   "outputs": [],
   "source": [
    "s0.feature_synthesis_task_data['features_found']"
   ]
  },
  {
   "cell_type": "code",
   "execution_count": null,
   "metadata": {},
   "outputs": [],
   "source": [
    "print(s1.feature_classification_graded_answers)\n",
    "print(s1.feature_comparison_graded_answers)\n",
    "print(s1.design_classification_graded_answers)\n",
    "print(s1.design_comparison_graded_answers)"
   ]
  },
  {
   "cell_type": "code",
   "execution_count": null,
   "metadata": {},
   "outputs": [],
   "source": [
    "print(s0.feature_classification_graded_answers)\n",
    "print(s0.feature_comparison_graded_answers)\n",
    "print(s0.design_classification_graded_answers)\n",
    "print(s0.design_comparison_graded_answers)"
   ]
  },
  {
   "cell_type": "code",
   "execution_count": null,
   "metadata": {
    "scrolled": false
   },
   "outputs": [],
   "source": [
    "s0.feature_synthesis_task_data['features_found']\n",
    "s0.design_synthesis_task_data\n",
    "s0.feature_synthesis_task_data\n",
    "g1 = [s0]\n",
    "g2 = [s2]\n",
    "g3 = [s3]\n",
    "visualizer = visualization.Visualizer([g1,g2,g3], ['r','a','p'])\n",
    "visualizer.designSynthesisScatter()\n"
   ]
  },
  {
   "cell_type": "code",
   "execution_count": null,
   "metadata": {},
   "outputs": [],
   "source": []
  }
 ],
 "metadata": {
  "kernelspec": {
   "display_name": "Python 3",
   "language": "python",
   "name": "python3"
  },
  "language_info": {
   "codemirror_mode": {
    "name": "ipython",
    "version": 3
   },
   "file_extension": ".py",
   "mimetype": "text/x-python",
   "name": "python",
   "nbconvert_exporter": "python",
   "pygments_lexer": "ipython3",
   "version": "3.7.3"
  }
 },
 "nbformat": 4,
 "nbformat_minor": 2
}
