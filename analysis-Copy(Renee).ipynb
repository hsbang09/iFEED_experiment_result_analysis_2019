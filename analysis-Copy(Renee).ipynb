{
 "cells": [
  {
   "cell_type": "code",
   "execution_count": 15,
   "metadata": {},
   "outputs": [
    {
     "data": {
      "text/plain": [
       "<module 'visualization' from 'C:\\\\Users\\\\renee\\\\Documents\\\\GitHub\\\\iFEED_experiment_result_analysis_2019\\\\visualization.py'>"
      ]
     },
     "execution_count": 15,
     "metadata": {},
     "output_type": "execute_result"
    }
   ],
   "source": [
    "import numpy as np\n",
    "import importlib\n",
    "from matplotlib import pyplot as plt\n",
    "import pandas as pd\n",
    "import math\n",
    "import os\n",
    "import scipy.stats as st\n",
    "%matplotlib inline\n",
    "import xlrd\n",
    "\n",
    "import analyzer \n",
    "import subject\n",
    "import visualization\n",
    "import seaborn as sns\n",
    "importlib.reload(analyzer)\n",
    "importlib.reload(subject)\n",
    "importlib.reload(visualization)"
   ]
  },
  {
   "cell_type": "markdown",
   "metadata": {},
   "source": [
    "Set file paths"
   ]
  },
  {
   "cell_type": "code",
   "execution_count": 2,
   "metadata": {},
   "outputs": [],
   "source": [
    "rootPath = 'C:\\\\Users\\\\renee\\\\Documents\\\\GitHub\\\\iFEED_experiment_result_analysis_2019\\\\data'"
   ]
  },
  {
   "cell_type": "code",
   "execution_count": 3,
   "metadata": {},
   "outputs": [],
   "source": [
    "surveyDataFilePath = os.path.join(rootPath, 'survey.csv')\n",
    "loggedDataFilesRootPath = rootPath"
   ]
  },
  {
   "cell_type": "markdown",
   "metadata": {},
   "source": [
    "Initialize the analyzer"
   ]
  },
  {
   "cell_type": "code",
   "execution_count": 16,
   "metadata": {
    "scrolled": false
   },
   "outputs": [],
   "source": [
    "resultAnalyzer = analyzer.ResultAnalyzer(surveyDataFilePath, loggedDataFilesRootPath)"
   ]
  },
  {
   "cell_type": "code",
   "execution_count": 17,
   "metadata": {},
   "outputs": [],
   "source": [
    "s0 = resultAnalyzer.subjects[0]\n",
    "s1 = resultAnalyzer.subjects[1]\n",
    "s2 = resultAnalyzer.subjects[2]\n",
    "s3 = resultAnalyzer.subjects[3]\n",
    "s4 = resultAnalyzer.subjects[4]\n",
    "s5 = resultAnalyzer.subjects[5]"
   ]
  },
  {
   "cell_type": "code",
   "execution_count": null,
   "metadata": {},
   "outputs": [],
   "source": []
  },
  {
   "cell_type": "code",
   "execution_count": 7,
   "metadata": {},
   "outputs": [
    {
     "name": "stdout",
     "output_type": "stream",
     "text": [
      "{}\n"
     ]
    }
   ],
   "source": [
    "s0.feature_synthesis_dist2UP\n"
   ]
  },
  {
   "cell_type": "code",
   "execution_count": 18,
   "metadata": {},
   "outputs": [
    {
     "data": {
      "text/plain": [
       "{}"
      ]
     },
     "execution_count": 18,
     "metadata": {},
     "output_type": "execute_result"
    }
   ],
   "source": [
    "s0.design_IGD"
   ]
  },
  {
   "cell_type": "code",
   "execution_count": null,
   "metadata": {},
   "outputs": [],
   "source": [
    "############ KEEP #############"
   ]
  },
  {
   "cell_type": "code",
   "execution_count": null,
   "metadata": {},
   "outputs": [],
   "source": [
    "# load in excel sheet\n",
    "targetDDLoc = (\"C:\\\\Users\\\\renee\\\\Documents\\\\__MACOSX\\\\TargetDesigns.xlsx\")"
   ]
  },
  {
   "cell_type": "code",
   "execution_count": null,
   "metadata": {},
   "outputs": [],
   "source": [
    "targetWB = xlrd.open_workbook(targetDDLoc)"
   ]
  },
  {
   "cell_type": "code",
   "execution_count": null,
   "metadata": {},
   "outputs": [],
   "source": [
    "targetDesignData = targetWB.sheet_by_index(0)"
   ]
  },
  {
   "cell_type": "code",
   "execution_count": null,
   "metadata": {},
   "outputs": [],
   "source": [
    "# initialize empty arrays\n",
    "targetVals = []\n",
    "scienceVals = []\n",
    "costVals = []\n",
    "\n",
    "# iterate through the column that contains a 0 or 1 describing if \n",
    "# design is a target. if Yes (targetbool = 1), append science and cost\n",
    "# to array\n",
    "for count, targetBool in enumerate(targetDesignData.col_values(1)):\n",
    "    if targetBool == 1:\n",
    "        targetVals.append(count)\n",
    "        scienceVals.append(targetDesignData.cell_value(count,3))\n",
    "        costVals.append(targetDesignData.cell_value(count,4))\n",
    "        "
   ]
  },
  {
   "cell_type": "code",
   "execution_count": null,
   "metadata": {},
   "outputs": [],
   "source": [
    "############ END KEEP ##############"
   ]
  },
  {
   "cell_type": "code",
   "execution_count": null,
   "metadata": {},
   "outputs": [],
   "source": [
    "# 1. iterate through Z: reference points \n",
    "    # THEN: iterate through solution set (A, from subjects) for each Z value\n",
    "    # find minimum for that z point with varying A\n",
    "# sum and take average"
   ]
  },
  {
   "cell_type": "code",
   "execution_count": null,
   "metadata": {},
   "outputs": [],
   "source": [
    "subDesigns = s0.design_synthesis_task_data['designs_evaluated'][:]\n",
    "numDesigns = len(subDesigns)\n",
    "numTargetDesigns = len(targetVals)"
   ]
  },
  {
   "cell_type": "code",
   "execution_count": null,
   "metadata": {},
   "outputs": [],
   "source": [
    "numDesigns"
   ]
  },
  {
   "cell_type": "code",
   "execution_count": null,
   "metadata": {},
   "outputs": [],
   "source": [
    "# initialize min dist to be 0\n",
    "minDist = []\n",
    "# iterate through target solutions, get science and cost for each solution\n",
    "for j, zSci in enumerate(scienceVals):\n",
    "    zCost = costVals[j]\n",
    "    distArr = []\n",
    "    \n",
    "    # iterate through the subject's solutions, get science and cost. compute\n",
    "    # distance, keeping target solution the same and changing subject soln\n",
    "    for k, designs in enumerate(subDesigns):\n",
    "        aSci = s0.design_synthesis_task_data['designs_evaluated'][k]['outputs'][0]\n",
    "        aCost = s0.design_synthesis_task_data['designs_evaluated'][k]['outputs'][1]\n",
    "        dist = math.sqrt((zCost - aCost)**2 + (zSci - aSci)**2)\n",
    "        distArr.append(dist)\n",
    "        \n",
    "    # add min of the distances to an array    \n",
    "    minDist.append(min(distArr))\n",
    "    \n",
    "# sum and average    \n",
    "IGD = sum(minDist)/len(minDist)"
   ]
  },
  {
   "cell_type": "code",
   "execution_count": null,
   "metadata": {},
   "outputs": [],
   "source": [
    "IGD"
   ]
  },
  {
   "cell_type": "code",
   "execution_count": null,
   "metadata": {},
   "outputs": [],
   "source": [
    "len(minDist)"
   ]
  },
  {
   "cell_type": "code",
   "execution_count": null,
   "metadata": {},
   "outputs": [],
   "source": [
    "len(distArr)"
   ]
  },
  {
   "cell_type": "code",
   "execution_count": null,
   "metadata": {},
   "outputs": [],
   "source": []
  },
  {
   "cell_type": "code",
   "execution_count": null,
   "metadata": {
    "scrolled": true
   },
   "outputs": [],
   "source": [
    "s0.design_synthesis_task_data['designs_evaluated']"
   ]
  },
  {
   "cell_type": "code",
   "execution_count": null,
   "metadata": {
    "scrolled": true
   },
   "outputs": [],
   "source": [
    "targetDesignData.cell_value(2,4)"
   ]
  },
  {
   "cell_type": "code",
   "execution_count": null,
   "metadata": {},
   "outputs": [],
   "source": [
    "columns = targetDesignData.ncols\n",
    "rows = targetDesignData.nrows"
   ]
  },
  {
   "cell_type": "code",
   "execution_count": null,
   "metadata": {},
   "outputs": [],
   "source": [
    "targetVals[7]"
   ]
  },
  {
   "cell_type": "code",
   "execution_count": null,
   "metadata": {},
   "outputs": [],
   "source": [
    "s0.design_synthesis_task_data['designs_evaluated'][4]['outputs'][1]"
   ]
  },
  {
   "cell_type": "code",
   "execution_count": null,
   "metadata": {},
   "outputs": [],
   "source": [
    "len(s0.design_synthesis_task_data['designs_evaluated'][:])"
   ]
  },
  {
   "cell_type": "code",
   "execution_count": null,
   "metadata": {},
   "outputs": [],
   "source": []
  },
  {
   "cell_type": "code",
   "execution_count": null,
   "metadata": {},
   "outputs": [],
   "source": []
  },
  {
   "cell_type": "code",
   "execution_count": null,
   "metadata": {},
   "outputs": [],
   "source": [
    "len(targetVals)"
   ]
  },
  {
   "cell_type": "code",
   "execution_count": null,
   "metadata": {},
   "outputs": [],
   "source": []
  },
  {
   "cell_type": "code",
   "execution_count": null,
   "metadata": {},
   "outputs": [],
   "source": []
  },
  {
   "cell_type": "code",
   "execution_count": null,
   "metadata": {},
   "outputs": [],
   "source": [
    "type(b)"
   ]
  },
  {
   "cell_type": "code",
   "execution_count": null,
   "metadata": {},
   "outputs": [],
   "source": [
    "print(d)"
   ]
  },
  {
   "cell_type": "code",
   "execution_count": null,
   "metadata": {},
   "outputs": [],
   "source": []
  },
  {
   "cell_type": "code",
   "execution_count": null,
   "metadata": {},
   "outputs": [],
   "source": []
  },
  {
   "cell_type": "code",
   "execution_count": null,
   "metadata": {
    "scrolled": true
   },
   "outputs": [],
   "source": []
  },
  {
   "cell_type": "code",
   "execution_count": null,
   "metadata": {},
   "outputs": [],
   "source": [
    "d"
   ]
  },
  {
   "cell_type": "code",
   "execution_count": null,
   "metadata": {},
   "outputs": [],
   "source": [
    "b = a[:,0]\n",
    "print(b)"
   ]
  },
  {
   "cell_type": "code",
   "execution_count": null,
   "metadata": {},
   "outputs": [],
   "source": [
    "a.shape\n",
    "\n"
   ]
  },
  {
   "cell_type": "code",
   "execution_count": null,
   "metadata": {},
   "outputs": [],
   "source": [
    "p = [[1,3,2],[1,2,3]]\n",
    "print(p)"
   ]
  },
  {
   "cell_type": "code",
   "execution_count": null,
   "metadata": {},
   "outputs": [],
   "source": [
    "t = np.asarray(p)\n",
    "print(t)\n",
    "type(t)"
   ]
  },
  {
   "cell_type": "code",
   "execution_count": null,
   "metadata": {},
   "outputs": [],
   "source": [
    "e = np.zeros((1,4))\n",
    "for i in range(4):\n",
    "    print(i)\n",
    "    e[0][i] = i+1\n",
    "print(e)"
   ]
  },
  {
   "cell_type": "code",
   "execution_count": null,
   "metadata": {},
   "outputs": [],
   "source": []
  },
  {
   "cell_type": "code",
   "execution_count": null,
   "metadata": {},
   "outputs": [],
   "source": []
  },
  {
   "cell_type": "raw",
   "metadata": {},
   "source": [
    "g1 = [s0]\n",
    "g2 = [s1]\n",
    "g3 = [s2]\n",
    "g4 = [s3]\n",
    "g5 = [s4]\n",
    "g6 = [s5]"
   ]
  },
  {
   "cell_type": "code",
   "execution_count": null,
   "metadata": {},
   "outputs": [],
   "source": [
    "sub=s3.feature_synthesis_task_data['features_found']\n",
    "print(sub)"
   ]
  },
  {
   "cell_type": "code",
   "execution_count": null,
   "metadata": {},
   "outputs": [],
   "source": []
  },
  {
   "cell_type": "code",
   "execution_count": null,
   "metadata": {},
   "outputs": [],
   "source": [
    "x = s3.feature_synthesis_task_data['features_found'][1]['metrics'][2]\n",
    "print(x)\n",
    "y = s3.feature_synthesis_task_data['features_found'][1]['metrics'][3]\n",
    "print(y)"
   ]
  },
  {
   "cell_type": "code",
   "execution_count": null,
   "metadata": {},
   "outputs": [],
   "source": [
    "s3.feature_synthesis_dist2UP = 10\n",
    "for count, feature in enumerate(sub):\n",
    "    #print(count)\n",
    "    x = s3.feature_synthesis_task_data['features_found'][count]['metrics'][2]\n",
    "    y = s3.feature_synthesis_task_data['features_found'][count]['metrics'][3]\n",
    "    distNew = math.sqrt((1.0 - x)**2 + (1.0 - y)**2)\n",
    "    print(distNew)\n",
    "    if distNew <  s3.feature_synthesis_dist2UP:\n",
    "        s3.feature_synthesis_dist2UP = distNew\n",
    "    \n",
    "print(s3.feature_synthesis_dist2UP)"
   ]
  },
  {
   "cell_type": "code",
   "execution_count": null,
   "metadata": {},
   "outputs": [],
   "source": [
    "s3.feature_synthesis_dist2UP = 2\n",
    "print(s3.feature_synthesis_dist2UP)"
   ]
  },
  {
   "cell_type": "code",
   "execution_count": null,
   "metadata": {
    "scrolled": false
   },
   "outputs": [],
   "source": [
    "visualizer = visualization.Visualizer([g1,g2], ['a','p'])"
   ]
  },
  {
   "cell_type": "code",
   "execution_count": null,
   "metadata": {
    "scrolled": false
   },
   "outputs": [],
   "source": [
    "\n"
   ]
  },
  {
   "cell_type": "code",
   "execution_count": null,
   "metadata": {},
   "outputs": [],
   "source": [
    "visualizer.selfAssessmentPlot()"
   ]
  },
  {
   "cell_type": "code",
   "execution_count": null,
   "metadata": {},
   "outputs": [],
   "source": []
  },
  {
   "cell_type": "code",
   "execution_count": null,
   "metadata": {
    "scrolled": true
   },
   "outputs": [],
   "source": [
    "fig, ax = plt.subplots(figsize=(13,6))\n",
    "\n",
    "# set width of bar\n",
    "barWidth = 0.25\n",
    " \n",
    "# set height of bar\n",
    "q1 = [12, 13, 1, 8]\n",
    "q2 = [11, 6, 16, 17]\n",
    " \n",
    "# Set position of bar on X axis\n",
    "r1 = np.arange(len(q1))\n",
    "r2 = [x + barWidth for x in r1]\n",
    " \n",
    "# Make the plot\n",
    "plt.bar(r1, q1, color='#7f6d5f', width=barWidth, edgecolor='white', label = 'Sub0')\n",
    "plt.bar(r2, q2, color='#557f2d', width=barWidth, edgecolor='white', label = 'Sub1')\n",
    " \n",
    "# Add xticks on the middle of the group bars\n",
    "plt.xlabel('Self Assessment', fontweight='bold')\n",
    "plt.ylabel('Frequency', fontweight='bold')\n",
    "ax.grid(True)\n",
    "plt.xticks([r + barWidth for r in range(len(q1))], ['Q1', 'Q2'])\n",
    " \n",
    "# Create legend & Show graphic\n",
    "plt.legend()\n",
    "plt.show()\n"
   ]
  },
  {
   "cell_type": "code",
   "execution_count": null,
   "metadata": {},
   "outputs": [],
   "source": [
    "x = np.zeros((2,3))\n",
    "a = [0, 1, 2]\n",
    "b = [3, 4, 5]\n",
    "l = [a, b]\n",
    "\n",
    "\n",
    "for d, i in enumerate(l):\n",
    "    print(i)\n",
    "    x[d] = i\n",
    "    \n",
    "#x[d]=[1, 2, 3]\n",
    "print(x)"
   ]
  },
  {
   "cell_type": "code",
   "execution_count": null,
   "metadata": {},
   "outputs": [],
   "source": [
    "a=np.arange(2)\n",
    "\n",
    "for i, ele in enumerate(a):\n",
    "    b = a + 2*i\n",
    "    print(i, b)"
   ]
  },
  {
   "cell_type": "code",
   "execution_count": null,
   "metadata": {},
   "outputs": [],
   "source": [
    "# group of subject input?\n",
    "group=[s0,s1]\n",
    "\n",
    "Question2=[]\n",
    "for subject in group:\n",
    "    n=subject.feature_preference_data['generalization'][1]\n",
    "    Question2.append(n)\n",
    "    \n",
    "print(Question2)"
   ]
  },
  {
   "cell_type": "code",
   "execution_count": null,
   "metadata": {},
   "outputs": [],
   "source": [
    "fig, ax = plt.subplots(figsize=(13,6))\n",
    "hist = plt.hist([x, y], color=['r','b'], alpha=0.6)\n",
    "    \n",
    "ax.legend(['s0','s1'])\n",
    "ax.grid(True)\n",
    "ax.set_xlabel('Answer Choice')\n",
    "ax.set_ylabel('Frequency')\n",
    "plt.show()"
   ]
  },
  {
   "cell_type": "code",
   "execution_count": null,
   "metadata": {},
   "outputs": [],
   "source": [
    "x = np.random.randn(100)\n",
    "y = np.random.randn(100)\n",
    "z = np.random.randn(70)"
   ]
  },
  {
   "cell_type": "code",
   "execution_count": null,
   "metadata": {},
   "outputs": [],
   "source": [
    "sns.set();\n",
    "sns.distplot([x,y], color)\n"
   ]
  },
  {
   "cell_type": "code",
   "execution_count": null,
   "metadata": {
    "scrolled": true
   },
   "outputs": [],
   "source": [
    "s0.feature_synthesis_task_data['features_found']\n",
    "s0.design_synthesis_task_data\n",
    "s0.feature_synthesis_task_data"
   ]
  },
  {
   "cell_type": "code",
   "execution_count": null,
   "metadata": {},
   "outputs": [],
   "source": [
    "for j in range(2):\n",
    "    print(j)"
   ]
  },
  {
   "cell_type": "code",
   "execution_count": null,
   "metadata": {},
   "outputs": [],
   "source": [
    "s0.demographic_data"
   ]
  },
  {
   "cell_type": "code",
   "execution_count": null,
   "metadata": {},
   "outputs": [],
   "source": [
    "s1.demographic_data"
   ]
  },
  {
   "cell_type": "code",
   "execution_count": null,
   "metadata": {},
   "outputs": [],
   "source": [
    "def majorDemographicString(argument): \n",
    "    switcher = {  \n",
    "        1: \"Aerospace Engineering\", \n",
    "        2: \"Biological / Agricultural / Biomedial Engineering\", \n",
    "        3: \"Chemical Engineering\",\n",
    "        4: \"Civil / Environmental Engineering\",\n",
    "        5: \"Computer Science / Information Science\",\n",
    "        6: \"Electrical Engineering\",\n",
    "        7: \"Industrial / Systems Engineering\",\n",
    "        8: \"Mechanical Engineering\",\n",
    "        9: \"Mathematics / Statistics\",\n",
    "        10: \"Physics\",\n",
    "        11: \"Chemistry\",\n",
    "        12: \"Biological Science\",\n",
    "        13: \"Other\",\n",
    "    } \n",
    "\n",
    "    return switcher.get(argument, \"nothing\") "
   ]
  },
  {
   "cell_type": "code",
   "execution_count": null,
   "metadata": {},
   "outputs": [],
   "source": [
    "Major=s0.demographic_data['major']\n",
    "print(Major[1])\n",
    "Major2=Major.split(',')\n",
    "print(Major2)\n",
    "MajorIntList=[int(i) for i in Major2]\n",
    "print(MajorIntList)\n",
    "type(MajorIntList)"
   ]
  },
  {
   "cell_type": "code",
   "execution_count": null,
   "metadata": {},
   "outputs": [],
   "source": [
    "MajorStringList=MajorIntList\n",
    "for w in range(len(MajorIntList)):\n",
    "    print(w)\n",
    "    MajorStringList[w]=majorDemographicString(MajorIntList[w]) \n",
    "print(MajorStringList)\n",
    "concatMajor=', '.join(MajorStringList)"
   ]
  },
  {
   "cell_type": "code",
   "execution_count": null,
   "metadata": {},
   "outputs": [],
   "source": [
    "s0.demographic_data['major']=concatMajor\n",
    "s0.demographic_data"
   ]
  },
  {
   "cell_type": "code",
   "execution_count": null,
   "metadata": {
    "scrolled": true
   },
   "outputs": [],
   "source": [
    "subjects=resultAnalyzer.subjects\n",
    "majorArray=[1,2]\n",
    "print(majorArray[0])"
   ]
  },
  {
   "cell_type": "code",
   "execution_count": null,
   "metadata": {},
   "outputs": [],
   "source": [
    "for i in majorArray:\n",
    "    majorTest=majorDemographicString(majorArray[i-1])\n",
    "    print(majorTest)\n",
    "    print(i)\n"
   ]
  },
  {
   "cell_type": "code",
   "execution_count": null,
   "metadata": {},
   "outputs": [],
   "source": [
    "def employerTypeDemographicString(argument): \n",
    "    switcher = {  \n",
    "        1: \"For profit\", \n",
    "        2: \"Non-profit (non-profit research organization, government contractor, etc.)\", \n",
    "        3: \"Government\",\n",
    "        4: \"Academic institution\",\n",
    "        5: \"Other\",\n",
    "    } \n",
    "\n",
    "    return switcher.get(argument, \"nothing\") "
   ]
  },
  {
   "cell_type": "code",
   "execution_count": null,
   "metadata": {},
   "outputs": [],
   "source": [
    "employerTest=employerTypeDemographicString(1)\n",
    "print(employerTest)"
   ]
  },
  {
   "cell_type": "code",
   "execution_count": null,
   "metadata": {},
   "outputs": [],
   "source": []
  },
  {
   "cell_type": "code",
   "execution_count": null,
   "metadata": {
    "scrolled": false
   },
   "outputs": [],
   "source": [
    "s0.feature_synthesis_task_data['features_found']"
   ]
  },
  {
   "cell_type": "code",
   "execution_count": null,
   "metadata": {},
   "outputs": [],
   "source": [
    "print(s1.feature_classification_graded_answers)\n",
    "print(s1.feature_comparison_graded_answers)\n",
    "print(s1.design_classification_graded_answers)\n",
    "print(s1.design_comparison_graded_answers)"
   ]
  },
  {
   "cell_type": "code",
   "execution_count": null,
   "metadata": {},
   "outputs": [],
   "source": [
    "print(s0.feature_classification_graded_answers)\n",
    "print(s0.feature_comparison_graded_answers)\n",
    "print(s0.design_classification_graded_answers)\n",
    "print(s0.design_comparison_graded_answers)"
   ]
  },
  {
   "cell_type": "code",
   "execution_count": null,
   "metadata": {
    "scrolled": false
   },
   "outputs": [],
   "source": [
    "s0.feature_synthesis_task_data['features_found']\n",
    "s0.design_synthesis_task_data\n",
    "s0.feature_synthesis_task_data\n",
    "g1 = [s0]\n",
    "g2 = [s2]\n",
    "g3 = [s3]\n",
    "visualizer = visualization.Visualizer([g1,g2,g3], ['r','a','p'])\n",
    "visualizer.designSynthesisScatter()\n"
   ]
  },
  {
   "cell_type": "code",
   "execution_count": null,
   "metadata": {},
   "outputs": [],
   "source": []
  }
 ],
 "metadata": {
  "kernelspec": {
   "display_name": "Python 3",
   "language": "python",
   "name": "python3"
  },
  "language_info": {
   "codemirror_mode": {
    "name": "ipython",
    "version": 3
   },
   "file_extension": ".py",
   "mimetype": "text/x-python",
   "name": "python",
   "nbconvert_exporter": "python",
   "pygments_lexer": "ipython3",
   "version": "3.7.3"
  }
 },
 "nbformat": 4,
 "nbformat_minor": 2
}
