{
 "cells": [
  {
   "cell_type": "code",
   "execution_count": 1,
   "metadata": {},
   "outputs": [
    {
     "data": {
      "text/plain": [
       "<module 'visualization' from '/Users/bang/workspace/iFEED_experiment_result_analysis_2019/visualization.py'>"
      ]
     },
     "execution_count": 1,
     "metadata": {},
     "output_type": "execute_result"
    }
   ],
   "source": [
    "import numpy as np\n",
    "import importlib\n",
    "from matplotlib import pyplot as plt\n",
    "import pandas as pd\n",
    "import math\n",
    "import os\n",
    "from scipy import stats\n",
    "import sklearn\n",
    "%matplotlib inline\n",
    "\n",
    "import analyzer\n",
    "import subject\n",
    "import visualization\n",
    "importlib.reload(analyzer)\n",
    "importlib.reload(subject)\n",
    "importlib.reload(visualization)"
   ]
  },
  {
   "cell_type": "markdown",
   "metadata": {},
   "source": [
    "Set file paths"
   ]
  },
  {
   "cell_type": "code",
   "execution_count": 2,
   "metadata": {},
   "outputs": [],
   "source": [
    "rootPath = '/Users/bang/workspace/iFEED_experiment_result_analysis_2019/data'"
   ]
  },
  {
   "cell_type": "code",
   "execution_count": 3,
   "metadata": {},
   "outputs": [],
   "source": [
    "surveyDataFilePath = os.path.join(rootPath, 'survey.csv')\n",
    "loggedDataFilesRootPath = rootPath"
   ]
  },
  {
   "cell_type": "markdown",
   "metadata": {},
   "source": [
    "Initialize the analyzer"
   ]
  },
  {
   "cell_type": "code",
   "execution_count": 4,
   "metadata": {
    "scrolled": false
   },
   "outputs": [],
   "source": [
    "resultAnalyzer = analyzer.ResultAnalyzer(surveyDataFilePath, loggedDataFilesRootPath)"
   ]
  },
  {
   "cell_type": "code",
   "execution_count": 5,
   "metadata": {},
   "outputs": [],
   "source": [
    "resultAnalyzer.gradeAnswers(confidenceThreshold=10)"
   ]
  },
  {
   "cell_type": "code",
   "execution_count": 6,
   "metadata": {},
   "outputs": [],
   "source": [
    "s0 = resultAnalyzer.subjects[0]\n",
    "s1 = resultAnalyzer.subjects[1]\n",
    "s2 = resultAnalyzer.subjects[2]\n",
    "s3 = resultAnalyzer.subjects[3]\n",
    "s4 = resultAnalyzer.subjects[4]\n",
    "s5 = resultAnalyzer.subjects[5]\n",
    "s6 = resultAnalyzer.subjects[6]\n"
   ]
  },
  {
   "cell_type": "code",
   "execution_count": null,
   "metadata": {},
   "outputs": [],
   "source": []
  },
  {
   "cell_type": "markdown",
   "metadata": {},
   "source": [
    "# Get DataFrame"
   ]
  },
  {
   "cell_type": "code",
   "execution_count": 7,
   "metadata": {},
   "outputs": [
    {
     "data": {
      "text/html": [
       "<div>\n",
       "<style scoped>\n",
       "    .dataframe tbody tr th:only-of-type {\n",
       "        vertical-align: middle;\n",
       "    }\n",
       "\n",
       "    .dataframe tbody tr th {\n",
       "        vertical-align: top;\n",
       "    }\n",
       "\n",
       "    .dataframe thead th {\n",
       "        text-align: right;\n",
       "    }\n",
       "</style>\n",
       "<table border=\"1\" class=\"dataframe\">\n",
       "  <thead>\n",
       "    <tr style=\"text-align: right;\">\n",
       "      <th></th>\n",
       "      <th>id</th>\n",
       "      <th>condition</th>\n",
       "      <th>fcl</th>\n",
       "      <th>fpwc</th>\n",
       "      <th>dcl</th>\n",
       "      <th>dpwc</th>\n",
       "      <th>FScore</th>\n",
       "      <th>DScore</th>\n",
       "      <th>PScore</th>\n",
       "      <th>NScore</th>\n",
       "      <th>HScore</th>\n",
       "      <th>LScore</th>\n",
       "      <th>totalScore</th>\n",
       "    </tr>\n",
       "  </thead>\n",
       "  <tbody>\n",
       "    <tr>\n",
       "      <th>0</th>\n",
       "      <td>5401038285006004819-9_15_19_13</td>\n",
       "      <td>6</td>\n",
       "      <td>0.89</td>\n",
       "      <td>0.56</td>\n",
       "      <td>0.78</td>\n",
       "      <td>0.67</td>\n",
       "      <td>0.73</td>\n",
       "      <td>0.73</td>\n",
       "      <td>0.44</td>\n",
       "      <td>1.00</td>\n",
       "      <td>0.86</td>\n",
       "      <td>0.91</td>\n",
       "      <td>0.73</td>\n",
       "    </tr>\n",
       "    <tr>\n",
       "      <th>1</th>\n",
       "      <td>3700789476005004819-9_16_15_58</td>\n",
       "      <td>5</td>\n",
       "      <td>0.22</td>\n",
       "      <td>0.33</td>\n",
       "      <td>0.67</td>\n",
       "      <td>0.33</td>\n",
       "      <td>0.28</td>\n",
       "      <td>0.50</td>\n",
       "      <td>0.22</td>\n",
       "      <td>0.33</td>\n",
       "      <td>0.29</td>\n",
       "      <td>0.18</td>\n",
       "      <td>0.39</td>\n",
       "    </tr>\n",
       "    <tr>\n",
       "      <th>2</th>\n",
       "      <td>3664515135004004819-9_20_14_13</td>\n",
       "      <td>4</td>\n",
       "      <td>0.44</td>\n",
       "      <td>0.67</td>\n",
       "      <td>0.44</td>\n",
       "      <td>0.33</td>\n",
       "      <td>0.56</td>\n",
       "      <td>0.39</td>\n",
       "      <td>0.67</td>\n",
       "      <td>0.44</td>\n",
       "      <td>0.29</td>\n",
       "      <td>0.55</td>\n",
       "      <td>0.47</td>\n",
       "    </tr>\n",
       "    <tr>\n",
       "      <th>3</th>\n",
       "      <td>3221520754006004819-10_2_6_8</td>\n",
       "      <td>6</td>\n",
       "      <td>0.33</td>\n",
       "      <td>0.44</td>\n",
       "      <td>0.67</td>\n",
       "      <td>0.78</td>\n",
       "      <td>0.39</td>\n",
       "      <td>0.73</td>\n",
       "      <td>0.11</td>\n",
       "      <td>0.67</td>\n",
       "      <td>0.43</td>\n",
       "      <td>0.27</td>\n",
       "      <td>0.56</td>\n",
       "    </tr>\n",
       "    <tr>\n",
       "      <th>4</th>\n",
       "      <td>5577734270005004819-10_4_13_54</td>\n",
       "      <td>5</td>\n",
       "      <td>0.44</td>\n",
       "      <td>0.56</td>\n",
       "      <td>0.67</td>\n",
       "      <td>0.22</td>\n",
       "      <td>0.50</td>\n",
       "      <td>0.45</td>\n",
       "      <td>0.44</td>\n",
       "      <td>0.56</td>\n",
       "      <td>0.57</td>\n",
       "      <td>0.36</td>\n",
       "      <td>0.47</td>\n",
       "    </tr>\n",
       "    <tr>\n",
       "      <th>5</th>\n",
       "      <td>1708104476004004819-10_8_16_14</td>\n",
       "      <td>4</td>\n",
       "      <td>0.22</td>\n",
       "      <td>0.56</td>\n",
       "      <td>0.44</td>\n",
       "      <td>0.11</td>\n",
       "      <td>0.39</td>\n",
       "      <td>0.28</td>\n",
       "      <td>0.33</td>\n",
       "      <td>0.44</td>\n",
       "      <td>0.14</td>\n",
       "      <td>0.27</td>\n",
       "      <td>0.33</td>\n",
       "    </tr>\n",
       "    <tr>\n",
       "      <th>6</th>\n",
       "      <td>5772081801006004819-10_10_13_3</td>\n",
       "      <td>6</td>\n",
       "      <td>0.89</td>\n",
       "      <td>0.67</td>\n",
       "      <td>1.00</td>\n",
       "      <td>0.78</td>\n",
       "      <td>0.78</td>\n",
       "      <td>0.89</td>\n",
       "      <td>0.78</td>\n",
       "      <td>0.78</td>\n",
       "      <td>0.86</td>\n",
       "      <td>0.91</td>\n",
       "      <td>0.83</td>\n",
       "    </tr>\n",
       "  </tbody>\n",
       "</table>\n",
       "</div>"
      ],
      "text/plain": [
       "                               id  condition   fcl  fpwc   dcl  dpwc  FScore  \\\n",
       "0  5401038285006004819-9_15_19_13          6  0.89  0.56  0.78  0.67    0.73   \n",
       "1  3700789476005004819-9_16_15_58          5  0.22  0.33  0.67  0.33    0.28   \n",
       "2  3664515135004004819-9_20_14_13          4  0.44  0.67  0.44  0.33    0.56   \n",
       "3    3221520754006004819-10_2_6_8          6  0.33  0.44  0.67  0.78    0.39   \n",
       "4  5577734270005004819-10_4_13_54          5  0.44  0.56  0.67  0.22    0.50   \n",
       "5  1708104476004004819-10_8_16_14          4  0.22  0.56  0.44  0.11    0.39   \n",
       "6  5772081801006004819-10_10_13_3          6  0.89  0.67  1.00  0.78    0.78   \n",
       "\n",
       "   DScore  PScore  NScore  HScore  LScore  totalScore  \n",
       "0    0.73    0.44    1.00    0.86    0.91        0.73  \n",
       "1    0.50    0.22    0.33    0.29    0.18        0.39  \n",
       "2    0.39    0.67    0.44    0.29    0.55        0.47  \n",
       "3    0.73    0.11    0.67    0.43    0.27        0.56  \n",
       "4    0.45    0.44    0.56    0.57    0.36        0.47  \n",
       "5    0.28    0.33    0.44    0.14    0.27        0.33  \n",
       "6    0.89    0.78    0.78    0.86    0.91        0.83  "
      ]
     },
     "execution_count": 7,
     "metadata": {},
     "output_type": "execute_result"
    }
   ],
   "source": [
    "resultAnalyzer.getDataFrame()"
   ]
  },
  {
   "cell_type": "code",
   "execution_count": null,
   "metadata": {},
   "outputs": [],
   "source": []
  },
  {
   "cell_type": "markdown",
   "metadata": {},
   "source": [
    "# Demographic data"
   ]
  },
  {
   "cell_type": "code",
   "execution_count": 8,
   "metadata": {},
   "outputs": [
    {
     "data": {
      "text/plain": [
       "{'age': 33,\n",
       " 'gender': 2,\n",
       " 'education': 7,\n",
       " 'major': 'Aerospace Engineering, Industrial / Systems Engineering',\n",
       " 'employerType': 'For profit'}"
      ]
     },
     "execution_count": 8,
     "metadata": {},
     "output_type": "execute_result"
    }
   ],
   "source": [
    "s0.demographic_data"
   ]
  },
  {
   "cell_type": "code",
   "execution_count": 9,
   "metadata": {},
   "outputs": [
    {
     "data": {
      "text/plain": [
       "{'age': 34,\n",
       " 'gender': 1,\n",
       " 'education': 7,\n",
       " 'major': 'Aerospace Engineering',\n",
       " 'employerType': 'Academic institution'}"
      ]
     },
     "execution_count": 9,
     "metadata": {},
     "output_type": "execute_result"
    }
   ],
   "source": [
    "s1.demographic_data"
   ]
  },
  {
   "cell_type": "code",
   "execution_count": 10,
   "metadata": {},
   "outputs": [
    {
     "data": {
      "text/plain": [
       "{'age': 31,\n",
       " 'gender': 1,\n",
       " 'education': 7,\n",
       " 'major': 'Aerospace Engineering, Electrical Engineering',\n",
       " 'employerType': 'Non-profit (non-profit research organization, government contractor, etc.)'}"
      ]
     },
     "execution_count": 10,
     "metadata": {},
     "output_type": "execute_result"
    }
   ],
   "source": [
    "s2.demographic_data"
   ]
  },
  {
   "cell_type": "code",
   "execution_count": 11,
   "metadata": {},
   "outputs": [
    {
     "data": {
      "text/plain": [
       "{'age': 34,\n",
       " 'gender': 1,\n",
       " 'education': 7,\n",
       " 'major': 'Aerospace Engineering, Industrial / Systems Engineering, Mathematics / Statistics',\n",
       " 'employerType': 'Non-profit (non-profit research organization, government contractor, etc.)'}"
      ]
     },
     "execution_count": 11,
     "metadata": {},
     "output_type": "execute_result"
    }
   ],
   "source": [
    "s3.demographic_data"
   ]
  },
  {
   "cell_type": "code",
   "execution_count": 12,
   "metadata": {},
   "outputs": [
    {
     "data": {
      "text/plain": [
       "{'age': 36,\n",
       " 'gender': 1,\n",
       " 'education': 7,\n",
       " 'major': 'Aerospace Engineering',\n",
       " 'employerType': 'Government'}"
      ]
     },
     "execution_count": 12,
     "metadata": {},
     "output_type": "execute_result"
    }
   ],
   "source": [
    "s4.demographic_data"
   ]
  },
  {
   "cell_type": "code",
   "execution_count": 13,
   "metadata": {},
   "outputs": [
    {
     "data": {
      "text/plain": [
       "{'age': 33,\n",
       " 'gender': 1,\n",
       " 'education': 7,\n",
       " 'major': 'Other',\n",
       " 'employerType': 'Academic institution'}"
      ]
     },
     "execution_count": 13,
     "metadata": {},
     "output_type": "execute_result"
    }
   ],
   "source": [
    "s5.demographic_data"
   ]
  },
  {
   "cell_type": "code",
   "execution_count": null,
   "metadata": {},
   "outputs": [],
   "source": []
  },
  {
   "cell_type": "code",
   "execution_count": 14,
   "metadata": {},
   "outputs": [
    {
     "name": "stdout",
     "output_type": "stream",
     "text": [
      "Subject: 5401038285006004819-9_15_19_13 - condition: 6\n",
      "counter_design_viewed: 62\n",
      "counter_feature_viewed: 42\n",
      "counter_filter_used: 0\n",
      "counter_local_search_run: 2\n",
      "counter_generalization_run: 4\n",
      "counter_generalization_selected: 3\n",
      "features_found: 77\n",
      "\n",
      "\n",
      "Subject: 3700789476005004819-9_16_15_58 - condition: 5\n",
      "counter_design_viewed: 751\n",
      "counter_feature_viewed: 9\n",
      "counter_filter_used: 0\n",
      "counter_local_search_run: 0\n",
      "counter_generalization_run: 0\n",
      "counter_generalization_selected: 0\n",
      "features_found: 30\n",
      "\n",
      "\n",
      "Subject: 3664515135004004819-9_20_14_13 - condition: 4\n",
      "counter_design_viewed: 1018\n",
      "counter_feature_viewed: 10\n",
      "counter_filter_used: 21\n",
      "counter_local_search_run: 0\n",
      "counter_generalization_run: 0\n",
      "counter_generalization_selected: 0\n",
      "features_found: 0\n",
      "\n",
      "\n",
      "Subject: 3221520754006004819-10_2_6_8 - condition: 6\n",
      "counter_design_viewed: 34\n",
      "counter_feature_viewed: 14\n",
      "counter_filter_used: 0\n",
      "counter_local_search_run: 4\n",
      "counter_generalization_run: 4\n",
      "counter_generalization_selected: 1\n",
      "features_found: 77\n"
     ]
    }
   ],
   "source": [
    "s0.printloggedDataSummary(task=\"learning_task\")\n",
    "print(\"\\n\")\n",
    "s1.printloggedDataSummary(task=\"learning_task\")\n",
    "print(\"\\n\")\n",
    "s2.printloggedDataSummary(task=\"learning_task\")\n",
    "print(\"\\n\")\n",
    "s3.printloggedDataSummary(task=\"learning_task\")"
   ]
  },
  {
   "cell_type": "code",
   "execution_count": null,
   "metadata": {},
   "outputs": [],
   "source": []
  },
  {
   "cell_type": "code",
   "execution_count": 15,
   "metadata": {},
   "outputs": [
    {
     "name": "stdout",
     "output_type": "stream",
     "text": [
      "Subject: 5401038285006004819-9_15_19_13 - condition: 6\n",
      "counter_feature_viewed: 1\n",
      "counter_filter_used: 8\n",
      "features_found: 7\n",
      "\n",
      "\n",
      "Subject: 3700789476005004819-9_16_15_58 - condition: 5\n",
      "counter_feature_viewed: 0\n",
      "counter_filter_used: 7\n",
      "features_found: 6\n",
      "\n",
      "\n",
      "Subject: 3664515135004004819-9_20_14_13 - condition: 4\n",
      "counter_feature_viewed: 11\n",
      "counter_filter_used: 9\n",
      "features_found: 11\n",
      "\n",
      "\n",
      "Subject: 3221520754006004819-10_2_6_8 - condition: 6\n",
      "counter_feature_viewed: 4\n",
      "counter_filter_used: 5\n",
      "features_found: 5\n"
     ]
    }
   ],
   "source": [
    "s0.printloggedDataSummary(task=\"feature_synthesis_task\")\n",
    "print(\"\\n\")\n",
    "s1.printloggedDataSummary(task=\"feature_synthesis_task\")\n",
    "print(\"\\n\")\n",
    "s2.printloggedDataSummary(task=\"feature_synthesis_task\")\n",
    "print(\"\\n\")\n",
    "s3.printloggedDataSummary(task=\"feature_synthesis_task\")"
   ]
  },
  {
   "cell_type": "code",
   "execution_count": null,
   "metadata": {},
   "outputs": [],
   "source": []
  },
  {
   "cell_type": "code",
   "execution_count": 16,
   "metadata": {},
   "outputs": [
    {
     "name": "stdout",
     "output_type": "stream",
     "text": [
      "Subject: 5401038285006004819-9_15_19_13 - condition: 6\n",
      "counter_design_viewed: 28\n",
      "counter_design_evaluated: 12\n",
      "designs_evaluated: 12\n",
      "\n",
      "\n",
      "Subject: 3700789476005004819-9_16_15_58 - condition: 5\n",
      "counter_design_viewed: 62\n",
      "counter_design_evaluated: 42\n",
      "designs_evaluated: 42\n",
      "\n",
      "\n",
      "Subject: 3664515135004004819-9_20_14_13 - condition: 4\n",
      "counter_design_viewed: 38\n",
      "counter_design_evaluated: 16\n",
      "designs_evaluated: 16\n",
      "\n",
      "\n",
      "Subject: 3221520754006004819-10_2_6_8 - condition: 6\n",
      "counter_design_viewed: 33\n",
      "counter_design_evaluated: 14\n",
      "designs_evaluated: 14\n"
     ]
    }
   ],
   "source": [
    "s0.printloggedDataSummary(task=\"design_synthesis_task\")\n",
    "print(\"\\n\")\n",
    "s1.printloggedDataSummary(task=\"design_synthesis_task\")\n",
    "print(\"\\n\")\n",
    "s2.printloggedDataSummary(task=\"design_synthesis_task\")\n",
    "print(\"\\n\")\n",
    "s3.printloggedDataSummary(task=\"design_synthesis_task\")"
   ]
  },
  {
   "cell_type": "code",
   "execution_count": null,
   "metadata": {},
   "outputs": [],
   "source": []
  },
  {
   "cell_type": "code",
   "execution_count": null,
   "metadata": {},
   "outputs": [],
   "source": []
  },
  {
   "cell_type": "code",
   "execution_count": null,
   "metadata": {},
   "outputs": [],
   "source": []
  },
  {
   "cell_type": "markdown",
   "metadata": {},
   "source": [
    "# Get transcript comments"
   ]
  },
  {
   "cell_type": "code",
   "execution_count": 17,
   "metadata": {},
   "outputs": [],
   "source": [
    "subjects_manual = resultAnalyzer.filterSubjects(condition=4)\n",
    "subjects_auto = resultAnalyzer.filterSubjects(condition=5)"
   ]
  },
  {
   "cell_type": "code",
   "execution_count": null,
   "metadata": {},
   "outputs": [],
   "source": []
  },
  {
   "cell_type": "code",
   "execution_count": 18,
   "metadata": {},
   "outputs": [
    {
     "data": {
      "text/plain": [
       "['[3700789476005004819-9_16_15_58] Yes, correct...',\n",
       " '[3664515135004004819-9_20_14_13] I think this is true. Because dawn and dusk generate more power for the satellite.']"
      ]
     },
     "execution_count": 18,
     "metadata": {},
     "output_type": "execute_result"
    }
   ],
   "source": [
    "resultAnalyzer.getComments(resultAnalyzer.subjects, \"problem_solving_task\", \"F_cl_5\", displayParticipantID=True, displayKeyword=False)\n"
   ]
  },
  {
   "cell_type": "code",
   "execution_count": null,
   "metadata": {},
   "outputs": [],
   "source": []
  },
  {
   "cell_type": "code",
   "execution_count": 19,
   "metadata": {},
   "outputs": [
    {
     "data": {
      "text/plain": [
       "[\"[F_cl_1] So AERO_POL and HIRES_SOUND...So I'm not sure. So I just click one of the option and say confidence of 0.\",\n",
       " '[F_cl_2] ...',\n",
       " \"[F_cl_3] I think this is False... because SWIRSPEC is both visible and nocturnal (?), so it can be used both day and night. So I'll put the confidence level of 15.\",\n",
       " \"[F_cl_4] I'm not confident about this one... \",\n",
       " '[F_cl_5] I think this is true. Because dawn and dusk generate more power for the satellite.',\n",
       " '[F_cl_6] I think this is false. I think almost all the orbits had some satellites.',\n",
       " \"[F_cl_7] I'm not sure of this...\",\n",
       " \"[F_cl_8] I'm not sure...\",\n",
       " '[F_cl_9] I think I oberved most of the instrument - vegetation - to be in 600km, but not sure if it was INSAR or the other type of the vegetation instrument.',\n",
       " \"[F_pwc_1] I'm not sure.\",\n",
       " \"[F_pwc_2] I think it's the first one.. but not 100% confident.\",\n",
       " '[F_pwc_3] I think uh... lidars and radars should not be assigned to the same orbit. But I did not oberved it within this tutorial. So I will put it at... less confidence.',\n",
       " '[F_pwc_4] So I do not think chemistry instruments are assigned together in the same orbit. Perhaps, topography instruments may be assigned together. So it may be the second option.',\n",
       " \"[F_pwc_5] So in the target region, I observed a lot of SAR_ALTIM. So I'll put high confidence.\",\n",
       " \"[F_pwc_6] I think it's the first option. I think there's correlation between active and high power instruments, so I'm not why those are two separate options.\",\n",
       " \"[F_pwc_7] So this suggests that VEG_INSAR is assigned to LEO... it seems both options are correct... wait both are radars, so I think it's the second option. \",\n",
       " '[F_pwc_8] I saw a lot of vegetation instruments.. but not sure about which orbit they were in.',\n",
       " \"[F_pwc_9] I think it's the first one. But this is based on my prior experience.\"]"
      ]
     },
     "execution_count": 19,
     "metadata": {},
     "output_type": "execute_result"
    }
   ],
   "source": [
    "resultAnalyzer.getComments(subjects_manual, \"problem_solving_task\", \"F\", displayParticipantID=False, displayKeyword=True)\n"
   ]
  },
  {
   "cell_type": "code",
   "execution_count": 20,
   "metadata": {},
   "outputs": [
    {
     "data": {
      "text/plain": [
       "['[F_cl_1] I think so...',\n",
       " \"[F_cl_2] Honestly, I don't, in this case, I'm not referring to tradespace, and referring to what I know. \",\n",
       " '[F_cl_3] [inaudible] ...',\n",
       " '[F_cl_4] Yes that is true, I remember that.',\n",
       " '[F_cl_5] Yes, correct...',\n",
       " \"[F_cl_6] This one, I don't know. I'm going to guess.\",\n",
       " \"[F_cl_7] No I remember that SAR_ALTIM was always on its own. But I don't remeber the orbit honestly. Well, I think it's false but not really confident.\",\n",
       " \"[F_cl_8] I don't know...\",\n",
       " '[F_cl_9] [inaudible] I think [inaudible]']"
      ]
     },
     "execution_count": 20,
     "metadata": {},
     "output_type": "execute_result"
    }
   ],
   "source": [
    "resultAnalyzer.getComments(subjects_auto, \"problem_solving_task\", \"F_cl\", displayParticipantID=False, displayKeyword=True)\n"
   ]
  },
  {
   "cell_type": "code",
   "execution_count": 21,
   "metadata": {},
   "outputs": [
    {
     "data": {
      "text/plain": [
       "['[4_gpe] This one is way too many features to discuss [inaudible]',\n",
       " '[5_gpe] This is more useful, I think.',\n",
       " \"[6_gpe] This one, it's about classes.\",\n",
       " '[4_gpe] I think the first case is better because, it is short and it summarizes information more efficiently.',\n",
       " '[5_gpe] I think the first case filters out... uh... I think both are useful. Hmm... maybe the second case.',\n",
       " '[6_gpe] I think the first case carries more useful information.']"
      ]
     },
     "execution_count": 21,
     "metadata": {},
     "output_type": "execute_result"
    }
   ],
   "source": [
    "resultAnalyzer.getComments(resultAnalyzer.subjects, \"survey\", \"gpe\", displayParticipantID=False, displayKeyword=True)\n"
   ]
  },
  {
   "cell_type": "markdown",
   "metadata": {},
   "source": [
    "# Synthesis task data visualization"
   ]
  },
  {
   "cell_type": "code",
   "execution_count": 22,
   "metadata": {},
   "outputs": [],
   "source": [
    "g1 = [s2, s5]\n",
    "g2 = [s1, s4]\n",
    "g3 = [s0, s3, s6]\n",
    "# g3 = [s6]"
   ]
  },
  {
   "cell_type": "code",
   "execution_count": 23,
   "metadata": {},
   "outputs": [],
   "source": [
    "visualizer = visualization.Visualizer(groups=[g1,g2,g3], groupNames=['Manual','Automated','Interactive'])"
   ]
  },
  {
   "cell_type": "code",
   "execution_count": 24,
   "metadata": {
    "scrolled": false
   },
   "outputs": [
    {
     "data": {
      "image/png": "[encoded data removed]",
      "text/plain": [
       "<Figure size 936x432 with 1 Axes>"
      ]
     },
     "metadata": {},
     "output_type": "display_data"
    }
   ],
   "source": [
    "visualizer.designSynthesisScatter(markers=['o','^','d'])\n"
   ]
  },
  {
   "cell_type": "code",
   "execution_count": 25,
   "metadata": {},
   "outputs": [
    {
     "data": {
      "image/png": "[encoded data removed]",
      "text/plain": [
       "<Figure size 936x432 with 1 Axes>"
      ]
     },
     "metadata": {},
     "output_type": "display_data"
    }
   ],
   "source": [
    "visualizer.featureSynthesisScatter(markers=['o','^','d'])\n"
   ]
  },
  {
   "cell_type": "code",
   "execution_count": null,
   "metadata": {},
   "outputs": [],
   "source": []
  },
  {
   "cell_type": "code",
   "execution_count": 26,
   "metadata": {},
   "outputs": [],
   "source": [
    "visualizer.setDataFrame(resultAnalyzer.getDataFrame())"
   ]
  },
  {
   "cell_type": "code",
   "execution_count": 27,
   "metadata": {
    "scrolled": false
   },
   "outputs": [
    {
     "data": {
      "image/png": "[encoded data removed]",
      "text/plain": [
       "<Figure size 792x360 with 1 Axes>"
      ]
     },
     "metadata": {},
     "output_type": "display_data"
    }
   ],
   "source": [
    "visualizer.parallelCoordinates(columns=['fcl','fpwc','dcl','dpwc'], \n",
    "                                figsize=(11,5),\n",
    "                               legend=[\"Interactive\",\"Automated\",\"Manual\"])"
   ]
  },
  {
   "cell_type": "code",
   "execution_count": 28,
   "metadata": {
    "scrolled": false
   },
   "outputs": [
    {
     "data": {
      "image/png": "[encoded data removed]",
      "text/plain": [
       "<Figure size 1080x360 with 1 Axes>"
      ]
     },
     "metadata": {},
     "output_type": "display_data"
    }
   ],
   "source": [
    "visualizer.parallelCoordinates(columns=['fcl','fpwc','dcl','dpwc','FScore','DScore','PScore','NScore','HScore','LScore','totalScore'], \n",
    "                                figsize=(15,5),\n",
    "                               legend=[\"Interactive\",\"Automated\",\"Manual\"])"
   ]
  },
  {
   "cell_type": "code",
   "execution_count": null,
   "metadata": {},
   "outputs": [],
   "source": []
  },
  {
   "cell_type": "code",
   "execution_count": 29,
   "metadata": {},
   "outputs": [],
   "source": [
    "PROP_CYCLE = plt.rcParams['axes.prop_cycle']\n",
    "COLORS = PROP_CYCLE.by_key()['color']"
   ]
  },
  {
   "cell_type": "code",
   "execution_count": 30,
   "metadata": {},
   "outputs": [
    {
     "ename": "NameError",
     "evalue": "name 'df' is not defined",
     "output_type": "error",
     "traceback": [
      "\u001b[0;31m---------------------------------------------------------------------------\u001b[0m",
      "\u001b[0;31mNameError\u001b[0m                                 Traceback (most recent call last)",
      "\u001b[0;32m<ipython-input-30-012240ed5460>\u001b[0m in \u001b[0;36m<module>\u001b[0;34m()\u001b[0m\n\u001b[1;32m      1\u001b[0m \u001b[0mtempVis\u001b[0m \u001b[0;34m=\u001b[0m \u001b[0mvisualization\u001b[0m\u001b[0;34m.\u001b[0m\u001b[0mVisualizer\u001b[0m\u001b[0;34m(\u001b[0m\u001b[0mgroups\u001b[0m\u001b[0;34m=\u001b[0m\u001b[0;34m[\u001b[0m\u001b[0mg3\u001b[0m\u001b[0;34m]\u001b[0m\u001b[0;34m,\u001b[0m \u001b[0mgroupNames\u001b[0m\u001b[0;34m=\u001b[0m\u001b[0;34m[\u001b[0m\u001b[0;34m'Interactive'\u001b[0m\u001b[0;34m]\u001b[0m\u001b[0;34m)\u001b[0m\u001b[0;34m\u001b[0m\u001b[0m\n\u001b[1;32m      2\u001b[0m \u001b[0;34m\u001b[0m\u001b[0m\n\u001b[0;32m----> 3\u001b[0;31m \u001b[0mtempDF\u001b[0m \u001b[0;34m=\u001b[0m \u001b[0mresultAnalyzer\u001b[0m\u001b[0;34m.\u001b[0m\u001b[0mgetDataFrame\u001b[0m\u001b[0;34m(\u001b[0m\u001b[0;34m)\u001b[0m\u001b[0;34m.\u001b[0m\u001b[0mloc\u001b[0m\u001b[0;34m[\u001b[0m\u001b[0mdf\u001b[0m\u001b[0;34m[\u001b[0m\u001b[0;34m'condition'\u001b[0m\u001b[0;34m]\u001b[0m \u001b[0;34m==\u001b[0m \u001b[0;36m6\u001b[0m\u001b[0;34m]\u001b[0m\u001b[0;34m\u001b[0m\u001b[0m\n\u001b[0m\u001b[1;32m      4\u001b[0m \u001b[0mtempVis\u001b[0m\u001b[0;34m.\u001b[0m\u001b[0msetDataFrame\u001b[0m\u001b[0;34m(\u001b[0m\u001b[0mtempDF\u001b[0m\u001b[0;34m)\u001b[0m\u001b[0;34m\u001b[0m\u001b[0m\n\u001b[1;32m      5\u001b[0m \u001b[0;34m\u001b[0m\u001b[0m\n",
      "\u001b[0;31mNameError\u001b[0m: name 'df' is not defined"
     ]
    }
   ],
   "source": [
    "tempVis = visualization.Visualizer(groups=[g3], groupNames=['Interactive'])\n",
    "\n",
    "tempDF = resultAnalyzer.getDataFrame().loc[df['condition'] == 6]\n",
    "tempVis.setDataFrame(tempDF)\n",
    "\n",
    "tempVis.parallelCoordinates(columns=['fcl','fpwc','dcl','dpwc','FScore','DScore','PScore','NScore','HScore','LScore','totalScore'], \n",
    "                                figsize=(15,5),\n",
    "                               legend=[\"Interactive\"])"
   ]
  },
  {
   "cell_type": "code",
   "execution_count": null,
   "metadata": {},
   "outputs": [],
   "source": []
  },
  {
   "cell_type": "code",
   "execution_count": null,
   "metadata": {},
   "outputs": [],
   "source": [
    "\n",
    "tempVis = visualization.Visualizer(groups=[g3], groupNames=['Automated'])\n",
    "\n",
    "tempDF = resultAnalyzer.getDataFrame().loc[df['condition'] == 5]\n",
    "tempVis.setDataFrame(tempDF)\n",
    "\n",
    "tempVis.parallelCoordinates(columns=['fcl','fpwc','dcl','dpwc','FScore','DScore','PScore','NScore','HScore','LScore','totalScore'], \n",
    "                                figsize=(15,5),\n",
    "                                colors=[COLORS[1]],\n",
    "                               legend=[\"Automated\"])\n",
    "\n"
   ]
  },
  {
   "cell_type": "code",
   "execution_count": null,
   "metadata": {},
   "outputs": [],
   "source": [
    "tempVis = visualization.Visualizer(groups=[g3], groupNames=['Manual'])\n",
    "\n",
    "tempDF = resultAnalyzer.getDataFrame().loc[df['condition'] == 4]\n",
    "tempVis.setDataFrame(tempDF)\n",
    "\n",
    "tempVis.parallelCoordinates(columns=['fcl','fpwc','dcl','dpwc','FScore','DScore','PScore','NScore','HScore','LScore','totalScore'], \n",
    "                                figsize=(15,5),\n",
    "                            colors=[COLORS[2]],\n",
    "                               legend=[\"Manual\"])\n"
   ]
  },
  {
   "cell_type": "code",
   "execution_count": null,
   "metadata": {},
   "outputs": [],
   "source": []
  },
  {
   "cell_type": "code",
   "execution_count": null,
   "metadata": {},
   "outputs": [],
   "source": []
  },
  {
   "cell_type": "code",
   "execution_count": null,
   "metadata": {},
   "outputs": [],
   "source": [
    "visualizer.boxPlot(columns=['FScore','DScore', 'totalScore'], nrows=1, ncols=3, sharey=True, figsize=(14,4.5))"
   ]
  },
  {
   "cell_type": "code",
   "execution_count": null,
   "metadata": {},
   "outputs": [],
   "source": [
    "visualizer.boxPlot(columns=['PScore','NScore', 'totalScore'], nrows=1, ncols=3, sharey=True, figsize=(14,4.5))"
   ]
  },
  {
   "cell_type": "code",
   "execution_count": null,
   "metadata": {},
   "outputs": [],
   "source": [
    "visualizer.boxPlot(columns=['HScore','LScore', 'totalScore'], nrows=1, ncols=3, sharey=True, figsize=(14,4.5))"
   ]
  },
  {
   "cell_type": "code",
   "execution_count": null,
   "metadata": {},
   "outputs": [],
   "source": []
  },
  {
   "cell_type": "markdown",
   "metadata": {},
   "source": [
    "# Statistical tests"
   ]
  },
  {
   "cell_type": "code",
   "execution_count": null,
   "metadata": {},
   "outputs": [],
   "source": [
    "df = resultAnalyzer.getDataFrame()"
   ]
  },
  {
   "cell_type": "code",
   "execution_count": null,
   "metadata": {},
   "outputs": [],
   "source": [
    "df"
   ]
  },
  {
   "cell_type": "code",
   "execution_count": null,
   "metadata": {},
   "outputs": [],
   "source": [
    "df_interactive = df.loc[df['condition'] == 6]\n",
    "df_automated = df.loc[df['condition'] == 5]\n",
    "df_manual = df.loc[df['condition'] == 4]"
   ]
  },
  {
   "cell_type": "code",
   "execution_count": null,
   "metadata": {},
   "outputs": [],
   "source": [
    "print(stats.ttest_ind(df_interactive['totalScore'], df_manual['totalScore']))\n",
    "print(stats.ttest_ind(df_interactive['totalScore'], df_automated['totalScore']))"
   ]
  },
  {
   "cell_type": "code",
   "execution_count": null,
   "metadata": {},
   "outputs": [],
   "source": [
    "print(stats.ttest_ind(df_interactive['DScore'], df_manual['DScore']))\n",
    "print(stats.ttest_ind(df_interactive['DScore'], df_automated['DScore']))"
   ]
  },
  {
   "cell_type": "code",
   "execution_count": null,
   "metadata": {},
   "outputs": [],
   "source": [
    "print(stats.ttest_ind(df_interactive['NScore'], df_manual['NScore']))\n",
    "print(stats.ttest_ind(df_interactive['NScore'], df_automated['NScore']))"
   ]
  },
  {
   "cell_type": "code",
   "execution_count": null,
   "metadata": {},
   "outputs": [],
   "source": [
    "print(stats.ttest_ind(df_interactive['HScore'], df_manual['HScore']))\n",
    "print(stats.ttest_ind(df_interactive['HScore'], df_automated['HScore']))"
   ]
  },
  {
   "cell_type": "code",
   "execution_count": null,
   "metadata": {},
   "outputs": [],
   "source": []
  },
  {
   "cell_type": "code",
   "execution_count": null,
   "metadata": {},
   "outputs": [],
   "source": []
  },
  {
   "cell_type": "code",
   "execution_count": null,
   "metadata": {},
   "outputs": [],
   "source": [
    "stats.f_oneway(df_interactive['totalScore'], df_automated['totalScore'], df_manual['totalScore'])"
   ]
  },
  {
   "cell_type": "code",
   "execution_count": null,
   "metadata": {},
   "outputs": [],
   "source": [
    "stats.f_oneway(df_interactive['DScore'], df_automated['DScore'], df_manual['DScore'])"
   ]
  },
  {
   "cell_type": "code",
   "execution_count": null,
   "metadata": {},
   "outputs": [],
   "source": [
    "stats.f_oneway(df_interactive['NScore'], df_automated['NScore'], df_manual['NScore'])"
   ]
  },
  {
   "cell_type": "code",
   "execution_count": null,
   "metadata": {},
   "outputs": [],
   "source": [
    "stats.f_oneway(df_interactive['HScore'], df_automated['HScore'], df_manual['HScore'])"
   ]
  },
  {
   "cell_type": "code",
   "execution_count": null,
   "metadata": {},
   "outputs": [],
   "source": []
  },
  {
   "cell_type": "code",
   "execution_count": null,
   "metadata": {},
   "outputs": [],
   "source": []
  },
  {
   "cell_type": "code",
   "execution_count": null,
   "metadata": {},
   "outputs": [],
   "source": []
  },
  {
   "cell_type": "code",
   "execution_count": null,
   "metadata": {},
   "outputs": [],
   "source": [
    "from sklearn.linear_model import LinearRegression\n",
    "\n",
    "# X = data.iloc[:, 0].values.reshape(-1, 1)  # values converts it into a numpy array\n",
    "\n",
    "X = df[['condition','NScore']].values\n",
    "y = df['totalScore'].values.reshape(-1, 1)  # -1 means that calculate the dimension of rows, but have 1 column\n",
    "linear_regressor = LinearRegression()  # create object for the class\n",
    "linear_regressor.fit(X, y)  # perform linear regression\n"
   ]
  },
  {
   "cell_type": "code",
   "execution_count": null,
   "metadata": {},
   "outputs": [],
   "source": [
    "linear_regressor.score(X, y)"
   ]
  },
  {
   "cell_type": "code",
   "execution_count": null,
   "metadata": {},
   "outputs": [],
   "source": [
    "linear_regressor.coef_"
   ]
  },
  {
   "cell_type": "code",
   "execution_count": null,
   "metadata": {},
   "outputs": [],
   "source": [
    "import statsmodels.api as sm"
   ]
  },
  {
   "cell_type": "code",
   "execution_count": null,
   "metadata": {},
   "outputs": [],
   "source": []
  },
  {
   "cell_type": "code",
   "execution_count": null,
   "metadata": {},
   "outputs": [],
   "source": [
    "df['totalScore'].values"
   ]
  },
  {
   "cell_type": "code",
   "execution_count": null,
   "metadata": {},
   "outputs": [],
   "source": [
    "df['totalScore'].values"
   ]
  },
  {
   "cell_type": "code",
   "execution_count": null,
   "metadata": {},
   "outputs": [],
   "source": [
    "df[['NScore','PScore']].values"
   ]
  },
  {
   "cell_type": "code",
   "execution_count": null,
   "metadata": {},
   "outputs": [],
   "source": [
    "df[['condition','NScore']].values\n"
   ]
  },
  {
   "cell_type": "code",
   "execution_count": null,
   "metadata": {},
   "outputs": [],
   "source": [
    "y"
   ]
  },
  {
   "cell_type": "code",
   "execution_count": null,
   "metadata": {},
   "outputs": [],
   "source": []
  },
  {
   "cell_type": "code",
   "execution_count": null,
   "metadata": {},
   "outputs": [],
   "source": []
  },
  {
   "cell_type": "code",
   "execution_count": null,
   "metadata": {},
   "outputs": [],
   "source": []
  },
  {
   "cell_type": "code",
   "execution_count": 31,
   "metadata": {},
   "outputs": [
    {
     "name": "stdout",
     "output_type": "stream",
     "text": [
      "         Mixed Linear Model Regression Results\n",
      "========================================================\n",
      "Model:            MixedLM Dependent Variable: Weight    \n",
      "No. Observations: 861     Method:             REML      \n",
      "No. Groups:       72      Scale:              11.3669   \n",
      "Min. group size:  11      Likelihood:         -2404.7753\n",
      "Max. group size:  12      Converged:          Yes       \n",
      "Mean group size:  12.0                                  \n",
      "--------------------------------------------------------\n",
      "             Coef.  Std.Err.    z    P>|z| [0.025 0.975]\n",
      "--------------------------------------------------------\n",
      "Intercept    15.724    0.788  19.952 0.000 14.179 17.268\n",
      "Time          6.943    0.033 207.939 0.000  6.877  7.008\n",
      "Group Var    40.394    2.149                            \n",
      "========================================================\n",
      "\n"
     ]
    }
   ],
   "source": [
    "import statsmodels.api as sm\n",
    "import statsmodels.formula.api as smf\n",
    "\n",
    "data = sm.datasets.get_rdataset(\"dietox\", \"geepack\").data\n",
    "md = smf.mixedlm(\"Weight ~ Time\", data, groups=data[\"Pig\"])\n",
    "mdf = md.fit()\n",
    "print(mdf.summary())"
   ]
  },
  {
   "cell_type": "code",
   "execution_count": 32,
   "metadata": {},
   "outputs": [
    {
     "data": {
      "text/html": [
       "<div>\n",
       "<style scoped>\n",
       "    .dataframe tbody tr th:only-of-type {\n",
       "        vertical-align: middle;\n",
       "    }\n",
       "\n",
       "    .dataframe tbody tr th {\n",
       "        vertical-align: top;\n",
       "    }\n",
       "\n",
       "    .dataframe thead th {\n",
       "        text-align: right;\n",
       "    }\n",
       "</style>\n",
       "<table border=\"1\" class=\"dataframe\">\n",
       "  <thead>\n",
       "    <tr style=\"text-align: right;\">\n",
       "      <th></th>\n",
       "      <th>Weight</th>\n",
       "      <th>Feed</th>\n",
       "      <th>Time</th>\n",
       "      <th>Pig</th>\n",
       "      <th>Evit</th>\n",
       "      <th>Cu</th>\n",
       "      <th>Litter</th>\n",
       "    </tr>\n",
       "  </thead>\n",
       "  <tbody>\n",
       "    <tr>\n",
       "      <th>0</th>\n",
       "      <td>26.50000</td>\n",
       "      <td>NaN</td>\n",
       "      <td>1</td>\n",
       "      <td>4601</td>\n",
       "      <td>1</td>\n",
       "      <td>1</td>\n",
       "      <td>1</td>\n",
       "    </tr>\n",
       "    <tr>\n",
       "      <th>1</th>\n",
       "      <td>27.59999</td>\n",
       "      <td>5.200005</td>\n",
       "      <td>2</td>\n",
       "      <td>4601</td>\n",
       "      <td>1</td>\n",
       "      <td>1</td>\n",
       "      <td>1</td>\n",
       "    </tr>\n",
       "    <tr>\n",
       "      <th>2</th>\n",
       "      <td>36.50000</td>\n",
       "      <td>17.600000</td>\n",
       "      <td>3</td>\n",
       "      <td>4601</td>\n",
       "      <td>1</td>\n",
       "      <td>1</td>\n",
       "      <td>1</td>\n",
       "    </tr>\n",
       "    <tr>\n",
       "      <th>3</th>\n",
       "      <td>40.29999</td>\n",
       "      <td>28.500000</td>\n",
       "      <td>4</td>\n",
       "      <td>4601</td>\n",
       "      <td>1</td>\n",
       "      <td>1</td>\n",
       "      <td>1</td>\n",
       "    </tr>\n",
       "    <tr>\n",
       "      <th>4</th>\n",
       "      <td>49.09998</td>\n",
       "      <td>45.200001</td>\n",
       "      <td>5</td>\n",
       "      <td>4601</td>\n",
       "      <td>1</td>\n",
       "      <td>1</td>\n",
       "      <td>1</td>\n",
       "    </tr>\n",
       "    <tr>\n",
       "      <th>5</th>\n",
       "      <td>55.39999</td>\n",
       "      <td>56.900002</td>\n",
       "      <td>6</td>\n",
       "      <td>4601</td>\n",
       "      <td>1</td>\n",
       "      <td>1</td>\n",
       "      <td>1</td>\n",
       "    </tr>\n",
       "    <tr>\n",
       "      <th>6</th>\n",
       "      <td>59.59998</td>\n",
       "      <td>71.700005</td>\n",
       "      <td>7</td>\n",
       "      <td>4601</td>\n",
       "      <td>1</td>\n",
       "      <td>1</td>\n",
       "      <td>1</td>\n",
       "    </tr>\n",
       "    <tr>\n",
       "      <th>7</th>\n",
       "      <td>67.00000</td>\n",
       "      <td>86.800001</td>\n",
       "      <td>8</td>\n",
       "      <td>4601</td>\n",
       "      <td>1</td>\n",
       "      <td>1</td>\n",
       "      <td>1</td>\n",
       "    </tr>\n",
       "    <tr>\n",
       "      <th>8</th>\n",
       "      <td>76.59998</td>\n",
       "      <td>104.900002</td>\n",
       "      <td>9</td>\n",
       "      <td>4601</td>\n",
       "      <td>1</td>\n",
       "      <td>1</td>\n",
       "      <td>1</td>\n",
       "    </tr>\n",
       "    <tr>\n",
       "      <th>9</th>\n",
       "      <td>86.50000</td>\n",
       "      <td>123.000000</td>\n",
       "      <td>10</td>\n",
       "      <td>4601</td>\n",
       "      <td>1</td>\n",
       "      <td>1</td>\n",
       "      <td>1</td>\n",
       "    </tr>\n",
       "  </tbody>\n",
       "</table>\n",
       "</div>"
      ],
      "text/plain": [
       "     Weight        Feed  Time   Pig  Evit  Cu  Litter\n",
       "0  26.50000         NaN     1  4601     1   1       1\n",
       "1  27.59999    5.200005     2  4601     1   1       1\n",
       "2  36.50000   17.600000     3  4601     1   1       1\n",
       "3  40.29999   28.500000     4  4601     1   1       1\n",
       "4  49.09998   45.200001     5  4601     1   1       1\n",
       "5  55.39999   56.900002     6  4601     1   1       1\n",
       "6  59.59998   71.700005     7  4601     1   1       1\n",
       "7  67.00000   86.800001     8  4601     1   1       1\n",
       "8  76.59998  104.900002     9  4601     1   1       1\n",
       "9  86.50000  123.000000    10  4601     1   1       1"
      ]
     },
     "execution_count": 32,
     "metadata": {},
     "output_type": "execute_result"
    }
   ],
   "source": [
    "data.iloc[0:10]"
   ]
  },
  {
   "cell_type": "code",
   "execution_count": 33,
   "metadata": {},
   "outputs": [
    {
     "data": {
      "text/html": [
       "<table class=\"simpletable\">\n",
       "<tr>\n",
       "       <td>Model:</td>       <td>MixedLM</td> <td>Dependent Variable:</td>   <td>Weight</td>  \n",
       "</tr>\n",
       "<tr>\n",
       "  <td>No. Observations:</td>   <td>861</td>         <td>Method:</td>          <td>REML</td>   \n",
       "</tr>\n",
       "<tr>\n",
       "     <td>No. Groups:</td>      <td>72</td>          <td>Scale:</td>          <td>11.3669</td> \n",
       "</tr>\n",
       "<tr>\n",
       "  <td>Min. group size:</td>    <td>11</td>        <td>Likelihood:</td>     <td>-2404.7753</td>\n",
       "</tr>\n",
       "<tr>\n",
       "  <td>Max. group size:</td>    <td>12</td>        <td>Converged:</td>          <td>Yes</td>   \n",
       "</tr>\n",
       "<tr>\n",
       "  <td>Mean group size:</td>   <td>12.0</td>            <td></td>                <td></td>     \n",
       "</tr>\n",
       "</table>\n",
       "<table class=\"simpletable\">\n",
       "<tr>\n",
       "      <td></td>       <th>Coef.</th> <th>Std.Err.</th>    <th>z</th>    <th>P>|z|</th> <th>[0.025</th> <th>0.975]</th>\n",
       "</tr>\n",
       "<tr>\n",
       "  <th>Intercept</th> <td>15.724</td>   <td>0.788</td>  <td>19.952</td>  <td>0.000</td> <td>14.179</td> <td>17.268</td>\n",
       "</tr>\n",
       "<tr>\n",
       "  <th>Time</th>       <td>6.943</td>   <td>0.033</td>  <td>207.939</td> <td>0.000</td>  <td>6.877</td>  <td>7.008</td>\n",
       "</tr>\n",
       "<tr>\n",
       "  <th>Group Var</th> <td>40.394</td>   <td>2.149</td>     <td></td>       <td></td>       <td></td>       <td></td>   \n",
       "</tr>\n",
       "</table>"
      ],
      "text/plain": [
       "<class 'statsmodels.iolib.summary2.Summary'>\n",
       "\"\"\"\n",
       "         Mixed Linear Model Regression Results\n",
       "========================================================\n",
       "Model:            MixedLM Dependent Variable: Weight    \n",
       "No. Observations: 861     Method:             REML      \n",
       "No. Groups:       72      Scale:              11.3669   \n",
       "Min. group size:  11      Likelihood:         -2404.7753\n",
       "Max. group size:  12      Converged:          Yes       \n",
       "Mean group size:  12.0                                  \n",
       "--------------------------------------------------------\n",
       "             Coef.  Std.Err.    z    P>|z| [0.025 0.975]\n",
       "--------------------------------------------------------\n",
       "Intercept    15.724    0.788  19.952 0.000 14.179 17.268\n",
       "Time          6.943    0.033 207.939 0.000  6.877  7.008\n",
       "Group Var    40.394    2.149                            \n",
       "========================================================\n",
       "\n",
       "\"\"\""
      ]
     },
     "execution_count": 33,
     "metadata": {},
     "output_type": "execute_result"
    }
   ],
   "source": [
    "mdf.summary()"
   ]
  },
  {
   "cell_type": "code",
   "execution_count": 35,
   "metadata": {},
   "outputs": [
    {
     "name": "stdout",
     "output_type": "stream",
     "text": [
      "                            OLS Regression Results                            \n",
      "==============================================================================\n",
      "Dep. Variable:                      y   R-squared:                       0.518\n",
      "Model:                            OLS   Adj. R-squared:                  0.507\n",
      "Method:                 Least Squares   F-statistic:                     46.27\n",
      "Date:                Fri, 11 Oct 2019   Prob (F-statistic):           3.83e-62\n",
      "Time:                        15:38:21   Log-Likelihood:                -2386.0\n",
      "No. Observations:                 442   AIC:                             4794.\n",
      "Df Residuals:                     431   BIC:                             4839.\n",
      "Df Model:                          10                                         \n",
      "Covariance Type:            nonrobust                                         \n",
      "==============================================================================\n",
      "                 coef    std err          t      P>|t|      [0.025      0.975]\n",
      "------------------------------------------------------------------------------\n",
      "const        152.1335      2.576     59.061      0.000     147.071     157.196\n",
      "x1           -10.0122     59.749     -0.168      0.867    -127.448     107.424\n",
      "x2          -239.8191     61.222     -3.917      0.000    -360.151    -119.488\n",
      "x3           519.8398     66.534      7.813      0.000     389.069     650.610\n",
      "x4           324.3904     65.422      4.958      0.000     195.805     452.976\n",
      "x5          -792.1842    416.684     -1.901      0.058   -1611.169      26.801\n",
      "x6           476.7458    339.035      1.406      0.160    -189.621    1143.113\n",
      "x7           101.0446    212.533      0.475      0.635    -316.685     518.774\n",
      "x8           177.0642    161.476      1.097      0.273    -140.313     494.442\n",
      "x9           751.2793    171.902      4.370      0.000     413.409    1089.150\n",
      "x10           67.6254     65.984      1.025      0.306     -62.065     197.316\n",
      "==============================================================================\n",
      "Omnibus:                        1.506   Durbin-Watson:                   2.029\n",
      "Prob(Omnibus):                  0.471   Jarque-Bera (JB):                1.404\n",
      "Skew:                           0.017   Prob(JB):                        0.496\n",
      "Kurtosis:                       2.726   Cond. No.                         227.\n",
      "==============================================================================\n",
      "\n",
      "Warnings:\n",
      "[1] Standard Errors assume that the covariance matrix of the errors is correctly specified.\n"
     ]
    }
   ],
   "source": [
    "import statsmodels.api as sm\n",
    "from scipy import stats\n",
    "\n",
    "diabetes = datasets.load_diabetes()\n",
    "X = diabetes.data\n",
    "y = diabetes.target\n",
    "\n",
    "X2 = sm.add_constant(X)\n",
    "est = sm.OLS(y, X2)\n",
    "est2 = est.fit()\n",
    "print(est2.summary())"
   ]
  },
  {
   "cell_type": "code",
   "execution_count": null,
   "metadata": {},
   "outputs": [],
   "source": []
  },
  {
   "cell_type": "code",
   "execution_count": null,
   "metadata": {},
   "outputs": [],
   "source": []
  },
  {
   "cell_type": "code",
   "execution_count": null,
   "metadata": {},
   "outputs": [],
   "source": []
  },
  {
   "cell_type": "code",
   "execution_count": null,
   "metadata": {},
   "outputs": [],
   "source": []
  },
  {
   "cell_type": "code",
   "execution_count": null,
   "metadata": {},
   "outputs": [],
   "source": []
  },
  {
   "cell_type": "code",
   "execution_count": null,
   "metadata": {},
   "outputs": [],
   "source": []
  },
  {
   "cell_type": "code",
   "execution_count": null,
   "metadata": {},
   "outputs": [],
   "source": []
  },
  {
   "cell_type": "code",
   "execution_count": null,
   "metadata": {},
   "outputs": [],
   "source": []
  },
  {
   "cell_type": "code",
   "execution_count": null,
   "metadata": {},
   "outputs": [],
   "source": []
  },
  {
   "cell_type": "markdown",
   "metadata": {},
   "source": [
    "# Survey results"
   ]
  },
  {
   "cell_type": "code",
   "execution_count": null,
   "metadata": {},
   "outputs": [],
   "source": [
    "visualizer.featurePrefPlot(figsize=(11,18))"
   ]
  },
  {
   "cell_type": "code",
   "execution_count": null,
   "metadata": {},
   "outputs": [],
   "source": [
    "visualizer.selfAssessmentPlot()"
   ]
  },
  {
   "cell_type": "code",
   "execution_count": null,
   "metadata": {},
   "outputs": [],
   "source": []
  },
  {
   "cell_type": "code",
   "execution_count": null,
   "metadata": {},
   "outputs": [],
   "source": []
  },
  {
   "cell_type": "code",
   "execution_count": null,
   "metadata": {},
   "outputs": [],
   "source": []
  },
  {
   "cell_type": "code",
   "execution_count": null,
   "metadata": {},
   "outputs": [],
   "source": []
  },
  {
   "cell_type": "code",
   "execution_count": null,
   "metadata": {},
   "outputs": [],
   "source": [
    "die here"
   ]
  },
  {
   "cell_type": "code",
   "execution_count": null,
   "metadata": {},
   "outputs": [],
   "source": []
  },
  {
   "cell_type": "code",
   "execution_count": null,
   "metadata": {},
   "outputs": [],
   "source": []
  },
  {
   "cell_type": "code",
   "execution_count": null,
   "metadata": {},
   "outputs": [],
   "source": []
  },
  {
   "cell_type": "code",
   "execution_count": null,
   "metadata": {},
   "outputs": [],
   "source": []
  },
  {
   "cell_type": "code",
   "execution_count": null,
   "metadata": {},
   "outputs": [],
   "source": []
  },
  {
   "cell_type": "code",
   "execution_count": null,
   "metadata": {},
   "outputs": [],
   "source": [
    "s0.learning_self_assessment_data"
   ]
  },
  {
   "cell_type": "code",
   "execution_count": null,
   "metadata": {},
   "outputs": [],
   "source": [
    "s0.feature_preference_data"
   ]
  },
  {
   "cell_type": "code",
   "execution_count": null,
   "metadata": {},
   "outputs": [],
   "source": []
  },
  {
   "cell_type": "code",
   "execution_count": null,
   "metadata": {},
   "outputs": [],
   "source": [
    "s1.design_synthesis_task_data"
   ]
  },
  {
   "cell_type": "code",
   "execution_count": null,
   "metadata": {},
   "outputs": [],
   "source": [
    "s2.feature_synthesis_task_data"
   ]
  },
  {
   "cell_type": "code",
   "execution_count": null,
   "metadata": {
    "scrolled": true
   },
   "outputs": [],
   "source": [
    "s2.design_synthesis_task_data"
   ]
  },
  {
   "cell_type": "code",
   "execution_count": null,
   "metadata": {},
   "outputs": [],
   "source": []
  },
  {
   "cell_type": "code",
   "execution_count": null,
   "metadata": {},
   "outputs": [],
   "source": []
  },
  {
   "cell_type": "code",
   "execution_count": null,
   "metadata": {},
   "outputs": [],
   "source": []
  },
  {
   "cell_type": "code",
   "execution_count": null,
   "metadata": {},
   "outputs": [],
   "source": []
  },
  {
   "cell_type": "code",
   "execution_count": null,
   "metadata": {},
   "outputs": [],
   "source": []
  },
  {
   "cell_type": "code",
   "execution_count": null,
   "metadata": {},
   "outputs": [],
   "source": []
  },
  {
   "cell_type": "code",
   "execution_count": null,
   "metadata": {},
   "outputs": [],
   "source": []
  },
  {
   "cell_type": "code",
   "execution_count": null,
   "metadata": {},
   "outputs": [],
   "source": []
  },
  {
   "cell_type": "code",
   "execution_count": null,
   "metadata": {},
   "outputs": [],
   "source": []
  },
  {
   "cell_type": "code",
   "execution_count": null,
   "metadata": {},
   "outputs": [],
   "source": []
  },
  {
   "cell_type": "code",
   "execution_count": null,
   "metadata": {},
   "outputs": [],
   "source": [
    "# subjects = analyzer.filterSubjects(pretest_score_threshold=0.5)\n",
    "subjects = None\n",
    "\n",
    "means = []\n",
    "stdevs = []\n",
    "\n",
    "temp = []\n",
    "\n",
    "for i in range(3):    \n",
    "    data = analyzer.getScoreData(subjects=subjects, \n",
    "                                 condition_number=i, \n",
    "                                 exclude_first_task=True, \n",
    "                                 conf_min=0, \n",
    "                                 conf_max=100, \n",
    "                                 time_min=None)\n",
    "    \n",
    "    temp.append(data)\n",
    "\n",
    "    mean = np.mean(data)\n",
    "    stdev = np.std(data)\n",
    "    standardError = stdev / math.sqrt(len(data))\n",
    "    confInterval = st.t.interval(0.95, len(data)-1, loc=np.mean(data), scale=st.sem(data))\n",
    "    print(\"condition: {0}, mean: {1}, std: {2}, standardError: {3}\".format(i, mean, stdev, standardError))\n",
    "    \n",
    "    means.append(mean)\n",
    "    stdevs.append(stdev)"
   ]
  },
  {
   "cell_type": "code",
   "execution_count": null,
   "metadata": {},
   "outputs": [],
   "source": [
    "np.shape(temp)"
   ]
  },
  {
   "cell_type": "code",
   "execution_count": null,
   "metadata": {},
   "outputs": [],
   "source": [
    "st.ttest_ind(temp[0], temp[1])"
   ]
  },
  {
   "cell_type": "code",
   "execution_count": null,
   "metadata": {},
   "outputs": [],
   "source": [
    "plotBarGraph(means[0], stdevs[0], means[1], stdevs[1], means[2], stdevs[2])"
   ]
  },
  {
   "cell_type": "code",
   "execution_count": null,
   "metadata": {},
   "outputs": [],
   "source": []
  },
  {
   "cell_type": "code",
   "execution_count": null,
   "metadata": {},
   "outputs": [],
   "source": []
  },
  {
   "cell_type": "code",
   "execution_count": null,
   "metadata": {},
   "outputs": [],
   "source": []
  },
  {
   "cell_type": "code",
   "execution_count": null,
   "metadata": {},
   "outputs": [],
   "source": [
    "def plotScatter(x1, x2, x3):\n",
    "    plt.scatter(x1,x2, s=None, c=x3, alpha=0.5)\n",
    "    plt.show()"
   ]
  },
  {
   "cell_type": "code",
   "execution_count": null,
   "metadata": {},
   "outputs": [],
   "source": [
    "def plotBarGraph(mean1, stdev1, mean2, stdev2, mean3=None, stdev3=None):\n",
    "    \n",
    "    if mean3 is not None:\n",
    "        N = 3\n",
    "        means = (mean1, mean2, mean3)\n",
    "        stdevs = (stdev1, stdev2, stdev3)\n",
    "    \n",
    "    else:\n",
    "        N = 2\n",
    "        means = (mean1, mean2)\n",
    "        stdevs = (stdev1, stdev2)\n",
    "        \n",
    "    ind = np.arange(N)  # the x locations for the groups\n",
    "    width = 0.35       # the width of the bars\n",
    "\n",
    "    fig, ax = plt.subplots()\n",
    "    rects1 = ax.bar(ind, means, width, color='skyblue', yerr=stdevs)\n",
    "\n",
    "    # add some text for labels, title and axes ticks\n",
    "    ax.set_ylabel('Scores')\n",
    "    ax.set_title('Scores')\n",
    "    \n",
    "    if mean3 is not None:\n",
    "        ax.set_xticks(ind + width / 3)\n",
    "        ax.set_xticklabels(('1', '2', '3'))\n",
    "        \n",
    "    else:\n",
    "        ax.set_xticks(ind + width / 2)\n",
    "        ax.set_xticklabels(('1', '2'))\n",
    "\n",
    "    #ax.legend((rects1[0], rects2[0]), ('Men', 'Women'))\n",
    "\n",
    "    plt.show()"
   ]
  },
  {
   "cell_type": "code",
   "execution_count": null,
   "metadata": {},
   "outputs": [],
   "source": [
    "def plotECDF(scores1,scores2):\n",
    "    \n",
    "    import statsmodels.api as sm # recommended import according to the docs\n",
    "\n",
    "    sample = scores1\n",
    "    ecdf = sm.distributions.ECDF(scores1)\n",
    "    x = np.linspace(min(sample), max(sample))\n",
    "    y = ecdf(x)\n",
    "    plt.step(x, y)\n",
    "\n",
    "    sample2 = scores2\n",
    "    ecdf = sm.distributions.ECDF(sample2)\n",
    "    x = np.linspace(min(sample2), max(sample2))\n",
    "    y = ecdf(x)\n",
    "    plt.step(x, y)\n",
    "\n",
    "    plt.show()"
   ]
  },
  {
   "cell_type": "code",
   "execution_count": null,
   "metadata": {},
   "outputs": [],
   "source": [
    "def writeToFile(data, header ,filePath = \"/Users/bang/workspace/iFEED-experiment-201711-result/data/data.csv\"):\n",
    "    with open(filePath, 'w') as f:\n",
    "        f.write(header + \"\\n\")\n",
    "        for row in data:\n",
    "            f.write(\",\".join(row) + \"\\n\")\n",
    "    "
   ]
  },
  {
   "cell_type": "code",
   "execution_count": null,
   "metadata": {},
   "outputs": [],
   "source": []
  },
  {
   "cell_type": "code",
   "execution_count": null,
   "metadata": {},
   "outputs": [],
   "source": []
  },
  {
   "cell_type": "markdown",
   "metadata": {},
   "source": [
    "# dataframe test"
   ]
  },
  {
   "cell_type": "code",
   "execution_count": null,
   "metadata": {},
   "outputs": [],
   "source": [
    "df = resultAnalyzer.getDataFrame()"
   ]
  },
  {
   "cell_type": "code",
   "execution_count": null,
   "metadata": {},
   "outputs": [],
   "source": [
    "df['fcl']"
   ]
  },
  {
   "cell_type": "code",
   "execution_count": null,
   "metadata": {},
   "outputs": [],
   "source": []
  },
  {
   "cell_type": "code",
   "execution_count": null,
   "metadata": {},
   "outputs": [],
   "source": [
    "df.loc[df['shield'] > 35] = 0"
   ]
  },
  {
   "cell_type": "code",
   "execution_count": null,
   "metadata": {},
   "outputs": [],
   "source": []
  },
  {
   "cell_type": "code",
   "execution_count": null,
   "metadata": {},
   "outputs": [],
   "source": [
    "df.boxplot(column=['fcl','fpwc','dcl','dpwc'])"
   ]
  },
  {
   "cell_type": "code",
   "execution_count": null,
   "metadata": {},
   "outputs": [],
   "source": [
    "df.boxplot(by=[\"condition\"], column=['PScore', 'NScore'], layout=None)"
   ]
  },
  {
   "cell_type": "code",
   "execution_count": null,
   "metadata": {},
   "outputs": [],
   "source": []
  },
  {
   "cell_type": "code",
   "execution_count": null,
   "metadata": {},
   "outputs": [],
   "source": []
  },
  {
   "cell_type": "code",
   "execution_count": null,
   "metadata": {},
   "outputs": [],
   "source": []
  }
 ],
 "metadata": {
  "kernelspec": {
   "display_name": "Python 3",
   "language": "python",
   "name": "python3"
  },
  "language_info": {
   "codemirror_mode": {
    "name": "ipython",
    "version": 3
   },
   "file_extension": ".py",
   "mimetype": "text/x-python",
   "name": "python",
   "nbconvert_exporter": "python",
   "pygments_lexer": "ipython3",
   "version": "3.6.5"
  }
 },
 "nbformat": 4,
 "nbformat_minor": 2
}
