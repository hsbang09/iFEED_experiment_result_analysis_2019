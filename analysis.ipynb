{
 "cells": [
  {
   "cell_type": "code",
   "execution_count": null,
   "metadata": {},
   "outputs": [],
   "source": [
    "import numpy as np\n",
    "import importlib\n",
    "from matplotlib import pyplot as plt\n",
    "import pandas as pd\n",
    "import math\n",
    "import os\n",
    "from scipy import stats\n",
    "import seaborn as sns\n",
    "import statsmodels.api as sm\n",
    "import statsmodels.formula.api as smf\n",
    "import sklearn\n",
    "%matplotlib inline\n",
    "\n",
    "import analyzer\n",
    "import subject\n",
    "import visualization\n",
    "import utils\n",
    "importlib.reload(analyzer)\n",
    "importlib.reload(subject)\n",
    "importlib.reload(visualization)\n",
    "importlib.reload(utils)"
   ]
  },
  {
   "cell_type": "code",
   "execution_count": null,
   "metadata": {},
   "outputs": [],
   "source": [
    "rootPath = os.getcwd()\n",
    "dataFilePath = os.path.join(rootPath, 'data')\n",
    "surveyDataFilePath = os.path.join(dataFilePath, 'survey.csv')\n",
    "loggedDataFilesRootPath = dataFilePath"
   ]
  },
  {
   "cell_type": "code",
   "execution_count": null,
   "metadata": {
    "scrolled": true
   },
   "outputs": [],
   "source": [
    "resultAnalyzer = analyzer.ResultAnalyzer(surveyDataFilePath, loggedDataFilesRootPath)"
   ]
  },
  {
   "cell_type": "code",
   "execution_count": null,
   "metadata": {},
   "outputs": [],
   "source": [
    "resultAnalyzer.gradeAnswers(confidenceThreshold=10)"
   ]
  },
  {
   "cell_type": "code",
   "execution_count": 5,
   "metadata": {},
   "outputs": [],
   "source": [
    "resultAnalyzer.computeIGD(os.path.join(rootPath, 'target_selection.csv'), useShortestDistance=True)"
   ]
  },
  {
   "cell_type": "code",
   "execution_count": 6,
   "metadata": {},
   "outputs": [],
   "source": [
    "# resultAnalyzer.computeHV(os.path.join(rootPath, 'target_selection.csv'))"
   ]
  },
  {
   "cell_type": "code",
   "execution_count": 7,
   "metadata": {},
   "outputs": [],
   "source": [
    "s0 = resultAnalyzer.subjects[0]\n",
    "s1 = resultAnalyzer.subjects[1]\n",
    "s2 = resultAnalyzer.subjects[2]\n",
    "s3 = resultAnalyzer.subjects[3]\n",
    "s4 = resultAnalyzer.subjects[4]\n",
    "s5 = resultAnalyzer.subjects[5]\n",
    "s6 = resultAnalyzer.subjects[6]\n",
    "s7 = resultAnalyzer.subjects[7]\n"
   ]
  },
  {
   "cell_type": "code",
   "execution_count": null,
   "metadata": {},
   "outputs": [],
   "source": []
  },
  {
   "cell_type": "markdown",
   "metadata": {},
   "source": [
    "# Get DataFrame"
   ]
  },
  {
   "cell_type": "code",
   "execution_count": 8,
   "metadata": {},
   "outputs": [],
   "source": [
    "df = resultAnalyzer.getDataFrame(option=\"all\",excludeHV=True, adjustIGDUsingEntropy=False)\n",
    "# resultAnalyzer.getDataFrame(option=\"learningTask\")\n",
    "# resultAnalyzer.getDataFrame(option=\"featureSynthesis\")\n",
    "# resultAnalyzer.getDataFrame(option=\"designSynthesis\")"
   ]
  },
  {
   "cell_type": "code",
   "execution_count": 9,
   "metadata": {},
   "outputs": [
    {
     "name": "stdout",
     "output_type": "stream",
     "text": [
      " FScore  meanDist2UP  meanIGD  selfAssessment\n",
      "   0.61        0.831    0.073            2.50\n",
      "   0.22        0.436    0.034            1.50\n",
      "   0.50        0.813    0.076            2.50\n",
      "   0.39        0.623    0.019            2.25\n",
      "   0.50        0.510    0.156            3.00\n",
      "   0.28        0.915    0.106            2.25\n",
      "   0.78        0.674    0.066            3.25\n",
      "   0.50        0.807    0.017            2.50\n"
     ]
    }
   ],
   "source": [
    "df1 = df[['FScore','meanDist2UP','meanIGD','selfAssessment']]\n",
    "print(df1.to_string(index=False))"
   ]
  },
  {
   "cell_type": "markdown",
   "metadata": {},
   "source": [
    "# Rename variable "
   ]
  },
  {
   "cell_type": "code",
   "execution_count": 10,
   "metadata": {},
   "outputs": [],
   "source": [
    "df = resultAnalyzer.getDataFrame(option=\"all\", excludeHV=False, adjustIGDUsingEntropy=False)\n",
    "\n",
    "namingScheme = {'fcl':'FID',\n",
    "                'fpwc':'FPWC',\n",
    "                'dcl':'DID',\n",
    "                'dpwc':'DPWC',\n",
    "                'conf_fcl':'confFID',\n",
    "                'conf_fpwc':'confFPWC',\n",
    "                'conf_dcl':'confDID',\n",
    "                'conf_dpwc':'confDPWC',\n",
    "                'adjustedIGD':'DSYN',\n",
    "                'normalizedDist2UP':'FSYN',\n",
    "#                 'normalizedSA':'SA',\n",
    "#                 'normalizedSAQ1':'SA',\n",
    "                'normalizedSAExclude1':'SA',\n",
    "                'normalizedCM':'CM',\n",
    "                'totalScore':'TestScore',\n",
    "            }\n",
    "\n",
    "# df = df.rename(columns=namingScheme, inplace=True)\n",
    "\n",
    "for oldName in namingScheme:\n",
    "    if oldName in df.columns:\n",
    "        newName = namingScheme[oldName]\n",
    "        df[newName] = df[oldName].values"
   ]
  },
  {
   "cell_type": "code",
   "execution_count": 11,
   "metadata": {},
   "outputs": [],
   "source": [
    "conditionAlias = {\"interactive\":\"IKE\",\n",
    "                 \"automated\":\"AKE\",\n",
    "                 \"manual\":\"MKE\"}\n",
    "\n",
    "newCol = []\n",
    "for cond in df[\"condition\"].values:\n",
    "    newCol.append(conditionAlias[cond])\n",
    "\n",
    "df[\"condition\"] = newCol"
   ]
  },
  {
   "cell_type": "code",
   "execution_count": 12,
   "metadata": {},
   "outputs": [
    {
     "data": {
      "text/plain": [
       "Index(['id', 'condition', 'type1', 'type2', 'LT_numDesignViewed',\n",
       "       'normalizedSAExclude1', 'FS_numFilterUsed', 'entropy',\n",
       "       'numHighLevelEdges', 'NScore', 'confDID', 'HScore',\n",
       "       'DS_numDesignEvaluated', 'normalizedSAQ1', 'normalizedCM', 'confFID',\n",
       "       'FS_numFeatureTested', 'FID', 'numNodes', 'LT_numFeatureFound',\n",
       "       'totalScore', 'adjustedIGD', 'normalizedDist2UP', 'FPWC', 'DScore',\n",
       "       'meanIGD', 'adjustedHV', 'confFPWC', 'LT_numFeatureViewed',\n",
       "       'selfAssessmentQ1', 'confDPWC', 'FS_numFeatureViewed',\n",
       "       'LT_numFilterUsed', 'DPWC', 'numHighLevelConcepts', 'normalizedSA',\n",
       "       'selfAssessment', 'numEdges', 'normalizedIGD', 'LScore', 'FScore',\n",
       "       'meanDist2UP', 'DS_numDesignViewed', 'DID', 'PScore', 'numDesigns',\n",
       "       'HV', 'selfAssessmentExclude1', 'DSYN', 'FSYN', 'SA', 'CM',\n",
       "       'TestScore'],\n",
       "      dtype='object')"
      ]
     },
     "execution_count": 12,
     "metadata": {},
     "output_type": "execute_result"
    }
   ],
   "source": [
    "df.columns"
   ]
  },
  {
   "cell_type": "code",
   "execution_count": null,
   "metadata": {},
   "outputs": [],
   "source": []
  },
  {
   "cell_type": "code",
   "execution_count": 13,
   "metadata": {},
   "outputs": [
    {
     "data": {
      "text/html": [
       "<div>\n",
       "<style scoped>\n",
       "    .dataframe tbody tr th:only-of-type {\n",
       "        vertical-align: middle;\n",
       "    }\n",
       "\n",
       "    .dataframe tbody tr th {\n",
       "        vertical-align: top;\n",
       "    }\n",
       "\n",
       "    .dataframe thead th {\n",
       "        text-align: right;\n",
       "    }\n",
       "</style>\n",
       "<table border=\"1\" class=\"dataframe\">\n",
       "  <thead>\n",
       "    <tr style=\"text-align: right;\">\n",
       "      <th></th>\n",
       "      <th>DID</th>\n",
       "      <th>meanIGD</th>\n",
       "      <th>normalizedIGD</th>\n",
       "      <th>DSYN</th>\n",
       "    </tr>\n",
       "  </thead>\n",
       "  <tbody>\n",
       "    <tr>\n",
       "      <td>0</td>\n",
       "      <td>0.778</td>\n",
       "      <td>0.073</td>\n",
       "      <td>0.597</td>\n",
       "      <td>0.706</td>\n",
       "    </tr>\n",
       "    <tr>\n",
       "      <td>1</td>\n",
       "      <td>0.667</td>\n",
       "      <td>0.034</td>\n",
       "      <td>0.878</td>\n",
       "      <td>0.297</td>\n",
       "    </tr>\n",
       "    <tr>\n",
       "      <td>2</td>\n",
       "      <td>0.444</td>\n",
       "      <td>0.076</td>\n",
       "      <td>0.576</td>\n",
       "      <td>0.511</td>\n",
       "    </tr>\n",
       "    <tr>\n",
       "      <td>3</td>\n",
       "      <td>0.667</td>\n",
       "      <td>0.019</td>\n",
       "      <td>0.986</td>\n",
       "      <td>1.000</td>\n",
       "    </tr>\n",
       "    <tr>\n",
       "      <td>4</td>\n",
       "      <td>0.667</td>\n",
       "      <td>0.156</td>\n",
       "      <td>0.000</td>\n",
       "      <td>0.000</td>\n",
       "    </tr>\n",
       "    <tr>\n",
       "      <td>5</td>\n",
       "      <td>0.444</td>\n",
       "      <td>0.106</td>\n",
       "      <td>0.360</td>\n",
       "      <td>0.213</td>\n",
       "    </tr>\n",
       "    <tr>\n",
       "      <td>6</td>\n",
       "      <td>1.000</td>\n",
       "      <td>0.066</td>\n",
       "      <td>0.647</td>\n",
       "      <td>0.328</td>\n",
       "    </tr>\n",
       "    <tr>\n",
       "      <td>7</td>\n",
       "      <td>0.778</td>\n",
       "      <td>0.017</td>\n",
       "      <td>1.000</td>\n",
       "      <td>0.507</td>\n",
       "    </tr>\n",
       "  </tbody>\n",
       "</table>\n",
       "</div>"
      ],
      "text/plain": [
       "     DID  meanIGD  normalizedIGD   DSYN\n",
       "0  0.778    0.073          0.597  0.706\n",
       "1  0.667    0.034          0.878  0.297\n",
       "2  0.444    0.076          0.576  0.511\n",
       "3  0.667    0.019          0.986  1.000\n",
       "4  0.667    0.156          0.000  0.000\n",
       "5  0.444    0.106          0.360  0.213\n",
       "6  1.000    0.066          0.647  0.328\n",
       "7  0.778    0.017          1.000  0.507"
      ]
     },
     "execution_count": 13,
     "metadata": {},
     "output_type": "execute_result"
    }
   ],
   "source": [
    "df[[\"DID\",\"meanIGD\",\"normalizedIGD\",\"DSYN\"]]"
   ]
  },
  {
   "cell_type": "code",
   "execution_count": null,
   "metadata": {},
   "outputs": [],
   "source": []
  },
  {
   "cell_type": "markdown",
   "metadata": {},
   "source": [
    "# Set Visualizer"
   ]
  },
  {
   "cell_type": "code",
   "execution_count": 14,
   "metadata": {},
   "outputs": [],
   "source": [
    "g1 = [s2, s5]\n",
    "g2 = [s1, s4]\n",
    "g3 = [s0, s3, s6]\n",
    "# g3 = [s6]"
   ]
  },
  {
   "cell_type": "code",
   "execution_count": 15,
   "metadata": {},
   "outputs": [],
   "source": [
    "visualizer = visualization.Visualizer(groups=[g1,g2,g3], groupNames=['MKE','AKE','IKE'])\n",
    "visualizer.setDataFrame(df)"
   ]
  },
  {
   "cell_type": "code",
   "execution_count": null,
   "metadata": {},
   "outputs": [],
   "source": []
  },
  {
   "cell_type": "markdown",
   "metadata": {},
   "source": [
    "# Synthesis task data visualization"
   ]
  },
  {
   "cell_type": "code",
   "execution_count": null,
   "metadata": {
    "scrolled": false
   },
   "outputs": [],
   "source": [
    "visualizer.designSynthesisScatter(markers=['o','^','d'])\n"
   ]
  },
  {
   "cell_type": "code",
   "execution_count": null,
   "metadata": {},
   "outputs": [],
   "source": [
    "visualizer.featureSynthesisScatter(markers=['o','^','d'])\n"
   ]
  },
  {
   "cell_type": "code",
   "execution_count": null,
   "metadata": {},
   "outputs": [],
   "source": []
  },
  {
   "cell_type": "markdown",
   "metadata": {},
   "source": [
    "# Parallel coordinates"
   ]
  },
  {
   "cell_type": "code",
   "execution_count": null,
   "metadata": {
    "scrolled": false
   },
   "outputs": [],
   "source": [
    "visualizer.parallelCoordinates(columns=['FID','FPWC','DID','DPWC'], \n",
    "                                figsize=(11,5))"
   ]
  },
  {
   "cell_type": "code",
   "execution_count": null,
   "metadata": {
    "scrolled": false
   },
   "outputs": [],
   "source": [
    "visualizer.parallelCoordinates(columns=['FID','FPWC','DID','DPWC','FScore','DScore','PScore','NScore','HScore','LScore','totalScore'], \n",
    "                                figsize=(15,5))"
   ]
  },
  {
   "cell_type": "code",
   "execution_count": null,
   "metadata": {},
   "outputs": [],
   "source": [
    "PROP_CYCLE = plt.rcParams['axes.prop_cycle']\n",
    "COLORS = PROP_CYCLE.by_key()['color']"
   ]
  },
  {
   "cell_type": "code",
   "execution_count": null,
   "metadata": {},
   "outputs": [],
   "source": [
    "tempVis = visualization.Visualizer(groups=[g3], groupNames=['IKE'])\n",
    "tempDF = resultAnalyzer.getDataFrame().loc[df['condition'] == \"IKE\"]\n",
    "tempVis.setDataFrame(tempDF)\n",
    "tempVis.parallelCoordinates(columns=['FID','FPWC','DID','DPWC','FScore','DScore','PScore','NScore','HScore','LScore','totalScore'], \n",
    "                                figsize=(15,5))\n"
   ]
  },
  {
   "cell_type": "code",
   "execution_count": null,
   "metadata": {},
   "outputs": [],
   "source": [
    "tempVis = visualization.Visualizer(groups=[g3], groupNames=['AKE'])\n",
    "tempDF = resultAnalyzer.getDataFrame().loc[df['condition'] == \"AKE\"]\n",
    "tempVis.setDataFrame(tempDF)\n",
    "\n",
    "tempVis.parallelCoordinates(columns=['FID','FPWC','DID','DPWC','FScore','DScore','PScore','NScore','HScore','LScore','totalScore'], \n",
    "                                figsize=(15,5),\n",
    "                                colors=[COLORS[1]])\n",
    "\n"
   ]
  },
  {
   "cell_type": "code",
   "execution_count": null,
   "metadata": {},
   "outputs": [],
   "source": [
    "tempVis = visualization.Visualizer(groups=[g3], groupNames=['MKE'])\n",
    "tempDF = resultAnalyzer.getDataFrame().loc[df['condition'] == \"MKE\"]\n",
    "tempVis.setDataFrame(tempDF)\n",
    "tempVis.parallelCoordinates(columns=['FID','FPWC','DID','DPWC','FScore','DScore','PScore','NScore','HScore','LScore','totalScore'], \n",
    "                                figsize=(15,5),\n",
    "                            colors=[COLORS[2]])\n"
   ]
  },
  {
   "cell_type": "code",
   "execution_count": null,
   "metadata": {},
   "outputs": [],
   "source": []
  },
  {
   "cell_type": "markdown",
   "metadata": {},
   "source": [
    "# Box plots"
   ]
  },
  {
   "cell_type": "code",
   "execution_count": null,
   "metadata": {},
   "outputs": [],
   "source": []
  },
  {
   "cell_type": "code",
   "execution_count": null,
   "metadata": {},
   "outputs": [],
   "source": [
    "# visualizer.boxPlot(columns=['FScore','DScore', 'totalScore'], nrows=1, ncols=3, sharey=True, figsize=(14,4.5))"
   ]
  },
  {
   "cell_type": "code",
   "execution_count": null,
   "metadata": {},
   "outputs": [],
   "source": [
    "# visualizer.boxPlot(columns=['PScore','NScore', 'FScore'], nrows=1, ncols=3, sharey=True, figsize=(14,4.5))"
   ]
  },
  {
   "cell_type": "code",
   "execution_count": null,
   "metadata": {},
   "outputs": [],
   "source": [
    "# visualizer.boxPlot(columns=['HScore','LScore', 'FScore'], nrows=1, ncols=3, sharey=True, figsize=(14,4.5))"
   ]
  },
  {
   "cell_type": "code",
   "execution_count": null,
   "metadata": {},
   "outputs": [],
   "source": [
    "# visualizer.boxPlot(columns=['meanDist2UP', 'meanIGD', 'totalScore'], nrows=1, ncols=3, sharey=False, figsize=(14,4.5))"
   ]
  },
  {
   "cell_type": "code",
   "execution_count": null,
   "metadata": {},
   "outputs": [],
   "source": [
    "visualizer.barPlot(columns=['FID','FPWC','DID','DPWC','FSYN','DSYN','SA'], \n",
    "                   showError=True, \n",
    "                   nrows=4, \n",
    "                   ncols=2, \n",
    "                   sharey=True, \n",
    "                   subplotsAdjust={\"hspace\":0.35, \"wspace\":0.1}, \n",
    "                   subplotsHide=[7],\n",
    "                   figsize=(8,14))\n"
   ]
  },
  {
   "cell_type": "code",
   "execution_count": null,
   "metadata": {},
   "outputs": [],
   "source": []
  },
  {
   "cell_type": "code",
   "execution_count": null,
   "metadata": {},
   "outputs": [],
   "source": [
    "visualizer.barPlot(columns=['FScore','DScore', 'TestScore'], \n",
    "                   showError=True, nrows=1, ncols=3, \n",
    "                   subplotsAdjust={\"wspace\":0.08}, \n",
    "                   sharey=True, figsize=(13,3.5))\n"
   ]
  },
  {
   "cell_type": "code",
   "execution_count": null,
   "metadata": {},
   "outputs": [],
   "source": [
    "visualizer.barPlot(columns=['FID','FPWC','DID','DPWC'], showError=True, nrows=1, ncols=4, sharey=True, figsize=(16,3))\n"
   ]
  },
  {
   "cell_type": "code",
   "execution_count": null,
   "metadata": {},
   "outputs": [],
   "source": [
    "visualizer.barPlot(columns=['PScore','NScore','HScore','LScore'], \n",
    "                   showError=True, \n",
    "                   nrows=2, ncols=2, sharey=True, \n",
    "                   subplotsAdjust={\"hspace\":0.35, \"wspace\":0.1}, \n",
    "                   figsize=(8,7))"
   ]
  },
  {
   "cell_type": "code",
   "execution_count": null,
   "metadata": {
    "scrolled": true
   },
   "outputs": [],
   "source": [
    "# visualizer.barPlot(columns=['PScore','NScore', 'FScore'], showError=True, nrows=1, ncols=3, sharey=True, figsize=(13,3))"
   ]
  },
  {
   "cell_type": "code",
   "execution_count": null,
   "metadata": {},
   "outputs": [],
   "source": [
    "# visualizer.barPlot(columns=['HScore','LScore', 'FScore'], showError=True, nrows=1, ncols=3, sharey=True, figsize=(13,3))"
   ]
  },
  {
   "cell_type": "code",
   "execution_count": null,
   "metadata": {
    "scrolled": false
   },
   "outputs": [],
   "source": [
    "visualizer.barPlot(dataFrame=df, columns=['selfAssessment', 'meanIGD', 'meanDist2UP', 'totalScore'], showError=True, nrows=1, ncols=4, sharey=False, figsize=(15,3))\n",
    "# visualizer.barPlot(dataFrame=df, columns=['selfAssessmentExclude1', 'meanIGD', 'meanDist2UP', 'totalScore'], showError=True, nrows=1, ncols=4, sharey=False, figsize=(15,3))\n"
   ]
  },
  {
   "cell_type": "code",
   "execution_count": null,
   "metadata": {},
   "outputs": [],
   "source": [
    "visualizer.barPlot(dataFrame=df, columns=['normalizedIGD', 'adjustedIGD', 'selfAssessment', 'totalScore'], showError=True, nrows=1, ncols=4, sharey=False, figsize=(15,3))\n"
   ]
  },
  {
   "cell_type": "code",
   "execution_count": null,
   "metadata": {},
   "outputs": [],
   "source": [
    "# visualizer.barPlot(dataFrame=df, columns=['HV', 'adjustedHV', 'selfAssessment', 'totalScore'], showError=True, nrows=1, ncols=4, sharey=False, figsize=(15,3))\n"
   ]
  },
  {
   "cell_type": "code",
   "execution_count": null,
   "metadata": {},
   "outputs": [],
   "source": [
    "visualizer.barPlot(dataFrame=df, columns=[\"numNodes\",\"numEdges\",\"numHighLevelEdges\",\"totalScore\"], showError=True, nrows=1, ncols=4, sharey=False, figsize=(15,3))\n"
   ]
  },
  {
   "cell_type": "code",
   "execution_count": null,
   "metadata": {},
   "outputs": [],
   "source": []
  },
  {
   "cell_type": "code",
   "execution_count": null,
   "metadata": {},
   "outputs": [],
   "source": []
  },
  {
   "cell_type": "markdown",
   "metadata": {},
   "source": [
    "# Box plots - Logged Data"
   ]
  },
  {
   "cell_type": "code",
   "execution_count": null,
   "metadata": {
    "scrolled": true
   },
   "outputs": [],
   "source": [
    "# df_lt = resultAnalyzer.getDataFrame(option=\"learningTask\",columns=['totalScore'])\n",
    "# visualizer.boxPlot(columns=['LT_numDesignViewed','LT_numFeatureViewed','totalScore'], dataFrame=df_lt, nrows=1, ncols=3, sharey=False, figsize=(14,3.5))\n"
   ]
  },
  {
   "cell_type": "code",
   "execution_count": null,
   "metadata": {},
   "outputs": [],
   "source": [
    "df_lt = resultAnalyzer.getDataFrame(option=\"learningTask\", columns=[\"totalScore\"])\n",
    "visualizer.barPlot(columns=['LT_numDesignViewed','LT_numFeatureViewed','totalScore'], dataFrame=df_lt, showError=True, nrows=1, ncols=3, sharey=False, figsize=(14,3.5))\n"
   ]
  },
  {
   "cell_type": "code",
   "execution_count": null,
   "metadata": {},
   "outputs": [],
   "source": [
    "# df_fs = resultAnalyzer.getDataFrame(option=\"featureSynthesis\")\n",
    "# visualizer.boxPlot(columns=['meanDist2UP','FS_numFeatureViewed', 'FS_numFilterUsed','FS_numFeatureTested'], dataFrame=df_fs, nrows=1, ncols=4, sharey=False, figsize=(16,4))\n",
    "\n"
   ]
  },
  {
   "cell_type": "code",
   "execution_count": null,
   "metadata": {},
   "outputs": [],
   "source": [
    "df_fs = resultAnalyzer.getDataFrame(option=\"featureSynthesis\", invertSIB=False)\n",
    "visualizer.barPlot(columns=['meanDist2UP','FS_numFeatureViewed', 'FS_numFilterUsed','FS_numFeatureTested'], dataFrame=df_fs, showError=True, nrows=1, ncols=4, sharey=False, figsize=(16,3.5))\n"
   ]
  },
  {
   "cell_type": "code",
   "execution_count": null,
   "metadata": {},
   "outputs": [],
   "source": [
    "# df_ds = resultAnalyzer.getDataFrame(option=\"designSynthesis\")\n",
    "# visualizer.boxPlot(columns=['meanIGD','numDesigns', 'DS_numDesignViewed'], dataFrame=df_ds, nrows=1, ncols=3, sharey=False, figsize=(14,3.5))\n",
    "\n"
   ]
  },
  {
   "cell_type": "code",
   "execution_count": null,
   "metadata": {},
   "outputs": [],
   "source": [
    "df_ds = resultAnalyzer.getDataFrame(option=\"designSynthesis\", invertSIB=False)\n",
    "visualizer.barPlot(columns=['meanIGD','numDesigns', 'DS_numDesignViewed'], dataFrame=df_ds, showError=True, nrows=1, ncols=3, sharey=False, figsize=(14,3.5))\n"
   ]
  },
  {
   "cell_type": "code",
   "execution_count": null,
   "metadata": {},
   "outputs": [],
   "source": []
  },
  {
   "cell_type": "code",
   "execution_count": null,
   "metadata": {},
   "outputs": [],
   "source": []
  },
  {
   "cell_type": "code",
   "execution_count": null,
   "metadata": {},
   "outputs": [],
   "source": []
  },
  {
   "cell_type": "code",
   "execution_count": null,
   "metadata": {},
   "outputs": [],
   "source": []
  },
  {
   "cell_type": "code",
   "execution_count": null,
   "metadata": {},
   "outputs": [],
   "source": []
  },
  {
   "cell_type": "markdown",
   "metadata": {},
   "source": [
    "# Statistical tests"
   ]
  },
  {
   "cell_type": "code",
   "execution_count": null,
   "metadata": {},
   "outputs": [],
   "source": [
    "dfi = df.loc[df['condition'] == \"IKE\"]\n",
    "dfa = df.loc[df['condition'] == \"AKE\"]\n",
    "dfm = df.loc[df['condition'] == \"MKE\"]"
   ]
  },
  {
   "cell_type": "code",
   "execution_count": null,
   "metadata": {},
   "outputs": [],
   "source": [
    "conditions = [\"MKE\", \"AKE\", \"IKE\"]\n",
    "measures = [\"FID\",\"FPWC\",\"DID\",\"DPWC\",\"FSYN\",\"DSYN\",\"SA\"]\n",
    "\n",
    "out = []\n",
    "for mea in measures:\n",
    "    line = [mea]\n",
    "    for cond in conditions:\n",
    "        dat = None\n",
    "        if cond == \"MKE\":\n",
    "            dat = dfm\n",
    "        elif cond == \"AKE\":\n",
    "            dat = dfa\n",
    "        elif cond == \"IKE\":\n",
    "            dat = dfi\n",
    "        \n",
    "        mean = round(np.mean(dat[mea]),2)\n",
    "        stdev = round(np.std(dat[mea]),2)\n",
    "        temp = \"{0} ({1})\".format(mean, stdev)\n",
    "        line.append(temp)\n",
    "    \n",
    "    out.append(\" & \".join(line))\n",
    "\n",
    "print(\" \\\\\\\\\\n\".join(out))\n",
    "print()\n",
    "\n",
    "for mea in measures:\n",
    "    t1, p1 = stats.ttest_ind(dfi[mea], dfa[mea])\n",
    "    t2, p2 = stats.ttest_ind(dfi[mea], dfm[mea])\n",
    "    t3, p3 = stats.ttest_ind(dfa[mea], dfm[mea])\n",
    "    p1 = p1/2\n",
    "    p2 = p2/2\n",
    "    p3 = p3/2\n",
    "    if p1  < 0.05:\n",
    "        print(\"{0} IKE-AKE | p-val: {1}\".format(mea, p1))\n",
    "    if p2  < 0.05:\n",
    "        print(\"{0} IKE-MKE | p-val: {1}\".format(mea, p2))\n",
    "    if p3  < 0.05:\n",
    "        print(\"{0} AKE-MKE | p-val: {1}\".format(mea, p3))"
   ]
  },
  {
   "cell_type": "code",
   "execution_count": null,
   "metadata": {},
   "outputs": [],
   "source": []
  },
  {
   "cell_type": "code",
   "execution_count": null,
   "metadata": {},
   "outputs": [],
   "source": []
  },
  {
   "cell_type": "code",
   "execution_count": null,
   "metadata": {},
   "outputs": [],
   "source": [
    "conditions = [\"MKE\", \"AKE\", \"IKE\"]\n",
    "measures = [\"FScore\",\"DScore\",\"TestScore\"]\n",
    "\n",
    "out = []\n",
    "for mea in measures:\n",
    "    line = [mea]\n",
    "    for cond in conditions:\n",
    "        dat = None\n",
    "        if cond == \"MKE\":\n",
    "            dat = dfm\n",
    "        elif cond == \"AKE\":\n",
    "            dat = dfa\n",
    "        elif cond == \"IKE\":\n",
    "            dat = dfi\n",
    "        \n",
    "        mean = round(np.mean(dat[mea]),2)\n",
    "        stdev = round(np.std(dat[mea]),2)\n",
    "        temp = \"{0} ({1})\".format(mean, stdev)\n",
    "        line.append(temp)\n",
    "    \n",
    "    out.append(\" & \".join(line))\n",
    "\n",
    "print(\" \\\\\\\\\\n\".join(out))\n",
    "print()\n",
    "\n",
    "for mea in measures:\n",
    "    t1, p1 = stats.ttest_ind(dfi[mea], dfa[mea])\n",
    "    t2, p2 = stats.ttest_ind(dfi[mea], dfm[mea])\n",
    "    t3, p3 = stats.ttest_ind(dfa[mea], dfm[mea])\n",
    "    p1 = p1/2\n",
    "    p2 = p2/2\n",
    "    p3 = p3/2\n",
    "    if p1  < 0.05:\n",
    "        print(\"{0} IKE-AKE | p-val: {1}\".format(mea, p1))\n",
    "    if p2  < 0.05:\n",
    "        print(\"{0} IKE-MKE | p-val: {1}\".format(mea, p2))\n",
    "    if p3  < 0.05:\n",
    "        print(\"{0} AKE-MKE | p-val: {1}\".format(mea, p3))"
   ]
  },
  {
   "cell_type": "code",
   "execution_count": null,
   "metadata": {},
   "outputs": [],
   "source": []
  },
  {
   "cell_type": "code",
   "execution_count": null,
   "metadata": {},
   "outputs": [],
   "source": [
    "conditions = [\"MKE\", \"AKE\", \"IKE\"]\n",
    "measures = [\"PScore\",\"NScore\",\"HScore\",\"LScore\"]\n",
    "\n",
    "out = []\n",
    "for mea in measures:\n",
    "    line = [mea]\n",
    "    for cond in conditions:\n",
    "        dat = None\n",
    "        if cond == \"MKE\":\n",
    "            dat = dfm\n",
    "        elif cond == \"AKE\":\n",
    "            dat = dfa\n",
    "        elif cond == \"IKE\":\n",
    "            dat = dfi\n",
    "        \n",
    "        mean = round(np.mean(dat[mea]),2)\n",
    "        stdev = round(np.std(dat[mea]),2)\n",
    "        temp = \"{0} ({1})\".format(mean, stdev)\n",
    "        line.append(temp)\n",
    "    \n",
    "    out.append(\" & \".join(line))\n",
    "\n",
    "print(\" \\\\\\\\\\n\".join(out))\n",
    "print()\n",
    "\n",
    "for mea in measures:\n",
    "    t1, p1 = stats.ttest_ind(dfi[mea], dfa[mea])\n",
    "    t2, p2 = stats.ttest_ind(dfi[mea], dfm[mea])\n",
    "    t3, p3 = stats.ttest_ind(dfa[mea], dfm[mea])\n",
    "    p1 = p1/2\n",
    "    p2 = p2/2\n",
    "    p3 = p3/2\n",
    "    if p1  < 0.05:\n",
    "        print(\"{0} IKE-AKE | p-val: {1}\".format(mea, p1))\n",
    "    if p2  < 0.05:\n",
    "        print(\"{0} IKE-MKE | p-val: {1}\".format(mea, p2))\n",
    "    if p3  < 0.05:\n",
    "        print(\"{0} AKE-MKE | p-val: {1}\".format(mea, p3))"
   ]
  },
  {
   "cell_type": "code",
   "execution_count": null,
   "metadata": {},
   "outputs": [],
   "source": []
  },
  {
   "cell_type": "code",
   "execution_count": null,
   "metadata": {},
   "outputs": [],
   "source": [
    "measures = [\"FID\",\"FPWC\",\"DID\",\"DPWC\",\"FSYN\",\"DSYN\",\"SA\"] + [\"FScore\",\"DScore\",\"TestScore\"] + [\"PScore\",\"NScore\",\"HScore\",\"LScore\"]\n",
    "\n",
    "for mea in measures:\n",
    "    f,p = stats.f_oneway(dfi[mea], dfa[mea], dfm[mea])\n",
    "    if p < 0.05:\n",
    "        print(\"{0} | p-val: {1}\".format(mea, p))"
   ]
  },
  {
   "cell_type": "code",
   "execution_count": null,
   "metadata": {},
   "outputs": [],
   "source": []
  },
  {
   "cell_type": "code",
   "execution_count": null,
   "metadata": {},
   "outputs": [],
   "source": [
    "# from sklearn.linear_model import LinearRegression\n",
    "\n",
    "# # X = data.iloc[:, 0].values.reshape(-1, 1)  # values converts it into a numpy array\n",
    "\n",
    "# X = df[['condition','NScore']].values\n",
    "# y = df['totalScore'].values.reshape(-1, 1)  # -1 means that calculate the dimension of rows, but have 1 column\n",
    "# linear_regressor = LinearRegression()  # create object for the class\n",
    "# linear_regressor.fit(X, y)  # perform linear regression\n"
   ]
  },
  {
   "cell_type": "code",
   "execution_count": null,
   "metadata": {},
   "outputs": [],
   "source": [
    "# linear_regressor.score(X, y)"
   ]
  },
  {
   "cell_type": "code",
   "execution_count": null,
   "metadata": {},
   "outputs": [],
   "source": [
    "# linear_regressor.coef_"
   ]
  },
  {
   "cell_type": "code",
   "execution_count": null,
   "metadata": {},
   "outputs": [],
   "source": [
    "# import statsmodels.api as sm\n",
    "# import statsmodels.formula.api as smf\n",
    "\n",
    "# data = sm.datasets.get_rdataset(\"dietox\", \"geepack\").data\n",
    "# md = smf.mixedlm(\"Weight ~ Time\", data, groups=data[\"Pig\"])\n",
    "# mdf = md.fit()\n",
    "# print(mdf.summary())"
   ]
  },
  {
   "cell_type": "code",
   "execution_count": null,
   "metadata": {},
   "outputs": [],
   "source": []
  },
  {
   "cell_type": "code",
   "execution_count": null,
   "metadata": {},
   "outputs": [],
   "source": []
  },
  {
   "cell_type": "markdown",
   "metadata": {},
   "source": [
    "# Survey results"
   ]
  },
  {
   "cell_type": "code",
   "execution_count": null,
   "metadata": {
    "scrolled": false
   },
   "outputs": [],
   "source": [
    "visualizer.featurePrefPlot(figsize=(10,18))"
   ]
  },
  {
   "cell_type": "code",
   "execution_count": null,
   "metadata": {},
   "outputs": [],
   "source": []
  },
  {
   "cell_type": "markdown",
   "metadata": {},
   "source": [
    "1\n",
    "- Two radars should not be assigned to the same orbit\n",
    "- Instruments {AERO_POL, CPR_RAD, SAR_ALTIM} are not assigned to the same orbit"
   ]
  },
  {
   "cell_type": "markdown",
   "metadata": {},
   "source": [
    "2.\n",
    "- Instruments that measure ocean color are not assigned to AM orbit\n",
    "- AERO_LID, CPR_RAD are not assigned to SSO-600-DD orbit"
   ]
  },
  {
   "cell_type": "markdown",
   "metadata": {},
   "source": [
    "3.\n",
    "- Atmospheric chemistry instruments are assigned together in the same orbit\n",
    "- HIRES_SOUND and HYP_IMAG are assigned together in the same orbit"
   ]
  },
  {
   "cell_type": "markdown",
   "metadata": {},
   "source": [
    "4.\n",
    "- SSO-800-DD is empty, except when it contains VEG_LID and/or SAR_ALTIM\n",
    "- {OCE_SPEC, AERO_POL, AERO_LID, HYP_ERB, CPR_RAD, VEG_INSAR, CHEM_UVSPEC,CHEM_SWIRSPEC, HYP_IMAG, HIRES_SOUND} are not assigned to SSO-800-DD"
   ]
  },
  {
   "cell_type": "markdown",
   "metadata": {},
   "source": [
    "5.\n",
    "- VEG_INSAR is not used, except when it is assigned to LEO-600-polar\n",
    "- HYP_ERB is not assigned to any of the orbits in the set {LEO-600-polar, SSO-600-AM, SSO-600-DD, SSO-800-DD}"
   ]
  },
  {
   "cell_type": "markdown",
   "metadata": {},
   "source": [
    "6.\n",
    "- Radars and lidars are not assigned to the same orbit, except when VEG_LID and VEG_INSAR are assigned together\n",
    "- AERO_LID and CPR_RAD is not assigned together in the same orbit, and SAR_ALTIM and AERO_LID are not assigned together in the same orbit"
   ]
  },
  {
   "cell_type": "markdown",
   "metadata": {},
   "source": [
    "7.\n",
    "- AERO_POL and SAR_ALTIM are NOT assigned together in the same orbit\n",
    "- CHEM_UVSPEC and HIRES_SOUND are assigned together in at least one of the orbits"
   ]
  },
  {
   "cell_type": "markdown",
   "metadata": {},
   "source": [
    "8.\n",
    "- OCE_SPEC is assigned to LEO-600-polar\n",
    "- VEG_INSAR is NOT assigned to SSO-600-AM"
   ]
  },
  {
   "cell_type": "markdown",
   "metadata": {},
   "source": [
    "9.\n",
    "- AERO_LID is NOT used\n",
    "- SAR_ALTIM is used"
   ]
  },
  {
   "cell_type": "code",
   "execution_count": null,
   "metadata": {},
   "outputs": [],
   "source": []
  },
  {
   "cell_type": "code",
   "execution_count": null,
   "metadata": {},
   "outputs": [],
   "source": [
    "visualizer.selfAssessmentPlot(displayStderr=True)"
   ]
  },
  {
   "cell_type": "markdown",
   "metadata": {},
   "source": [
    "1. I learned a lot about the given design problem from this exercise\n",
    "2. The features I learned from this exercise will be useful to solve a different (but similar)\n",
    "design problem in the future\n",
    "3. The tool was useful in checking hypotheses I had based on my prior knowledge\n",
    "4. The tool was useful in checking new hypotheses I had as I analyzed the data.\n",
    "\n",
    "0=strongly disagree, 1=disagree, 2=undecided, 3=agree, 4=strongly agree"
   ]
  },
  {
   "cell_type": "code",
   "execution_count": null,
   "metadata": {},
   "outputs": [],
   "source": []
  },
  {
   "cell_type": "code",
   "execution_count": null,
   "metadata": {},
   "outputs": [],
   "source": []
  },
  {
   "cell_type": "markdown",
   "metadata": {},
   "source": [
    "# Get transcript comments"
   ]
  },
  {
   "cell_type": "code",
   "execution_count": null,
   "metadata": {},
   "outputs": [],
   "source": [
    "subjects_manual = resultAnalyzer.filterSubjects(condition=4)\n",
    "subjects_auto = resultAnalyzer.filterSubjects(condition=5)\n",
    "subjects_interactive = resultAnalyzer.filterSubjects(condition=6)"
   ]
  },
  {
   "cell_type": "code",
   "execution_count": null,
   "metadata": {},
   "outputs": [],
   "source": [
    "comments = resultAnalyzer.getComments(resultAnalyzer.subjects, \"problem_solving_task\", \"F_cl_3\", displayCondition=True, displayParticipantID=False, displayKeyword=False)\n",
    "\n",
    "for line in comments:\n",
    "    print(line)\n",
    "    print(\"\")\n",
    "    "
   ]
  },
  {
   "cell_type": "code",
   "execution_count": null,
   "metadata": {},
   "outputs": [],
   "source": [
    "resultAnalyzer.getComments(subjects_manual, \"problem_solving_task\", \"F\", displayParticipantID=False, displayKeyword=True)\n"
   ]
  },
  {
   "cell_type": "code",
   "execution_count": null,
   "metadata": {},
   "outputs": [],
   "source": [
    "resultAnalyzer.getComments(subjects_auto, \"problem_solving_task\", \"F_cl\", displayParticipantID=False, displayKeyword=True)\n"
   ]
  },
  {
   "cell_type": "code",
   "execution_count": null,
   "metadata": {
    "scrolled": true
   },
   "outputs": [],
   "source": [
    "comments = resultAnalyzer.getComments(resultAnalyzer.subjects, \"survey\", \"gen\", displayCondition=True, displayParticipantID=False, displayKeyword=True)\n",
    "\n",
    "for line in comments:\n",
    "    print(line + \"\\n\")"
   ]
  },
  {
   "cell_type": "code",
   "execution_count": null,
   "metadata": {},
   "outputs": [],
   "source": []
  },
  {
   "cell_type": "code",
   "execution_count": null,
   "metadata": {},
   "outputs": [],
   "source": []
  },
  {
   "cell_type": "markdown",
   "metadata": {},
   "source": [
    "## Correlation "
   ]
  },
  {
   "cell_type": "code",
   "execution_count": null,
   "metadata": {},
   "outputs": [],
   "source": [
    "sns.regplot(x=\"SA\", y=\"totalScore\", data=df, ci=95)"
   ]
  },
  {
   "cell_type": "code",
   "execution_count": null,
   "metadata": {},
   "outputs": [],
   "source": [
    "mod = sm.OLS(np.array(df['SA']), np.array(df['totalScore']))\n",
    "res = mod.fit()\n",
    "print(res.summary())"
   ]
  },
  {
   "cell_type": "code",
   "execution_count": null,
   "metadata": {},
   "outputs": [],
   "source": [
    "sns.lmplot(x=\"selfAssessment\", y=\"totalScore\", hue=\"condition\", markers=[\"o\",\"x\",\"^\"], data=df, ci=None);\n",
    "# sns.lmplot(x=\"selfAssessmentExclude1\", y=\"totalScore\", hue=\"condition\", markers=[\"o\",\"x\",\"^\"], data=df, ci=None);"
   ]
  },
  {
   "cell_type": "code",
   "execution_count": null,
   "metadata": {},
   "outputs": [],
   "source": [
    "# sns.lmplot(x=\"selfAssessment\", y=\"totalScore\", hue=\"type1\", markers=[\"o\",\"x\"], data=df, ci=None);\n",
    "# sns.lmplot(x=\"selfAssessmentExclude1\", y=\"totalScore\", hue=\"type\", markers=[\"o\",\"x\"], data=df, ci=None);"
   ]
  },
  {
   "cell_type": "code",
   "execution_count": null,
   "metadata": {},
   "outputs": [],
   "source": []
  },
  {
   "cell_type": "markdown",
   "metadata": {},
   "source": [
    "## Correlation - Design synthesis task"
   ]
  },
  {
   "cell_type": "code",
   "execution_count": null,
   "metadata": {},
   "outputs": [],
   "source": [
    "sns.regplot(x=\"DPWC\", y=\"DSYN\", data=df, ci=None);"
   ]
  },
  {
   "cell_type": "code",
   "execution_count": null,
   "metadata": {},
   "outputs": [],
   "source": [
    "xmod = sm.OLS(np.array(df['selfAssessment']), np.array(df['meanIGD']))\n",
    "res = mod.fit()\n",
    "print(res.summary())"
   ]
  },
  {
   "cell_type": "code",
   "execution_count": null,
   "metadata": {},
   "outputs": [],
   "source": [
    "sns.lmplot(x=\"selfAssessment\", y=\"normalizedIGD\", hue=\"condition\", markers=[\"o\",\"x\",\"^\"], data=df, ci=None);\n",
    "# sns.lmplot(x=\"selfAssessmentExclude1\", y=\"normalizedIGD\", hue=\"condition\", markers=[\"o\",\"x\",\"^\"], data=df, ci=None);"
   ]
  },
  {
   "cell_type": "code",
   "execution_count": null,
   "metadata": {},
   "outputs": [],
   "source": [
    "# sns.lmplot(x=\"selfAssessment\", y=\"normalizedIGD\", hue=\"type1\", markers=[\"o\",\"x\"], data=df, ci=None);\n",
    "# sns.lmplot(x=\"selfAssessmentExclude1\", y=\"normalizedIGD\", hue=\"type\", markers=[\"o\",\"x\"], data=df, ci=None);"
   ]
  },
  {
   "cell_type": "code",
   "execution_count": null,
   "metadata": {},
   "outputs": [],
   "source": [
    "sns.lmplot(x=\"totalScore\", y=\"meanIGD\", hue=\"condition\", markers=[\"o\",\"x\",\"^\"], data=df, ci=None);\n"
   ]
  },
  {
   "cell_type": "code",
   "execution_count": null,
   "metadata": {},
   "outputs": [],
   "source": [
    "sns.regplot(x=\"selfAssessment\", y=\"numDesigns\", data=df, ci=None);"
   ]
  },
  {
   "cell_type": "code",
   "execution_count": null,
   "metadata": {},
   "outputs": [],
   "source": [
    "sns.regplot(x=\"numDesigns\", y=\"totalScore\", data=df, ci=None);"
   ]
  },
  {
   "cell_type": "code",
   "execution_count": null,
   "metadata": {},
   "outputs": [],
   "source": [
    "sns.regplot(x=\"numDesigns\", y=\"normalizedIGD\", data=df, ci=None);"
   ]
  },
  {
   "cell_type": "code",
   "execution_count": null,
   "metadata": {},
   "outputs": [],
   "source": [
    "sns.regplot(x=\"numDesigns\", y=\"selfAssessment\", data=df, ci=None);"
   ]
  },
  {
   "cell_type": "code",
   "execution_count": null,
   "metadata": {},
   "outputs": [],
   "source": []
  },
  {
   "cell_type": "code",
   "execution_count": null,
   "metadata": {},
   "outputs": [],
   "source": []
  },
  {
   "cell_type": "code",
   "execution_count": null,
   "metadata": {},
   "outputs": [],
   "source": []
  },
  {
   "cell_type": "code",
   "execution_count": null,
   "metadata": {},
   "outputs": [],
   "source": []
  },
  {
   "cell_type": "code",
   "execution_count": null,
   "metadata": {},
   "outputs": [],
   "source": [
    "# df = df.drop(index=1)"
   ]
  },
  {
   "cell_type": "code",
   "execution_count": null,
   "metadata": {},
   "outputs": [],
   "source": [
    "sns.regplot(x=\"selfAssessment\", y=\"adjustedIGD\", data=df);"
   ]
  },
  {
   "cell_type": "code",
   "execution_count": null,
   "metadata": {},
   "outputs": [],
   "source": [
    "sns.regplot(x=\"DScore\", y=\"adjustedIGD\", data=df);"
   ]
  },
  {
   "cell_type": "code",
   "execution_count": null,
   "metadata": {},
   "outputs": [],
   "source": [
    "sns.regplot(x=\"DPWC\", y=\"adjustedIGD\", data=df);"
   ]
  },
  {
   "cell_type": "code",
   "execution_count": null,
   "metadata": {},
   "outputs": [],
   "source": []
  },
  {
   "cell_type": "markdown",
   "metadata": {},
   "source": [
    "## Correlation - feature synthesis task"
   ]
  },
  {
   "cell_type": "code",
   "execution_count": null,
   "metadata": {},
   "outputs": [],
   "source": [
    "sns.regplot(x=\"selfAssessment\", y=\"meanDist2UP\", data=df);"
   ]
  },
  {
   "cell_type": "code",
   "execution_count": null,
   "metadata": {},
   "outputs": [],
   "source": [
    "# sns.regplot(x=\"selfAssessmentExclude1\", y=\"meanDist2UP\", data=df);"
   ]
  },
  {
   "cell_type": "code",
   "execution_count": null,
   "metadata": {},
   "outputs": [],
   "source": [
    "sns.lmplot(x=\"selfAssessment\", y=\"meanDist2UP\", hue=\"condition\", markers=[\"o\",\"x\",\"^\"], data=df, ci=None);\n",
    "# sns.lmplot(x=\"selfAssessmentExclude1\", y=\"meanDist2UP\", hue=\"condition\", markers=[\"o\",\"x\",\"^\"], data=df, ci=None);"
   ]
  },
  {
   "cell_type": "code",
   "execution_count": null,
   "metadata": {},
   "outputs": [],
   "source": [
    "# sns.lmplot(x=\"selfAssessment\", y=\"meanDist2UP\", hue=\"type\", markers=[\"o\",\"x\"], data=df, ci=None);\n",
    "# sns.lmplot(x=\"selfAssessmentExclude1\", y=\"meanDist2UP\", hue=\"type\", markers=[\"o\",\"x\"], data=df, ci=None);"
   ]
  },
  {
   "cell_type": "code",
   "execution_count": null,
   "metadata": {},
   "outputs": [],
   "source": [
    "sns.lmplot(x=\"totalScore\", y=\"meanDist2UP\", hue=\"condition\", markers=[\"o\",\"x\",\"^\"], data=df, ci=None);"
   ]
  },
  {
   "cell_type": "code",
   "execution_count": null,
   "metadata": {},
   "outputs": [],
   "source": []
  },
  {
   "cell_type": "code",
   "execution_count": null,
   "metadata": {},
   "outputs": [],
   "source": []
  },
  {
   "cell_type": "code",
   "execution_count": null,
   "metadata": {},
   "outputs": [],
   "source": [
    "mod = sm.OLS(np.array(df['selfAssessment']), np.array(df['meanDist2UP']))\n",
    "res = mod.fit()\n",
    "print(res.summary())"
   ]
  },
  {
   "cell_type": "code",
   "execution_count": null,
   "metadata": {},
   "outputs": [],
   "source": []
  },
  {
   "cell_type": "markdown",
   "metadata": {},
   "source": [
    "# Correlation - concept mapping"
   ]
  },
  {
   "cell_type": "code",
   "execution_count": null,
   "metadata": {},
   "outputs": [],
   "source": [
    "sns.regplot(x=\"numEdges\", y=\"totalScore\", data=df);"
   ]
  },
  {
   "cell_type": "code",
   "execution_count": null,
   "metadata": {},
   "outputs": [],
   "source": [
    "sns.lmplot(x=\"numEdges\", y=\"totalScore\", hue=\"type2\", markers=[\"o\",\"x\"], data=df, ci=None);\n"
   ]
  },
  {
   "cell_type": "code",
   "execution_count": null,
   "metadata": {},
   "outputs": [],
   "source": [
    "mod = smf.ols(formula='totalScore ~ numEdges * C(type2)', data=df)\n",
    "res = mod.fit()\n",
    "print(res.summary())"
   ]
  },
  {
   "cell_type": "code",
   "execution_count": null,
   "metadata": {},
   "outputs": [],
   "source": []
  },
  {
   "cell_type": "code",
   "execution_count": null,
   "metadata": {},
   "outputs": [],
   "source": []
  },
  {
   "cell_type": "code",
   "execution_count": null,
   "metadata": {},
   "outputs": [],
   "source": []
  },
  {
   "cell_type": "code",
   "execution_count": null,
   "metadata": {},
   "outputs": [],
   "source": [
    "die here"
   ]
  },
  {
   "cell_type": "code",
   "execution_count": null,
   "metadata": {},
   "outputs": [],
   "source": []
  },
  {
   "cell_type": "markdown",
   "metadata": {},
   "source": [
    "# Etc"
   ]
  },
  {
   "cell_type": "code",
   "execution_count": null,
   "metadata": {},
   "outputs": [],
   "source": [
    "df.columns"
   ]
  },
  {
   "cell_type": "code",
   "execution_count": null,
   "metadata": {},
   "outputs": [],
   "source": [
    "sns.pairplot(df[['condition','FScore','DScore','selfAssessment']], kind=\"reg\")"
   ]
  },
  {
   "cell_type": "code",
   "execution_count": null,
   "metadata": {},
   "outputs": [],
   "source": [
    "sns.pairplot(df[['condition','PScore','NScore','selfAssessment']], kind=\"reg\")"
   ]
  },
  {
   "cell_type": "code",
   "execution_count": null,
   "metadata": {},
   "outputs": [],
   "source": [
    "sns.pairplot(df[['condition','FScore','normalizedDist2UP','selfAssessment']], kind=\"reg\")"
   ]
  },
  {
   "cell_type": "code",
   "execution_count": null,
   "metadata": {},
   "outputs": [],
   "source": [
    "sns.pairplot(df[['condition','DScore','adjustedIGD','selfAssessment']], kind=\"reg\")"
   ]
  },
  {
   "cell_type": "code",
   "execution_count": null,
   "metadata": {},
   "outputs": [],
   "source": [
    "sns.pairplot(df[['condition','numDesigns','selfAssessment','normalizedIGD']], kind=\"reg\")"
   ]
  },
  {
   "cell_type": "code",
   "execution_count": null,
   "metadata": {},
   "outputs": [],
   "source": [
    "sns.pairplot(df[['condition','adjustedIGD','entropy','selfAssessment']], kind=\"reg\")"
   ]
  },
  {
   "cell_type": "code",
   "execution_count": null,
   "metadata": {},
   "outputs": [],
   "source": [
    "sns.pairplot(df[['condition','confFID','FID','selfAssessment']], kind=\"reg\")"
   ]
  },
  {
   "cell_type": "code",
   "execution_count": null,
   "metadata": {},
   "outputs": [],
   "source": []
  },
  {
   "cell_type": "code",
   "execution_count": null,
   "metadata": {},
   "outputs": [],
   "source": []
  },
  {
   "cell_type": "code",
   "execution_count": null,
   "metadata": {},
   "outputs": [],
   "source": []
  },
  {
   "cell_type": "code",
   "execution_count": null,
   "metadata": {},
   "outputs": [],
   "source": []
  },
  {
   "cell_type": "code",
   "execution_count": null,
   "metadata": {},
   "outputs": [],
   "source": [
    "die here"
   ]
  },
  {
   "cell_type": "code",
   "execution_count": null,
   "metadata": {},
   "outputs": [],
   "source": []
  },
  {
   "cell_type": "code",
   "execution_count": null,
   "metadata": {},
   "outputs": [],
   "source": []
  },
  {
   "cell_type": "markdown",
   "metadata": {},
   "source": [
    "# Figures for learning measure comparison"
   ]
  },
  {
   "cell_type": "code",
   "execution_count": null,
   "metadata": {},
   "outputs": [],
   "source": []
  },
  {
   "cell_type": "code",
   "execution_count": null,
   "metadata": {},
   "outputs": [],
   "source": [
    "# index_implicit = dfRenamed[ dfRenamed[\"type\"] == \"implicit\" ].index\n",
    "# dfRenamed = dfRenamed.drop(index_implicit)"
   ]
  },
  {
   "cell_type": "code",
   "execution_count": 16,
   "metadata": {},
   "outputs": [],
   "source": [
    "dfm = df[['condition','FID','FPWC','FSYN','DID','DPWC','DSYN','CM','SA']].copy()"
   ]
  },
  {
   "cell_type": "code",
   "execution_count": 17,
   "metadata": {},
   "outputs": [],
   "source": [
    "dfconf = df[['condition','FID','confFID','FPWC','confFPWC','FSYN','DID','confDID','DPWC','confDPWC','DSYN','SA']].copy()\n"
   ]
  },
  {
   "cell_type": "code",
   "execution_count": 18,
   "metadata": {},
   "outputs": [
    {
     "data": {
      "text/html": [
       "<div>\n",
       "<style scoped>\n",
       "    .dataframe tbody tr th:only-of-type {\n",
       "        vertical-align: middle;\n",
       "    }\n",
       "\n",
       "    .dataframe tbody tr th {\n",
       "        vertical-align: top;\n",
       "    }\n",
       "\n",
       "    .dataframe thead th {\n",
       "        text-align: right;\n",
       "    }\n",
       "</style>\n",
       "<table border=\"1\" class=\"dataframe\">\n",
       "  <thead>\n",
       "    <tr style=\"text-align: right;\">\n",
       "      <th></th>\n",
       "      <th>condition</th>\n",
       "      <th>FID</th>\n",
       "      <th>FPWC</th>\n",
       "      <th>FSYN</th>\n",
       "      <th>DID</th>\n",
       "      <th>DPWC</th>\n",
       "      <th>DSYN</th>\n",
       "      <th>CM</th>\n",
       "      <th>SA</th>\n",
       "    </tr>\n",
       "  </thead>\n",
       "  <tbody>\n",
       "    <tr>\n",
       "      <td>0</td>\n",
       "      <td>IKE</td>\n",
       "      <td>0.889</td>\n",
       "      <td>0.333</td>\n",
       "      <td>0.175</td>\n",
       "      <td>0.778</td>\n",
       "      <td>0.667</td>\n",
       "      <td>0.706</td>\n",
       "      <td>1.000</td>\n",
       "      <td>0.4</td>\n",
       "    </tr>\n",
       "    <tr>\n",
       "      <td>1</td>\n",
       "      <td>AKE</td>\n",
       "      <td>0.222</td>\n",
       "      <td>0.222</td>\n",
       "      <td>1.000</td>\n",
       "      <td>0.667</td>\n",
       "      <td>0.333</td>\n",
       "      <td>0.297</td>\n",
       "      <td>0.889</td>\n",
       "      <td>0.2</td>\n",
       "    </tr>\n",
       "    <tr>\n",
       "      <td>2</td>\n",
       "      <td>MKE</td>\n",
       "      <td>0.444</td>\n",
       "      <td>0.556</td>\n",
       "      <td>0.213</td>\n",
       "      <td>0.444</td>\n",
       "      <td>0.333</td>\n",
       "      <td>0.511</td>\n",
       "      <td>0.000</td>\n",
       "      <td>0.6</td>\n",
       "    </tr>\n",
       "    <tr>\n",
       "      <td>3</td>\n",
       "      <td>IKE</td>\n",
       "      <td>0.333</td>\n",
       "      <td>0.444</td>\n",
       "      <td>0.610</td>\n",
       "      <td>0.667</td>\n",
       "      <td>0.778</td>\n",
       "      <td>1.000</td>\n",
       "      <td>0.722</td>\n",
       "      <td>0.4</td>\n",
       "    </tr>\n",
       "    <tr>\n",
       "      <td>4</td>\n",
       "      <td>AKE</td>\n",
       "      <td>0.444</td>\n",
       "      <td>0.556</td>\n",
       "      <td>0.846</td>\n",
       "      <td>0.667</td>\n",
       "      <td>0.222</td>\n",
       "      <td>0.000</td>\n",
       "      <td>0.833</td>\n",
       "      <td>0.8</td>\n",
       "    </tr>\n",
       "    <tr>\n",
       "      <td>5</td>\n",
       "      <td>MKE</td>\n",
       "      <td>0.222</td>\n",
       "      <td>0.333</td>\n",
       "      <td>0.000</td>\n",
       "      <td>0.444</td>\n",
       "      <td>0.111</td>\n",
       "      <td>0.213</td>\n",
       "      <td>0.056</td>\n",
       "      <td>0.0</td>\n",
       "    </tr>\n",
       "    <tr>\n",
       "      <td>6</td>\n",
       "      <td>IKE</td>\n",
       "      <td>0.889</td>\n",
       "      <td>0.667</td>\n",
       "      <td>0.503</td>\n",
       "      <td>1.000</td>\n",
       "      <td>0.778</td>\n",
       "      <td>0.328</td>\n",
       "      <td>1.000</td>\n",
       "      <td>1.0</td>\n",
       "    </tr>\n",
       "    <tr>\n",
       "      <td>7</td>\n",
       "      <td>AKE</td>\n",
       "      <td>0.444</td>\n",
       "      <td>0.556</td>\n",
       "      <td>0.225</td>\n",
       "      <td>0.778</td>\n",
       "      <td>0.556</td>\n",
       "      <td>0.507</td>\n",
       "      <td>0.056</td>\n",
       "      <td>0.6</td>\n",
       "    </tr>\n",
       "  </tbody>\n",
       "</table>\n",
       "</div>"
      ],
      "text/plain": [
       "  condition    FID   FPWC   FSYN    DID   DPWC   DSYN     CM   SA\n",
       "0       IKE  0.889  0.333  0.175  0.778  0.667  0.706  1.000  0.4\n",
       "1       AKE  0.222  0.222  1.000  0.667  0.333  0.297  0.889  0.2\n",
       "2       MKE  0.444  0.556  0.213  0.444  0.333  0.511  0.000  0.6\n",
       "3       IKE  0.333  0.444  0.610  0.667  0.778  1.000  0.722  0.4\n",
       "4       AKE  0.444  0.556  0.846  0.667  0.222  0.000  0.833  0.8\n",
       "5       MKE  0.222  0.333  0.000  0.444  0.111  0.213  0.056  0.0\n",
       "6       IKE  0.889  0.667  0.503  1.000  0.778  0.328  1.000  1.0\n",
       "7       AKE  0.444  0.556  0.225  0.778  0.556  0.507  0.056  0.6"
      ]
     },
     "execution_count": 18,
     "metadata": {},
     "output_type": "execute_result"
    }
   ],
   "source": [
    "dfm"
   ]
  },
  {
   "cell_type": "code",
   "execution_count": null,
   "metadata": {},
   "outputs": [],
   "source": []
  },
  {
   "cell_type": "code",
   "execution_count": 34,
   "metadata": {
    "scrolled": true
   },
   "outputs": [],
   "source": [
    "rPearson, pPearson, ciLoPearson, ciHiPearson = utils.calculate_pearsonr(dfm, decimal=2)"
   ]
  },
  {
   "cell_type": "code",
   "execution_count": 35,
   "metadata": {},
   "outputs": [],
   "source": [
    "rSpearman, pSpearman, ciLoSpearman, ciHiSpearman = utils.calculate_spearmanr(dfm, decimal=2)"
   ]
  },
  {
   "cell_type": "code",
   "execution_count": 36,
   "metadata": {},
   "outputs": [
    {
     "data": {
      "text/html": [
       "<div>\n",
       "<style scoped>\n",
       "    .dataframe tbody tr th:only-of-type {\n",
       "        vertical-align: middle;\n",
       "    }\n",
       "\n",
       "    .dataframe tbody tr th {\n",
       "        vertical-align: top;\n",
       "    }\n",
       "\n",
       "    .dataframe thead th {\n",
       "        text-align: right;\n",
       "    }\n",
       "</style>\n",
       "<table border=\"1\" class=\"dataframe\">\n",
       "  <thead>\n",
       "    <tr style=\"text-align: right;\">\n",
       "      <th></th>\n",
       "      <th>FID</th>\n",
       "      <th>FPWC</th>\n",
       "      <th>FSYN</th>\n",
       "      <th>DID</th>\n",
       "      <th>DPWC</th>\n",
       "      <th>DSYN</th>\n",
       "      <th>CM</th>\n",
       "      <th>SA</th>\n",
       "    </tr>\n",
       "  </thead>\n",
       "  <tbody>\n",
       "    <tr>\n",
       "      <td>FID</td>\n",
       "      <td>1</td>\n",
       "      <td>0.42</td>\n",
       "      <td>-0.21</td>\n",
       "      <td>0.71</td>\n",
       "      <td>0.63</td>\n",
       "      <td>0.15</td>\n",
       "      <td>0.49</td>\n",
       "      <td>0.62</td>\n",
       "    </tr>\n",
       "    <tr>\n",
       "      <td>FPWC</td>\n",
       "      <td>0.42</td>\n",
       "      <td>1</td>\n",
       "      <td>-0.1</td>\n",
       "      <td>0.38</td>\n",
       "      <td>0.31</td>\n",
       "      <td>-0.1</td>\n",
       "      <td>-0.12</td>\n",
       "      <td>0.89</td>\n",
       "    </tr>\n",
       "    <tr>\n",
       "      <td>FSYN</td>\n",
       "      <td>-0.21</td>\n",
       "      <td>-0.1</td>\n",
       "      <td>1</td>\n",
       "      <td>0.26</td>\n",
       "      <td>0.02</td>\n",
       "      <td>-0.22</td>\n",
       "      <td>0.62</td>\n",
       "      <td>0.22</td>\n",
       "    </tr>\n",
       "    <tr>\n",
       "      <td>DID</td>\n",
       "      <td>0.71</td>\n",
       "      <td>0.38</td>\n",
       "      <td>0.26</td>\n",
       "      <td>1</td>\n",
       "      <td>0.74</td>\n",
       "      <td>0.09</td>\n",
       "      <td>0.65</td>\n",
       "      <td>0.62</td>\n",
       "    </tr>\n",
       "    <tr>\n",
       "      <td>DPWC</td>\n",
       "      <td>0.63</td>\n",
       "      <td>0.31</td>\n",
       "      <td>0.02</td>\n",
       "      <td>0.74</td>\n",
       "      <td>1</td>\n",
       "      <td>0.71</td>\n",
       "      <td>0.46</td>\n",
       "      <td>0.42</td>\n",
       "    </tr>\n",
       "    <tr>\n",
       "      <td>DSYN</td>\n",
       "      <td>0.15</td>\n",
       "      <td>-0.1</td>\n",
       "      <td>-0.22</td>\n",
       "      <td>0.09</td>\n",
       "      <td>0.71</td>\n",
       "      <td>1</td>\n",
       "      <td>0.03</td>\n",
       "      <td>-0.14</td>\n",
       "    </tr>\n",
       "    <tr>\n",
       "      <td>CM</td>\n",
       "      <td>0.49</td>\n",
       "      <td>-0.12</td>\n",
       "      <td>0.62</td>\n",
       "      <td>0.65</td>\n",
       "      <td>0.46</td>\n",
       "      <td>0.03</td>\n",
       "      <td>1</td>\n",
       "      <td>0.29</td>\n",
       "    </tr>\n",
       "    <tr>\n",
       "      <td>SA</td>\n",
       "      <td>0.62</td>\n",
       "      <td>0.89</td>\n",
       "      <td>0.22</td>\n",
       "      <td>0.62</td>\n",
       "      <td>0.42</td>\n",
       "      <td>-0.14</td>\n",
       "      <td>0.29</td>\n",
       "      <td>1</td>\n",
       "    </tr>\n",
       "  </tbody>\n",
       "</table>\n",
       "</div>"
      ],
      "text/plain": [
       "       FID  FPWC  FSYN   DID  DPWC  DSYN    CM    SA\n",
       "FID      1  0.42 -0.21  0.71  0.63  0.15  0.49  0.62\n",
       "FPWC  0.42     1  -0.1  0.38  0.31  -0.1 -0.12  0.89\n",
       "FSYN -0.21  -0.1     1  0.26  0.02 -0.22  0.62  0.22\n",
       "DID   0.71  0.38  0.26     1  0.74  0.09  0.65  0.62\n",
       "DPWC  0.63  0.31  0.02  0.74     1  0.71  0.46  0.42\n",
       "DSYN  0.15  -0.1 -0.22  0.09  0.71     1  0.03 -0.14\n",
       "CM    0.49 -0.12  0.62  0.65  0.46  0.03     1  0.29\n",
       "SA    0.62  0.89  0.22  0.62  0.42 -0.14  0.29     1"
      ]
     },
     "execution_count": 36,
     "metadata": {},
     "output_type": "execute_result"
    }
   ],
   "source": [
    "rPearson"
   ]
  },
  {
   "cell_type": "code",
   "execution_count": 37,
   "metadata": {},
   "outputs": [
    {
     "data": {
      "text/html": [
       "<div>\n",
       "<style scoped>\n",
       "    .dataframe tbody tr th:only-of-type {\n",
       "        vertical-align: middle;\n",
       "    }\n",
       "\n",
       "    .dataframe tbody tr th {\n",
       "        vertical-align: top;\n",
       "    }\n",
       "\n",
       "    .dataframe thead th {\n",
       "        text-align: right;\n",
       "    }\n",
       "</style>\n",
       "<table border=\"1\" class=\"dataframe\">\n",
       "  <thead>\n",
       "    <tr style=\"text-align: right;\">\n",
       "      <th></th>\n",
       "      <th>FID</th>\n",
       "      <th>FPWC</th>\n",
       "      <th>FSYN</th>\n",
       "      <th>DID</th>\n",
       "      <th>DPWC</th>\n",
       "      <th>DSYN</th>\n",
       "      <th>CM</th>\n",
       "      <th>SA</th>\n",
       "    </tr>\n",
       "  </thead>\n",
       "  <tbody>\n",
       "    <tr>\n",
       "      <td>FID</td>\n",
       "      <td>0</td>\n",
       "      <td>0.15</td>\n",
       "      <td>0.31</td>\n",
       "      <td>0.025</td>\n",
       "      <td>0.05</td>\n",
       "      <td>0.36</td>\n",
       "      <td>0.11</td>\n",
       "      <td>0.05</td>\n",
       "    </tr>\n",
       "    <tr>\n",
       "      <td>FPWC</td>\n",
       "      <td>0.15</td>\n",
       "      <td>0</td>\n",
       "      <td>0.41</td>\n",
       "      <td>0.18</td>\n",
       "      <td>0.23</td>\n",
       "      <td>0.41</td>\n",
       "      <td>0.39</td>\n",
       "      <td>0</td>\n",
       "    </tr>\n",
       "    <tr>\n",
       "      <td>FSYN</td>\n",
       "      <td>0.31</td>\n",
       "      <td>0.41</td>\n",
       "      <td>0</td>\n",
       "      <td>0.27</td>\n",
       "      <td>0.48</td>\n",
       "      <td>0.295</td>\n",
       "      <td>0.05</td>\n",
       "      <td>0.305</td>\n",
       "    </tr>\n",
       "    <tr>\n",
       "      <td>DID</td>\n",
       "      <td>0.025</td>\n",
       "      <td>0.18</td>\n",
       "      <td>0.27</td>\n",
       "      <td>0</td>\n",
       "      <td>0.015</td>\n",
       "      <td>0.42</td>\n",
       "      <td>0.04</td>\n",
       "      <td>0.05</td>\n",
       "    </tr>\n",
       "    <tr>\n",
       "      <td>DPWC</td>\n",
       "      <td>0.05</td>\n",
       "      <td>0.23</td>\n",
       "      <td>0.48</td>\n",
       "      <td>0.015</td>\n",
       "      <td>0</td>\n",
       "      <td>0.025</td>\n",
       "      <td>0.125</td>\n",
       "      <td>0.15</td>\n",
       "    </tr>\n",
       "    <tr>\n",
       "      <td>DSYN</td>\n",
       "      <td>0.36</td>\n",
       "      <td>0.41</td>\n",
       "      <td>0.295</td>\n",
       "      <td>0.42</td>\n",
       "      <td>0.025</td>\n",
       "      <td>0</td>\n",
       "      <td>0.47</td>\n",
       "      <td>0.365</td>\n",
       "    </tr>\n",
       "    <tr>\n",
       "      <td>CM</td>\n",
       "      <td>0.11</td>\n",
       "      <td>0.39</td>\n",
       "      <td>0.05</td>\n",
       "      <td>0.04</td>\n",
       "      <td>0.125</td>\n",
       "      <td>0.47</td>\n",
       "      <td>0</td>\n",
       "      <td>0.245</td>\n",
       "    </tr>\n",
       "    <tr>\n",
       "      <td>SA</td>\n",
       "      <td>0.05</td>\n",
       "      <td>0</td>\n",
       "      <td>0.305</td>\n",
       "      <td>0.05</td>\n",
       "      <td>0.15</td>\n",
       "      <td>0.365</td>\n",
       "      <td>0.245</td>\n",
       "      <td>0</td>\n",
       "    </tr>\n",
       "  </tbody>\n",
       "</table>\n",
       "</div>"
      ],
      "text/plain": [
       "        FID  FPWC   FSYN    DID   DPWC   DSYN     CM     SA\n",
       "FID       0  0.15   0.31  0.025   0.05   0.36   0.11   0.05\n",
       "FPWC   0.15     0   0.41   0.18   0.23   0.41   0.39      0\n",
       "FSYN   0.31  0.41      0   0.27   0.48  0.295   0.05  0.305\n",
       "DID   0.025  0.18   0.27      0  0.015   0.42   0.04   0.05\n",
       "DPWC   0.05  0.23   0.48  0.015      0  0.025  0.125   0.15\n",
       "DSYN   0.36  0.41  0.295   0.42  0.025      0   0.47  0.365\n",
       "CM     0.11  0.39   0.05   0.04  0.125   0.47      0  0.245\n",
       "SA     0.05     0  0.305   0.05   0.15  0.365  0.245      0"
      ]
     },
     "execution_count": 37,
     "metadata": {},
     "output_type": "execute_result"
    }
   ],
   "source": [
    "pPearson / 2"
   ]
  },
  {
   "cell_type": "code",
   "execution_count": 38,
   "metadata": {},
   "outputs": [
    {
     "data": {
      "text/html": [
       "<div>\n",
       "<style scoped>\n",
       "    .dataframe tbody tr th:only-of-type {\n",
       "        vertical-align: middle;\n",
       "    }\n",
       "\n",
       "    .dataframe tbody tr th {\n",
       "        vertical-align: top;\n",
       "    }\n",
       "\n",
       "    .dataframe thead th {\n",
       "        text-align: right;\n",
       "    }\n",
       "</style>\n",
       "<table border=\"1\" class=\"dataframe\">\n",
       "  <thead>\n",
       "    <tr style=\"text-align: right;\">\n",
       "      <th></th>\n",
       "      <th>FID</th>\n",
       "      <th>FPWC</th>\n",
       "      <th>FSYN</th>\n",
       "      <th>DID</th>\n",
       "      <th>DPWC</th>\n",
       "      <th>DSYN</th>\n",
       "      <th>CM</th>\n",
       "      <th>SA</th>\n",
       "    </tr>\n",
       "  </thead>\n",
       "  <tbody>\n",
       "    <tr>\n",
       "      <td>FID</td>\n",
       "      <td>0</td>\n",
       "      <td>0.4</td>\n",
       "      <td>-0.24</td>\n",
       "      <td>0.7</td>\n",
       "      <td>0.61</td>\n",
       "      <td>0.12</td>\n",
       "      <td>0.47</td>\n",
       "      <td>0.6</td>\n",
       "    </tr>\n",
       "    <tr>\n",
       "      <td>FPWC</td>\n",
       "      <td>0.4</td>\n",
       "      <td>0</td>\n",
       "      <td>-0.13</td>\n",
       "      <td>0.35</td>\n",
       "      <td>0.28</td>\n",
       "      <td>-0.13</td>\n",
       "      <td>-0.15</td>\n",
       "      <td>0.88</td>\n",
       "    </tr>\n",
       "    <tr>\n",
       "      <td>FSYN</td>\n",
       "      <td>-0.24</td>\n",
       "      <td>-0.13</td>\n",
       "      <td>0</td>\n",
       "      <td>0.23</td>\n",
       "      <td>-0.01</td>\n",
       "      <td>-0.25</td>\n",
       "      <td>0.6</td>\n",
       "      <td>0.19</td>\n",
       "    </tr>\n",
       "    <tr>\n",
       "      <td>DID</td>\n",
       "      <td>0.7</td>\n",
       "      <td>0.35</td>\n",
       "      <td>0.23</td>\n",
       "      <td>0</td>\n",
       "      <td>0.73</td>\n",
       "      <td>0.06</td>\n",
       "      <td>0.64</td>\n",
       "      <td>0.61</td>\n",
       "    </tr>\n",
       "    <tr>\n",
       "      <td>DPWC</td>\n",
       "      <td>0.61</td>\n",
       "      <td>0.28</td>\n",
       "      <td>-0.01</td>\n",
       "      <td>0.73</td>\n",
       "      <td>0</td>\n",
       "      <td>0.7</td>\n",
       "      <td>0.44</td>\n",
       "      <td>0.4</td>\n",
       "    </tr>\n",
       "    <tr>\n",
       "      <td>DSYN</td>\n",
       "      <td>0.12</td>\n",
       "      <td>-0.13</td>\n",
       "      <td>-0.25</td>\n",
       "      <td>0.06</td>\n",
       "      <td>0.7</td>\n",
       "      <td>0</td>\n",
       "      <td>0</td>\n",
       "      <td>-0.17</td>\n",
       "    </tr>\n",
       "    <tr>\n",
       "      <td>CM</td>\n",
       "      <td>0.47</td>\n",
       "      <td>-0.15</td>\n",
       "      <td>0.6</td>\n",
       "      <td>0.64</td>\n",
       "      <td>0.44</td>\n",
       "      <td>0</td>\n",
       "      <td>0</td>\n",
       "      <td>0.26</td>\n",
       "    </tr>\n",
       "    <tr>\n",
       "      <td>SA</td>\n",
       "      <td>0.6</td>\n",
       "      <td>0.88</td>\n",
       "      <td>0.19</td>\n",
       "      <td>0.61</td>\n",
       "      <td>0.4</td>\n",
       "      <td>-0.17</td>\n",
       "      <td>0.26</td>\n",
       "      <td>0</td>\n",
       "    </tr>\n",
       "  </tbody>\n",
       "</table>\n",
       "</div>"
      ],
      "text/plain": [
       "       FID  FPWC  FSYN   DID  DPWC  DSYN    CM    SA\n",
       "FID      0   0.4 -0.24   0.7  0.61  0.12  0.47   0.6\n",
       "FPWC   0.4     0 -0.13  0.35  0.28 -0.13 -0.15  0.88\n",
       "FSYN -0.24 -0.13     0  0.23 -0.01 -0.25   0.6  0.19\n",
       "DID    0.7  0.35  0.23     0  0.73  0.06  0.64  0.61\n",
       "DPWC  0.61  0.28 -0.01  0.73     0   0.7  0.44   0.4\n",
       "DSYN  0.12 -0.13 -0.25  0.06   0.7     0     0 -0.17\n",
       "CM    0.47 -0.15   0.6  0.64  0.44     0     0  0.26\n",
       "SA     0.6  0.88  0.19  0.61   0.4 -0.17  0.26     0"
      ]
     },
     "execution_count": 38,
     "metadata": {},
     "output_type": "execute_result"
    }
   ],
   "source": [
    "ciLoPearson"
   ]
  },
  {
   "cell_type": "code",
   "execution_count": 39,
   "metadata": {},
   "outputs": [
    {
     "data": {
      "text/html": [
       "<div>\n",
       "<style scoped>\n",
       "    .dataframe tbody tr th:only-of-type {\n",
       "        vertical-align: middle;\n",
       "    }\n",
       "\n",
       "    .dataframe tbody tr th {\n",
       "        vertical-align: top;\n",
       "    }\n",
       "\n",
       "    .dataframe thead th {\n",
       "        text-align: right;\n",
       "    }\n",
       "</style>\n",
       "<table border=\"1\" class=\"dataframe\">\n",
       "  <thead>\n",
       "    <tr style=\"text-align: right;\">\n",
       "      <th></th>\n",
       "      <th>FID</th>\n",
       "      <th>FPWC</th>\n",
       "      <th>FSYN</th>\n",
       "      <th>DID</th>\n",
       "      <th>DPWC</th>\n",
       "      <th>DSYN</th>\n",
       "      <th>CM</th>\n",
       "      <th>SA</th>\n",
       "    </tr>\n",
       "  </thead>\n",
       "  <tbody>\n",
       "    <tr>\n",
       "      <td>FID</td>\n",
       "      <td>0</td>\n",
       "      <td>0.45</td>\n",
       "      <td>-0.18</td>\n",
       "      <td>0.73</td>\n",
       "      <td>0.64</td>\n",
       "      <td>0.18</td>\n",
       "      <td>0.51</td>\n",
       "      <td>0.63</td>\n",
       "    </tr>\n",
       "    <tr>\n",
       "      <td>FPWC</td>\n",
       "      <td>0.45</td>\n",
       "      <td>0</td>\n",
       "      <td>-0.07</td>\n",
       "      <td>0.4</td>\n",
       "      <td>0.33</td>\n",
       "      <td>-0.07</td>\n",
       "      <td>-0.09</td>\n",
       "      <td>0.89</td>\n",
       "    </tr>\n",
       "    <tr>\n",
       "      <td>FSYN</td>\n",
       "      <td>-0.18</td>\n",
       "      <td>-0.07</td>\n",
       "      <td>0</td>\n",
       "      <td>0.28</td>\n",
       "      <td>0.05</td>\n",
       "      <td>-0.2</td>\n",
       "      <td>0.64</td>\n",
       "      <td>0.24</td>\n",
       "    </tr>\n",
       "    <tr>\n",
       "      <td>DID</td>\n",
       "      <td>0.73</td>\n",
       "      <td>0.4</td>\n",
       "      <td>0.28</td>\n",
       "      <td>0</td>\n",
       "      <td>0.75</td>\n",
       "      <td>0.11</td>\n",
       "      <td>0.67</td>\n",
       "      <td>0.64</td>\n",
       "    </tr>\n",
       "    <tr>\n",
       "      <td>DPWC</td>\n",
       "      <td>0.64</td>\n",
       "      <td>0.33</td>\n",
       "      <td>0.05</td>\n",
       "      <td>0.75</td>\n",
       "      <td>0</td>\n",
       "      <td>0.72</td>\n",
       "      <td>0.48</td>\n",
       "      <td>0.45</td>\n",
       "    </tr>\n",
       "    <tr>\n",
       "      <td>DSYN</td>\n",
       "      <td>0.18</td>\n",
       "      <td>-0.07</td>\n",
       "      <td>-0.2</td>\n",
       "      <td>0.11</td>\n",
       "      <td>0.72</td>\n",
       "      <td>0</td>\n",
       "      <td>0.06</td>\n",
       "      <td>-0.12</td>\n",
       "    </tr>\n",
       "    <tr>\n",
       "      <td>CM</td>\n",
       "      <td>0.51</td>\n",
       "      <td>-0.09</td>\n",
       "      <td>0.64</td>\n",
       "      <td>0.67</td>\n",
       "      <td>0.48</td>\n",
       "      <td>0.06</td>\n",
       "      <td>0</td>\n",
       "      <td>0.31</td>\n",
       "    </tr>\n",
       "    <tr>\n",
       "      <td>SA</td>\n",
       "      <td>0.63</td>\n",
       "      <td>0.89</td>\n",
       "      <td>0.24</td>\n",
       "      <td>0.64</td>\n",
       "      <td>0.45</td>\n",
       "      <td>-0.12</td>\n",
       "      <td>0.31</td>\n",
       "      <td>0</td>\n",
       "    </tr>\n",
       "  </tbody>\n",
       "</table>\n",
       "</div>"
      ],
      "text/plain": [
       "       FID  FPWC  FSYN   DID  DPWC  DSYN    CM    SA\n",
       "FID      0  0.45 -0.18  0.73  0.64  0.18  0.51  0.63\n",
       "FPWC  0.45     0 -0.07   0.4  0.33 -0.07 -0.09  0.89\n",
       "FSYN -0.18 -0.07     0  0.28  0.05  -0.2  0.64  0.24\n",
       "DID   0.73   0.4  0.28     0  0.75  0.11  0.67  0.64\n",
       "DPWC  0.64  0.33  0.05  0.75     0  0.72  0.48  0.45\n",
       "DSYN  0.18 -0.07  -0.2  0.11  0.72     0  0.06 -0.12\n",
       "CM    0.51 -0.09  0.64  0.67  0.48  0.06     0  0.31\n",
       "SA    0.63  0.89  0.24  0.64  0.45 -0.12  0.31     0"
      ]
     },
     "execution_count": 39,
     "metadata": {},
     "output_type": "execute_result"
    }
   ],
   "source": [
    "ciHiPearson"
   ]
  },
  {
   "cell_type": "code",
   "execution_count": 31,
   "metadata": {
    "scrolled": true
   },
   "outputs": [
    {
     "data": {
      "text/html": [
       "<div>\n",
       "<style scoped>\n",
       "    .dataframe tbody tr th:only-of-type {\n",
       "        vertical-align: middle;\n",
       "    }\n",
       "\n",
       "    .dataframe tbody tr th {\n",
       "        vertical-align: top;\n",
       "    }\n",
       "\n",
       "    .dataframe thead th {\n",
       "        text-align: right;\n",
       "    }\n",
       "</style>\n",
       "<table border=\"1\" class=\"dataframe\">\n",
       "  <thead>\n",
       "    <tr style=\"text-align: right;\">\n",
       "      <th></th>\n",
       "      <th>FID</th>\n",
       "      <th>FPWC</th>\n",
       "      <th>FSYN</th>\n",
       "      <th>DID</th>\n",
       "      <th>DPWC</th>\n",
       "      <th>DSYN</th>\n",
       "      <th>CM</th>\n",
       "      <th>SA</th>\n",
       "    </tr>\n",
       "  </thead>\n",
       "  <tbody>\n",
       "    <tr>\n",
       "      <td>FID</td>\n",
       "      <td>1</td>\n",
       "      <td>0.611</td>\n",
       "      <td>-0.198</td>\n",
       "      <td>0.692</td>\n",
       "      <td>0.525</td>\n",
       "      <td>0.296</td>\n",
       "      <td>0.444</td>\n",
       "      <td>0.731</td>\n",
       "    </tr>\n",
       "    <tr>\n",
       "      <td>FPWC</td>\n",
       "      <td>0.611</td>\n",
       "      <td>1</td>\n",
       "      <td>0.037</td>\n",
       "      <td>0.357</td>\n",
       "      <td>0.298</td>\n",
       "      <td>-0.012</td>\n",
       "      <td>-0.099</td>\n",
       "      <td>0.926</td>\n",
       "    </tr>\n",
       "    <tr>\n",
       "      <td>FSYN</td>\n",
       "      <td>-0.198</td>\n",
       "      <td>0.037</td>\n",
       "      <td>1</td>\n",
       "      <td>0.173</td>\n",
       "      <td>0.145</td>\n",
       "      <td>-0.214</td>\n",
       "      <td>0.313</td>\n",
       "      <td>0.253</td>\n",
       "    </tr>\n",
       "    <tr>\n",
       "      <td>DID</td>\n",
       "      <td>0.692</td>\n",
       "      <td>0.357</td>\n",
       "      <td>0.173</td>\n",
       "      <td>1</td>\n",
       "      <td>0.706</td>\n",
       "      <td>0.198</td>\n",
       "      <td>0.706</td>\n",
       "      <td>0.506</td>\n",
       "    </tr>\n",
       "    <tr>\n",
       "      <td>DPWC</td>\n",
       "      <td>0.525</td>\n",
       "      <td>0.298</td>\n",
       "      <td>0.145</td>\n",
       "      <td>0.706</td>\n",
       "      <td>1</td>\n",
       "      <td>0.735</td>\n",
       "      <td>0.457</td>\n",
       "      <td>0.341</td>\n",
       "    </tr>\n",
       "    <tr>\n",
       "      <td>DSYN</td>\n",
       "      <td>0.296</td>\n",
       "      <td>-0.012</td>\n",
       "      <td>-0.214</td>\n",
       "      <td>0.198</td>\n",
       "      <td>0.735</td>\n",
       "      <td>1</td>\n",
       "      <td>-0.024</td>\n",
       "      <td>-0.048</td>\n",
       "    </tr>\n",
       "    <tr>\n",
       "      <td>CM</td>\n",
       "      <td>0.444</td>\n",
       "      <td>-0.099</td>\n",
       "      <td>0.313</td>\n",
       "      <td>0.706</td>\n",
       "      <td>0.457</td>\n",
       "      <td>-0.024</td>\n",
       "      <td>1</td>\n",
       "      <td>0.171</td>\n",
       "    </tr>\n",
       "    <tr>\n",
       "      <td>SA</td>\n",
       "      <td>0.731</td>\n",
       "      <td>0.926</td>\n",
       "      <td>0.253</td>\n",
       "      <td>0.506</td>\n",
       "      <td>0.341</td>\n",
       "      <td>-0.048</td>\n",
       "      <td>0.171</td>\n",
       "      <td>1</td>\n",
       "    </tr>\n",
       "  </tbody>\n",
       "</table>\n",
       "</div>"
      ],
      "text/plain": [
       "        FID   FPWC   FSYN    DID   DPWC   DSYN     CM     SA\n",
       "FID       1  0.611 -0.198  0.692  0.525  0.296  0.444  0.731\n",
       "FPWC  0.611      1  0.037  0.357  0.298 -0.012 -0.099  0.926\n",
       "FSYN -0.198  0.037      1  0.173  0.145 -0.214  0.313  0.253\n",
       "DID   0.692  0.357  0.173      1  0.706  0.198  0.706  0.506\n",
       "DPWC  0.525  0.298  0.145  0.706      1  0.735  0.457  0.341\n",
       "DSYN  0.296 -0.012 -0.214  0.198  0.735      1 -0.024 -0.048\n",
       "CM    0.444 -0.099  0.313  0.706  0.457 -0.024      1  0.171\n",
       "SA    0.731  0.926  0.253  0.506  0.341 -0.048  0.171      1"
      ]
     },
     "execution_count": 31,
     "metadata": {},
     "output_type": "execute_result"
    }
   ],
   "source": [
    "rSpearman"
   ]
  },
  {
   "cell_type": "code",
   "execution_count": 32,
   "metadata": {},
   "outputs": [
    {
     "data": {
      "text/html": [
       "<div>\n",
       "<style scoped>\n",
       "    .dataframe tbody tr th:only-of-type {\n",
       "        vertical-align: middle;\n",
       "    }\n",
       "\n",
       "    .dataframe tbody tr th {\n",
       "        vertical-align: top;\n",
       "    }\n",
       "\n",
       "    .dataframe thead th {\n",
       "        text-align: right;\n",
       "    }\n",
       "</style>\n",
       "<table border=\"1\" class=\"dataframe\">\n",
       "  <thead>\n",
       "    <tr style=\"text-align: right;\">\n",
       "      <th></th>\n",
       "      <th>FID</th>\n",
       "      <th>FPWC</th>\n",
       "      <th>FSYN</th>\n",
       "      <th>DID</th>\n",
       "      <th>DPWC</th>\n",
       "      <th>DSYN</th>\n",
       "      <th>CM</th>\n",
       "      <th>SA</th>\n",
       "    </tr>\n",
       "  </thead>\n",
       "  <tbody>\n",
       "    <tr>\n",
       "      <td>FID</td>\n",
       "      <td>0</td>\n",
       "      <td>0.0535</td>\n",
       "      <td>0.3195</td>\n",
       "      <td>0.0285</td>\n",
       "      <td>0.0905</td>\n",
       "      <td>0.238</td>\n",
       "      <td>0.1355</td>\n",
       "      <td>0.0195</td>\n",
       "    </tr>\n",
       "    <tr>\n",
       "      <td>FPWC</td>\n",
       "      <td>0.0535</td>\n",
       "      <td>0</td>\n",
       "      <td>0.4655</td>\n",
       "      <td>0.193</td>\n",
       "      <td>0.2365</td>\n",
       "      <td>0.4885</td>\n",
       "      <td>0.4075</td>\n",
       "      <td>0.0005</td>\n",
       "    </tr>\n",
       "    <tr>\n",
       "      <td>FSYN</td>\n",
       "      <td>0.3195</td>\n",
       "      <td>0.4655</td>\n",
       "      <td>0</td>\n",
       "      <td>0.341</td>\n",
       "      <td>0.3665</td>\n",
       "      <td>0.305</td>\n",
       "      <td>0.225</td>\n",
       "      <td>0.2725</td>\n",
       "    </tr>\n",
       "    <tr>\n",
       "      <td>DID</td>\n",
       "      <td>0.0285</td>\n",
       "      <td>0.193</td>\n",
       "      <td>0.341</td>\n",
       "      <td>0</td>\n",
       "      <td>0.025</td>\n",
       "      <td>0.3195</td>\n",
       "      <td>0.025</td>\n",
       "      <td>0.1</td>\n",
       "    </tr>\n",
       "    <tr>\n",
       "      <td>DPWC</td>\n",
       "      <td>0.0905</td>\n",
       "      <td>0.2365</td>\n",
       "      <td>0.3665</td>\n",
       "      <td>0.025</td>\n",
       "      <td>0</td>\n",
       "      <td>0.019</td>\n",
       "      <td>0.1275</td>\n",
       "      <td>0.204</td>\n",
       "    </tr>\n",
       "    <tr>\n",
       "      <td>DSYN</td>\n",
       "      <td>0.238</td>\n",
       "      <td>0.4885</td>\n",
       "      <td>0.305</td>\n",
       "      <td>0.3195</td>\n",
       "      <td>0.019</td>\n",
       "      <td>0</td>\n",
       "      <td>0.4775</td>\n",
       "      <td>0.455</td>\n",
       "    </tr>\n",
       "    <tr>\n",
       "      <td>CM</td>\n",
       "      <td>0.1355</td>\n",
       "      <td>0.4075</td>\n",
       "      <td>0.225</td>\n",
       "      <td>0.025</td>\n",
       "      <td>0.1275</td>\n",
       "      <td>0.4775</td>\n",
       "      <td>0</td>\n",
       "      <td>0.343</td>\n",
       "    </tr>\n",
       "    <tr>\n",
       "      <td>SA</td>\n",
       "      <td>0.0195</td>\n",
       "      <td>0.0005</td>\n",
       "      <td>0.2725</td>\n",
       "      <td>0.1</td>\n",
       "      <td>0.204</td>\n",
       "      <td>0.455</td>\n",
       "      <td>0.343</td>\n",
       "      <td>0</td>\n",
       "    </tr>\n",
       "  </tbody>\n",
       "</table>\n",
       "</div>"
      ],
      "text/plain": [
       "         FID    FPWC    FSYN     DID    DPWC    DSYN      CM      SA\n",
       "FID        0  0.0535  0.3195  0.0285  0.0905   0.238  0.1355  0.0195\n",
       "FPWC  0.0535       0  0.4655   0.193  0.2365  0.4885  0.4075  0.0005\n",
       "FSYN  0.3195  0.4655       0   0.341  0.3665   0.305   0.225  0.2725\n",
       "DID   0.0285   0.193   0.341       0   0.025  0.3195   0.025     0.1\n",
       "DPWC  0.0905  0.2365  0.3665   0.025       0   0.019  0.1275   0.204\n",
       "DSYN   0.238  0.4885   0.305  0.3195   0.019       0  0.4775   0.455\n",
       "CM    0.1355  0.4075   0.225   0.025  0.1275  0.4775       0   0.343\n",
       "SA    0.0195  0.0005  0.2725     0.1   0.204   0.455   0.343       0"
      ]
     },
     "execution_count": 32,
     "metadata": {},
     "output_type": "execute_result"
    }
   ],
   "source": [
    "pSpearman / 2"
   ]
  },
  {
   "cell_type": "code",
   "execution_count": 33,
   "metadata": {},
   "outputs": [
    {
     "data": {
      "text/html": [
       "<div>\n",
       "<style scoped>\n",
       "    .dataframe tbody tr th:only-of-type {\n",
       "        vertical-align: middle;\n",
       "    }\n",
       "\n",
       "    .dataframe tbody tr th {\n",
       "        vertical-align: top;\n",
       "    }\n",
       "\n",
       "    .dataframe thead th {\n",
       "        text-align: right;\n",
       "    }\n",
       "</style>\n",
       "<table border=\"1\" class=\"dataframe\">\n",
       "  <thead>\n",
       "    <tr style=\"text-align: right;\">\n",
       "      <th></th>\n",
       "      <th>FID</th>\n",
       "      <th>FPWC</th>\n",
       "      <th>FSYN</th>\n",
       "      <th>DID</th>\n",
       "      <th>DPWC</th>\n",
       "      <th>DSYN</th>\n",
       "      <th>CM</th>\n",
       "      <th>SA</th>\n",
       "    </tr>\n",
       "  </thead>\n",
       "  <tbody>\n",
       "    <tr>\n",
       "      <td>FID</td>\n",
       "      <td>0</td>\n",
       "      <td>-0.164</td>\n",
       "      <td>-0.792</td>\n",
       "      <td>-0.024</td>\n",
       "      <td>-0.285</td>\n",
       "      <td>-0.516</td>\n",
       "      <td>-0.379</td>\n",
       "      <td>0.055</td>\n",
       "    </tr>\n",
       "    <tr>\n",
       "      <td>FPWC</td>\n",
       "      <td>-0.164</td>\n",
       "      <td>0</td>\n",
       "      <td>-0.686</td>\n",
       "      <td>-0.465</td>\n",
       "      <td>-0.515</td>\n",
       "      <td>-0.711</td>\n",
       "      <td>-0.751</td>\n",
       "      <td>0.635</td>\n",
       "    </tr>\n",
       "    <tr>\n",
       "      <td>FSYN</td>\n",
       "      <td>-0.792</td>\n",
       "      <td>-0.686</td>\n",
       "      <td>0</td>\n",
       "      <td>-0.606</td>\n",
       "      <td>-0.624</td>\n",
       "      <td>-0.798</td>\n",
       "      <td>-0.502</td>\n",
       "      <td>-0.55</td>\n",
       "    </tr>\n",
       "    <tr>\n",
       "      <td>DID</td>\n",
       "      <td>-0.024</td>\n",
       "      <td>-0.465</td>\n",
       "      <td>-0.606</td>\n",
       "      <td>0</td>\n",
       "      <td>0.004</td>\n",
       "      <td>-0.589</td>\n",
       "      <td>0.004</td>\n",
       "      <td>-0.308</td>\n",
       "    </tr>\n",
       "    <tr>\n",
       "      <td>DPWC</td>\n",
       "      <td>-0.285</td>\n",
       "      <td>-0.515</td>\n",
       "      <td>-0.624</td>\n",
       "      <td>0.004</td>\n",
       "      <td>0</td>\n",
       "      <td>0.063</td>\n",
       "      <td>-0.365</td>\n",
       "      <td>-0.478</td>\n",
       "    </tr>\n",
       "    <tr>\n",
       "      <td>DSYN</td>\n",
       "      <td>-0.516</td>\n",
       "      <td>-0.711</td>\n",
       "      <td>-0.798</td>\n",
       "      <td>-0.589</td>\n",
       "      <td>0.063</td>\n",
       "      <td>0</td>\n",
       "      <td>-0.717</td>\n",
       "      <td>-0.728</td>\n",
       "    </tr>\n",
       "    <tr>\n",
       "      <td>CM</td>\n",
       "      <td>-0.379</td>\n",
       "      <td>-0.751</td>\n",
       "      <td>-0.502</td>\n",
       "      <td>0.004</td>\n",
       "      <td>-0.365</td>\n",
       "      <td>-0.717</td>\n",
       "      <td>0</td>\n",
       "      <td>-0.607</td>\n",
       "    </tr>\n",
       "    <tr>\n",
       "      <td>SA</td>\n",
       "      <td>0.055</td>\n",
       "      <td>0.635</td>\n",
       "      <td>-0.55</td>\n",
       "      <td>-0.308</td>\n",
       "      <td>-0.478</td>\n",
       "      <td>-0.728</td>\n",
       "      <td>-0.607</td>\n",
       "      <td>0</td>\n",
       "    </tr>\n",
       "  </tbody>\n",
       "</table>\n",
       "</div>"
      ],
      "text/plain": [
       "        FID   FPWC   FSYN    DID   DPWC   DSYN     CM     SA\n",
       "FID       0 -0.164 -0.792 -0.024 -0.285 -0.516 -0.379  0.055\n",
       "FPWC -0.164      0 -0.686 -0.465 -0.515 -0.711 -0.751  0.635\n",
       "FSYN -0.792 -0.686      0 -0.606 -0.624 -0.798 -0.502  -0.55\n",
       "DID  -0.024 -0.465 -0.606      0  0.004 -0.589  0.004 -0.308\n",
       "DPWC -0.285 -0.515 -0.624  0.004      0  0.063 -0.365 -0.478\n",
       "DSYN -0.516 -0.711 -0.798 -0.589  0.063      0 -0.717 -0.728\n",
       "CM   -0.379 -0.751 -0.502  0.004 -0.365 -0.717      0 -0.607\n",
       "SA    0.055  0.635  -0.55 -0.308 -0.478 -0.728 -0.607      0"
      ]
     },
     "execution_count": 33,
     "metadata": {},
     "output_type": "execute_result"
    }
   ],
   "source": [
    "ciLoSpearman"
   ]
  },
  {
   "cell_type": "code",
   "execution_count": null,
   "metadata": {},
   "outputs": [],
   "source": [
    "ciHiSpearman"
   ]
  },
  {
   "cell_type": "code",
   "execution_count": null,
   "metadata": {},
   "outputs": [],
   "source": []
  },
  {
   "cell_type": "code",
   "execution_count": null,
   "metadata": {},
   "outputs": [],
   "source": []
  },
  {
   "cell_type": "code",
   "execution_count": null,
   "metadata": {},
   "outputs": [],
   "source": [
    "from scipy.stats import pearsonr, spearmanr\n",
    "\n",
    "print(pearsonr(dfconf[\"FID\"],dfconf[\"confFID\"]))\n",
    "print(pearsonr(dfconf[\"FPWC\"],dfconf[\"confFPWC\"]))\n",
    "print(pearsonr(dfconf[\"DID\"],dfconf[\"confDID\"]))\n",
    "print(pearsonr(dfconf[\"DPWC\"],dfconf[\"confDPWC\"]))\n",
    "print()\n",
    "\n",
    "print(spearmanr(dfconf[\"FID\"],dfconf[\"confFID\"]))\n",
    "print(spearmanr(dfconf[\"FPWC\"],dfconf[\"confFPWC\"]))\n",
    "print(spearmanr(dfconf[\"DID\"],dfconf[\"confDID\"]))\n",
    "print(spearmanr(dfconf[\"DPWC\"],dfconf[\"confDPWC\"]))"
   ]
  },
  {
   "cell_type": "code",
   "execution_count": null,
   "metadata": {},
   "outputs": [],
   "source": [
    "sns.regplot(x=\"confFPWC\", y=\"FPWC\", data=dfconf, ci=95)"
   ]
  },
  {
   "cell_type": "code",
   "execution_count": null,
   "metadata": {},
   "outputs": [],
   "source": [
    "rPearson"
   ]
  },
  {
   "cell_type": "code",
   "execution_count": null,
   "metadata": {},
   "outputs": [],
   "source": []
  },
  {
   "cell_type": "code",
   "execution_count": null,
   "metadata": {},
   "outputs": [],
   "source": [
    "x=\"CM\"\n",
    "y=\"SA\"\n",
    "sns.regplot(x=x, y=y, data=df, ci=95)\n",
    "sns.lmplot(x=x, y=y, hue=\"condition\", markers=[\"o\",\"x\",\"^\"], data=df, ci=None)\n",
    "sns.lmplot(x=x, y=y, hue=\"type1\", markers=[\"o\",\"x\"], data=df, ci=None)\n",
    "sns.lmplot(x=x, y=y, hue=\"type2\", markers=[\"o\",\"x\"], data=df, ci=None)\n",
    "sns.lmplot(x=x, y=\"totalScore\", hue=\"type2\", markers=[\"o\",\"x\"], data=df, ci=None)\n"
   ]
  },
  {
   "cell_type": "code",
   "execution_count": null,
   "metadata": {},
   "outputs": [],
   "source": [
    "# corr = dfm.corr()\n",
    "\n",
    "# # Generate a mask for the upper triangle\n",
    "# mask = np.zeros_like(corr, dtype=np.bool)\n",
    "# mask[np.triu_indices_from(mask)] = True\n",
    "\n",
    "# # Set up the matplotlib figure\n",
    "# f, ax = plt.subplots(figsize=(11, 13))\n",
    "\n",
    "# # Generate a custom diverging colormap\n",
    "# cmap = sns.diverging_palette(220, 10, as_cmap=True)\n",
    "\n",
    "# # Draw the heatmap with the mask and correct aspect ratio\n",
    "# sns.heatmap(corr, mask=mask, annot=True, cmap=cmap, vmax=.3, center=0,\n",
    "#             square=True, linewidths=.5, cbar_kws={\"shrink\": .6})"
   ]
  },
  {
   "cell_type": "code",
   "execution_count": null,
   "metadata": {},
   "outputs": [],
   "source": []
  },
  {
   "cell_type": "code",
   "execution_count": null,
   "metadata": {},
   "outputs": [],
   "source": []
  },
  {
   "cell_type": "code",
   "execution_count": null,
   "metadata": {},
   "outputs": [],
   "source": []
  },
  {
   "cell_type": "code",
   "execution_count": null,
   "metadata": {
    "scrolled": false
   },
   "outputs": [],
   "source": [
    "tempvis = visualization.Visualizer()\n",
    "try:\n",
    "    dfm[\"index\"]\n",
    "except:\n",
    "    dfm[\"index\"] = [i for i in range(len(dfm[\"condition\"].values))]\n",
    "tempvis.parallelCoordinates(columns=['FID','FPWC','FSYN','DID','DPWC','DSYN','CM','SA'], \n",
    "                                colors=None,\n",
    "                                dataFrame=dfm,\n",
    "                                grid=True,\n",
    "                                figsize=(14,4), \n",
    "                                groupBy=\"index\",\n",
    "                                removeLegend=True,\n",
    "                               alpha=0.9)"
   ]
  },
  {
   "cell_type": "code",
   "execution_count": null,
   "metadata": {},
   "outputs": [],
   "source": [
    "tempvis = visualization.Visualizer()\n",
    "tempvis.parallelCoordinates(columns=['FID','FPWC','DID','DPWC','SA'], dataFrame=dfm,\n",
    "                                colors=[\"black\"]*3,\n",
    "                                grid=True,\n",
    "                                figsize=(12,4), \n",
    "                                groupBy=None,\n",
    "                               alpha=0.5)"
   ]
  },
  {
   "cell_type": "code",
   "execution_count": null,
   "metadata": {},
   "outputs": [],
   "source": []
  },
  {
   "cell_type": "code",
   "execution_count": null,
   "metadata": {
    "scrolled": false
   },
   "outputs": [],
   "source": [
    "tempvis = visualization.Visualizer()\n",
    "try:\n",
    "    dfm[\"index\"]\n",
    "except:\n",
    "    dfm[\"index\"] = [i for i in range(len(dfm[\"condition\"].values))]\n",
    "tempvis.parallelCoordinateVariablePairs(varPairList=[\n",
    "                                            ['FID','SA'],\n",
    "                                            ['FPWC','SA'],\n",
    "                                            ['DID','DPWC'],\n",
    "                                            ['DPWC','DSYN'],\n",
    "                                        ],\n",
    "                                        colors=None,\n",
    "                                        grid=True,\n",
    "                                        groupBy=\"index\",\n",
    "                                        dataFrame=dfm,\n",
    "                                        removeLegend=True,\n",
    "                                        nrows=1, ncols=4, sharey=True, figsize=(15,3))\n"
   ]
  },
  {
   "cell_type": "code",
   "execution_count": null,
   "metadata": {},
   "outputs": [],
   "source": [
    "tempvis = visualization.Visualizer()\n",
    "try:\n",
    "    dfconf[\"index\"]\n",
    "except:\n",
    "    dfconf[\"index\"] = [i for i in range(len(dfconf[\"condition\"].values))]\n",
    "tempvis.parallelCoordinateVariablePairs(varPairList=[\n",
    "                                            ['confFID','FID'],\n",
    "                                            ['confFPWC','FPWC'],\n",
    "                                            ['confDID','DID'],\n",
    "                                            ['confDPWC','DPWC'],\n",
    "                                        ],\n",
    "                                        colors=[\"black\"]*3,\n",
    "                                        grid=True,\n",
    "                                        groupBy=\"index\",\n",
    "                                        dataFrame=dfconf,\n",
    "                                        removeLegend=True,\n",
    "                                        nrows=1, ncols=4, sharey=True, figsize=(15,3))\n"
   ]
  },
  {
   "cell_type": "code",
   "execution_count": null,
   "metadata": {},
   "outputs": [],
   "source": []
  },
  {
   "cell_type": "code",
   "execution_count": null,
   "metadata": {},
   "outputs": [],
   "source": [
    "df"
   ]
  },
  {
   "cell_type": "code",
   "execution_count": null,
   "metadata": {},
   "outputs": [],
   "source": [
    "for s in resultAnalyzer.subjects:\n",
    "    tempdata = s.learning_self_assessment_data\n",
    "    out = \"{0} {1} {2} {3}\".format(tempdata[0],tempdata[1],tempdata[2],tempdata[3])\n",
    "    print(out)"
   ]
  },
  {
   "cell_type": "code",
   "execution_count": null,
   "metadata": {},
   "outputs": [],
   "source": []
  },
  {
   "cell_type": "code",
   "execution_count": null,
   "metadata": {},
   "outputs": [],
   "source": []
  },
  {
   "cell_type": "code",
   "execution_count": null,
   "metadata": {},
   "outputs": [],
   "source": []
  }
 ],
 "metadata": {
  "kernelspec": {
   "display_name": "Python 3",
   "language": "python",
   "name": "python3"
  },
  "language_info": {
   "codemirror_mode": {
    "name": "ipython",
    "version": 3
   },
   "file_extension": ".py",
   "mimetype": "text/x-python",
   "name": "python",
   "nbconvert_exporter": "python",
   "pygments_lexer": "ipython3",
   "version": "3.7.4"
  }
 },
 "nbformat": 4,
 "nbformat_minor": 2
}
