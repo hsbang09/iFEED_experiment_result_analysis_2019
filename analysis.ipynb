{
 "cells": [
  {
   "cell_type": "code",
   "execution_count": 1,
   "metadata": {},
   "outputs": [
    {
     "data": {
      "text/plain": [
       "<module 'visualization' from '/Users/bang/workspace/iFEED_experiment_result_analysis_2019/visualization.py'>"
      ]
     },
     "execution_count": 1,
     "metadata": {},
     "output_type": "execute_result"
    }
   ],
   "source": [
    "import numpy as np\n",
    "import importlib\n",
    "from matplotlib import pyplot as plt\n",
    "import pandas as pd\n",
    "import math\n",
    "import os\n",
    "from scipy import stats\n",
    "%matplotlib inline\n",
    "\n",
    "import analyzer\n",
    "import subject\n",
    "import visualization\n",
    "importlib.reload(analyzer)\n",
    "importlib.reload(subject)\n",
    "importlib.reload(visualization)"
   ]
  },
  {
   "cell_type": "markdown",
   "metadata": {},
   "source": [
    "Set file paths"
   ]
  },
  {
   "cell_type": "code",
   "execution_count": 2,
   "metadata": {},
   "outputs": [],
   "source": [
    "rootPath = '/Users/bang/workspace/iFEED_experiment_result_analysis_2019/data'"
   ]
  },
  {
   "cell_type": "code",
   "execution_count": 3,
   "metadata": {},
   "outputs": [],
   "source": [
    "surveyDataFilePath = os.path.join(rootPath, 'survey.csv')\n",
    "loggedDataFilesRootPath = rootPath"
   ]
  },
  {
   "cell_type": "markdown",
   "metadata": {},
   "source": [
    "Initialize the analyzer"
   ]
  },
  {
   "cell_type": "code",
   "execution_count": 4,
   "metadata": {
    "scrolled": false
   },
   "outputs": [],
   "source": [
    "resultAnalyzer = analyzer.ResultAnalyzer(surveyDataFilePath, loggedDataFilesRootPath)"
   ]
  },
  {
   "cell_type": "code",
   "execution_count": 5,
   "metadata": {},
   "outputs": [],
   "source": [
    "resultAnalyzer.gradeAnswers(confidenceThreshold=10)"
   ]
  },
  {
   "cell_type": "code",
   "execution_count": 6,
   "metadata": {},
   "outputs": [],
   "source": [
    "s0 = resultAnalyzer.subjects[0]\n",
    "s1 = resultAnalyzer.subjects[1]\n",
    "s2 = resultAnalyzer.subjects[2]\n",
    "s3 = resultAnalyzer.subjects[3]\n",
    "s4 = resultAnalyzer.subjects[4]\n",
    "s5 = resultAnalyzer.subjects[5]\n",
    "s6 = resultAnalyzer.subjects[6]\n"
   ]
  },
  {
   "cell_type": "code",
   "execution_count": null,
   "metadata": {},
   "outputs": [],
   "source": []
  },
  {
   "cell_type": "markdown",
   "metadata": {},
   "source": [
    "# Problem set scores"
   ]
  },
  {
   "cell_type": "code",
   "execution_count": 7,
   "metadata": {},
   "outputs": [
    {
     "name": "stdout",
     "output_type": "stream",
     "text": [
      "Subject: 5401038285006004819-9_15_19_13 - condition: 6\n",
      "Fcl: 0.89, Fpwc: 0.56, Dcl: 0.78, Dpwc: 0.67\n"
     ]
    }
   ],
   "source": [
    "s0.printScoreSummary()"
   ]
  },
  {
   "cell_type": "code",
   "execution_count": 8,
   "metadata": {},
   "outputs": [
    {
     "name": "stdout",
     "output_type": "stream",
     "text": [
      "Subject: 3700789476005004819-9_16_15_58 - condition: 5\n",
      "Fcl: 0.22, Fpwc: 0.33, Dcl: 0.67, Dpwc: 0.33\n"
     ]
    }
   ],
   "source": [
    "s1.printScoreSummary()"
   ]
  },
  {
   "cell_type": "code",
   "execution_count": 9,
   "metadata": {},
   "outputs": [
    {
     "name": "stdout",
     "output_type": "stream",
     "text": [
      "Subject: 3664515135004004819-9_20_14_13 - condition: 4\n",
      "Fcl: 0.44, Fpwc: 0.67, Dcl: 0.44, Dpwc: 0.33\n"
     ]
    }
   ],
   "source": [
    "s2.printScoreSummary()"
   ]
  },
  {
   "cell_type": "code",
   "execution_count": 10,
   "metadata": {},
   "outputs": [
    {
     "name": "stdout",
     "output_type": "stream",
     "text": [
      "Subject: 3221520754006004819-10_2_6_8 - condition: 6\n",
      "Fcl: 0.33, Fpwc: 0.44, Dcl: 0.67, Dpwc: 0.78\n"
     ]
    }
   ],
   "source": [
    "s3.printScoreSummary()"
   ]
  },
  {
   "cell_type": "code",
   "execution_count": 11,
   "metadata": {},
   "outputs": [
    {
     "name": "stdout",
     "output_type": "stream",
     "text": [
      "Subject: 5577734270005004819-10_4_13_54 - condition: 5\n",
      "Fcl: 0.44, Fpwc: 0.56, Dcl: 0.67, Dpwc: 0.22\n"
     ]
    }
   ],
   "source": [
    "s4.printScoreSummary()"
   ]
  },
  {
   "cell_type": "code",
   "execution_count": 12,
   "metadata": {},
   "outputs": [
    {
     "name": "stdout",
     "output_type": "stream",
     "text": [
      "Subject: 1708104476004004819-10_8_16_14 - condition: 4\n",
      "Fcl: 0.22, Fpwc: 0.56, Dcl: 0.44, Dpwc: 0.11\n"
     ]
    }
   ],
   "source": [
    "s5.printScoreSummary()"
   ]
  },
  {
   "cell_type": "code",
   "execution_count": 13,
   "metadata": {},
   "outputs": [
    {
     "name": "stdout",
     "output_type": "stream",
     "text": [
      "Subject: 5772081801006004819-10_10_13_3 - condition: 6\n",
      "Fcl: 0.89, Fpwc: 0.67, Dcl: 1.0, Dpwc: 0.78\n"
     ]
    }
   ],
   "source": [
    "s6.printScoreSummary()"
   ]
  },
  {
   "cell_type": "code",
   "execution_count": null,
   "metadata": {},
   "outputs": [],
   "source": []
  },
  {
   "cell_type": "code",
   "execution_count": 14,
   "metadata": {
    "scrolled": true
   },
   "outputs": [
    {
     "name": "stdout",
     "output_type": "stream",
     "text": [
      "Subject: 5401038285006004819-9_15_19_13 - condition: 6\n",
      "Total score: 0.73\n"
     ]
    }
   ],
   "source": [
    "s0.printAggregateScore(combineFandD=True);"
   ]
  },
  {
   "cell_type": "code",
   "execution_count": 15,
   "metadata": {},
   "outputs": [
    {
     "name": "stdout",
     "output_type": "stream",
     "text": [
      "Subject: 3700789476005004819-9_16_15_58 - condition: 5\n",
      "Total score: 0.39\n"
     ]
    }
   ],
   "source": [
    "s1.printAggregateScore(combineFandD=True);"
   ]
  },
  {
   "cell_type": "code",
   "execution_count": 16,
   "metadata": {},
   "outputs": [
    {
     "name": "stdout",
     "output_type": "stream",
     "text": [
      "Subject: 3664515135004004819-9_20_14_13 - condition: 4\n",
      "Total score: 0.47\n"
     ]
    }
   ],
   "source": [
    "s2.printAggregateScore(combineFandD=True);"
   ]
  },
  {
   "cell_type": "code",
   "execution_count": 17,
   "metadata": {},
   "outputs": [
    {
     "name": "stdout",
     "output_type": "stream",
     "text": [
      "Subject: 3221520754006004819-10_2_6_8 - condition: 6\n",
      "Total score: 0.56\n"
     ]
    }
   ],
   "source": [
    "s3.printAggregateScore(combineFandD=True);"
   ]
  },
  {
   "cell_type": "code",
   "execution_count": 18,
   "metadata": {},
   "outputs": [
    {
     "name": "stdout",
     "output_type": "stream",
     "text": [
      "Subject: 5577734270005004819-10_4_13_54 - condition: 5\n",
      "Total score: 0.47\n"
     ]
    }
   ],
   "source": [
    "s4.printAggregateScore(combineFandD=True);"
   ]
  },
  {
   "cell_type": "code",
   "execution_count": null,
   "metadata": {},
   "outputs": [],
   "source": []
  },
  {
   "cell_type": "code",
   "execution_count": 19,
   "metadata": {},
   "outputs": [
    {
     "name": "stdout",
     "output_type": "stream",
     "text": [
      "[1, 1, 1, 1, 1, 1, 1, 0, 1]\n",
      "[1, 0, 1, 0, 1, 1, 0, 0, 1]\n",
      "[1, 1, 0, 1, 1, 1, 1, 1, 0]\n",
      "[1, 1, 1, 1, 1, 0, 0, 0, 1]\n"
     ]
    }
   ],
   "source": [
    "print(s0.feature_classification_graded_answers)\n",
    "print(s0.feature_comparison_graded_answers)\n",
    "print(s0.design_classification_graded_answers)\n",
    "print(s0.design_comparison_graded_answers)"
   ]
  },
  {
   "cell_type": "code",
   "execution_count": 20,
   "metadata": {},
   "outputs": [
    {
     "name": "stdout",
     "output_type": "stream",
     "text": [
      "[0, 1, 0, 1, 0, 0, 0, 0, 0]\n",
      "[1, 0, 1, 0, 1, 0, 0, 0, 0]\n",
      "[1, 1, 0, 1, 1, 1, 0, 1, 0]\n",
      "[1, 0, 0, 1, 0, 1, 0, 0, 0]\n"
     ]
    }
   ],
   "source": [
    "print(s1.feature_classification_graded_answers)\n",
    "print(s1.feature_comparison_graded_answers)\n",
    "print(s1.design_classification_graded_answers)\n",
    "print(s1.design_comparison_graded_answers)"
   ]
  },
  {
   "cell_type": "code",
   "execution_count": 21,
   "metadata": {},
   "outputs": [
    {
     "name": "stdout",
     "output_type": "stream",
     "text": [
      "[0, 1, 0, 0, 0, 1, 1, 0, 1]\n",
      "[0, 1, 0, 0, 1, 1, 1, 1, 1]\n",
      "[1, 1, 0, 1, 0, 0, 0, 1, 0]\n",
      "[1, 1, 0, 0, 0, 0, 0, 1, 0]\n"
     ]
    }
   ],
   "source": [
    "print(s2.feature_classification_graded_answers)\n",
    "print(s2.feature_comparison_graded_answers)\n",
    "print(s2.design_classification_graded_answers)\n",
    "print(s2.design_comparison_graded_answers)"
   ]
  },
  {
   "cell_type": "code",
   "execution_count": 22,
   "metadata": {},
   "outputs": [
    {
     "name": "stdout",
     "output_type": "stream",
     "text": [
      "[0, 0, 1, 0, 1, 0, 1, 0, 0]\n",
      "[1, 0, 1, 0, 1, 0, 0, 0, 1]\n",
      "[1, 0, 0, 0, 1, 1, 1, 1, 1]\n",
      "[1, 0, 1, 1, 1, 1, 0, 1, 1]\n"
     ]
    }
   ],
   "source": [
    "print(s3.feature_classification_graded_answers)\n",
    "print(s3.feature_comparison_graded_answers)\n",
    "print(s3.design_classification_graded_answers)\n",
    "print(s3.design_comparison_graded_answers)"
   ]
  },
  {
   "cell_type": "code",
   "execution_count": null,
   "metadata": {},
   "outputs": [],
   "source": []
  },
  {
   "cell_type": "markdown",
   "metadata": {},
   "source": [
    "# Positive/Negative Features"
   ]
  },
  {
   "cell_type": "code",
   "execution_count": 23,
   "metadata": {},
   "outputs": [
    {
     "name": "stdout",
     "output_type": "stream",
     "text": [
      "(0.44, [1, 1, 0, 1, 0, 0, 1, 0, 0])\n",
      "(1.0, [1, 1, 1, 1, 1, 1, 1, 1, 1])\n"
     ]
    }
   ],
   "source": [
    "print(s0.gradePositiveFeatures())\n",
    "print(s0.gradeNegativeFeatures())"
   ]
  },
  {
   "cell_type": "code",
   "execution_count": 24,
   "metadata": {},
   "outputs": [
    {
     "name": "stdout",
     "output_type": "stream",
     "text": [
      "(0.22, [1, 0, 0, 0, 0, 0, 1, 0, 0])\n",
      "(0.33, [0, 1, 0, 0, 0, 1, 1, 0, 0])\n"
     ]
    }
   ],
   "source": [
    "print(s1.gradePositiveFeatures())\n",
    "print(s1.gradeNegativeFeatures())"
   ]
  },
  {
   "cell_type": "code",
   "execution_count": 25,
   "metadata": {},
   "outputs": [
    {
     "name": "stdout",
     "output_type": "stream",
     "text": [
      "(0.67, [0, 1, 0, 1, 1, 0, 1, 1, 1])\n",
      "(0.44, [0, 1, 0, 0, 1, 0, 0, 1, 1])\n"
     ]
    }
   ],
   "source": [
    "print(s2.gradePositiveFeatures())\n",
    "print(s2.gradeNegativeFeatures())"
   ]
  },
  {
   "cell_type": "code",
   "execution_count": 26,
   "metadata": {},
   "outputs": [
    {
     "name": "stdout",
     "output_type": "stream",
     "text": [
      "(0.11, [0, 0, 0, 0, 0, 0, 1, 0, 0])\n",
      "(0.67, [0, 0, 1, 1, 1, 1, 1, 0, 1])\n"
     ]
    }
   ],
   "source": [
    "print(s3.gradePositiveFeatures())\n",
    "print(s3.gradeNegativeFeatures())"
   ]
  },
  {
   "cell_type": "code",
   "execution_count": 27,
   "metadata": {},
   "outputs": [
    {
     "name": "stdout",
     "output_type": "stream",
     "text": [
      "(0.44, [0, 1, 0, 0, 1, 1, 1, 0, 0])\n",
      "(0.56, [1, 1, 1, 0, 0, 0, 1, 1, 0])\n"
     ]
    }
   ],
   "source": [
    "print(s4.gradePositiveFeatures())\n",
    "print(s4.gradeNegativeFeatures())"
   ]
  },
  {
   "cell_type": "code",
   "execution_count": null,
   "metadata": {},
   "outputs": [],
   "source": []
  },
  {
   "cell_type": "markdown",
   "metadata": {},
   "source": [
    "# Get DataFrame"
   ]
  },
  {
   "cell_type": "code",
   "execution_count": 28,
   "metadata": {},
   "outputs": [
    {
     "data": {
      "text/html": [
       "<div>\n",
       "<style scoped>\n",
       "    .dataframe tbody tr th:only-of-type {\n",
       "        vertical-align: middle;\n",
       "    }\n",
       "\n",
       "    .dataframe tbody tr th {\n",
       "        vertical-align: top;\n",
       "    }\n",
       "\n",
       "    .dataframe thead th {\n",
       "        text-align: right;\n",
       "    }\n",
       "</style>\n",
       "<table border=\"1\" class=\"dataframe\">\n",
       "  <thead>\n",
       "    <tr style=\"text-align: right;\">\n",
       "      <th></th>\n",
       "      <th>id</th>\n",
       "      <th>condition</th>\n",
       "      <th>fcl</th>\n",
       "      <th>fpwc</th>\n",
       "      <th>dcl</th>\n",
       "      <th>dpwc</th>\n",
       "      <th>FScore</th>\n",
       "      <th>DScore</th>\n",
       "      <th>PScore</th>\n",
       "      <th>NScore</th>\n",
       "      <th>HScore</th>\n",
       "      <th>LScore</th>\n",
       "      <th>totalScore</th>\n",
       "    </tr>\n",
       "  </thead>\n",
       "  <tbody>\n",
       "    <tr>\n",
       "      <th>0</th>\n",
       "      <td>5401038285006004819-9_15_19_13</td>\n",
       "      <td>6</td>\n",
       "      <td>0.89</td>\n",
       "      <td>0.56</td>\n",
       "      <td>0.78</td>\n",
       "      <td>0.67</td>\n",
       "      <td>0.73</td>\n",
       "      <td>0.73</td>\n",
       "      <td>0.44</td>\n",
       "      <td>1.00</td>\n",
       "      <td>0.86</td>\n",
       "      <td>0.91</td>\n",
       "      <td>0.73</td>\n",
       "    </tr>\n",
       "    <tr>\n",
       "      <th>1</th>\n",
       "      <td>3700789476005004819-9_16_15_58</td>\n",
       "      <td>5</td>\n",
       "      <td>0.22</td>\n",
       "      <td>0.33</td>\n",
       "      <td>0.67</td>\n",
       "      <td>0.33</td>\n",
       "      <td>0.28</td>\n",
       "      <td>0.50</td>\n",
       "      <td>0.22</td>\n",
       "      <td>0.33</td>\n",
       "      <td>0.29</td>\n",
       "      <td>0.18</td>\n",
       "      <td>0.39</td>\n",
       "    </tr>\n",
       "    <tr>\n",
       "      <th>2</th>\n",
       "      <td>3664515135004004819-9_20_14_13</td>\n",
       "      <td>4</td>\n",
       "      <td>0.44</td>\n",
       "      <td>0.67</td>\n",
       "      <td>0.44</td>\n",
       "      <td>0.33</td>\n",
       "      <td>0.56</td>\n",
       "      <td>0.39</td>\n",
       "      <td>0.67</td>\n",
       "      <td>0.44</td>\n",
       "      <td>0.29</td>\n",
       "      <td>0.55</td>\n",
       "      <td>0.47</td>\n",
       "    </tr>\n",
       "    <tr>\n",
       "      <th>3</th>\n",
       "      <td>3221520754006004819-10_2_6_8</td>\n",
       "      <td>6</td>\n",
       "      <td>0.33</td>\n",
       "      <td>0.44</td>\n",
       "      <td>0.67</td>\n",
       "      <td>0.78</td>\n",
       "      <td>0.39</td>\n",
       "      <td>0.73</td>\n",
       "      <td>0.11</td>\n",
       "      <td>0.67</td>\n",
       "      <td>0.43</td>\n",
       "      <td>0.27</td>\n",
       "      <td>0.56</td>\n",
       "    </tr>\n",
       "    <tr>\n",
       "      <th>4</th>\n",
       "      <td>5577734270005004819-10_4_13_54</td>\n",
       "      <td>5</td>\n",
       "      <td>0.44</td>\n",
       "      <td>0.56</td>\n",
       "      <td>0.67</td>\n",
       "      <td>0.22</td>\n",
       "      <td>0.50</td>\n",
       "      <td>0.45</td>\n",
       "      <td>0.44</td>\n",
       "      <td>0.56</td>\n",
       "      <td>0.57</td>\n",
       "      <td>0.36</td>\n",
       "      <td>0.47</td>\n",
       "    </tr>\n",
       "    <tr>\n",
       "      <th>5</th>\n",
       "      <td>1708104476004004819-10_8_16_14</td>\n",
       "      <td>4</td>\n",
       "      <td>0.22</td>\n",
       "      <td>0.56</td>\n",
       "      <td>0.44</td>\n",
       "      <td>0.11</td>\n",
       "      <td>0.39</td>\n",
       "      <td>0.28</td>\n",
       "      <td>0.33</td>\n",
       "      <td>0.44</td>\n",
       "      <td>0.14</td>\n",
       "      <td>0.27</td>\n",
       "      <td>0.33</td>\n",
       "    </tr>\n",
       "    <tr>\n",
       "      <th>6</th>\n",
       "      <td>5772081801006004819-10_10_13_3</td>\n",
       "      <td>6</td>\n",
       "      <td>0.89</td>\n",
       "      <td>0.67</td>\n",
       "      <td>1.00</td>\n",
       "      <td>0.78</td>\n",
       "      <td>0.78</td>\n",
       "      <td>0.89</td>\n",
       "      <td>0.78</td>\n",
       "      <td>0.78</td>\n",
       "      <td>0.86</td>\n",
       "      <td>0.91</td>\n",
       "      <td>0.83</td>\n",
       "    </tr>\n",
       "  </tbody>\n",
       "</table>\n",
       "</div>"
      ],
      "text/plain": [
       "                               id  condition   fcl  fpwc   dcl  dpwc  FScore  \\\n",
       "0  5401038285006004819-9_15_19_13          6  0.89  0.56  0.78  0.67    0.73   \n",
       "1  3700789476005004819-9_16_15_58          5  0.22  0.33  0.67  0.33    0.28   \n",
       "2  3664515135004004819-9_20_14_13          4  0.44  0.67  0.44  0.33    0.56   \n",
       "3    3221520754006004819-10_2_6_8          6  0.33  0.44  0.67  0.78    0.39   \n",
       "4  5577734270005004819-10_4_13_54          5  0.44  0.56  0.67  0.22    0.50   \n",
       "5  1708104476004004819-10_8_16_14          4  0.22  0.56  0.44  0.11    0.39   \n",
       "6  5772081801006004819-10_10_13_3          6  0.89  0.67  1.00  0.78    0.78   \n",
       "\n",
       "   DScore  PScore  NScore  HScore  LScore  totalScore  \n",
       "0    0.73    0.44    1.00    0.86    0.91        0.73  \n",
       "1    0.50    0.22    0.33    0.29    0.18        0.39  \n",
       "2    0.39    0.67    0.44    0.29    0.55        0.47  \n",
       "3    0.73    0.11    0.67    0.43    0.27        0.56  \n",
       "4    0.45    0.44    0.56    0.57    0.36        0.47  \n",
       "5    0.28    0.33    0.44    0.14    0.27        0.33  \n",
       "6    0.89    0.78    0.78    0.86    0.91        0.83  "
      ]
     },
     "execution_count": 28,
     "metadata": {},
     "output_type": "execute_result"
    }
   ],
   "source": [
    "resultAnalyzer.getDataFrame()"
   ]
  },
  {
   "cell_type": "code",
   "execution_count": null,
   "metadata": {},
   "outputs": [],
   "source": []
  },
  {
   "cell_type": "code",
   "execution_count": null,
   "metadata": {},
   "outputs": [],
   "source": []
  },
  {
   "cell_type": "markdown",
   "metadata": {},
   "source": [
    "# Demographic data"
   ]
  },
  {
   "cell_type": "code",
   "execution_count": 29,
   "metadata": {},
   "outputs": [
    {
     "data": {
      "text/plain": [
       "{'age': 33,\n",
       " 'gender': 2,\n",
       " 'education': 7,\n",
       " 'major': 'Aerospace Engineering, Industrial / Systems Engineering',\n",
       " 'employerType': 'For profit'}"
      ]
     },
     "execution_count": 29,
     "metadata": {},
     "output_type": "execute_result"
    }
   ],
   "source": [
    "s0.demographic_data"
   ]
  },
  {
   "cell_type": "code",
   "execution_count": 30,
   "metadata": {},
   "outputs": [
    {
     "data": {
      "text/plain": [
       "{'age': 34,\n",
       " 'gender': 1,\n",
       " 'education': 7,\n",
       " 'major': 'Aerospace Engineering',\n",
       " 'employerType': 'Academic institution'}"
      ]
     },
     "execution_count": 30,
     "metadata": {},
     "output_type": "execute_result"
    }
   ],
   "source": [
    "s1.demographic_data"
   ]
  },
  {
   "cell_type": "code",
   "execution_count": 31,
   "metadata": {},
   "outputs": [
    {
     "data": {
      "text/plain": [
       "{'age': 31,\n",
       " 'gender': 1,\n",
       " 'education': 7,\n",
       " 'major': 'Aerospace Engineering, Electrical Engineering',\n",
       " 'employerType': 'Non-profit (non-profit research organization, government contractor, etc.)'}"
      ]
     },
     "execution_count": 31,
     "metadata": {},
     "output_type": "execute_result"
    }
   ],
   "source": [
    "s2.demographic_data"
   ]
  },
  {
   "cell_type": "code",
   "execution_count": 32,
   "metadata": {},
   "outputs": [
    {
     "data": {
      "text/plain": [
       "{'age': 34,\n",
       " 'gender': 1,\n",
       " 'education': 7,\n",
       " 'major': 'Aerospace Engineering, Industrial / Systems Engineering, Mathematics / Statistics',\n",
       " 'employerType': 'Non-profit (non-profit research organization, government contractor, etc.)'}"
      ]
     },
     "execution_count": 32,
     "metadata": {},
     "output_type": "execute_result"
    }
   ],
   "source": [
    "s3.demographic_data"
   ]
  },
  {
   "cell_type": "code",
   "execution_count": 33,
   "metadata": {},
   "outputs": [
    {
     "data": {
      "text/plain": [
       "{'age': 36,\n",
       " 'gender': 1,\n",
       " 'education': 7,\n",
       " 'major': 'Aerospace Engineering',\n",
       " 'employerType': 'Government'}"
      ]
     },
     "execution_count": 33,
     "metadata": {},
     "output_type": "execute_result"
    }
   ],
   "source": [
    "s4.demographic_data"
   ]
  },
  {
   "cell_type": "code",
   "execution_count": 34,
   "metadata": {},
   "outputs": [
    {
     "data": {
      "text/plain": [
       "{'age': 33,\n",
       " 'gender': 1,\n",
       " 'education': 7,\n",
       " 'major': 'Other',\n",
       " 'employerType': 'Academic institution'}"
      ]
     },
     "execution_count": 34,
     "metadata": {},
     "output_type": "execute_result"
    }
   ],
   "source": [
    "s5.demographic_data"
   ]
  },
  {
   "cell_type": "code",
   "execution_count": null,
   "metadata": {},
   "outputs": [],
   "source": []
  },
  {
   "cell_type": "code",
   "execution_count": 35,
   "metadata": {},
   "outputs": [
    {
     "name": "stdout",
     "output_type": "stream",
     "text": [
      "Subject: 5401038285006004819-9_15_19_13 - condition: 6\n",
      "counter_design_viewed: 62\n",
      "counter_feature_viewed: 42\n",
      "counter_filter_used: 0\n",
      "counter_local_search_run: 2\n",
      "counter_generalization_run: 4\n",
      "counter_generalization_selected: 3\n",
      "features_found: 77\n",
      "\n",
      "\n",
      "Subject: 3700789476005004819-9_16_15_58 - condition: 5\n",
      "counter_design_viewed: 751\n",
      "counter_feature_viewed: 9\n",
      "counter_filter_used: 0\n",
      "counter_local_search_run: 0\n",
      "counter_generalization_run: 0\n",
      "counter_generalization_selected: 0\n",
      "features_found: 30\n",
      "\n",
      "\n",
      "Subject: 3664515135004004819-9_20_14_13 - condition: 4\n",
      "counter_design_viewed: 1018\n",
      "counter_feature_viewed: 10\n",
      "counter_filter_used: 21\n",
      "counter_local_search_run: 0\n",
      "counter_generalization_run: 0\n",
      "counter_generalization_selected: 0\n",
      "features_found: 0\n",
      "\n",
      "\n",
      "Subject: 3221520754006004819-10_2_6_8 - condition: 6\n",
      "counter_design_viewed: 34\n",
      "counter_feature_viewed: 14\n",
      "counter_filter_used: 0\n",
      "counter_local_search_run: 4\n",
      "counter_generalization_run: 4\n",
      "counter_generalization_selected: 1\n",
      "features_found: 77\n"
     ]
    }
   ],
   "source": [
    "s0.printloggedDataSummary(task=\"learning_task\")\n",
    "print(\"\\n\")\n",
    "s1.printloggedDataSummary(task=\"learning_task\")\n",
    "print(\"\\n\")\n",
    "s2.printloggedDataSummary(task=\"learning_task\")\n",
    "print(\"\\n\")\n",
    "s3.printloggedDataSummary(task=\"learning_task\")"
   ]
  },
  {
   "cell_type": "code",
   "execution_count": null,
   "metadata": {},
   "outputs": [],
   "source": []
  },
  {
   "cell_type": "code",
   "execution_count": 36,
   "metadata": {},
   "outputs": [
    {
     "name": "stdout",
     "output_type": "stream",
     "text": [
      "Subject: 5401038285006004819-9_15_19_13 - condition: 6\n",
      "counter_feature_viewed: 1\n",
      "counter_filter_used: 8\n",
      "features_found: 7\n",
      "\n",
      "\n",
      "Subject: 3700789476005004819-9_16_15_58 - condition: 5\n",
      "counter_feature_viewed: 0\n",
      "counter_filter_used: 7\n",
      "features_found: 6\n",
      "\n",
      "\n",
      "Subject: 3664515135004004819-9_20_14_13 - condition: 4\n",
      "counter_feature_viewed: 11\n",
      "counter_filter_used: 9\n",
      "features_found: 11\n",
      "\n",
      "\n",
      "Subject: 3221520754006004819-10_2_6_8 - condition: 6\n",
      "counter_feature_viewed: 4\n",
      "counter_filter_used: 5\n",
      "features_found: 5\n"
     ]
    }
   ],
   "source": [
    "s0.printloggedDataSummary(task=\"feature_synthesis_task\")\n",
    "print(\"\\n\")\n",
    "s1.printloggedDataSummary(task=\"feature_synthesis_task\")\n",
    "print(\"\\n\")\n",
    "s2.printloggedDataSummary(task=\"feature_synthesis_task\")\n",
    "print(\"\\n\")\n",
    "s3.printloggedDataSummary(task=\"feature_synthesis_task\")"
   ]
  },
  {
   "cell_type": "code",
   "execution_count": null,
   "metadata": {},
   "outputs": [],
   "source": []
  },
  {
   "cell_type": "code",
   "execution_count": 37,
   "metadata": {},
   "outputs": [
    {
     "name": "stdout",
     "output_type": "stream",
     "text": [
      "Subject: 5401038285006004819-9_15_19_13 - condition: 6\n",
      "counter_design_viewed: 28\n",
      "counter_design_evaluated: 12\n",
      "designs_evaluated: 12\n",
      "\n",
      "\n",
      "Subject: 3700789476005004819-9_16_15_58 - condition: 5\n",
      "counter_design_viewed: 62\n",
      "counter_design_evaluated: 42\n",
      "designs_evaluated: 42\n",
      "\n",
      "\n",
      "Subject: 3664515135004004819-9_20_14_13 - condition: 4\n",
      "counter_design_viewed: 38\n",
      "counter_design_evaluated: 16\n",
      "designs_evaluated: 16\n",
      "\n",
      "\n",
      "Subject: 3221520754006004819-10_2_6_8 - condition: 6\n",
      "counter_design_viewed: 33\n",
      "counter_design_evaluated: 14\n",
      "designs_evaluated: 14\n"
     ]
    }
   ],
   "source": [
    "s0.printloggedDataSummary(task=\"design_synthesis_task\")\n",
    "print(\"\\n\")\n",
    "s1.printloggedDataSummary(task=\"design_synthesis_task\")\n",
    "print(\"\\n\")\n",
    "s2.printloggedDataSummary(task=\"design_synthesis_task\")\n",
    "print(\"\\n\")\n",
    "s3.printloggedDataSummary(task=\"design_synthesis_task\")"
   ]
  },
  {
   "cell_type": "code",
   "execution_count": null,
   "metadata": {},
   "outputs": [],
   "source": []
  },
  {
   "cell_type": "code",
   "execution_count": null,
   "metadata": {},
   "outputs": [],
   "source": []
  },
  {
   "cell_type": "code",
   "execution_count": null,
   "metadata": {},
   "outputs": [],
   "source": []
  },
  {
   "cell_type": "markdown",
   "metadata": {},
   "source": [
    "# Get transcript comments"
   ]
  },
  {
   "cell_type": "code",
   "execution_count": 38,
   "metadata": {},
   "outputs": [],
   "source": [
    "subjects_manual = resultAnalyzer.filterSubjects(condition=4)\n",
    "subjects_auto = resultAnalyzer.filterSubjects(condition=5)"
   ]
  },
  {
   "cell_type": "code",
   "execution_count": null,
   "metadata": {},
   "outputs": [],
   "source": []
  },
  {
   "cell_type": "code",
   "execution_count": 39,
   "metadata": {},
   "outputs": [
    {
     "data": {
      "text/plain": [
       "['[3700789476005004819-9_16_15_58] Yes, correct...',\n",
       " '[3664515135004004819-9_20_14_13] I think this is true. Because dawn and dusk generate more power for the satellite.']"
      ]
     },
     "execution_count": 39,
     "metadata": {},
     "output_type": "execute_result"
    }
   ],
   "source": [
    "resultAnalyzer.getComments(resultAnalyzer.subjects, \"problem_solving_task\", \"F_cl_5\", displayParticipantID=True, displayKeyword=False)\n"
   ]
  },
  {
   "cell_type": "code",
   "execution_count": null,
   "metadata": {},
   "outputs": [],
   "source": []
  },
  {
   "cell_type": "code",
   "execution_count": 40,
   "metadata": {},
   "outputs": [
    {
     "data": {
      "text/plain": [
       "[\"[F_cl_1] So AERO_POL and HIRES_SOUND...So I'm not sure. So I just click one of the option and say confidence of 0.\",\n",
       " '[F_cl_2] ...',\n",
       " \"[F_cl_3] I think this is False... because SWIRSPEC is both visible and nocturnal (?), so it can be used both day and night. So I'll put the confidence level of 15.\",\n",
       " \"[F_cl_4] I'm not confident about this one... \",\n",
       " '[F_cl_5] I think this is true. Because dawn and dusk generate more power for the satellite.',\n",
       " '[F_cl_6] I think this is false. I think almost all the orbits had some satellites.',\n",
       " \"[F_cl_7] I'm not sure of this...\",\n",
       " \"[F_cl_8] I'm not sure...\",\n",
       " '[F_cl_9] I think I oberved most of the instrument - vegetation - to be in 600km, but not sure if it was INSAR or the other type of the vegetation instrument.',\n",
       " \"[F_pwc_1] I'm not sure.\",\n",
       " \"[F_pwc_2] I think it's the first one.. but not 100% confident.\",\n",
       " '[F_pwc_3] I think uh... lidars and radars should not be assigned to the same orbit. But I did not oberved it within this tutorial. So I will put it at... less confidence.',\n",
       " '[F_pwc_4] So I do not think chemistry instruments are assigned together in the same orbit. Perhaps, topography instruments may be assigned together. So it may be the second option.',\n",
       " \"[F_pwc_5] So in the target region, I observed a lot of SAR_ALTIM. So I'll put high confidence.\",\n",
       " \"[F_pwc_6] I think it's the first option. I think there's correlation between active and high power instruments, so I'm not why those are two separate options.\",\n",
       " \"[F_pwc_7] So this suggests that VEG_INSAR is assigned to LEO... it seems both options are correct... wait both are radars, so I think it's the second option. \",\n",
       " '[F_pwc_8] I saw a lot of vegetation instruments.. but not sure about which orbit they were in.',\n",
       " \"[F_pwc_9] I think it's the first one. But this is based on my prior experience.\"]"
      ]
     },
     "execution_count": 40,
     "metadata": {},
     "output_type": "execute_result"
    }
   ],
   "source": [
    "resultAnalyzer.getComments(subjects_manual, \"problem_solving_task\", \"F\", displayParticipantID=False, displayKeyword=True)\n"
   ]
  },
  {
   "cell_type": "code",
   "execution_count": 41,
   "metadata": {},
   "outputs": [
    {
     "data": {
      "text/plain": [
       "['[F_cl_1] I think so...',\n",
       " \"[F_cl_2] Honestly, I don't, in this case, I'm not referring to tradespace, and referring to what I know. \",\n",
       " '[F_cl_3] [inaudible] ...',\n",
       " '[F_cl_4] Yes that is true, I remember that.',\n",
       " '[F_cl_5] Yes, correct...',\n",
       " \"[F_cl_6] This one, I don't know. I'm going to guess.\",\n",
       " \"[F_cl_7] No I remember that SAR_ALTIM was always on its own. But I don't remeber the orbit honestly. Well, I think it's false but not really confident.\",\n",
       " \"[F_cl_8] I don't know...\",\n",
       " '[F_cl_9] [inaudible] I think [inaudible]']"
      ]
     },
     "execution_count": 41,
     "metadata": {},
     "output_type": "execute_result"
    }
   ],
   "source": [
    "resultAnalyzer.getComments(subjects_auto, \"problem_solving_task\", \"F_cl\", displayParticipantID=False, displayKeyword=True)\n"
   ]
  },
  {
   "cell_type": "code",
   "execution_count": 42,
   "metadata": {},
   "outputs": [
    {
     "data": {
      "text/plain": [
       "['[4_gpe] This one is way too many features to discuss [inaudible]',\n",
       " '[5_gpe] This is more useful, I think.',\n",
       " \"[6_gpe] This one, it's about classes.\",\n",
       " '[4_gpe] I think the first case is better because, it is short and it summarizes information more efficiently.',\n",
       " '[5_gpe] I think the first case filters out... uh... I think both are useful. Hmm... maybe the second case.',\n",
       " '[6_gpe] I think the first case carries more useful information.']"
      ]
     },
     "execution_count": 42,
     "metadata": {},
     "output_type": "execute_result"
    }
   ],
   "source": [
    "resultAnalyzer.getComments(resultAnalyzer.subjects, \"survey\", \"gpe\", displayParticipantID=False, displayKeyword=True)\n"
   ]
  },
  {
   "cell_type": "markdown",
   "metadata": {},
   "source": [
    "# Synthesis task data visualization"
   ]
  },
  {
   "cell_type": "code",
   "execution_count": 43,
   "metadata": {},
   "outputs": [],
   "source": [
    "g1 = [s2, s5]\n",
    "g2 = [s1, s4]\n",
    "g3 = [s0, s3, s6]\n",
    "# g3 = [s6]"
   ]
  },
  {
   "cell_type": "code",
   "execution_count": 44,
   "metadata": {},
   "outputs": [],
   "source": [
    "visualizer = visualization.Visualizer(groups=[g1,g2,g3], groupNames=['Manual','Automated','Interactive'])"
   ]
  },
  {
   "cell_type": "code",
   "execution_count": 45,
   "metadata": {
    "scrolled": false
   },
   "outputs": [
    {
     "data": {
      "image/png": "[encoded data removed]",
      "text/plain": [
       "<Figure size 936x432 with 1 Axes>"
      ]
     },
     "metadata": {},
     "output_type": "display_data"
    }
   ],
   "source": [
    "visualizer.designSynthesisScatter(markers=['o','^','d'])\n"
   ]
  },
  {
   "cell_type": "code",
   "execution_count": 46,
   "metadata": {},
   "outputs": [
    {
     "data": {
      "image/png": "[encoded data removed]",
      "text/plain": [
       "<Figure size 936x432 with 1 Axes>"
      ]
     },
     "metadata": {},
     "output_type": "display_data"
    }
   ],
   "source": [
    "visualizer.featureSynthesisScatter(markers=['o','^','d'])\n"
   ]
  },
  {
   "cell_type": "code",
   "execution_count": null,
   "metadata": {},
   "outputs": [],
   "source": []
  },
  {
   "cell_type": "code",
   "execution_count": 47,
   "metadata": {},
   "outputs": [],
   "source": [
    "visualizer.setDataFrame(resultAnalyzer.getDataFrame())"
   ]
  },
  {
   "cell_type": "code",
   "execution_count": 48,
   "metadata": {
    "scrolled": false
   },
   "outputs": [
    {
     "data": {
      "image/png": "[encoded data removed]",
      "text/plain": [
       "<Figure size 792x360 with 1 Axes>"
      ]
     },
     "metadata": {},
     "output_type": "display_data"
    }
   ],
   "source": [
    "visualizer.parallelCoordinates(columns=['fcl','fpwc','dcl','dpwc'], \n",
    "                                figsize=(11,5),\n",
    "                               legend=[\"Interactive\",\"Automated\",\"Manual\"])"
   ]
  },
  {
   "cell_type": "code",
   "execution_count": 49,
   "metadata": {
    "scrolled": false
   },
   "outputs": [
    {
     "data": {
      "image/png": "[encoded data removed]",
      "text/plain": [
       "<Figure size 1080x360 with 1 Axes>"
      ]
     },
     "metadata": {},
     "output_type": "display_data"
    }
   ],
   "source": [
    "visualizer.parallelCoordinates(columns=['fcl','fpwc','dcl','dpwc','FScore','DScore','PScore','NScore','HScore','LScore','totalScore'], \n",
    "                                figsize=(15,5),\n",
    "                               legend=[\"Interactive\",\"Automated\",\"Manual\"])"
   ]
  },
  {
   "cell_type": "code",
   "execution_count": 50,
   "metadata": {},
   "outputs": [
    {
     "data": {
      "image/png": "[encoded data removed]",
      "text/plain": [
       "<Figure size 1008x324 with 3 Axes>"
      ]
     },
     "metadata": {},
     "output_type": "display_data"
    }
   ],
   "source": [
    "visualizer.boxPlot(columns=['FScore','DScore', 'totalScore'], nrows=1, ncols=3, sharey=True, figsize=(14,4.5))"
   ]
  },
  {
   "cell_type": "code",
   "execution_count": 51,
   "metadata": {},
   "outputs": [
    {
     "data": {
      "image/png": "[encoded data removed]",
      "text/plain": [
       "<Figure size 1008x324 with 3 Axes>"
      ]
     },
     "metadata": {},
     "output_type": "display_data"
    }
   ],
   "source": [
    "visualizer.boxPlot(columns=['PScore','NScore', 'totalScore'], nrows=1, ncols=3, sharey=True, figsize=(14,4.5))"
   ]
  },
  {
   "cell_type": "code",
   "execution_count": 52,
   "metadata": {},
   "outputs": [
    {
     "data": {
      "image/png": "[encoded data removed]",
      "text/plain": [
       "<Figure size 1008x324 with 3 Axes>"
      ]
     },
     "metadata": {},
     "output_type": "display_data"
    }
   ],
   "source": [
    "visualizer.boxPlot(columns=['HScore','LScore', 'totalScore'], nrows=1, ncols=3, sharey=True, figsize=(14,4.5))"
   ]
  },
  {
   "cell_type": "code",
   "execution_count": null,
   "metadata": {},
   "outputs": [],
   "source": []
  },
  {
   "cell_type": "markdown",
   "metadata": {},
   "source": [
    "# Statistical tests"
   ]
  },
  {
   "cell_type": "code",
   "execution_count": 53,
   "metadata": {},
   "outputs": [],
   "source": [
    "df = resultAnalyzer.getDataFrame()"
   ]
  },
  {
   "cell_type": "code",
   "execution_count": 62,
   "metadata": {},
   "outputs": [
    {
     "data": {
      "text/html": [
       "<div>\n",
       "<style scoped>\n",
       "    .dataframe tbody tr th:only-of-type {\n",
       "        vertical-align: middle;\n",
       "    }\n",
       "\n",
       "    .dataframe tbody tr th {\n",
       "        vertical-align: top;\n",
       "    }\n",
       "\n",
       "    .dataframe thead th {\n",
       "        text-align: right;\n",
       "    }\n",
       "</style>\n",
       "<table border=\"1\" class=\"dataframe\">\n",
       "  <thead>\n",
       "    <tr style=\"text-align: right;\">\n",
       "      <th></th>\n",
       "      <th>id</th>\n",
       "      <th>condition</th>\n",
       "      <th>fcl</th>\n",
       "      <th>fpwc</th>\n",
       "      <th>dcl</th>\n",
       "      <th>dpwc</th>\n",
       "      <th>FScore</th>\n",
       "      <th>DScore</th>\n",
       "      <th>PScore</th>\n",
       "      <th>NScore</th>\n",
       "      <th>HScore</th>\n",
       "      <th>LScore</th>\n",
       "      <th>totalScore</th>\n",
       "    </tr>\n",
       "  </thead>\n",
       "  <tbody>\n",
       "    <tr>\n",
       "      <th>0</th>\n",
       "      <td>5401038285006004819-9_15_19_13</td>\n",
       "      <td>6</td>\n",
       "      <td>0.89</td>\n",
       "      <td>0.56</td>\n",
       "      <td>0.78</td>\n",
       "      <td>0.67</td>\n",
       "      <td>0.73</td>\n",
       "      <td>0.73</td>\n",
       "      <td>0.44</td>\n",
       "      <td>1.00</td>\n",
       "      <td>0.86</td>\n",
       "      <td>0.91</td>\n",
       "      <td>0.73</td>\n",
       "    </tr>\n",
       "    <tr>\n",
       "      <th>1</th>\n",
       "      <td>3700789476005004819-9_16_15_58</td>\n",
       "      <td>5</td>\n",
       "      <td>0.22</td>\n",
       "      <td>0.33</td>\n",
       "      <td>0.67</td>\n",
       "      <td>0.33</td>\n",
       "      <td>0.28</td>\n",
       "      <td>0.50</td>\n",
       "      <td>0.22</td>\n",
       "      <td>0.33</td>\n",
       "      <td>0.29</td>\n",
       "      <td>0.18</td>\n",
       "      <td>0.39</td>\n",
       "    </tr>\n",
       "    <tr>\n",
       "      <th>2</th>\n",
       "      <td>3664515135004004819-9_20_14_13</td>\n",
       "      <td>4</td>\n",
       "      <td>0.44</td>\n",
       "      <td>0.67</td>\n",
       "      <td>0.44</td>\n",
       "      <td>0.33</td>\n",
       "      <td>0.56</td>\n",
       "      <td>0.39</td>\n",
       "      <td>0.67</td>\n",
       "      <td>0.44</td>\n",
       "      <td>0.29</td>\n",
       "      <td>0.55</td>\n",
       "      <td>0.47</td>\n",
       "    </tr>\n",
       "    <tr>\n",
       "      <th>3</th>\n",
       "      <td>3221520754006004819-10_2_6_8</td>\n",
       "      <td>6</td>\n",
       "      <td>0.33</td>\n",
       "      <td>0.44</td>\n",
       "      <td>0.67</td>\n",
       "      <td>0.78</td>\n",
       "      <td>0.39</td>\n",
       "      <td>0.73</td>\n",
       "      <td>0.11</td>\n",
       "      <td>0.67</td>\n",
       "      <td>0.43</td>\n",
       "      <td>0.27</td>\n",
       "      <td>0.56</td>\n",
       "    </tr>\n",
       "    <tr>\n",
       "      <th>4</th>\n",
       "      <td>5577734270005004819-10_4_13_54</td>\n",
       "      <td>5</td>\n",
       "      <td>0.44</td>\n",
       "      <td>0.56</td>\n",
       "      <td>0.67</td>\n",
       "      <td>0.22</td>\n",
       "      <td>0.50</td>\n",
       "      <td>0.45</td>\n",
       "      <td>0.44</td>\n",
       "      <td>0.56</td>\n",
       "      <td>0.57</td>\n",
       "      <td>0.36</td>\n",
       "      <td>0.47</td>\n",
       "    </tr>\n",
       "    <tr>\n",
       "      <th>5</th>\n",
       "      <td>1708104476004004819-10_8_16_14</td>\n",
       "      <td>4</td>\n",
       "      <td>0.22</td>\n",
       "      <td>0.56</td>\n",
       "      <td>0.44</td>\n",
       "      <td>0.11</td>\n",
       "      <td>0.39</td>\n",
       "      <td>0.28</td>\n",
       "      <td>0.33</td>\n",
       "      <td>0.44</td>\n",
       "      <td>0.14</td>\n",
       "      <td>0.27</td>\n",
       "      <td>0.33</td>\n",
       "    </tr>\n",
       "    <tr>\n",
       "      <th>6</th>\n",
       "      <td>5772081801006004819-10_10_13_3</td>\n",
       "      <td>6</td>\n",
       "      <td>0.89</td>\n",
       "      <td>0.67</td>\n",
       "      <td>1.00</td>\n",
       "      <td>0.78</td>\n",
       "      <td>0.78</td>\n",
       "      <td>0.89</td>\n",
       "      <td>0.78</td>\n",
       "      <td>0.78</td>\n",
       "      <td>0.86</td>\n",
       "      <td>0.91</td>\n",
       "      <td>0.83</td>\n",
       "    </tr>\n",
       "  </tbody>\n",
       "</table>\n",
       "</div>"
      ],
      "text/plain": [
       "                               id  condition   fcl  fpwc   dcl  dpwc  FScore  \\\n",
       "0  5401038285006004819-9_15_19_13          6  0.89  0.56  0.78  0.67    0.73   \n",
       "1  3700789476005004819-9_16_15_58          5  0.22  0.33  0.67  0.33    0.28   \n",
       "2  3664515135004004819-9_20_14_13          4  0.44  0.67  0.44  0.33    0.56   \n",
       "3    3221520754006004819-10_2_6_8          6  0.33  0.44  0.67  0.78    0.39   \n",
       "4  5577734270005004819-10_4_13_54          5  0.44  0.56  0.67  0.22    0.50   \n",
       "5  1708104476004004819-10_8_16_14          4  0.22  0.56  0.44  0.11    0.39   \n",
       "6  5772081801006004819-10_10_13_3          6  0.89  0.67  1.00  0.78    0.78   \n",
       "\n",
       "   DScore  PScore  NScore  HScore  LScore  totalScore  \n",
       "0    0.73    0.44    1.00    0.86    0.91        0.73  \n",
       "1    0.50    0.22    0.33    0.29    0.18        0.39  \n",
       "2    0.39    0.67    0.44    0.29    0.55        0.47  \n",
       "3    0.73    0.11    0.67    0.43    0.27        0.56  \n",
       "4    0.45    0.44    0.56    0.57    0.36        0.47  \n",
       "5    0.28    0.33    0.44    0.14    0.27        0.33  \n",
       "6    0.89    0.78    0.78    0.86    0.91        0.83  "
      ]
     },
     "execution_count": 62,
     "metadata": {},
     "output_type": "execute_result"
    }
   ],
   "source": [
    "df"
   ]
  },
  {
   "cell_type": "code",
   "execution_count": 54,
   "metadata": {},
   "outputs": [],
   "source": [
    "df_interactive = df.loc[df['condition'] == 6]\n",
    "df_automated = df.loc[df['condition'] == 5]\n",
    "df_manual = df.loc[df['condition'] == 4]"
   ]
  },
  {
   "cell_type": "code",
   "execution_count": 67,
   "metadata": {},
   "outputs": [
    {
     "name": "stdout",
     "output_type": "stream",
     "text": [
      "Ttest_indResult(statistic=2.6820143797423013, pvalue=0.07492051569852315)\n",
      "Ttest_indResult(statistic=2.609512442862909, pvalue=0.07971848867244173)\n"
     ]
    }
   ],
   "source": [
    "print(stats.ttest_ind(df_interactive['totalScore'], df_manual['totalScore']))\n",
    "print(stats.ttest_ind(df_interactive['totalScore'], df_automated['totalScore']))"
   ]
  },
  {
   "cell_type": "code",
   "execution_count": 66,
   "metadata": {},
   "outputs": [
    {
     "name": "stdout",
     "output_type": "stream",
     "text": [
      "Ttest_indResult(statistic=5.594865809996459, pvalue=0.01127926234620286)\n",
      "Ttest_indResult(statistic=4.32263442068027, pvalue=0.0228189237556945)\n"
     ]
    }
   ],
   "source": [
    "print(stats.ttest_ind(df_interactive['DScore'], df_manual['DScore']))\n",
    "print(stats.ttest_ind(df_interactive['DScore'], df_automated['DScore']))"
   ]
  },
  {
   "cell_type": "code",
   "execution_count": 68,
   "metadata": {},
   "outputs": [
    {
     "name": "stdout",
     "output_type": "stream",
     "text": [
      "Ttest_indResult(statistic=3.007546588450481, pvalue=0.05732346904976063)\n",
      "Ttest_indResult(statistic=2.4489727104815637, pvalue=0.09176335554706658)\n"
     ]
    }
   ],
   "source": [
    "print(stats.ttest_ind(df_interactive['NScore'], df_manual['NScore']))\n",
    "print(stats.ttest_ind(df_interactive['NScore'], df_automated['NScore']))"
   ]
  },
  {
   "cell_type": "code",
   "execution_count": null,
   "metadata": {},
   "outputs": [],
   "source": []
  },
  {
   "cell_type": "code",
   "execution_count": 70,
   "metadata": {},
   "outputs": [
    {
     "data": {
      "text/plain": [
       "F_onewayResult(statistic=5.83819628647215, pvalue=0.06510700553422599)"
      ]
     },
     "execution_count": 70,
     "metadata": {},
     "output_type": "execute_result"
    }
   ],
   "source": [
    "stats.f_oneway(df_interactive['totalScore'], df_automated['totalScore'],df_manual['totalScore'])"
   ]
  },
  {
   "cell_type": "code",
   "execution_count": null,
   "metadata": {},
   "outputs": [],
   "source": []
  },
  {
   "cell_type": "markdown",
   "metadata": {},
   "source": [
    "# Survey results"
   ]
  },
  {
   "cell_type": "code",
   "execution_count": 57,
   "metadata": {},
   "outputs": [
    {
     "data": {
      "image/png": "[encoded data removed]",
      "text/plain": [
       "<Figure size 792x1296 with 3 Axes>"
      ]
     },
     "metadata": {},
     "output_type": "display_data"
    }
   ],
   "source": [
    "visualizer.featurePrefPlot(figsize=(11,18))"
   ]
  },
  {
   "cell_type": "code",
   "execution_count": 58,
   "metadata": {},
   "outputs": [
    {
     "data": {
      "image/png": "[encoded data removed]",
      "text/plain": [
       "<Figure size 936x432 with 1 Axes>"
      ]
     },
     "metadata": {},
     "output_type": "display_data"
    }
   ],
   "source": [
    "visualizer.selfAssessmentPlot()"
   ]
  },
  {
   "cell_type": "code",
   "execution_count": null,
   "metadata": {},
   "outputs": [],
   "source": []
  },
  {
   "cell_type": "code",
   "execution_count": null,
   "metadata": {},
   "outputs": [],
   "source": []
  },
  {
   "cell_type": "code",
   "execution_count": null,
   "metadata": {},
   "outputs": [],
   "source": []
  },
  {
   "cell_type": "code",
   "execution_count": null,
   "metadata": {},
   "outputs": [],
   "source": []
  },
  {
   "cell_type": "code",
   "execution_count": 59,
   "metadata": {},
   "outputs": [
    {
     "ename": "SyntaxError",
     "evalue": "invalid syntax (<ipython-input-59-c985d6ba8f59>, line 1)",
     "output_type": "error",
     "traceback": [
      "\u001b[0;36m  File \u001b[0;32m\"<ipython-input-59-c985d6ba8f59>\"\u001b[0;36m, line \u001b[0;32m1\u001b[0m\n\u001b[0;31m    die here\u001b[0m\n\u001b[0m           ^\u001b[0m\n\u001b[0;31mSyntaxError\u001b[0m\u001b[0;31m:\u001b[0m invalid syntax\n"
     ]
    }
   ],
   "source": [
    "die here"
   ]
  },
  {
   "cell_type": "code",
   "execution_count": null,
   "metadata": {},
   "outputs": [],
   "source": []
  },
  {
   "cell_type": "code",
   "execution_count": null,
   "metadata": {},
   "outputs": [],
   "source": []
  },
  {
   "cell_type": "code",
   "execution_count": null,
   "metadata": {},
   "outputs": [],
   "source": []
  },
  {
   "cell_type": "code",
   "execution_count": null,
   "metadata": {},
   "outputs": [],
   "source": []
  },
  {
   "cell_type": "code",
   "execution_count": null,
   "metadata": {},
   "outputs": [],
   "source": []
  },
  {
   "cell_type": "code",
   "execution_count": null,
   "metadata": {},
   "outputs": [],
   "source": [
    "s0.learning_self_assessment_data"
   ]
  },
  {
   "cell_type": "code",
   "execution_count": null,
   "metadata": {},
   "outputs": [],
   "source": [
    "s0.feature_preference_data"
   ]
  },
  {
   "cell_type": "code",
   "execution_count": null,
   "metadata": {},
   "outputs": [],
   "source": []
  },
  {
   "cell_type": "code",
   "execution_count": null,
   "metadata": {},
   "outputs": [],
   "source": [
    "s1.design_synthesis_task_data"
   ]
  },
  {
   "cell_type": "code",
   "execution_count": null,
   "metadata": {},
   "outputs": [],
   "source": [
    "s2.feature_synthesis_task_data"
   ]
  },
  {
   "cell_type": "code",
   "execution_count": null,
   "metadata": {
    "scrolled": true
   },
   "outputs": [],
   "source": [
    "s2.design_synthesis_task_data"
   ]
  },
  {
   "cell_type": "code",
   "execution_count": null,
   "metadata": {},
   "outputs": [],
   "source": []
  },
  {
   "cell_type": "code",
   "execution_count": null,
   "metadata": {},
   "outputs": [],
   "source": []
  },
  {
   "cell_type": "code",
   "execution_count": null,
   "metadata": {},
   "outputs": [],
   "source": []
  },
  {
   "cell_type": "code",
   "execution_count": null,
   "metadata": {},
   "outputs": [],
   "source": []
  },
  {
   "cell_type": "code",
   "execution_count": null,
   "metadata": {},
   "outputs": [],
   "source": []
  },
  {
   "cell_type": "code",
   "execution_count": null,
   "metadata": {},
   "outputs": [],
   "source": []
  },
  {
   "cell_type": "code",
   "execution_count": null,
   "metadata": {},
   "outputs": [],
   "source": []
  },
  {
   "cell_type": "code",
   "execution_count": null,
   "metadata": {},
   "outputs": [],
   "source": []
  },
  {
   "cell_type": "code",
   "execution_count": null,
   "metadata": {},
   "outputs": [],
   "source": []
  },
  {
   "cell_type": "code",
   "execution_count": null,
   "metadata": {},
   "outputs": [],
   "source": []
  },
  {
   "cell_type": "code",
   "execution_count": null,
   "metadata": {},
   "outputs": [],
   "source": [
    "# subjects = analyzer.filterSubjects(pretest_score_threshold=0.5)\n",
    "subjects = None\n",
    "\n",
    "means = []\n",
    "stdevs = []\n",
    "\n",
    "temp = []\n",
    "\n",
    "for i in range(3):    \n",
    "    data = analyzer.getScoreData(subjects=subjects, \n",
    "                                 condition_number=i, \n",
    "                                 exclude_first_task=True, \n",
    "                                 conf_min=0, \n",
    "                                 conf_max=100, \n",
    "                                 time_min=None)\n",
    "    \n",
    "    temp.append(data)\n",
    "\n",
    "    mean = np.mean(data)\n",
    "    stdev = np.std(data)\n",
    "    standardError = stdev / math.sqrt(len(data))\n",
    "    confInterval = st.t.interval(0.95, len(data)-1, loc=np.mean(data), scale=st.sem(data))\n",
    "    print(\"condition: {0}, mean: {1}, std: {2}, standardError: {3}\".format(i, mean, stdev, standardError))\n",
    "    \n",
    "    means.append(mean)\n",
    "    stdevs.append(stdev)"
   ]
  },
  {
   "cell_type": "code",
   "execution_count": null,
   "metadata": {},
   "outputs": [],
   "source": [
    "np.shape(temp)"
   ]
  },
  {
   "cell_type": "code",
   "execution_count": null,
   "metadata": {},
   "outputs": [],
   "source": [
    "st.ttest_ind(temp[0], temp[1])"
   ]
  },
  {
   "cell_type": "code",
   "execution_count": null,
   "metadata": {},
   "outputs": [],
   "source": [
    "plotBarGraph(means[0], stdevs[0], means[1], stdevs[1], means[2], stdevs[2])"
   ]
  },
  {
   "cell_type": "code",
   "execution_count": null,
   "metadata": {},
   "outputs": [],
   "source": []
  },
  {
   "cell_type": "code",
   "execution_count": null,
   "metadata": {},
   "outputs": [],
   "source": []
  },
  {
   "cell_type": "code",
   "execution_count": null,
   "metadata": {},
   "outputs": [],
   "source": []
  },
  {
   "cell_type": "code",
   "execution_count": null,
   "metadata": {},
   "outputs": [],
   "source": [
    "def plotScatter(x1, x2, x3):\n",
    "    plt.scatter(x1,x2, s=None, c=x3, alpha=0.5)\n",
    "    plt.show()"
   ]
  },
  {
   "cell_type": "code",
   "execution_count": null,
   "metadata": {},
   "outputs": [],
   "source": [
    "def plotBarGraph(mean1, stdev1, mean2, stdev2, mean3=None, stdev3=None):\n",
    "    \n",
    "    if mean3 is not None:\n",
    "        N = 3\n",
    "        means = (mean1, mean2, mean3)\n",
    "        stdevs = (stdev1, stdev2, stdev3)\n",
    "    \n",
    "    else:\n",
    "        N = 2\n",
    "        means = (mean1, mean2)\n",
    "        stdevs = (stdev1, stdev2)\n",
    "        \n",
    "    ind = np.arange(N)  # the x locations for the groups\n",
    "    width = 0.35       # the width of the bars\n",
    "\n",
    "    fig, ax = plt.subplots()\n",
    "    rects1 = ax.bar(ind, means, width, color='skyblue', yerr=stdevs)\n",
    "\n",
    "    # add some text for labels, title and axes ticks\n",
    "    ax.set_ylabel('Scores')\n",
    "    ax.set_title('Scores')\n",
    "    \n",
    "    if mean3 is not None:\n",
    "        ax.set_xticks(ind + width / 3)\n",
    "        ax.set_xticklabels(('1', '2', '3'))\n",
    "        \n",
    "    else:\n",
    "        ax.set_xticks(ind + width / 2)\n",
    "        ax.set_xticklabels(('1', '2'))\n",
    "\n",
    "    #ax.legend((rects1[0], rects2[0]), ('Men', 'Women'))\n",
    "\n",
    "    plt.show()"
   ]
  },
  {
   "cell_type": "code",
   "execution_count": null,
   "metadata": {},
   "outputs": [],
   "source": [
    "def plotECDF(scores1,scores2):\n",
    "    \n",
    "    import statsmodels.api as sm # recommended import according to the docs\n",
    "\n",
    "    sample = scores1\n",
    "    ecdf = sm.distributions.ECDF(scores1)\n",
    "    x = np.linspace(min(sample), max(sample))\n",
    "    y = ecdf(x)\n",
    "    plt.step(x, y)\n",
    "\n",
    "    sample2 = scores2\n",
    "    ecdf = sm.distributions.ECDF(sample2)\n",
    "    x = np.linspace(min(sample2), max(sample2))\n",
    "    y = ecdf(x)\n",
    "    plt.step(x, y)\n",
    "\n",
    "    plt.show()"
   ]
  },
  {
   "cell_type": "code",
   "execution_count": null,
   "metadata": {},
   "outputs": [],
   "source": [
    "def writeToFile(data, header ,filePath = \"/Users/bang/workspace/iFEED-experiment-201711-result/data/data.csv\"):\n",
    "    with open(filePath, 'w') as f:\n",
    "        f.write(header + \"\\n\")\n",
    "        for row in data:\n",
    "            f.write(\",\".join(row) + \"\\n\")\n",
    "    "
   ]
  },
  {
   "cell_type": "code",
   "execution_count": null,
   "metadata": {},
   "outputs": [],
   "source": []
  },
  {
   "cell_type": "code",
   "execution_count": null,
   "metadata": {},
   "outputs": [],
   "source": []
  },
  {
   "cell_type": "markdown",
   "metadata": {},
   "source": [
    "# dataframe test"
   ]
  },
  {
   "cell_type": "code",
   "execution_count": null,
   "metadata": {},
   "outputs": [],
   "source": [
    "df = resultAnalyzer.getDataFrame()"
   ]
  },
  {
   "cell_type": "code",
   "execution_count": null,
   "metadata": {},
   "outputs": [],
   "source": [
    "df['fcl']"
   ]
  },
  {
   "cell_type": "code",
   "execution_count": null,
   "metadata": {},
   "outputs": [],
   "source": []
  },
  {
   "cell_type": "code",
   "execution_count": null,
   "metadata": {},
   "outputs": [],
   "source": [
    "df.loc[df['shield'] > 35] = 0"
   ]
  },
  {
   "cell_type": "code",
   "execution_count": null,
   "metadata": {},
   "outputs": [],
   "source": []
  },
  {
   "cell_type": "code",
   "execution_count": null,
   "metadata": {},
   "outputs": [],
   "source": [
    "df.boxplot(column=['fcl','fpwc','dcl','dpwc'])"
   ]
  },
  {
   "cell_type": "code",
   "execution_count": null,
   "metadata": {},
   "outputs": [],
   "source": [
    "df.boxplot(by=[\"condition\"], column=['PScore', 'NScore'], layout=None)"
   ]
  },
  {
   "cell_type": "code",
   "execution_count": null,
   "metadata": {},
   "outputs": [],
   "source": []
  },
  {
   "cell_type": "code",
   "execution_count": null,
   "metadata": {},
   "outputs": [],
   "source": []
  },
  {
   "cell_type": "code",
   "execution_count": null,
   "metadata": {},
   "outputs": [],
   "source": []
  }
 ],
 "metadata": {
  "kernelspec": {
   "display_name": "Python 3",
   "language": "python",
   "name": "python3"
  },
  "language_info": {
   "codemirror_mode": {
    "name": "ipython",
    "version": 3
   },
   "file_extension": ".py",
   "mimetype": "text/x-python",
   "name": "python",
   "nbconvert_exporter": "python",
   "pygments_lexer": "ipython3",
   "version": "3.6.5"
  }
 },
 "nbformat": 4,
 "nbformat_minor": 2
}
