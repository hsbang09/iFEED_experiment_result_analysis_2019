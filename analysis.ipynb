{
 "cells": [
  {
   "cell_type": "code",
   "execution_count": 1,
   "metadata": {},
   "outputs": [
    {
     "data": {
      "text/plain": [
       "<module 'utils' from '/Users/bang/workspace/iFEED_experiment_result_analysis_2019/utils.py'>"
      ]
     },
     "execution_count": 1,
     "metadata": {},
     "output_type": "execute_result"
    }
   ],
   "source": [
    "import numpy as np\n",
    "import importlib\n",
    "from matplotlib import pyplot as plt\n",
    "import pandas as pd\n",
    "import math\n",
    "import os\n",
    "from scipy import stats\n",
    "import seaborn as sns\n",
    "import statsmodels.api as sm\n",
    "import sklearn\n",
    "%matplotlib inline\n",
    "\n",
    "import analyzer\n",
    "import subject\n",
    "import visualization\n",
    "import utils\n",
    "importlib.reload(analyzer)\n",
    "importlib.reload(subject)\n",
    "importlib.reload(visualization)\n",
    "importlib.reload(utils)"
   ]
  },
  {
   "cell_type": "markdown",
   "metadata": {},
   "source": [
    "Set file paths"
   ]
  },
  {
   "cell_type": "code",
   "execution_count": 2,
   "metadata": {},
   "outputs": [],
   "source": [
    "rootPath = os.getcwd()\n",
    "dataFilePath = os.path.join(rootPath, 'data')"
   ]
  },
  {
   "cell_type": "code",
   "execution_count": 3,
   "metadata": {},
   "outputs": [],
   "source": [
    "surveyDataFilePath = os.path.join(dataFilePath, 'survey.csv')\n",
    "loggedDataFilesRootPath = dataFilePath"
   ]
  },
  {
   "cell_type": "markdown",
   "metadata": {},
   "source": [
    "Initialize the analyzer"
   ]
  },
  {
   "cell_type": "code",
   "execution_count": 4,
   "metadata": {
    "scrolled": false
   },
   "outputs": [],
   "source": [
    "resultAnalyzer = analyzer.ResultAnalyzer(surveyDataFilePath, loggedDataFilesRootPath)"
   ]
  },
  {
   "cell_type": "code",
   "execution_count": 5,
   "metadata": {},
   "outputs": [],
   "source": [
    "resultAnalyzer.gradeAnswers(confidenceThreshold=10)"
   ]
  },
  {
   "cell_type": "code",
   "execution_count": 6,
   "metadata": {},
   "outputs": [],
   "source": [
    "resultAnalyzer.computeIGD(os.path.join(rootPath, 'target_selection.csv'), useShortestDistance=True)"
   ]
  },
  {
   "cell_type": "code",
   "execution_count": 7,
   "metadata": {},
   "outputs": [],
   "source": [
    "resultAnalyzer.computeHV(os.path.join(rootPath, 'target_selection.csv'))"
   ]
  },
  {
   "cell_type": "code",
   "execution_count": 8,
   "metadata": {},
   "outputs": [],
   "source": [
    "s0 = resultAnalyzer.subjects[0]\n",
    "s1 = resultAnalyzer.subjects[1]\n",
    "s2 = resultAnalyzer.subjects[2]\n",
    "s3 = resultAnalyzer.subjects[3]\n",
    "s4 = resultAnalyzer.subjects[4]\n",
    "s5 = resultAnalyzer.subjects[5]\n",
    "s6 = resultAnalyzer.subjects[6]\n"
   ]
  },
  {
   "cell_type": "code",
   "execution_count": null,
   "metadata": {},
   "outputs": [],
   "source": []
  },
  {
   "cell_type": "markdown",
   "metadata": {},
   "source": [
    "# Get DataFrame"
   ]
  },
  {
   "cell_type": "code",
   "execution_count": 9,
   "metadata": {},
   "outputs": [
    {
     "data": {
      "text/html": [
       "<div>\n",
       "<style scoped>\n",
       "    .dataframe tbody tr th:only-of-type {\n",
       "        vertical-align: middle;\n",
       "    }\n",
       "\n",
       "    .dataframe tbody tr th {\n",
       "        vertical-align: top;\n",
       "    }\n",
       "\n",
       "    .dataframe thead th {\n",
       "        text-align: right;\n",
       "    }\n",
       "</style>\n",
       "<table border=\"1\" class=\"dataframe\">\n",
       "  <thead>\n",
       "    <tr style=\"text-align: right;\">\n",
       "      <th></th>\n",
       "      <th>id</th>\n",
       "      <th>condition</th>\n",
       "      <th>type</th>\n",
       "      <th>DS_numDesignEvaluated</th>\n",
       "      <th>HV</th>\n",
       "      <th>conf_dcl</th>\n",
       "      <th>conf_fpwc</th>\n",
       "      <th>FS_numFeatureTested</th>\n",
       "      <th>normalizedSA</th>\n",
       "      <th>HScore</th>\n",
       "      <th>...</th>\n",
       "      <th>meanDist2UP</th>\n",
       "      <th>dpwc</th>\n",
       "      <th>entropy</th>\n",
       "      <th>dcl</th>\n",
       "      <th>NScore</th>\n",
       "      <th>selfAssessment</th>\n",
       "      <th>adjustedIGD</th>\n",
       "      <th>FScore</th>\n",
       "      <th>totalScore</th>\n",
       "      <th>PScore</th>\n",
       "    </tr>\n",
       "  </thead>\n",
       "  <tbody>\n",
       "    <tr>\n",
       "      <th>0</th>\n",
       "      <td>5401038285006004819-9_15_19_13</td>\n",
       "      <td>interactive</td>\n",
       "      <td>explicit</td>\n",
       "      <td>12</td>\n",
       "      <td>0.544</td>\n",
       "      <td>0.634</td>\n",
       "      <td>0.401</td>\n",
       "      <td>7</td>\n",
       "      <td>0.571</td>\n",
       "      <td>0.86</td>\n",
       "      <td>...</td>\n",
       "      <td>0.831</td>\n",
       "      <td>0.67</td>\n",
       "      <td>0.717</td>\n",
       "      <td>0.78</td>\n",
       "      <td>1.00</td>\n",
       "      <td>2.50</td>\n",
       "      <td>0.707</td>\n",
       "      <td>0.73</td>\n",
       "      <td>0.73</td>\n",
       "      <td>0.44</td>\n",
       "    </tr>\n",
       "    <tr>\n",
       "      <th>1</th>\n",
       "      <td>3700789476005004819-9_16_15_58</td>\n",
       "      <td>automated</td>\n",
       "      <td>explicit</td>\n",
       "      <td>42</td>\n",
       "      <td>0.643</td>\n",
       "      <td>0.859</td>\n",
       "      <td>0.309</td>\n",
       "      <td>6</td>\n",
       "      <td>0.000</td>\n",
       "      <td>0.29</td>\n",
       "      <td>...</td>\n",
       "      <td>0.436</td>\n",
       "      <td>0.33</td>\n",
       "      <td>1.392</td>\n",
       "      <td>0.67</td>\n",
       "      <td>0.33</td>\n",
       "      <td>1.50</td>\n",
       "      <td>0.297</td>\n",
       "      <td>0.28</td>\n",
       "      <td>0.39</td>\n",
       "      <td>0.22</td>\n",
       "    </tr>\n",
       "    <tr>\n",
       "      <th>2</th>\n",
       "      <td>3664515135004004819-9_20_14_13</td>\n",
       "      <td>manual</td>\n",
       "      <td>implicit</td>\n",
       "      <td>16</td>\n",
       "      <td>0.472</td>\n",
       "      <td>0.673</td>\n",
       "      <td>0.533</td>\n",
       "      <td>11</td>\n",
       "      <td>0.571</td>\n",
       "      <td>0.29</td>\n",
       "      <td>...</td>\n",
       "      <td>0.813</td>\n",
       "      <td>0.33</td>\n",
       "      <td>0.991</td>\n",
       "      <td>0.44</td>\n",
       "      <td>0.44</td>\n",
       "      <td>2.50</td>\n",
       "      <td>0.511</td>\n",
       "      <td>0.56</td>\n",
       "      <td>0.47</td>\n",
       "      <td>0.67</td>\n",
       "    </tr>\n",
       "    <tr>\n",
       "      <th>3</th>\n",
       "      <td>3221520754006004819-10_2_6_8</td>\n",
       "      <td>interactive</td>\n",
       "      <td>explicit</td>\n",
       "      <td>14</td>\n",
       "      <td>0.506</td>\n",
       "      <td>0.268</td>\n",
       "      <td>0.134</td>\n",
       "      <td>5</td>\n",
       "      <td>0.429</td>\n",
       "      <td>0.43</td>\n",
       "      <td>...</td>\n",
       "      <td>0.623</td>\n",
       "      <td>0.78</td>\n",
       "      <td>0.671</td>\n",
       "      <td>0.67</td>\n",
       "      <td>0.67</td>\n",
       "      <td>2.25</td>\n",
       "      <td>1.000</td>\n",
       "      <td>0.39</td>\n",
       "      <td>0.56</td>\n",
       "      <td>0.11</td>\n",
       "    </tr>\n",
       "    <tr>\n",
       "      <th>4</th>\n",
       "      <td>5577734270005004819-10_4_13_54</td>\n",
       "      <td>automated</td>\n",
       "      <td>explicit</td>\n",
       "      <td>22</td>\n",
       "      <td>0.416</td>\n",
       "      <td>0.514</td>\n",
       "      <td>0.433</td>\n",
       "      <td>8</td>\n",
       "      <td>0.857</td>\n",
       "      <td>0.57</td>\n",
       "      <td>...</td>\n",
       "      <td>0.510</td>\n",
       "      <td>0.22</td>\n",
       "      <td>1.056</td>\n",
       "      <td>0.67</td>\n",
       "      <td>0.56</td>\n",
       "      <td>3.00</td>\n",
       "      <td>0.000</td>\n",
       "      <td>0.50</td>\n",
       "      <td>0.47</td>\n",
       "      <td>0.44</td>\n",
       "    </tr>\n",
       "    <tr>\n",
       "      <th>5</th>\n",
       "      <td>1708104476004004819-10_8_16_14</td>\n",
       "      <td>manual</td>\n",
       "      <td>implicit</td>\n",
       "      <td>24</td>\n",
       "      <td>0.503</td>\n",
       "      <td>0.326</td>\n",
       "      <td>0.212</td>\n",
       "      <td>14</td>\n",
       "      <td>0.429</td>\n",
       "      <td>0.14</td>\n",
       "      <td>...</td>\n",
       "      <td>0.915</td>\n",
       "      <td>0.11</td>\n",
       "      <td>0.997</td>\n",
       "      <td>0.44</td>\n",
       "      <td>0.44</td>\n",
       "      <td>2.25</td>\n",
       "      <td>0.213</td>\n",
       "      <td>0.39</td>\n",
       "      <td>0.33</td>\n",
       "      <td>0.33</td>\n",
       "    </tr>\n",
       "    <tr>\n",
       "      <th>6</th>\n",
       "      <td>5772081801006004819-10_10_13_3</td>\n",
       "      <td>interactive</td>\n",
       "      <td>explicit</td>\n",
       "      <td>28</td>\n",
       "      <td>0.413</td>\n",
       "      <td>0.802</td>\n",
       "      <td>0.503</td>\n",
       "      <td>12</td>\n",
       "      <td>1.000</td>\n",
       "      <td>0.86</td>\n",
       "      <td>...</td>\n",
       "      <td>0.674</td>\n",
       "      <td>0.78</td>\n",
       "      <td>1.094</td>\n",
       "      <td>1.00</td>\n",
       "      <td>0.78</td>\n",
       "      <td>3.25</td>\n",
       "      <td>0.328</td>\n",
       "      <td>0.78</td>\n",
       "      <td>0.83</td>\n",
       "      <td>0.78</td>\n",
       "    </tr>\n",
       "  </tbody>\n",
       "</table>\n",
       "<p>7 rows × 38 columns</p>\n",
       "</div>"
      ],
      "text/plain": [
       "                               id    condition      type  \\\n",
       "0  5401038285006004819-9_15_19_13  interactive  explicit   \n",
       "1  3700789476005004819-9_16_15_58    automated  explicit   \n",
       "2  3664515135004004819-9_20_14_13       manual  implicit   \n",
       "3    3221520754006004819-10_2_6_8  interactive  explicit   \n",
       "4  5577734270005004819-10_4_13_54    automated  explicit   \n",
       "5  1708104476004004819-10_8_16_14       manual  implicit   \n",
       "6  5772081801006004819-10_10_13_3  interactive  explicit   \n",
       "\n",
       "   DS_numDesignEvaluated     HV  conf_dcl  conf_fpwc  FS_numFeatureTested  \\\n",
       "0                     12  0.544     0.634      0.401                    7   \n",
       "1                     42  0.643     0.859      0.309                    6   \n",
       "2                     16  0.472     0.673      0.533                   11   \n",
       "3                     14  0.506     0.268      0.134                    5   \n",
       "4                     22  0.416     0.514      0.433                    8   \n",
       "5                     24  0.503     0.326      0.212                   14   \n",
       "6                     28  0.413     0.802      0.503                   12   \n",
       "\n",
       "   normalizedSA  HScore   ...    meanDist2UP  dpwc  entropy   dcl  NScore  \\\n",
       "0         0.571    0.86   ...          0.831  0.67    0.717  0.78    1.00   \n",
       "1         0.000    0.29   ...          0.436  0.33    1.392  0.67    0.33   \n",
       "2         0.571    0.29   ...          0.813  0.33    0.991  0.44    0.44   \n",
       "3         0.429    0.43   ...          0.623  0.78    0.671  0.67    0.67   \n",
       "4         0.857    0.57   ...          0.510  0.22    1.056  0.67    0.56   \n",
       "5         0.429    0.14   ...          0.915  0.11    0.997  0.44    0.44   \n",
       "6         1.000    0.86   ...          0.674  0.78    1.094  1.00    0.78   \n",
       "\n",
       "   selfAssessment  adjustedIGD  FScore  totalScore  PScore  \n",
       "0            2.50        0.707    0.73        0.73    0.44  \n",
       "1            1.50        0.297    0.28        0.39    0.22  \n",
       "2            2.50        0.511    0.56        0.47    0.67  \n",
       "3            2.25        1.000    0.39        0.56    0.11  \n",
       "4            3.00        0.000    0.50        0.47    0.44  \n",
       "5            2.25        0.213    0.39        0.33    0.33  \n",
       "6            3.25        0.328    0.78        0.83    0.78  \n",
       "\n",
       "[7 rows x 38 columns]"
      ]
     },
     "execution_count": 9,
     "metadata": {},
     "output_type": "execute_result"
    }
   ],
   "source": [
    "df = resultAnalyzer.getDataFrame(option=\"all\",excludeHV=False, adjustIGDUsingEntropy=False)\n",
    "df"
   ]
  },
  {
   "cell_type": "code",
   "execution_count": 10,
   "metadata": {},
   "outputs": [
    {
     "data": {
      "text/html": [
       "<div>\n",
       "<style scoped>\n",
       "    .dataframe tbody tr th:only-of-type {\n",
       "        vertical-align: middle;\n",
       "    }\n",
       "\n",
       "    .dataframe tbody tr th {\n",
       "        vertical-align: top;\n",
       "    }\n",
       "\n",
       "    .dataframe thead th {\n",
       "        text-align: right;\n",
       "    }\n",
       "</style>\n",
       "<table border=\"1\" class=\"dataframe\">\n",
       "  <thead>\n",
       "    <tr style=\"text-align: right;\">\n",
       "      <th></th>\n",
       "      <th>id</th>\n",
       "      <th>condition</th>\n",
       "      <th>type</th>\n",
       "      <th>LT_numDesignViewed</th>\n",
       "      <th>LT_numFeatureViewed</th>\n",
       "      <th>LT_numFilterUsed</th>\n",
       "      <th>LT_numFeatureFound</th>\n",
       "    </tr>\n",
       "  </thead>\n",
       "  <tbody>\n",
       "    <tr>\n",
       "      <th>0</th>\n",
       "      <td>5401038285006004819-9_15_19_13</td>\n",
       "      <td>interactive</td>\n",
       "      <td>explicit</td>\n",
       "      <td>62</td>\n",
       "      <td>42</td>\n",
       "      <td>0</td>\n",
       "      <td>77</td>\n",
       "    </tr>\n",
       "    <tr>\n",
       "      <th>1</th>\n",
       "      <td>3700789476005004819-9_16_15_58</td>\n",
       "      <td>automated</td>\n",
       "      <td>explicit</td>\n",
       "      <td>751</td>\n",
       "      <td>9</td>\n",
       "      <td>0</td>\n",
       "      <td>30</td>\n",
       "    </tr>\n",
       "    <tr>\n",
       "      <th>2</th>\n",
       "      <td>3664515135004004819-9_20_14_13</td>\n",
       "      <td>manual</td>\n",
       "      <td>implicit</td>\n",
       "      <td>1018</td>\n",
       "      <td>10</td>\n",
       "      <td>21</td>\n",
       "      <td>0</td>\n",
       "    </tr>\n",
       "    <tr>\n",
       "      <th>3</th>\n",
       "      <td>3221520754006004819-10_2_6_8</td>\n",
       "      <td>interactive</td>\n",
       "      <td>explicit</td>\n",
       "      <td>34</td>\n",
       "      <td>14</td>\n",
       "      <td>0</td>\n",
       "      <td>77</td>\n",
       "    </tr>\n",
       "    <tr>\n",
       "      <th>4</th>\n",
       "      <td>5577734270005004819-10_4_13_54</td>\n",
       "      <td>automated</td>\n",
       "      <td>explicit</td>\n",
       "      <td>42</td>\n",
       "      <td>10</td>\n",
       "      <td>0</td>\n",
       "      <td>31</td>\n",
       "    </tr>\n",
       "    <tr>\n",
       "      <th>5</th>\n",
       "      <td>1708104476004004819-10_8_16_14</td>\n",
       "      <td>manual</td>\n",
       "      <td>implicit</td>\n",
       "      <td>436</td>\n",
       "      <td>12</td>\n",
       "      <td>11</td>\n",
       "      <td>10</td>\n",
       "    </tr>\n",
       "    <tr>\n",
       "      <th>6</th>\n",
       "      <td>5772081801006004819-10_10_13_3</td>\n",
       "      <td>interactive</td>\n",
       "      <td>explicit</td>\n",
       "      <td>23</td>\n",
       "      <td>25</td>\n",
       "      <td>1</td>\n",
       "      <td>50</td>\n",
       "    </tr>\n",
       "  </tbody>\n",
       "</table>\n",
       "</div>"
      ],
      "text/plain": [
       "                               id    condition      type  LT_numDesignViewed  \\\n",
       "0  5401038285006004819-9_15_19_13  interactive  explicit                  62   \n",
       "1  3700789476005004819-9_16_15_58    automated  explicit                 751   \n",
       "2  3664515135004004819-9_20_14_13       manual  implicit                1018   \n",
       "3    3221520754006004819-10_2_6_8  interactive  explicit                  34   \n",
       "4  5577734270005004819-10_4_13_54    automated  explicit                  42   \n",
       "5  1708104476004004819-10_8_16_14       manual  implicit                 436   \n",
       "6  5772081801006004819-10_10_13_3  interactive  explicit                  23   \n",
       "\n",
       "   LT_numFeatureViewed  LT_numFilterUsed  LT_numFeatureFound  \n",
       "0                   42                 0                  77  \n",
       "1                    9                 0                  30  \n",
       "2                   10                21                   0  \n",
       "3                   14                 0                  77  \n",
       "4                   10                 0                  31  \n",
       "5                   12                11                  10  \n",
       "6                   25                 1                  50  "
      ]
     },
     "execution_count": 10,
     "metadata": {},
     "output_type": "execute_result"
    }
   ],
   "source": [
    "resultAnalyzer.getDataFrame(option=\"learningTask\")"
   ]
  },
  {
   "cell_type": "code",
   "execution_count": 11,
   "metadata": {},
   "outputs": [
    {
     "data": {
      "text/html": [
       "<div>\n",
       "<style scoped>\n",
       "    .dataframe tbody tr th:only-of-type {\n",
       "        vertical-align: middle;\n",
       "    }\n",
       "\n",
       "    .dataframe tbody tr th {\n",
       "        vertical-align: top;\n",
       "    }\n",
       "\n",
       "    .dataframe thead th {\n",
       "        text-align: right;\n",
       "    }\n",
       "</style>\n",
       "<table border=\"1\" class=\"dataframe\">\n",
       "  <thead>\n",
       "    <tr style=\"text-align: right;\">\n",
       "      <th></th>\n",
       "      <th>id</th>\n",
       "      <th>condition</th>\n",
       "      <th>type</th>\n",
       "      <th>meanDist2UP</th>\n",
       "      <th>normalizedDist2UP</th>\n",
       "      <th>FS_numFeatureViewed</th>\n",
       "      <th>FS_numFilterUsed</th>\n",
       "      <th>FS_numFeatureTested</th>\n",
       "    </tr>\n",
       "  </thead>\n",
       "  <tbody>\n",
       "    <tr>\n",
       "      <th>0</th>\n",
       "      <td>5401038285006004819-9_15_19_13</td>\n",
       "      <td>interactive</td>\n",
       "      <td>explicit</td>\n",
       "      <td>0.831</td>\n",
       "      <td>0.175</td>\n",
       "      <td>1</td>\n",
       "      <td>8</td>\n",
       "      <td>7</td>\n",
       "    </tr>\n",
       "    <tr>\n",
       "      <th>1</th>\n",
       "      <td>3700789476005004819-9_16_15_58</td>\n",
       "      <td>automated</td>\n",
       "      <td>explicit</td>\n",
       "      <td>0.436</td>\n",
       "      <td>1.000</td>\n",
       "      <td>0</td>\n",
       "      <td>7</td>\n",
       "      <td>6</td>\n",
       "    </tr>\n",
       "    <tr>\n",
       "      <th>2</th>\n",
       "      <td>3664515135004004819-9_20_14_13</td>\n",
       "      <td>manual</td>\n",
       "      <td>implicit</td>\n",
       "      <td>0.813</td>\n",
       "      <td>0.213</td>\n",
       "      <td>11</td>\n",
       "      <td>9</td>\n",
       "      <td>11</td>\n",
       "    </tr>\n",
       "    <tr>\n",
       "      <th>3</th>\n",
       "      <td>3221520754006004819-10_2_6_8</td>\n",
       "      <td>interactive</td>\n",
       "      <td>explicit</td>\n",
       "      <td>0.623</td>\n",
       "      <td>0.610</td>\n",
       "      <td>4</td>\n",
       "      <td>5</td>\n",
       "      <td>5</td>\n",
       "    </tr>\n",
       "    <tr>\n",
       "      <th>4</th>\n",
       "      <td>5577734270005004819-10_4_13_54</td>\n",
       "      <td>automated</td>\n",
       "      <td>explicit</td>\n",
       "      <td>0.510</td>\n",
       "      <td>0.846</td>\n",
       "      <td>0</td>\n",
       "      <td>9</td>\n",
       "      <td>8</td>\n",
       "    </tr>\n",
       "    <tr>\n",
       "      <th>5</th>\n",
       "      <td>1708104476004004819-10_8_16_14</td>\n",
       "      <td>manual</td>\n",
       "      <td>implicit</td>\n",
       "      <td>0.915</td>\n",
       "      <td>0.000</td>\n",
       "      <td>2</td>\n",
       "      <td>14</td>\n",
       "      <td>14</td>\n",
       "    </tr>\n",
       "    <tr>\n",
       "      <th>6</th>\n",
       "      <td>5772081801006004819-10_10_13_3</td>\n",
       "      <td>interactive</td>\n",
       "      <td>explicit</td>\n",
       "      <td>0.674</td>\n",
       "      <td>0.503</td>\n",
       "      <td>6</td>\n",
       "      <td>11</td>\n",
       "      <td>12</td>\n",
       "    </tr>\n",
       "  </tbody>\n",
       "</table>\n",
       "</div>"
      ],
      "text/plain": [
       "                               id    condition      type  meanDist2UP  \\\n",
       "0  5401038285006004819-9_15_19_13  interactive  explicit        0.831   \n",
       "1  3700789476005004819-9_16_15_58    automated  explicit        0.436   \n",
       "2  3664515135004004819-9_20_14_13       manual  implicit        0.813   \n",
       "3    3221520754006004819-10_2_6_8  interactive  explicit        0.623   \n",
       "4  5577734270005004819-10_4_13_54    automated  explicit        0.510   \n",
       "5  1708104476004004819-10_8_16_14       manual  implicit        0.915   \n",
       "6  5772081801006004819-10_10_13_3  interactive  explicit        0.674   \n",
       "\n",
       "   normalizedDist2UP  FS_numFeatureViewed  FS_numFilterUsed  \\\n",
       "0              0.175                    1                 8   \n",
       "1              1.000                    0                 7   \n",
       "2              0.213                   11                 9   \n",
       "3              0.610                    4                 5   \n",
       "4              0.846                    0                 9   \n",
       "5              0.000                    2                14   \n",
       "6              0.503                    6                11   \n",
       "\n",
       "   FS_numFeatureTested  \n",
       "0                    7  \n",
       "1                    6  \n",
       "2                   11  \n",
       "3                    5  \n",
       "4                    8  \n",
       "5                   14  \n",
       "6                   12  "
      ]
     },
     "execution_count": 11,
     "metadata": {},
     "output_type": "execute_result"
    }
   ],
   "source": [
    "resultAnalyzer.getDataFrame(option=\"featureSynthesis\")"
   ]
  },
  {
   "cell_type": "code",
   "execution_count": 12,
   "metadata": {},
   "outputs": [
    {
     "data": {
      "text/html": [
       "<div>\n",
       "<style scoped>\n",
       "    .dataframe tbody tr th:only-of-type {\n",
       "        vertical-align: middle;\n",
       "    }\n",
       "\n",
       "    .dataframe tbody tr th {\n",
       "        vertical-align: top;\n",
       "    }\n",
       "\n",
       "    .dataframe thead th {\n",
       "        text-align: right;\n",
       "    }\n",
       "</style>\n",
       "<table border=\"1\" class=\"dataframe\">\n",
       "  <thead>\n",
       "    <tr style=\"text-align: right;\">\n",
       "      <th></th>\n",
       "      <th>id</th>\n",
       "      <th>condition</th>\n",
       "      <th>type</th>\n",
       "      <th>meanIGD</th>\n",
       "      <th>normalizedIGD</th>\n",
       "      <th>adjustedIGD</th>\n",
       "      <th>numDesigns</th>\n",
       "      <th>DS_numDesignViewed</th>\n",
       "      <th>DS_numDesignEvaluated</th>\n",
       "      <th>entropy</th>\n",
       "    </tr>\n",
       "  </thead>\n",
       "  <tbody>\n",
       "    <tr>\n",
       "      <th>0</th>\n",
       "      <td>5401038285006004819-9_15_19_13</td>\n",
       "      <td>interactive</td>\n",
       "      <td>explicit</td>\n",
       "      <td>0.073</td>\n",
       "      <td>0.606</td>\n",
       "      <td>0.707</td>\n",
       "      <td>12</td>\n",
       "      <td>28</td>\n",
       "      <td>12</td>\n",
       "      <td>0.717</td>\n",
       "    </tr>\n",
       "    <tr>\n",
       "      <th>1</th>\n",
       "      <td>3700789476005004819-9_16_15_58</td>\n",
       "      <td>automated</td>\n",
       "      <td>explicit</td>\n",
       "      <td>0.034</td>\n",
       "      <td>0.891</td>\n",
       "      <td>0.297</td>\n",
       "      <td>42</td>\n",
       "      <td>62</td>\n",
       "      <td>42</td>\n",
       "      <td>1.392</td>\n",
       "    </tr>\n",
       "    <tr>\n",
       "      <th>2</th>\n",
       "      <td>3664515135004004819-9_20_14_13</td>\n",
       "      <td>manual</td>\n",
       "      <td>implicit</td>\n",
       "      <td>0.076</td>\n",
       "      <td>0.584</td>\n",
       "      <td>0.511</td>\n",
       "      <td>16</td>\n",
       "      <td>38</td>\n",
       "      <td>16</td>\n",
       "      <td>0.991</td>\n",
       "    </tr>\n",
       "    <tr>\n",
       "      <th>3</th>\n",
       "      <td>3221520754006004819-10_2_6_8</td>\n",
       "      <td>interactive</td>\n",
       "      <td>explicit</td>\n",
       "      <td>0.019</td>\n",
       "      <td>1.000</td>\n",
       "      <td>1.000</td>\n",
       "      <td>14</td>\n",
       "      <td>33</td>\n",
       "      <td>14</td>\n",
       "      <td>0.671</td>\n",
       "    </tr>\n",
       "    <tr>\n",
       "      <th>4</th>\n",
       "      <td>5577734270005004819-10_4_13_54</td>\n",
       "      <td>automated</td>\n",
       "      <td>explicit</td>\n",
       "      <td>0.156</td>\n",
       "      <td>0.000</td>\n",
       "      <td>0.000</td>\n",
       "      <td>22</td>\n",
       "      <td>36</td>\n",
       "      <td>22</td>\n",
       "      <td>1.056</td>\n",
       "    </tr>\n",
       "    <tr>\n",
       "      <th>5</th>\n",
       "      <td>1708104476004004819-10_8_16_14</td>\n",
       "      <td>manual</td>\n",
       "      <td>implicit</td>\n",
       "      <td>0.106</td>\n",
       "      <td>0.365</td>\n",
       "      <td>0.213</td>\n",
       "      <td>24</td>\n",
       "      <td>48</td>\n",
       "      <td>24</td>\n",
       "      <td>0.997</td>\n",
       "    </tr>\n",
       "    <tr>\n",
       "      <th>6</th>\n",
       "      <td>5772081801006004819-10_10_13_3</td>\n",
       "      <td>interactive</td>\n",
       "      <td>explicit</td>\n",
       "      <td>0.066</td>\n",
       "      <td>0.657</td>\n",
       "      <td>0.328</td>\n",
       "      <td>28</td>\n",
       "      <td>43</td>\n",
       "      <td>28</td>\n",
       "      <td>1.094</td>\n",
       "    </tr>\n",
       "  </tbody>\n",
       "</table>\n",
       "</div>"
      ],
      "text/plain": [
       "                               id    condition      type  meanIGD  \\\n",
       "0  5401038285006004819-9_15_19_13  interactive  explicit    0.073   \n",
       "1  3700789476005004819-9_16_15_58    automated  explicit    0.034   \n",
       "2  3664515135004004819-9_20_14_13       manual  implicit    0.076   \n",
       "3    3221520754006004819-10_2_6_8  interactive  explicit    0.019   \n",
       "4  5577734270005004819-10_4_13_54    automated  explicit    0.156   \n",
       "5  1708104476004004819-10_8_16_14       manual  implicit    0.106   \n",
       "6  5772081801006004819-10_10_13_3  interactive  explicit    0.066   \n",
       "\n",
       "   normalizedIGD  adjustedIGD  numDesigns  DS_numDesignViewed  \\\n",
       "0          0.606        0.707          12                  28   \n",
       "1          0.891        0.297          42                  62   \n",
       "2          0.584        0.511          16                  38   \n",
       "3          1.000        1.000          14                  33   \n",
       "4          0.000        0.000          22                  36   \n",
       "5          0.365        0.213          24                  48   \n",
       "6          0.657        0.328          28                  43   \n",
       "\n",
       "   DS_numDesignEvaluated  entropy  \n",
       "0                     12    0.717  \n",
       "1                     42    1.392  \n",
       "2                     16    0.991  \n",
       "3                     14    0.671  \n",
       "4                     22    1.056  \n",
       "5                     24    0.997  \n",
       "6                     28    1.094  "
      ]
     },
     "execution_count": 12,
     "metadata": {},
     "output_type": "execute_result"
    }
   ],
   "source": [
    "resultAnalyzer.getDataFrame(option=\"designSynthesis\")"
   ]
  },
  {
   "cell_type": "code",
   "execution_count": null,
   "metadata": {},
   "outputs": [],
   "source": []
  },
  {
   "cell_type": "code",
   "execution_count": null,
   "metadata": {},
   "outputs": [],
   "source": [
    "df1 = df[['FScore','meanDist2UP','meanIGD','selfAssessment']]\n",
    "print(df1.to_string(index=False))"
   ]
  },
  {
   "cell_type": "code",
   "execution_count": null,
   "metadata": {},
   "outputs": [],
   "source": []
  },
  {
   "cell_type": "markdown",
   "metadata": {},
   "source": [
    "# Demographic data"
   ]
  },
  {
   "cell_type": "code",
   "execution_count": null,
   "metadata": {},
   "outputs": [],
   "source": [
    "s0.demographic_data"
   ]
  },
  {
   "cell_type": "code",
   "execution_count": null,
   "metadata": {},
   "outputs": [],
   "source": [
    "s1.demographic_data"
   ]
  },
  {
   "cell_type": "code",
   "execution_count": null,
   "metadata": {},
   "outputs": [],
   "source": [
    "s2.demographic_data"
   ]
  },
  {
   "cell_type": "code",
   "execution_count": null,
   "metadata": {},
   "outputs": [],
   "source": [
    "s3.demographic_data"
   ]
  },
  {
   "cell_type": "code",
   "execution_count": null,
   "metadata": {},
   "outputs": [],
   "source": [
    "s4.demographic_data"
   ]
  },
  {
   "cell_type": "code",
   "execution_count": null,
   "metadata": {},
   "outputs": [],
   "source": [
    "s5.demographic_data"
   ]
  },
  {
   "cell_type": "code",
   "execution_count": null,
   "metadata": {},
   "outputs": [],
   "source": []
  },
  {
   "cell_type": "markdown",
   "metadata": {},
   "source": [
    "# Get transcript comments"
   ]
  },
  {
   "cell_type": "code",
   "execution_count": null,
   "metadata": {},
   "outputs": [],
   "source": [
    "subjects_manual = resultAnalyzer.filterSubjects(condition=4)\n",
    "subjects_auto = resultAnalyzer.filterSubjects(condition=5)\n",
    "subjects_interactive = resultAnalyzer.filterSubjects(condition=6)"
   ]
  },
  {
   "cell_type": "code",
   "execution_count": null,
   "metadata": {},
   "outputs": [],
   "source": []
  },
  {
   "cell_type": "code",
   "execution_count": null,
   "metadata": {},
   "outputs": [],
   "source": []
  },
  {
   "cell_type": "code",
   "execution_count": null,
   "metadata": {},
   "outputs": [],
   "source": [
    "comments = resultAnalyzer.getComments(resultAnalyzer.subjects, \"problem_solving_task\", \"F_cl_3\", displayCondition=True, displayParticipantID=False, displayKeyword=False)\n",
    "\n",
    "for line in comments:\n",
    "    print(line)\n",
    "    print(\"\")\n",
    "    "
   ]
  },
  {
   "cell_type": "code",
   "execution_count": null,
   "metadata": {},
   "outputs": [],
   "source": []
  },
  {
   "cell_type": "code",
   "execution_count": null,
   "metadata": {},
   "outputs": [],
   "source": [
    "resultAnalyzer.getComments(subjects_manual, \"problem_solving_task\", \"F\", displayParticipantID=False, displayKeyword=True)\n"
   ]
  },
  {
   "cell_type": "code",
   "execution_count": null,
   "metadata": {},
   "outputs": [],
   "source": [
    "resultAnalyzer.getComments(subjects_auto, \"problem_solving_task\", \"F_cl\", displayParticipantID=False, displayKeyword=True)\n"
   ]
  },
  {
   "cell_type": "code",
   "execution_count": null,
   "metadata": {},
   "outputs": [],
   "source": [
    "comments = resultAnalyzer.getComments(resultAnalyzer.subjects, \"survey\", \"gen\", displayCondition=True, displayParticipantID=False, displayKeyword=True)\n",
    "\n",
    "for line in comments:\n",
    "    print(line + \"\\n\")"
   ]
  },
  {
   "cell_type": "markdown",
   "metadata": {},
   "source": [
    "# Synthesis task data visualization"
   ]
  },
  {
   "cell_type": "code",
   "execution_count": null,
   "metadata": {},
   "outputs": [],
   "source": [
    "g1 = [s2, s5]\n",
    "g2 = [s1, s4]\n",
    "g3 = [s0, s3, s6]\n",
    "# g3 = [s6]"
   ]
  },
  {
   "cell_type": "code",
   "execution_count": null,
   "metadata": {},
   "outputs": [],
   "source": [
    "visualizer = visualization.Visualizer(groups=[g1,g2,g3], groupNames=['Manual','Automated','Interactive'])"
   ]
  },
  {
   "cell_type": "code",
   "execution_count": null,
   "metadata": {
    "scrolled": false
   },
   "outputs": [],
   "source": [
    "visualizer.designSynthesisScatter(markers=['o','^','d'])\n"
   ]
  },
  {
   "cell_type": "code",
   "execution_count": null,
   "metadata": {},
   "outputs": [],
   "source": [
    "visualizer.featureSynthesisScatter(markers=['o','^','d'])\n"
   ]
  },
  {
   "cell_type": "code",
   "execution_count": null,
   "metadata": {},
   "outputs": [],
   "source": []
  },
  {
   "cell_type": "markdown",
   "metadata": {},
   "source": [
    "# Parallel coordinates"
   ]
  },
  {
   "cell_type": "code",
   "execution_count": null,
   "metadata": {},
   "outputs": [],
   "source": [
    "visualizer.setDataFrame(df)"
   ]
  },
  {
   "cell_type": "code",
   "execution_count": null,
   "metadata": {
    "scrolled": false
   },
   "outputs": [],
   "source": [
    "visualizer.parallelCoordinates(columns=['fcl','fpwc','dcl','dpwc'], \n",
    "                                figsize=(11,5),\n",
    "                               legend=[\"Interactive\",\"Automated\",\"Manual\"])"
   ]
  },
  {
   "cell_type": "code",
   "execution_count": null,
   "metadata": {
    "scrolled": false
   },
   "outputs": [],
   "source": [
    "visualizer.parallelCoordinates(columns=['fcl','fpwc','dcl','dpwc','FScore','DScore','PScore','NScore','HScore','LScore','totalScore'], \n",
    "                                figsize=(15,5),\n",
    "                               legend=[\"Interactive\",\"Automated\",\"Manual\"])"
   ]
  },
  {
   "cell_type": "code",
   "execution_count": null,
   "metadata": {},
   "outputs": [],
   "source": []
  },
  {
   "cell_type": "code",
   "execution_count": null,
   "metadata": {},
   "outputs": [],
   "source": [
    "PROP_CYCLE = plt.rcParams['axes.prop_cycle']\n",
    "COLORS = PROP_CYCLE.by_key()['color']"
   ]
  },
  {
   "cell_type": "code",
   "execution_count": null,
   "metadata": {},
   "outputs": [],
   "source": [
    "tempVis = visualization.Visualizer(groups=[g3], groupNames=['Interactive'])\n",
    "tempDF = resultAnalyzer.getDataFrame().loc[df['condition'] == \"interactive\"]\n",
    "tempVis.setDataFrame(tempDF)\n",
    "\n",
    "tempVis.parallelCoordinates(columns=['fcl','fpwc','dcl','dpwc','FScore','DScore','PScore','NScore','HScore','LScore','totalScore'], \n",
    "                                figsize=(15,5),\n",
    "                               legend=[\"Interactive\"])"
   ]
  },
  {
   "cell_type": "code",
   "execution_count": null,
   "metadata": {},
   "outputs": [],
   "source": [
    "\n",
    "tempVis = visualization.Visualizer(groups=[g3], groupNames=['Automated'])\n",
    "\n",
    "tempDF = resultAnalyzer.getDataFrame().loc[df['condition'] == \"automated\"]\n",
    "tempVis.setDataFrame(tempDF)\n",
    "\n",
    "tempVis.parallelCoordinates(columns=['fcl','fpwc','dcl','dpwc','FScore','DScore','PScore','NScore','HScore','LScore','totalScore'], \n",
    "                                figsize=(15,5),\n",
    "                                colors=[COLORS[1]],\n",
    "                               legend=[\"Automated\"])\n",
    "\n"
   ]
  },
  {
   "cell_type": "code",
   "execution_count": null,
   "metadata": {},
   "outputs": [],
   "source": [
    "tempVis = visualization.Visualizer(groups=[g3], groupNames=['Manual'])\n",
    "\n",
    "tempDF = resultAnalyzer.getDataFrame().loc[df['condition'] == \"manual\"]\n",
    "tempVis.setDataFrame(tempDF)\n",
    "\n",
    "tempVis.parallelCoordinates(columns=['fcl','fpwc','dcl','dpwc','FScore','DScore','PScore','NScore','HScore','LScore','totalScore'], \n",
    "                                figsize=(15,5),\n",
    "                            colors=[COLORS[2]],\n",
    "                               legend=[\"Manual\"])\n"
   ]
  },
  {
   "cell_type": "code",
   "execution_count": null,
   "metadata": {},
   "outputs": [],
   "source": []
  },
  {
   "cell_type": "markdown",
   "metadata": {},
   "source": [
    "# Box plots"
   ]
  },
  {
   "cell_type": "code",
   "execution_count": null,
   "metadata": {},
   "outputs": [],
   "source": [
    "# visualizer.boxPlot(columns=['FScore','DScore', 'totalScore'], nrows=1, ncols=3, sharey=True, figsize=(14,4.5))"
   ]
  },
  {
   "cell_type": "code",
   "execution_count": null,
   "metadata": {},
   "outputs": [],
   "source": [
    "# visualizer.boxPlot(columns=['PScore','NScore', 'FScore'], nrows=1, ncols=3, sharey=True, figsize=(14,4.5))"
   ]
  },
  {
   "cell_type": "code",
   "execution_count": null,
   "metadata": {},
   "outputs": [],
   "source": [
    "# visualizer.boxPlot(columns=['HScore','LScore', 'FScore'], nrows=1, ncols=3, sharey=True, figsize=(14,4.5))"
   ]
  },
  {
   "cell_type": "code",
   "execution_count": null,
   "metadata": {},
   "outputs": [],
   "source": [
    "# visualizer.boxPlot(columns=['meanDist2UP', 'meanIGD', 'totalScore'], nrows=1, ncols=3, sharey=False, figsize=(14,4.5))"
   ]
  },
  {
   "cell_type": "code",
   "execution_count": null,
   "metadata": {},
   "outputs": [],
   "source": [
    "visualizer.barPlot(columns=['FScore','DScore', 'totalScore'], showError=True, nrows=1, ncols=3, sharey=True, figsize=(13,3))\n"
   ]
  },
  {
   "cell_type": "code",
   "execution_count": null,
   "metadata": {},
   "outputs": [],
   "source": [
    "visualizer.barPlot(columns=['fcl','fpwc','dcl','dpwc'], showError=True, nrows=1, ncols=4, sharey=True, figsize=(16,3))\n"
   ]
  },
  {
   "cell_type": "code",
   "execution_count": null,
   "metadata": {
    "scrolled": true
   },
   "outputs": [],
   "source": [
    "visualizer.barPlot(columns=['PScore','NScore', 'FScore'], showError=True, nrows=1, ncols=3, sharey=True, figsize=(13,3))"
   ]
  },
  {
   "cell_type": "code",
   "execution_count": null,
   "metadata": {},
   "outputs": [],
   "source": [
    "visualizer.barPlot(columns=['HScore','LScore', 'FScore'], showError=True, nrows=1, ncols=3, sharey=True, figsize=(13,3))"
   ]
  },
  {
   "cell_type": "code",
   "execution_count": null,
   "metadata": {},
   "outputs": [],
   "source": [
    "visualizer.barPlot(dataFrame=df, columns=['selfAssessment', 'meanIGD', 'meanDist2UP', 'totalScore'], showError=True, nrows=1, ncols=4, sharey=False, figsize=(15,3))\n",
    "visualizer.barPlot(dataFrame=df, columns=['selfAssessmentExclude1', 'meanIGD', 'meanDist2UP', 'totalScore'], showError=True, nrows=1, ncols=4, sharey=False, figsize=(15,3))\n",
    "\n"
   ]
  },
  {
   "cell_type": "code",
   "execution_count": null,
   "metadata": {},
   "outputs": [],
   "source": [
    "visualizer.barPlot(dataFrame=df, columns=['normalizedIGD', 'adjustedIGD', 'selfAssessment', 'totalScore'], showError=True, nrows=1, ncols=4, sharey=False, figsize=(15,3))\n"
   ]
  },
  {
   "cell_type": "code",
   "execution_count": null,
   "metadata": {},
   "outputs": [],
   "source": [
    "visualizer.barPlot(dataFrame=df, columns=['HV', 'adjustedHV', 'selfAssessment', 'totalScore'], showError=True, nrows=1, ncols=4, sharey=False, figsize=(15,3))\n"
   ]
  },
  {
   "cell_type": "code",
   "execution_count": null,
   "metadata": {},
   "outputs": [],
   "source": [
    "df"
   ]
  },
  {
   "cell_type": "code",
   "execution_count": null,
   "metadata": {},
   "outputs": [],
   "source": []
  },
  {
   "cell_type": "code",
   "execution_count": null,
   "metadata": {},
   "outputs": [],
   "source": []
  },
  {
   "cell_type": "markdown",
   "metadata": {},
   "source": [
    "# Box plots - Logged Data"
   ]
  },
  {
   "cell_type": "code",
   "execution_count": null,
   "metadata": {
    "scrolled": true
   },
   "outputs": [],
   "source": [
    "# df_lt = resultAnalyzer.getDataFrame(option=\"learningTask\",columns=['totalScore'])\n",
    "# visualizer.boxPlot(columns=['LT_numDesignViewed','LT_numFeatureViewed','totalScore'], dataFrame=df_lt, nrows=1, ncols=3, sharey=False, figsize=(14,3.5))\n",
    "\n"
   ]
  },
  {
   "cell_type": "code",
   "execution_count": null,
   "metadata": {},
   "outputs": [],
   "source": [
    "df_lt = resultAnalyzer.getDataFrame(option=\"learningTask\", columns=[\"totalScore\"])\n",
    "visualizer.barPlot(columns=['LT_numDesignViewed','LT_numFeatureViewed','totalScore'], dataFrame=df_lt, showError=True, nrows=1, ncols=3, sharey=False, figsize=(14,3.5))\n"
   ]
  },
  {
   "cell_type": "code",
   "execution_count": null,
   "metadata": {},
   "outputs": [],
   "source": [
    "# df_fs = resultAnalyzer.getDataFrame(option=\"featureSynthesis\")\n",
    "# visualizer.boxPlot(columns=['meanDist2UP','FS_numFeatureViewed', 'FS_numFilterUsed','FS_numFeatureTested'], dataFrame=df_fs, nrows=1, ncols=4, sharey=False, figsize=(16,4))\n",
    "\n"
   ]
  },
  {
   "cell_type": "code",
   "execution_count": null,
   "metadata": {},
   "outputs": [],
   "source": [
    "df_fs = resultAnalyzer.getDataFrame(option=\"featureSynthesis\", invertSIB=False)\n",
    "visualizer.barPlot(columns=['meanDist2UP','FS_numFeatureViewed', 'FS_numFilterUsed','FS_numFeatureTested'], dataFrame=df_fs, showError=True, nrows=1, ncols=4, sharey=False, figsize=(16,3.5))\n"
   ]
  },
  {
   "cell_type": "code",
   "execution_count": null,
   "metadata": {},
   "outputs": [],
   "source": [
    "# df_ds = resultAnalyzer.getDataFrame(option=\"designSynthesis\")\n",
    "# visualizer.boxPlot(columns=['meanIGD','numDesigns', 'DS_numDesignViewed'], dataFrame=df_ds, nrows=1, ncols=3, sharey=False, figsize=(14,3.5))\n",
    "\n"
   ]
  },
  {
   "cell_type": "code",
   "execution_count": null,
   "metadata": {},
   "outputs": [],
   "source": [
    "df_ds = resultAnalyzer.getDataFrame(option=\"designSynthesis\", invertSIB=False)\n",
    "visualizer.barPlot(columns=['meanIGD','numDesigns', 'DS_numDesignViewed'], dataFrame=df_ds, showError=True, nrows=1, ncols=3, sharey=False, figsize=(14,3.5))\n"
   ]
  },
  {
   "cell_type": "code",
   "execution_count": null,
   "metadata": {},
   "outputs": [],
   "source": []
  },
  {
   "cell_type": "code",
   "execution_count": null,
   "metadata": {},
   "outputs": [],
   "source": []
  },
  {
   "cell_type": "code",
   "execution_count": null,
   "metadata": {},
   "outputs": [],
   "source": []
  },
  {
   "cell_type": "code",
   "execution_count": null,
   "metadata": {},
   "outputs": [],
   "source": []
  },
  {
   "cell_type": "code",
   "execution_count": null,
   "metadata": {},
   "outputs": [],
   "source": []
  },
  {
   "cell_type": "markdown",
   "metadata": {},
   "source": [
    "# Statistical tests"
   ]
  },
  {
   "cell_type": "code",
   "execution_count": null,
   "metadata": {},
   "outputs": [],
   "source": [
    "df_interactive = df.loc[df['condition'] == \"interactive\"]\n",
    "df_automated = df.loc[df['condition'] == \"automated\"]\n",
    "df_manual = df.loc[df['condition'] == \"manual\"]"
   ]
  },
  {
   "cell_type": "code",
   "execution_count": null,
   "metadata": {},
   "outputs": [],
   "source": [
    "print(stats.ttest_ind(df_interactive['totalScore'], df_manual['totalScore']))\n",
    "print(stats.ttest_ind(df_interactive['totalScore'], df_automated['totalScore']))"
   ]
  },
  {
   "cell_type": "code",
   "execution_count": null,
   "metadata": {},
   "outputs": [],
   "source": [
    "print(stats.ttest_ind(df_interactive['DScore'], df_manual['DScore']))\n",
    "print(stats.ttest_ind(df_interactive['DScore'], df_automated['DScore']))"
   ]
  },
  {
   "cell_type": "code",
   "execution_count": null,
   "metadata": {},
   "outputs": [],
   "source": [
    "print(stats.ttest_ind(df_automated['DScore'], df_manual['DScore']))"
   ]
  },
  {
   "cell_type": "code",
   "execution_count": null,
   "metadata": {},
   "outputs": [],
   "source": []
  },
  {
   "cell_type": "code",
   "execution_count": null,
   "metadata": {},
   "outputs": [],
   "source": [
    "print(stats.ttest_ind(df_interactive['NScore'], df_manual['NScore']))\n",
    "print(stats.ttest_ind(df_interactive['NScore'], df_automated['NScore']))"
   ]
  },
  {
   "cell_type": "code",
   "execution_count": null,
   "metadata": {},
   "outputs": [],
   "source": [
    "print(stats.ttest_ind(df_interactive['HScore'], df_manual['HScore']))\n",
    "print(stats.ttest_ind(df_interactive['HScore'], df_automated['HScore']))"
   ]
  },
  {
   "cell_type": "code",
   "execution_count": null,
   "metadata": {},
   "outputs": [],
   "source": []
  },
  {
   "cell_type": "code",
   "execution_count": null,
   "metadata": {},
   "outputs": [],
   "source": []
  },
  {
   "cell_type": "code",
   "execution_count": null,
   "metadata": {},
   "outputs": [],
   "source": [
    "stats.f_oneway(df_interactive['totalScore'], df_automated['totalScore'], df_manual['totalScore'])"
   ]
  },
  {
   "cell_type": "code",
   "execution_count": null,
   "metadata": {},
   "outputs": [],
   "source": [
    "stats.f_oneway(df_interactive['DScore'], df_automated['DScore'], df_manual['DScore'])"
   ]
  },
  {
   "cell_type": "code",
   "execution_count": null,
   "metadata": {},
   "outputs": [],
   "source": [
    "stats.f_oneway(df_interactive['NScore'], df_automated['NScore'], df_manual['NScore'])"
   ]
  },
  {
   "cell_type": "code",
   "execution_count": null,
   "metadata": {},
   "outputs": [],
   "source": [
    "stats.f_oneway(df_interactive['HScore'], df_automated['HScore'], df_manual['HScore'])"
   ]
  },
  {
   "cell_type": "code",
   "execution_count": null,
   "metadata": {},
   "outputs": [],
   "source": []
  },
  {
   "cell_type": "code",
   "execution_count": null,
   "metadata": {},
   "outputs": [],
   "source": []
  },
  {
   "cell_type": "code",
   "execution_count": null,
   "metadata": {},
   "outputs": [],
   "source": []
  },
  {
   "cell_type": "code",
   "execution_count": null,
   "metadata": {},
   "outputs": [],
   "source": [
    "# from sklearn.linear_model import LinearRegression\n",
    "\n",
    "# # X = data.iloc[:, 0].values.reshape(-1, 1)  # values converts it into a numpy array\n",
    "\n",
    "# X = df[['condition','NScore']].values\n",
    "# y = df['totalScore'].values.reshape(-1, 1)  # -1 means that calculate the dimension of rows, but have 1 column\n",
    "# linear_regressor = LinearRegression()  # create object for the class\n",
    "# linear_regressor.fit(X, y)  # perform linear regression\n"
   ]
  },
  {
   "cell_type": "code",
   "execution_count": null,
   "metadata": {},
   "outputs": [],
   "source": [
    "# linear_regressor.score(X, y)"
   ]
  },
  {
   "cell_type": "code",
   "execution_count": null,
   "metadata": {},
   "outputs": [],
   "source": [
    "# linear_regressor.coef_"
   ]
  },
  {
   "cell_type": "code",
   "execution_count": null,
   "metadata": {},
   "outputs": [],
   "source": [
    "# import statsmodels.api as sm\n",
    "# import statsmodels.formula.api as smf\n",
    "\n",
    "# data = sm.datasets.get_rdataset(\"dietox\", \"geepack\").data\n",
    "# md = smf.mixedlm(\"Weight ~ Time\", data, groups=data[\"Pig\"])\n",
    "# mdf = md.fit()\n",
    "# print(mdf.summary())"
   ]
  },
  {
   "cell_type": "code",
   "execution_count": null,
   "metadata": {},
   "outputs": [],
   "source": []
  },
  {
   "cell_type": "code",
   "execution_count": null,
   "metadata": {},
   "outputs": [],
   "source": []
  },
  {
   "cell_type": "markdown",
   "metadata": {},
   "source": [
    "# Survey results"
   ]
  },
  {
   "cell_type": "code",
   "execution_count": null,
   "metadata": {
    "scrolled": false
   },
   "outputs": [],
   "source": [
    "visualizer.featurePrefPlot(figsize=(10,18))"
   ]
  },
  {
   "cell_type": "code",
   "execution_count": null,
   "metadata": {},
   "outputs": [],
   "source": []
  },
  {
   "cell_type": "markdown",
   "metadata": {},
   "source": [
    "1\n",
    "- Two radars should not be assigned to the same orbit\n",
    "- Instruments {AERO_POL, CPR_RAD, SAR_ALTIM} are not assigned to the same orbit"
   ]
  },
  {
   "cell_type": "markdown",
   "metadata": {},
   "source": [
    "2.\n",
    "- Instruments that measure ocean color are not assigned to AM orbit\n",
    "- AERO_LID, CPR_RAD are not assigned to SSO-600-DD orbit"
   ]
  },
  {
   "cell_type": "markdown",
   "metadata": {},
   "source": [
    "3.\n",
    "- Atmospheric chemistry instruments are assigned together in the same orbit\n",
    "- HIRES_SOUND and HYP_IMAG are assigned together in the same orbit"
   ]
  },
  {
   "cell_type": "markdown",
   "metadata": {},
   "source": [
    "4.\n",
    "- SSO-800-DD is empty, except when it contains VEG_LID and/or SAR_ALTIM\n",
    "- {OCE_SPEC, AERO_POL, AERO_LID, HYP_ERB, CPR_RAD, VEG_INSAR, CHEM_UVSPEC,CHEM_SWIRSPEC, HYP_IMAG, HIRES_SOUND} are not assigned to SSO-800-DD"
   ]
  },
  {
   "cell_type": "markdown",
   "metadata": {},
   "source": [
    "5.\n",
    "- VEG_INSAR is not used, except when it is assigned to LEO-600-polar\n",
    "- HYP_ERB is not assigned to any of the orbits in the set {LEO-600-polar, SSO-600-AM, SSO-600-DD, SSO-800-DD}"
   ]
  },
  {
   "cell_type": "markdown",
   "metadata": {},
   "source": [
    "6.\n",
    "- Radars and lidars are not assigned to the same orbit, except when VEG_LID and VEG_INSAR are assigned together\n",
    "- AERO_LID and CPR_RAD is not assigned together in the same orbit, and SAR_ALTIM and AERO_LID are not assigned together in the same orbit"
   ]
  },
  {
   "cell_type": "markdown",
   "metadata": {},
   "source": [
    "7.\n",
    "- AERO_POL and SAR_ALTIM are NOT assigned together in the same orbit\n",
    "- CHEM_UVSPEC and HIRES_SOUND are assigned together in at least one of the orbits"
   ]
  },
  {
   "cell_type": "markdown",
   "metadata": {},
   "source": [
    "8.\n",
    "- OCE_SPEC is assigned to LEO-600-polar\n",
    "- VEG_INSAR is NOT assigned to SSO-600-AM"
   ]
  },
  {
   "cell_type": "markdown",
   "metadata": {},
   "source": [
    "9.\n",
    "- AERO_LID is NOT used\n",
    "- SAR_ALTIM is used"
   ]
  },
  {
   "cell_type": "code",
   "execution_count": null,
   "metadata": {},
   "outputs": [],
   "source": []
  },
  {
   "cell_type": "code",
   "execution_count": null,
   "metadata": {},
   "outputs": [],
   "source": [
    "visualizer.selfAssessmentPlot(displayStderr=True)"
   ]
  },
  {
   "cell_type": "markdown",
   "metadata": {},
   "source": [
    "1. I learned a lot about the given design problem from this exercise\n",
    "2. The features I learned from this exercise will be useful to solve a different (but similar)\n",
    "design problem in the future\n",
    "3. The tool was useful in checking hypotheses I had based on my prior knowledge\n",
    "4. The tool was useful in checking new hypotheses I had as I analyzed the data.\n",
    "\n",
    "0=strongly disagree, 1=disagree, 2=undecided, 3=agree, 4=strongly agree"
   ]
  },
  {
   "cell_type": "code",
   "execution_count": null,
   "metadata": {},
   "outputs": [],
   "source": []
  },
  {
   "cell_type": "code",
   "execution_count": null,
   "metadata": {},
   "outputs": [],
   "source": []
  },
  {
   "cell_type": "code",
   "execution_count": null,
   "metadata": {},
   "outputs": [],
   "source": []
  },
  {
   "cell_type": "code",
   "execution_count": null,
   "metadata": {},
   "outputs": [],
   "source": []
  },
  {
   "cell_type": "markdown",
   "metadata": {},
   "source": [
    "## Correlation "
   ]
  },
  {
   "cell_type": "code",
   "execution_count": null,
   "metadata": {},
   "outputs": [],
   "source": [
    "sns.regplot(x=\"selfAssessment\", y=\"totalScore\", data=df, ci=95)"
   ]
  },
  {
   "cell_type": "code",
   "execution_count": null,
   "metadata": {},
   "outputs": [],
   "source": [
    "sns.regplot(x=\"selfAssessmentExclude1\", y=\"totalScore\", data=df, ci=95)"
   ]
  },
  {
   "cell_type": "code",
   "execution_count": null,
   "metadata": {},
   "outputs": [],
   "source": [
    "mod = sm.OLS(np.array(df['selfAssessment']), np.array(df['totalScore']))\n",
    "res = mod.fit()\n",
    "print(res.summary())"
   ]
  },
  {
   "cell_type": "code",
   "execution_count": null,
   "metadata": {},
   "outputs": [],
   "source": [
    "sns.lmplot(x=\"selfAssessment\", y=\"totalScore\", hue=\"condition\", markers=[\"o\",\"x\",\"^\"], data=df, ci=None);\n",
    "sns.lmplot(x=\"selfAssessmentExclude1\", y=\"totalScore\", hue=\"condition\", markers=[\"o\",\"x\",\"^\"], data=df, ci=None);"
   ]
  },
  {
   "cell_type": "code",
   "execution_count": null,
   "metadata": {},
   "outputs": [],
   "source": [
    "sns.lmplot(x=\"selfAssessment\", y=\"totalScore\", hue=\"type\", markers=[\"o\",\"x\"], data=df, ci=None);\n",
    "sns.lmplot(x=\"selfAssessmentExclude1\", y=\"totalScore\", hue=\"type\", markers=[\"o\",\"x\"], data=df, ci=None);"
   ]
  },
  {
   "cell_type": "code",
   "execution_count": null,
   "metadata": {},
   "outputs": [],
   "source": [
    "df_interactive = resultAnalyzer.getDataFrame().loc[df['condition'] == \"interactive\"]\n",
    "mod = sm.OLS(np.array(df_interactive['selfAssessment']), np.array(df_interactive['totalScore']))\n",
    "res = mod.fit()\n",
    "print(res.summary())"
   ]
  },
  {
   "cell_type": "code",
   "execution_count": null,
   "metadata": {},
   "outputs": [],
   "source": [
    "df_automated = resultAnalyzer.getDataFrame().loc[df['condition'] == \"automated\"]\n",
    "mod = sm.OLS(np.array(df_automated['selfAssessment']), np.array(df_automated['totalScore']))\n",
    "res = mod.fit()\n",
    "print(res.summary())"
   ]
  },
  {
   "cell_type": "code",
   "execution_count": null,
   "metadata": {},
   "outputs": [],
   "source": [
    "df_manual = resultAnalyzer.getDataFrame().loc[df['condition'] == \"manual\"]\n",
    "mod = sm.OLS(np.array(df_manual['selfAssessment']), np.array(df_manual['totalScore']))\n",
    "res = mod.fit()\n",
    "print(res.summary())"
   ]
  },
  {
   "cell_type": "code",
   "execution_count": null,
   "metadata": {},
   "outputs": [],
   "source": []
  },
  {
   "cell_type": "code",
   "execution_count": null,
   "metadata": {},
   "outputs": [],
   "source": []
  },
  {
   "cell_type": "code",
   "execution_count": null,
   "metadata": {},
   "outputs": [],
   "source": []
  },
  {
   "cell_type": "markdown",
   "metadata": {},
   "source": [
    "## Correlation - Design synthesis task"
   ]
  },
  {
   "cell_type": "code",
   "execution_count": null,
   "metadata": {},
   "outputs": [],
   "source": [
    "sns.regplot(x=\"selfAssessment\", y=\"adjustedIGD\", data=df, ci=None);"
   ]
  },
  {
   "cell_type": "code",
   "execution_count": null,
   "metadata": {},
   "outputs": [],
   "source": [
    "sns.regplot(x=\"selfAssessmentExclude1\", y=\"adjustedIGD\", data=df, ci=None);"
   ]
  },
  {
   "cell_type": "code",
   "execution_count": null,
   "metadata": {},
   "outputs": [],
   "source": [
    "xmod = sm.OLS(np.array(df['selfAssessment']), np.array(df['meanIGD']))\n",
    "res = mod.fit()\n",
    "print(res.summary())"
   ]
  },
  {
   "cell_type": "code",
   "execution_count": null,
   "metadata": {},
   "outputs": [],
   "source": [
    "sns.lmplot(x=\"selfAssessment\", y=\"normalizedIGD\", hue=\"condition\", markers=[\"o\",\"x\",\"^\"], data=df, ci=None);\n",
    "sns.lmplot(x=\"selfAssessmentExclude1\", y=\"normalizedIGD\", hue=\"condition\", markers=[\"o\",\"x\",\"^\"], data=df, ci=None);"
   ]
  },
  {
   "cell_type": "code",
   "execution_count": null,
   "metadata": {},
   "outputs": [],
   "source": [
    "sns.lmplot(x=\"selfAssessment\", y=\"normalizedIGD\", hue=\"type\", markers=[\"o\",\"x\"], data=df, ci=None);\n",
    "sns.lmplot(x=\"selfAssessmentExclude1\", y=\"normalizedIGD\", hue=\"type\", markers=[\"o\",\"x\"], data=df, ci=None);"
   ]
  },
  {
   "cell_type": "code",
   "execution_count": null,
   "metadata": {},
   "outputs": [],
   "source": [
    "sns.lmplot(x=\"totalScore\", y=\"meanIGD\", hue=\"condition\", markers=[\"o\",\"x\",\"^\"], data=df, ci=None);\n"
   ]
  },
  {
   "cell_type": "code",
   "execution_count": null,
   "metadata": {},
   "outputs": [],
   "source": [
    "sns.regplot(x=\"selfAssessment\", y=\"numDesigns\", data=df, ci=None);"
   ]
  },
  {
   "cell_type": "code",
   "execution_count": null,
   "metadata": {},
   "outputs": [],
   "source": [
    "sns.regplot(x=\"numDesigns\", y=\"totalScore\", data=df, ci=None);"
   ]
  },
  {
   "cell_type": "code",
   "execution_count": null,
   "metadata": {},
   "outputs": [],
   "source": [
    "sns.regplot(x=\"numDesigns\", y=\"normalizedIGD\", data=df, ci=None);"
   ]
  },
  {
   "cell_type": "code",
   "execution_count": null,
   "metadata": {},
   "outputs": [],
   "source": [
    "sns.regplot(x=\"numDesigns\", y=\"selfAssessment\", data=df, ci=None);"
   ]
  },
  {
   "cell_type": "code",
   "execution_count": null,
   "metadata": {},
   "outputs": [],
   "source": []
  },
  {
   "cell_type": "code",
   "execution_count": null,
   "metadata": {},
   "outputs": [],
   "source": []
  },
  {
   "cell_type": "code",
   "execution_count": null,
   "metadata": {},
   "outputs": [],
   "source": []
  },
  {
   "cell_type": "code",
   "execution_count": null,
   "metadata": {},
   "outputs": [],
   "source": []
  },
  {
   "cell_type": "code",
   "execution_count": null,
   "metadata": {},
   "outputs": [],
   "source": [
    "# df = df.drop(index=1)"
   ]
  },
  {
   "cell_type": "code",
   "execution_count": null,
   "metadata": {},
   "outputs": [],
   "source": [
    "sns.regplot(x=\"selfAssessment\", y=\"adjustedIGD\", data=df);"
   ]
  },
  {
   "cell_type": "code",
   "execution_count": null,
   "metadata": {},
   "outputs": [],
   "source": [
    "sns.regplot(x=\"DScore\", y=\"adjustedIGD\", data=df);"
   ]
  },
  {
   "cell_type": "code",
   "execution_count": null,
   "metadata": {},
   "outputs": [],
   "source": [
    "sns.regplot(x=\"dpwc\", y=\"adjustedIGD\", data=df);"
   ]
  },
  {
   "cell_type": "code",
   "execution_count": null,
   "metadata": {},
   "outputs": [],
   "source": []
  },
  {
   "cell_type": "markdown",
   "metadata": {},
   "source": [
    "## Correlation - feature synthesis task"
   ]
  },
  {
   "cell_type": "code",
   "execution_count": null,
   "metadata": {},
   "outputs": [],
   "source": [
    "sns.regplot(x=\"selfAssessment\", y=\"meanDist2UP\", data=df);"
   ]
  },
  {
   "cell_type": "code",
   "execution_count": null,
   "metadata": {},
   "outputs": [],
   "source": [
    "sns.regplot(x=\"selfAssessmentExclude1\", y=\"meanDist2UP\", data=df);"
   ]
  },
  {
   "cell_type": "code",
   "execution_count": null,
   "metadata": {},
   "outputs": [],
   "source": [
    "sns.lmplot(x=\"selfAssessment\", y=\"meanDist2UP\", hue=\"condition\", markers=[\"o\",\"x\",\"^\"], data=df, ci=None);\n",
    "sns.lmplot(x=\"selfAssessmentExclude1\", y=\"meanDist2UP\", hue=\"condition\", markers=[\"o\",\"x\",\"^\"], data=df, ci=None);"
   ]
  },
  {
   "cell_type": "code",
   "execution_count": null,
   "metadata": {},
   "outputs": [],
   "source": [
    "sns.lmplot(x=\"selfAssessment\", y=\"meanDist2UP\", hue=\"type\", markers=[\"o\",\"x\"], data=df, ci=None);\n",
    "sns.lmplot(x=\"selfAssessmentExclude1\", y=\"meanDist2UP\", hue=\"type\", markers=[\"o\",\"x\"], data=df, ci=None);"
   ]
  },
  {
   "cell_type": "code",
   "execution_count": null,
   "metadata": {},
   "outputs": [],
   "source": [
    "sns.lmplot(x=\"totalScore\", y=\"meanDist2UP\", hue=\"condition\", markers=[\"o\",\"x\",\"^\"], data=df, ci=None);"
   ]
  },
  {
   "cell_type": "code",
   "execution_count": null,
   "metadata": {},
   "outputs": [],
   "source": []
  },
  {
   "cell_type": "code",
   "execution_count": null,
   "metadata": {},
   "outputs": [],
   "source": []
  },
  {
   "cell_type": "code",
   "execution_count": null,
   "metadata": {},
   "outputs": [],
   "source": [
    "mod = sm.OLS(np.array(df['selfAssessment']), np.array(df['meanDist2UP']))\n",
    "res = mod.fit()\n",
    "print(res.summary())"
   ]
  },
  {
   "cell_type": "code",
   "execution_count": null,
   "metadata": {},
   "outputs": [],
   "source": []
  },
  {
   "cell_type": "code",
   "execution_count": null,
   "metadata": {},
   "outputs": [],
   "source": []
  },
  {
   "cell_type": "code",
   "execution_count": null,
   "metadata": {},
   "outputs": [],
   "source": [
    "die here"
   ]
  },
  {
   "cell_type": "code",
   "execution_count": null,
   "metadata": {},
   "outputs": [],
   "source": []
  },
  {
   "cell_type": "markdown",
   "metadata": {},
   "source": [
    "# Etc"
   ]
  },
  {
   "cell_type": "code",
   "execution_count": null,
   "metadata": {},
   "outputs": [],
   "source": []
  },
  {
   "cell_type": "code",
   "execution_count": null,
   "metadata": {},
   "outputs": [],
   "source": []
  },
  {
   "cell_type": "code",
   "execution_count": null,
   "metadata": {},
   "outputs": [],
   "source": [
    "df.columns"
   ]
  },
  {
   "cell_type": "code",
   "execution_count": null,
   "metadata": {},
   "outputs": [],
   "source": [
    "sns.pairplot(df[['condition','FScore','DScore','selfAssessment']], kind=\"reg\")"
   ]
  },
  {
   "cell_type": "code",
   "execution_count": null,
   "metadata": {},
   "outputs": [],
   "source": [
    "sns.pairplot(df[['condition','PScore','NScore','selfAssessment']], kind=\"reg\")"
   ]
  },
  {
   "cell_type": "code",
   "execution_count": null,
   "metadata": {},
   "outputs": [],
   "source": [
    "sns.pairplot(df[['condition','FScore','normalizedDist2UP','selfAssessment']], kind=\"reg\")"
   ]
  },
  {
   "cell_type": "code",
   "execution_count": null,
   "metadata": {},
   "outputs": [],
   "source": [
    "sns.pairplot(df[['condition','DScore','adjustedIGD','selfAssessment']], kind=\"reg\")"
   ]
  },
  {
   "cell_type": "code",
   "execution_count": null,
   "metadata": {},
   "outputs": [],
   "source": [
    "sns.pairplot(df[['condition','numDesigns','selfAssessment','normalizedIGD']], kind=\"reg\")"
   ]
  },
  {
   "cell_type": "code",
   "execution_count": null,
   "metadata": {},
   "outputs": [],
   "source": [
    "sns.pairplot(df[['condition','adjustedIGD','entropy','selfAssessment']], kind=\"reg\")"
   ]
  },
  {
   "cell_type": "code",
   "execution_count": null,
   "metadata": {},
   "outputs": [],
   "source": [
    "sns.pairplot(df[['condition','conf_fcl','fcl','selfAssessment']], kind=\"reg\")"
   ]
  },
  {
   "cell_type": "code",
   "execution_count": null,
   "metadata": {},
   "outputs": [],
   "source": []
  },
  {
   "cell_type": "code",
   "execution_count": null,
   "metadata": {},
   "outputs": [],
   "source": [
    "die here"
   ]
  },
  {
   "cell_type": "code",
   "execution_count": null,
   "metadata": {},
   "outputs": [],
   "source": []
  },
  {
   "cell_type": "markdown",
   "metadata": {},
   "source": [
    "# Regression analyses"
   ]
  },
  {
   "cell_type": "code",
   "execution_count": null,
   "metadata": {},
   "outputs": [],
   "source": [
    "tempDF = resultAnalyzer.getDataFrame(option=\"all\")\n",
    "tempDF.columns"
   ]
  },
  {
   "cell_type": "code",
   "execution_count": null,
   "metadata": {},
   "outputs": [],
   "source": [
    "X = tempDF[[\"LT_numDesignViewed\", \"LT_numFeatureViewed\",\"LT_numFilterUsed\"]]\n",
    "y = tempDF[\"totalScore\"].values\n",
    "model = sm.OLS(y, X)\n",
    "results = model.fit()\n",
    "print(results.summary())"
   ]
  },
  {
   "cell_type": "code",
   "execution_count": null,
   "metadata": {
    "scrolled": false
   },
   "outputs": [],
   "source": [
    "sns.regplot(x=\"selfAssessment\", y=\"totalScore\", data=tempDF, ci=95)"
   ]
  },
  {
   "cell_type": "code",
   "execution_count": null,
   "metadata": {
    "scrolled": false
   },
   "outputs": [],
   "source": [
    "sns.regplot(x=\"LT_numFeatureViewed\", y=\"totalScore\", data=tempDF, ci=95)\n"
   ]
  },
  {
   "cell_type": "code",
   "execution_count": null,
   "metadata": {},
   "outputs": [],
   "source": [
    "sns.regplot(x=\"entropy\", y=\"totalScore\", data=tempDF, ci=95)\n"
   ]
  },
  {
   "cell_type": "code",
   "execution_count": null,
   "metadata": {},
   "outputs": [],
   "source": []
  },
  {
   "cell_type": "code",
   "execution_count": null,
   "metadata": {
    "scrolled": false
   },
   "outputs": [],
   "source": [
    "die here"
   ]
  },
  {
   "cell_type": "code",
   "execution_count": null,
   "metadata": {},
   "outputs": [],
   "source": []
  },
  {
   "cell_type": "code",
   "execution_count": null,
   "metadata": {},
   "outputs": [],
   "source": []
  },
  {
   "cell_type": "code",
   "execution_count": null,
   "metadata": {},
   "outputs": [],
   "source": []
  },
  {
   "cell_type": "code",
   "execution_count": null,
   "metadata": {},
   "outputs": [],
   "source": []
  },
  {
   "cell_type": "code",
   "execution_count": null,
   "metadata": {},
   "outputs": [],
   "source": [
    "s0.learning_self_assessment_data"
   ]
  },
  {
   "cell_type": "code",
   "execution_count": null,
   "metadata": {},
   "outputs": [],
   "source": [
    "s0.feature_preference_data"
   ]
  },
  {
   "cell_type": "code",
   "execution_count": null,
   "metadata": {},
   "outputs": [],
   "source": [
    "s1.design_synthesis_task_data"
   ]
  },
  {
   "cell_type": "code",
   "execution_count": null,
   "metadata": {},
   "outputs": [],
   "source": [
    "s2.feature_synthesis_task_data"
   ]
  },
  {
   "cell_type": "code",
   "execution_count": null,
   "metadata": {},
   "outputs": [],
   "source": []
  },
  {
   "cell_type": "code",
   "execution_count": null,
   "metadata": {},
   "outputs": [],
   "source": [
    "def plotECDF(scores1,scores2):\n",
    "    \n",
    "    import statsmodels.api as sm # recommended import according to the docs\n",
    "\n",
    "    sample = scores1\n",
    "    ecdf = sm.distributions.ECDF(scores1)\n",
    "    x = np.linspace(min(sample), max(sample))\n",
    "    y = ecdf(x)\n",
    "    plt.step(x, y)\n",
    "\n",
    "    sample2 = scores2\n",
    "    ecdf = sm.distributions.ECDF(sample2)\n",
    "    x = np.linspace(min(sample2), max(sample2))\n",
    "    y = ecdf(x)\n",
    "    plt.step(x, y)\n",
    "\n",
    "    plt.show()"
   ]
  },
  {
   "cell_type": "code",
   "execution_count": null,
   "metadata": {},
   "outputs": [],
   "source": [
    "def writeToFile(data, header ,filePath = \"/Users/bang/workspace/iFEED-experiment-201711-result/data/data.csv\"):\n",
    "    with open(filePath, 'w') as f:\n",
    "        f.write(header + \"\\n\")\n",
    "        for row in data:\n",
    "            f.write(\",\".join(row) + \"\\n\")\n",
    "    "
   ]
  },
  {
   "cell_type": "code",
   "execution_count": null,
   "metadata": {},
   "outputs": [],
   "source": []
  },
  {
   "cell_type": "markdown",
   "metadata": {},
   "source": [
    "# Figures for learning measure comparison"
   ]
  },
  {
   "cell_type": "code",
   "execution_count": 45,
   "metadata": {},
   "outputs": [],
   "source": [
    "dfRenamed = resultAnalyzer.getDataFrame(option=\"all\",excludeHV=False, adjustIGDUsingEntropy=False)\n",
    "dfRenamed.rename(columns={'fcl':'FID',\n",
    "                          'fpwc':'FPWC',\n",
    "                          'dcl':'DID',\n",
    "                          'dpwc':'DPWC',\n",
    "                          'conf_fcl':'confFID',\n",
    "                          'conf_fpwc':'confFPWC',\n",
    "                          'conf_dcl':'confDID',\n",
    "                          'conf_dpwc':'confDPWC',\n",
    "                          'adjustedIGD':'DSYN',\n",
    "                          'normalizedDist2UP':'FSYN',\n",
    "                         #'selfAssessment':'SA',\n",
    "                         'selfAssessmentExclude1':'SA2',\n",
    "                         'normalizedSA':'SA'}, \n",
    "                 inplace=True)"
   ]
  },
  {
   "cell_type": "code",
   "execution_count": 46,
   "metadata": {},
   "outputs": [],
   "source": [
    "# index_implicit = dfRenamed[ dfRenamed[\"type\"] == \"implicit\" ].index\n",
    "# dfRenamed = dfRenamed.drop(index_implicit)"
   ]
  },
  {
   "cell_type": "code",
   "execution_count": 54,
   "metadata": {},
   "outputs": [],
   "source": [
    "dfRenamedConf = dfRenamed[['condition','FID','confFID','FPWC','confFPWC','FSYN','DID','confDID','DPWC','confDPWC','DSYN','SA']]\n"
   ]
  },
  {
   "cell_type": "code",
   "execution_count": 55,
   "metadata": {},
   "outputs": [],
   "source": [
    "dfRenamed = dfRenamed[['condition','FID','FPWC','FSYN','DID','DPWC','DSYN','SA']]"
   ]
  },
  {
   "cell_type": "code",
   "execution_count": 56,
   "metadata": {
    "scrolled": true
   },
   "outputs": [],
   "source": [
    "rPearson, pPearson, ciLoPearson, ciHiPearson = utils.calculate_pearsonr(dfRenamed, decimal=2)"
   ]
  },
  {
   "cell_type": "code",
   "execution_count": 57,
   "metadata": {},
   "outputs": [],
   "source": [
    "rSpearman, pSpearman, ciLoSpearman, ciHiSpearman = utils.calculate_spearmanr(dfRenamed, decimal=2)"
   ]
  },
  {
   "cell_type": "code",
   "execution_count": 58,
   "metadata": {},
   "outputs": [
    {
     "data": {
      "text/html": [
       "<div>\n",
       "<style scoped>\n",
       "    .dataframe tbody tr th:only-of-type {\n",
       "        vertical-align: middle;\n",
       "    }\n",
       "\n",
       "    .dataframe tbody tr th {\n",
       "        vertical-align: top;\n",
       "    }\n",
       "\n",
       "    .dataframe thead th {\n",
       "        text-align: right;\n",
       "    }\n",
       "</style>\n",
       "<table border=\"1\" class=\"dataframe\">\n",
       "  <thead>\n",
       "    <tr style=\"text-align: right;\">\n",
       "      <th></th>\n",
       "      <th>FID</th>\n",
       "      <th>FPWC</th>\n",
       "      <th>FSYN</th>\n",
       "      <th>DID</th>\n",
       "      <th>DPWC</th>\n",
       "      <th>DSYN</th>\n",
       "      <th>SA</th>\n",
       "    </tr>\n",
       "  </thead>\n",
       "  <tbody>\n",
       "    <tr>\n",
       "      <th>FID</th>\n",
       "      <td>1</td>\n",
       "      <td>0.57</td>\n",
       "      <td>-0.23</td>\n",
       "      <td>0.74</td>\n",
       "      <td>0.64</td>\n",
       "      <td>0.16</td>\n",
       "      <td>0.67</td>\n",
       "    </tr>\n",
       "    <tr>\n",
       "      <th>FPWC</th>\n",
       "      <td>0.57</td>\n",
       "      <td>1</td>\n",
       "      <td>-0.6</td>\n",
       "      <td>0.07</td>\n",
       "      <td>0.06</td>\n",
       "      <td>-0.16</td>\n",
       "      <td>0.81</td>\n",
       "    </tr>\n",
       "    <tr>\n",
       "      <th>FSYN</th>\n",
       "      <td>-0.23</td>\n",
       "      <td>-0.6</td>\n",
       "      <td>1</td>\n",
       "      <td>0.34</td>\n",
       "      <td>0.05</td>\n",
       "      <td>-0.21</td>\n",
       "      <td>-0.19</td>\n",
       "    </tr>\n",
       "    <tr>\n",
       "      <th>DID</th>\n",
       "      <td>0.74</td>\n",
       "      <td>0.07</td>\n",
       "      <td>0.34</td>\n",
       "      <td>1</td>\n",
       "      <td>0.74</td>\n",
       "      <td>0.07</td>\n",
       "      <td>0.46</td>\n",
       "    </tr>\n",
       "    <tr>\n",
       "      <th>DPWC</th>\n",
       "      <td>0.64</td>\n",
       "      <td>0.06</td>\n",
       "      <td>0.05</td>\n",
       "      <td>0.74</td>\n",
       "      <td>1</td>\n",
       "      <td>0.71</td>\n",
       "      <td>0.27</td>\n",
       "    </tr>\n",
       "    <tr>\n",
       "      <th>DSYN</th>\n",
       "      <td>0.16</td>\n",
       "      <td>-0.16</td>\n",
       "      <td>-0.21</td>\n",
       "      <td>0.07</td>\n",
       "      <td>0.71</td>\n",
       "      <td>1</td>\n",
       "      <td>-0.22</td>\n",
       "    </tr>\n",
       "    <tr>\n",
       "      <th>SA</th>\n",
       "      <td>0.67</td>\n",
       "      <td>0.81</td>\n",
       "      <td>-0.19</td>\n",
       "      <td>0.46</td>\n",
       "      <td>0.27</td>\n",
       "      <td>-0.22</td>\n",
       "      <td>1</td>\n",
       "    </tr>\n",
       "  </tbody>\n",
       "</table>\n",
       "</div>"
      ],
      "text/plain": [
       "       FID  FPWC  FSYN   DID  DPWC  DSYN    SA\n",
       "FID      1  0.57 -0.23  0.74  0.64  0.16  0.67\n",
       "FPWC  0.57     1  -0.6  0.07  0.06 -0.16  0.81\n",
       "FSYN -0.23  -0.6     1  0.34  0.05 -0.21 -0.19\n",
       "DID   0.74  0.07  0.34     1  0.74  0.07  0.46\n",
       "DPWC  0.64  0.06  0.05  0.74     1  0.71  0.27\n",
       "DSYN  0.16 -0.16 -0.21  0.07  0.71     1 -0.22\n",
       "SA    0.67  0.81 -0.19  0.46  0.27 -0.22     1"
      ]
     },
     "execution_count": 58,
     "metadata": {},
     "output_type": "execute_result"
    }
   ],
   "source": [
    "rPearson"
   ]
  },
  {
   "cell_type": "code",
   "execution_count": 59,
   "metadata": {},
   "outputs": [
    {
     "data": {
      "text/html": [
       "<div>\n",
       "<style scoped>\n",
       "    .dataframe tbody tr th:only-of-type {\n",
       "        vertical-align: middle;\n",
       "    }\n",
       "\n",
       "    .dataframe tbody tr th {\n",
       "        vertical-align: top;\n",
       "    }\n",
       "\n",
       "    .dataframe thead th {\n",
       "        text-align: right;\n",
       "    }\n",
       "</style>\n",
       "<table border=\"1\" class=\"dataframe\">\n",
       "  <thead>\n",
       "    <tr style=\"text-align: right;\">\n",
       "      <th></th>\n",
       "      <th>FID</th>\n",
       "      <th>FPWC</th>\n",
       "      <th>FSYN</th>\n",
       "      <th>DID</th>\n",
       "      <th>DPWC</th>\n",
       "      <th>DSYN</th>\n",
       "      <th>SA</th>\n",
       "    </tr>\n",
       "  </thead>\n",
       "  <tbody>\n",
       "    <tr>\n",
       "      <th>FID</th>\n",
       "      <td>0</td>\n",
       "      <td>0.18</td>\n",
       "      <td>0.61</td>\n",
       "      <td>0.06</td>\n",
       "      <td>0.12</td>\n",
       "      <td>0.74</td>\n",
       "      <td>0.1</td>\n",
       "    </tr>\n",
       "    <tr>\n",
       "      <th>FPWC</th>\n",
       "      <td>0.18</td>\n",
       "      <td>0</td>\n",
       "      <td>0.15</td>\n",
       "      <td>0.87</td>\n",
       "      <td>0.9</td>\n",
       "      <td>0.73</td>\n",
       "      <td>0.03</td>\n",
       "    </tr>\n",
       "    <tr>\n",
       "      <th>FSYN</th>\n",
       "      <td>0.61</td>\n",
       "      <td>0.15</td>\n",
       "      <td>0</td>\n",
       "      <td>0.46</td>\n",
       "      <td>0.91</td>\n",
       "      <td>0.65</td>\n",
       "      <td>0.69</td>\n",
       "    </tr>\n",
       "    <tr>\n",
       "      <th>DID</th>\n",
       "      <td>0.06</td>\n",
       "      <td>0.87</td>\n",
       "      <td>0.46</td>\n",
       "      <td>0</td>\n",
       "      <td>0.06</td>\n",
       "      <td>0.88</td>\n",
       "      <td>0.3</td>\n",
       "    </tr>\n",
       "    <tr>\n",
       "      <th>DPWC</th>\n",
       "      <td>0.12</td>\n",
       "      <td>0.9</td>\n",
       "      <td>0.91</td>\n",
       "      <td>0.06</td>\n",
       "      <td>0</td>\n",
       "      <td>0.07</td>\n",
       "      <td>0.55</td>\n",
       "    </tr>\n",
       "    <tr>\n",
       "      <th>DSYN</th>\n",
       "      <td>0.74</td>\n",
       "      <td>0.73</td>\n",
       "      <td>0.65</td>\n",
       "      <td>0.88</td>\n",
       "      <td>0.07</td>\n",
       "      <td>0</td>\n",
       "      <td>0.64</td>\n",
       "    </tr>\n",
       "    <tr>\n",
       "      <th>SA</th>\n",
       "      <td>0.1</td>\n",
       "      <td>0.03</td>\n",
       "      <td>0.69</td>\n",
       "      <td>0.3</td>\n",
       "      <td>0.55</td>\n",
       "      <td>0.64</td>\n",
       "      <td>0</td>\n",
       "    </tr>\n",
       "  </tbody>\n",
       "</table>\n",
       "</div>"
      ],
      "text/plain": [
       "       FID  FPWC  FSYN   DID  DPWC  DSYN    SA\n",
       "FID      0  0.18  0.61  0.06  0.12  0.74   0.1\n",
       "FPWC  0.18     0  0.15  0.87   0.9  0.73  0.03\n",
       "FSYN  0.61  0.15     0  0.46  0.91  0.65  0.69\n",
       "DID   0.06  0.87  0.46     0  0.06  0.88   0.3\n",
       "DPWC  0.12   0.9  0.91  0.06     0  0.07  0.55\n",
       "DSYN  0.74  0.73  0.65  0.88  0.07     0  0.64\n",
       "SA     0.1  0.03  0.69   0.3  0.55  0.64     0"
      ]
     },
     "execution_count": 59,
     "metadata": {},
     "output_type": "execute_result"
    }
   ],
   "source": [
    "pPearson"
   ]
  },
  {
   "cell_type": "code",
   "execution_count": 60,
   "metadata": {},
   "outputs": [
    {
     "data": {
      "text/html": [
       "<div>\n",
       "<style scoped>\n",
       "    .dataframe tbody tr th:only-of-type {\n",
       "        vertical-align: middle;\n",
       "    }\n",
       "\n",
       "    .dataframe tbody tr th {\n",
       "        vertical-align: top;\n",
       "    }\n",
       "\n",
       "    .dataframe thead th {\n",
       "        text-align: right;\n",
       "    }\n",
       "</style>\n",
       "<table border=\"1\" class=\"dataframe\">\n",
       "  <thead>\n",
       "    <tr style=\"text-align: right;\">\n",
       "      <th></th>\n",
       "      <th>FID</th>\n",
       "      <th>FPWC</th>\n",
       "      <th>FSYN</th>\n",
       "      <th>DID</th>\n",
       "      <th>DPWC</th>\n",
       "      <th>DSYN</th>\n",
       "      <th>SA</th>\n",
       "    </tr>\n",
       "  </thead>\n",
       "  <tbody>\n",
       "    <tr>\n",
       "      <th>FID</th>\n",
       "      <td>1</td>\n",
       "      <td>0.65</td>\n",
       "      <td>-0.2</td>\n",
       "      <td>0.67</td>\n",
       "      <td>0.51</td>\n",
       "      <td>0.31</td>\n",
       "      <td>0.85</td>\n",
       "    </tr>\n",
       "    <tr>\n",
       "      <th>FPWC</th>\n",
       "      <td>0.65</td>\n",
       "      <td>1</td>\n",
       "      <td>-0.51</td>\n",
       "      <td>0.05</td>\n",
       "      <td>0.06</td>\n",
       "      <td>-0.02</td>\n",
       "      <td>0.79</td>\n",
       "    </tr>\n",
       "    <tr>\n",
       "      <th>FSYN</th>\n",
       "      <td>-0.2</td>\n",
       "      <td>-0.51</td>\n",
       "      <td>1</td>\n",
       "      <td>0.22</td>\n",
       "      <td>0.16</td>\n",
       "      <td>-0.18</td>\n",
       "      <td>-0.13</td>\n",
       "    </tr>\n",
       "    <tr>\n",
       "      <th>DID</th>\n",
       "      <td>0.67</td>\n",
       "      <td>0.05</td>\n",
       "      <td>0.22</td>\n",
       "      <td>1</td>\n",
       "      <td>0.7</td>\n",
       "      <td>0.24</td>\n",
       "      <td>0.48</td>\n",
       "    </tr>\n",
       "    <tr>\n",
       "      <th>DPWC</th>\n",
       "      <td>0.51</td>\n",
       "      <td>0.06</td>\n",
       "      <td>0.16</td>\n",
       "      <td>0.7</td>\n",
       "      <td>1</td>\n",
       "      <td>0.78</td>\n",
       "      <td>0.22</td>\n",
       "    </tr>\n",
       "    <tr>\n",
       "      <th>DSYN</th>\n",
       "      <td>0.31</td>\n",
       "      <td>-0.02</td>\n",
       "      <td>-0.18</td>\n",
       "      <td>0.24</td>\n",
       "      <td>0.78</td>\n",
       "      <td>1</td>\n",
       "      <td>-0.11</td>\n",
       "    </tr>\n",
       "    <tr>\n",
       "      <th>SA</th>\n",
       "      <td>0.85</td>\n",
       "      <td>0.79</td>\n",
       "      <td>-0.13</td>\n",
       "      <td>0.48</td>\n",
       "      <td>0.22</td>\n",
       "      <td>-0.11</td>\n",
       "      <td>1</td>\n",
       "    </tr>\n",
       "  </tbody>\n",
       "</table>\n",
       "</div>"
      ],
      "text/plain": [
       "       FID  FPWC  FSYN   DID  DPWC  DSYN    SA\n",
       "FID      1  0.65  -0.2  0.67  0.51  0.31  0.85\n",
       "FPWC  0.65     1 -0.51  0.05  0.06 -0.02  0.79\n",
       "FSYN  -0.2 -0.51     1  0.22  0.16 -0.18 -0.13\n",
       "DID   0.67  0.05  0.22     1   0.7  0.24  0.48\n",
       "DPWC  0.51  0.06  0.16   0.7     1  0.78  0.22\n",
       "DSYN  0.31 -0.02 -0.18  0.24  0.78     1 -0.11\n",
       "SA    0.85  0.79 -0.13  0.48  0.22 -0.11     1"
      ]
     },
     "execution_count": 60,
     "metadata": {},
     "output_type": "execute_result"
    }
   ],
   "source": [
    "rSpearman"
   ]
  },
  {
   "cell_type": "code",
   "execution_count": 61,
   "metadata": {},
   "outputs": [
    {
     "data": {
      "text/html": [
       "<div>\n",
       "<style scoped>\n",
       "    .dataframe tbody tr th:only-of-type {\n",
       "        vertical-align: middle;\n",
       "    }\n",
       "\n",
       "    .dataframe tbody tr th {\n",
       "        vertical-align: top;\n",
       "    }\n",
       "\n",
       "    .dataframe thead th {\n",
       "        text-align: right;\n",
       "    }\n",
       "</style>\n",
       "<table border=\"1\" class=\"dataframe\">\n",
       "  <thead>\n",
       "    <tr style=\"text-align: right;\">\n",
       "      <th></th>\n",
       "      <th>FID</th>\n",
       "      <th>FPWC</th>\n",
       "      <th>FSYN</th>\n",
       "      <th>DID</th>\n",
       "      <th>DPWC</th>\n",
       "      <th>DSYN</th>\n",
       "      <th>SA</th>\n",
       "    </tr>\n",
       "  </thead>\n",
       "  <tbody>\n",
       "    <tr>\n",
       "      <th>FID</th>\n",
       "      <td>0</td>\n",
       "      <td>0.11</td>\n",
       "      <td>0.66</td>\n",
       "      <td>0.1</td>\n",
       "      <td>0.24</td>\n",
       "      <td>0.5</td>\n",
       "      <td>0.02</td>\n",
       "    </tr>\n",
       "    <tr>\n",
       "      <th>FPWC</th>\n",
       "      <td>0.11</td>\n",
       "      <td>0</td>\n",
       "      <td>0.25</td>\n",
       "      <td>0.92</td>\n",
       "      <td>0.9</td>\n",
       "      <td>0.97</td>\n",
       "      <td>0.03</td>\n",
       "    </tr>\n",
       "    <tr>\n",
       "      <th>FSYN</th>\n",
       "      <td>0.66</td>\n",
       "      <td>0.25</td>\n",
       "      <td>0</td>\n",
       "      <td>0.63</td>\n",
       "      <td>0.73</td>\n",
       "      <td>0.7</td>\n",
       "      <td>0.79</td>\n",
       "    </tr>\n",
       "    <tr>\n",
       "      <th>DID</th>\n",
       "      <td>0.1</td>\n",
       "      <td>0.92</td>\n",
       "      <td>0.63</td>\n",
       "      <td>0</td>\n",
       "      <td>0.08</td>\n",
       "      <td>0.6</td>\n",
       "      <td>0.28</td>\n",
       "    </tr>\n",
       "    <tr>\n",
       "      <th>DPWC</th>\n",
       "      <td>0.24</td>\n",
       "      <td>0.9</td>\n",
       "      <td>0.73</td>\n",
       "      <td>0.08</td>\n",
       "      <td>0</td>\n",
       "      <td>0.04</td>\n",
       "      <td>0.63</td>\n",
       "    </tr>\n",
       "    <tr>\n",
       "      <th>DSYN</th>\n",
       "      <td>0.5</td>\n",
       "      <td>0.97</td>\n",
       "      <td>0.7</td>\n",
       "      <td>0.6</td>\n",
       "      <td>0.04</td>\n",
       "      <td>0</td>\n",
       "      <td>0.82</td>\n",
       "    </tr>\n",
       "    <tr>\n",
       "      <th>SA</th>\n",
       "      <td>0.02</td>\n",
       "      <td>0.03</td>\n",
       "      <td>0.79</td>\n",
       "      <td>0.28</td>\n",
       "      <td>0.63</td>\n",
       "      <td>0.82</td>\n",
       "      <td>0</td>\n",
       "    </tr>\n",
       "  </tbody>\n",
       "</table>\n",
       "</div>"
      ],
      "text/plain": [
       "       FID  FPWC  FSYN   DID  DPWC  DSYN    SA\n",
       "FID      0  0.11  0.66   0.1  0.24   0.5  0.02\n",
       "FPWC  0.11     0  0.25  0.92   0.9  0.97  0.03\n",
       "FSYN  0.66  0.25     0  0.63  0.73   0.7  0.79\n",
       "DID    0.1  0.92  0.63     0  0.08   0.6  0.28\n",
       "DPWC  0.24   0.9  0.73  0.08     0  0.04  0.63\n",
       "DSYN   0.5  0.97   0.7   0.6  0.04     0  0.82\n",
       "SA    0.02  0.03  0.79  0.28  0.63  0.82     0"
      ]
     },
     "execution_count": 61,
     "metadata": {},
     "output_type": "execute_result"
    }
   ],
   "source": [
    "pSpearman"
   ]
  },
  {
   "cell_type": "code",
   "execution_count": null,
   "metadata": {},
   "outputs": [],
   "source": []
  },
  {
   "cell_type": "code",
   "execution_count": 78,
   "metadata": {},
   "outputs": [
    {
     "name": "stdout",
     "output_type": "stream",
     "text": [
      "(0.8397110505236638, 0.018086877387365325)\n",
      "(0.6771906011157267, 0.09468169305731279)\n",
      "(0.44224738163023547, 0.320430355131449)\n",
      "(0.0752497294656604, 0.8726134718582708)\n",
      "\n",
      "SpearmanrResult(correlation=0.5323117462054056, pvalue=0.21870850311072354)\n",
      "SpearmanrResult(correlation=0.8046172777075037, pvalue=0.029082336647261772)\n",
      "SpearmanrResult(correlation=0.3181045051401759, pvalue=0.48687214173698123)\n",
      "SpearmanrResult(correlation=0.10910894511799621, pvalue=0.8158714843641037)\n"
     ]
    }
   ],
   "source": [
    "from scipy.stats import pearsonr, spearmanr\n",
    "\n",
    "print(pearsonr(dfRenamedConf[\"FID\"],dfRenamedConf[\"confFID\"]))\n",
    "print(pearsonr(dfRenamedConf[\"FPWC\"],dfRenamedConf[\"confFPWC\"]))\n",
    "print(pearsonr(dfRenamedConf[\"DID\"],dfRenamedConf[\"confDID\"]))\n",
    "print(pearsonr(dfRenamedConf[\"DPWC\"],dfRenamedConf[\"confDPWC\"]))\n",
    "print()\n",
    "\n",
    "print(spearmanr(dfRenamedConf[\"FID\"],dfRenamedConf[\"confFID\"]))\n",
    "print(spearmanr(dfRenamedConf[\"FPWC\"],dfRenamedConf[\"confFPWC\"]))\n",
    "print(spearmanr(dfRenamedConf[\"DID\"],dfRenamedConf[\"confDID\"]))\n",
    "print(spearmanr(dfRenamedConf[\"DPWC\"],dfRenamedConf[\"confDPWC\"]))"
   ]
  },
  {
   "cell_type": "code",
   "execution_count": 80,
   "metadata": {},
   "outputs": [
    {
     "name": "stderr",
     "output_type": "stream",
     "text": [
      "/Users/bang/.local/lib/python3.6/site-packages/scipy/stats/stats.py:1713: FutureWarning: Using a non-tuple sequence for multidimensional indexing is deprecated; use `arr[tuple(seq)]` instead of `arr[seq]`. In the future this will be interpreted as an array index, `arr[np.array(seq)]`, which will result either in an error or a different result.\n",
      "  return np.add.reduce(sorted[indexer] * weights, axis=axis) / sumval\n"
     ]
    },
    {
     "data": {
      "text/plain": [
       "<matplotlib.axes._subplots.AxesSubplot at 0x120f040b8>"
      ]
     },
     "execution_count": 80,
     "metadata": {},
     "output_type": "execute_result"
    },
    {
     "data": {
      "image/png": "[encoded data removed]",
      "text/plain": [
       "<Figure size 432x288 with 1 Axes>"
      ]
     },
     "metadata": {},
     "output_type": "display_data"
    }
   ],
   "source": [
    "sns.regplot(x=\"confFPWC\", y=\"FPWC\", data=dfRenamedConf, ci=95)"
   ]
  },
  {
   "cell_type": "code",
   "execution_count": null,
   "metadata": {},
   "outputs": [],
   "source": []
  },
  {
   "cell_type": "code",
   "execution_count": 65,
   "metadata": {},
   "outputs": [
    {
     "data": {
      "text/plain": [
       "<matplotlib.axes._subplots.AxesSubplot at 0x11dd23b70>"
      ]
     },
     "execution_count": 65,
     "metadata": {},
     "output_type": "execute_result"
    },
    {
     "data": {
      "image/png": "[encoded data removed]",
      "text/plain": [
       "<Figure size 792x648 with 2 Axes>"
      ]
     },
     "metadata": {},
     "output_type": "display_data"
    }
   ],
   "source": [
    "corr = dfRenamed.corr()\n",
    "\n",
    "# Generate a mask for the upper triangle\n",
    "mask = np.zeros_like(corr, dtype=np.bool)\n",
    "mask[np.triu_indices_from(mask)] = True\n",
    "\n",
    "# Set up the matplotlib figure\n",
    "f, ax = plt.subplots(figsize=(11, 9))\n",
    "\n",
    "# Generate a custom diverging colormap\n",
    "cmap = sns.diverging_palette(220, 10, as_cmap=True)\n",
    "\n",
    "# Draw the heatmap with the mask and correct aspect ratio\n",
    "sns.heatmap(corr, mask=mask, annot=True, cmap=cmap, vmax=.3, center=0,\n",
    "            square=True, linewidths=.5, cbar_kws={\"shrink\": .6})"
   ]
  },
  {
   "cell_type": "code",
   "execution_count": null,
   "metadata": {},
   "outputs": [],
   "source": []
  },
  {
   "cell_type": "code",
   "execution_count": null,
   "metadata": {},
   "outputs": [],
   "source": []
  },
  {
   "cell_type": "code",
   "execution_count": null,
   "metadata": {},
   "outputs": [],
   "source": []
  },
  {
   "cell_type": "code",
   "execution_count": null,
   "metadata": {},
   "outputs": [],
   "source": []
  },
  {
   "cell_type": "code",
   "execution_count": null,
   "metadata": {},
   "outputs": [],
   "source": []
  },
  {
   "cell_type": "code",
   "execution_count": 84,
   "metadata": {},
   "outputs": [
    {
     "data": {
      "image/png": "[encoded data removed]",
      "text/plain": [
       "<Figure size 1008x288 with 1 Axes>"
      ]
     },
     "metadata": {},
     "output_type": "display_data"
    }
   ],
   "source": [
    "tempvis = visualization.Visualizer()\n",
    "tempvis.parallelCoordinates(columns=['FID','confFID','FPWC','confFPWC','FSYN','DID','confDID','DPWC','confDPWC','DSYN','SA'], \n",
    "                                colors=[\"black\"]*3,\n",
    "                                dataFrame=dfRenamedConf,\n",
    "                                grid=True,\n",
    "                                figsize=(14,4), \n",
    "                                groupBy=None,\n",
    "                               alpha=0.5)"
   ]
  },
  {
   "cell_type": "code",
   "execution_count": 74,
   "metadata": {},
   "outputs": [
    {
     "data": {
      "image/png": "[encoded data removed]",
      "text/plain": [
       "<Figure size 864x288 with 1 Axes>"
      ]
     },
     "metadata": {},
     "output_type": "display_data"
    }
   ],
   "source": [
    "tempvis = visualization.Visualizer()\n",
    "tempvis.parallelCoordinates(columns=['FID','FPWC','DID','DPWC','SA'], dataFrame=dfRenamed,\n",
    "                                colors=[\"black\"]*3,\n",
    "                                grid=True,\n",
    "                                figsize=(12,4), \n",
    "                                groupBy=None,\n",
    "                               alpha=0.5)"
   ]
  },
  {
   "cell_type": "code",
   "execution_count": null,
   "metadata": {},
   "outputs": [],
   "source": []
  },
  {
   "cell_type": "code",
   "execution_count": 88,
   "metadata": {
    "scrolled": true
   },
   "outputs": [
    {
     "data": {
      "image/png": "[encoded data removed]",
      "text/plain": [
       "<Figure size 1080x216 with 4 Axes>"
      ]
     },
     "metadata": {},
     "output_type": "display_data"
    }
   ],
   "source": [
    "tempvis = visualization.Visualizer()\n",
    "try:\n",
    "    dfRenamed[\"index\"]\n",
    "except:\n",
    "    dfRenamed[\"index\"] = [i for i in range(len(dfRenamed[\"condition\"].values))]\n",
    "tempvis.parallelCoordinateVariablePairs(varPairList=[\n",
    "                                            ['FID','SA'],\n",
    "                                            ['FPWC','SA'],\n",
    "                                            ['DID','DPWC'],\n",
    "                                            ['DPWC','DSYN'],\n",
    "                                        ],\n",
    "                                        colors=None,\n",
    "                                        grid=True,\n",
    "                                        groupBy=\"index\",\n",
    "                                        dataFrame=dfRenamed,\n",
    "                                        removeLegend=True,\n",
    "                                        nrows=1, ncols=4, sharey=True, figsize=(15,3))\n"
   ]
  },
  {
   "cell_type": "code",
   "execution_count": 93,
   "metadata": {},
   "outputs": [
    {
     "data": {
      "image/png": "[encoded data removed]",
      "text/plain": [
       "<Figure size 1080x216 with 4 Axes>"
      ]
     },
     "metadata": {},
     "output_type": "display_data"
    }
   ],
   "source": [
    "tempvis = visualization.Visualizer()\n",
    "try:\n",
    "    dfRenamedConf[\"index\"]\n",
    "except:\n",
    "    dfRenamedConf[\"index\"] = [i for i in range(len(dfRenamedConf[\"condition\"].values))]\n",
    "tempvis.parallelCoordinateVariablePairs(varPairList=[\n",
    "                                            ['confFID','FID'],\n",
    "                                            ['confFPWC','FPWC'],\n",
    "                                            ['confDID','DID'],\n",
    "                                            ['confDPWC','DPWC'],\n",
    "                                        ],\n",
    "                                        colors=[\"black\"]*3,\n",
    "                                        grid=True,\n",
    "                                        groupBy=\"index\",\n",
    "                                        dataFrame=dfRenamedConf,\n",
    "                                        removeLegend=True,\n",
    "                                        nrows=1, ncols=4, sharey=True, figsize=(15,3))\n"
   ]
  },
  {
   "cell_type": "code",
   "execution_count": null,
   "metadata": {},
   "outputs": [],
   "source": []
  }
 ],
 "metadata": {
  "kernelspec": {
   "display_name": "Python3 - data_mining_analysis",
   "language": "python",
   "name": "data_mining_analysis"
  },
  "language_info": {
   "codemirror_mode": {
    "name": "ipython",
    "version": 3
   },
   "file_extension": ".py",
   "mimetype": "text/x-python",
   "name": "python",
   "nbconvert_exporter": "python",
   "pygments_lexer": "ipython3",
   "version": "3.6.6"
  }
 },
 "nbformat": 4,
 "nbformat_minor": 2
}
