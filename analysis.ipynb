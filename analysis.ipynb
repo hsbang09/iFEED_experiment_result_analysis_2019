{
 "cells": [
  {
   "cell_type": "code",
   "execution_count": 1,
   "metadata": {},
   "outputs": [
    {
     "data": {
      "text/plain": [
       "<module 'utils' from '/Users/bang/workspace/iFEED_experiment_result_analysis_2019/utils.py'>"
      ]
     },
     "execution_count": 1,
     "metadata": {},
     "output_type": "execute_result"
    }
   ],
   "source": [
    "import numpy as np\n",
    "import importlib\n",
    "from matplotlib import pyplot as plt\n",
    "import pandas as pd\n",
    "import math\n",
    "import os\n",
    "from scipy import stats\n",
    "import seaborn as sns\n",
    "import statsmodels.api as sm\n",
    "import statsmodels.formula.api as smf\n",
    "import sklearn\n",
    "%matplotlib inline\n",
    "\n",
    "import analyzer\n",
    "import subject\n",
    "import visualization\n",
    "import utils\n",
    "importlib.reload(analyzer)\n",
    "importlib.reload(subject)\n",
    "importlib.reload(visualization)\n",
    "importlib.reload(utils)"
   ]
  },
  {
   "cell_type": "code",
   "execution_count": 2,
   "metadata": {},
   "outputs": [],
   "source": [
    "rootPath = os.getcwd()\n",
    "dataFilePath = os.path.join(rootPath, 'data')\n",
    "surveyDataFilePath = os.path.join(dataFilePath, 'survey.csv')\n",
    "loggedDataFilesRootPath = dataFilePath"
   ]
  },
  {
   "cell_type": "code",
   "execution_count": 3,
   "metadata": {
    "scrolled": true
   },
   "outputs": [
    {
     "name": "stdout",
     "output_type": "stream",
     "text": [
      "Failed to load JSON file - directory not found: /Users/bang/workspace/iFEED_experiment_result_analysis_2019/data/0663999114006004819-11_8_9_7\n",
      "Failed to load transcript file - directory not found: /Users/bang/workspace/iFEED_experiment_result_analysis_2019/data/0663999114006004819-11_8_9_7\n"
     ]
    }
   ],
   "source": [
    "resultAnalyzer = analyzer.ResultAnalyzer(surveyDataFilePath, loggedDataFilesRootPath)"
   ]
  },
  {
   "cell_type": "code",
   "execution_count": 4,
   "metadata": {},
   "outputs": [],
   "source": [
    "resultAnalyzer.gradeAnswers(confidenceThreshold=10)"
   ]
  },
  {
   "cell_type": "code",
   "execution_count": 5,
   "metadata": {},
   "outputs": [],
   "source": [
    "resultAnalyzer.computeIGD(os.path.join(rootPath, 'target_selection.csv'), useShortestDistance=True)"
   ]
  },
  {
   "cell_type": "code",
   "execution_count": 6,
   "metadata": {},
   "outputs": [],
   "source": [
    "# resultAnalyzer.computeHV(os.path.join(rootPath, 'target_selection.csv'))"
   ]
  },
  {
   "cell_type": "code",
   "execution_count": 7,
   "metadata": {},
   "outputs": [],
   "source": [
    "s0 = resultAnalyzer.subjects[0]\n",
    "s1 = resultAnalyzer.subjects[1]\n",
    "s2 = resultAnalyzer.subjects[2]\n",
    "s3 = resultAnalyzer.subjects[3]\n",
    "s4 = resultAnalyzer.subjects[4]\n",
    "s5 = resultAnalyzer.subjects[5]\n",
    "s6 = resultAnalyzer.subjects[6]\n",
    "s7 = resultAnalyzer.subjects[7]\n",
    "s8 = resultAnalyzer.subjects[8]"
   ]
  },
  {
   "cell_type": "code",
   "execution_count": null,
   "metadata": {},
   "outputs": [],
   "source": []
  },
  {
   "cell_type": "code",
   "execution_count": 8,
   "metadata": {},
   "outputs": [
    {
     "name": "stdout",
     "output_type": "stream",
     "text": [
      "3\n",
      "5\n",
      "2\n",
      "3\n",
      "3\n",
      "0\n",
      "4\n",
      "3\n",
      "3\n"
     ]
    }
   ],
   "source": [
    "subjects = resultAnalyzer.subjects\n",
    "\n",
    "yrs = []\n",
    "for s in subjects:\n",
    "#     print(s.demographic_data['education'])\n",
    "    print(s.prior_experience_data['tradespaceExploration']['years'])\n",
    "    yrs.append(s.prior_experience_data['tradespaceExploration']['years'])"
   ]
  },
  {
   "cell_type": "code",
   "execution_count": 9,
   "metadata": {},
   "outputs": [
    {
     "name": "stdout",
     "output_type": "stream",
     "text": [
      "2.888888888888889\n",
      "1.2862041003100249\n"
     ]
    }
   ],
   "source": [
    "print(np.mean(yrs))\n",
    "print(np.std(yrs))"
   ]
  },
  {
   "cell_type": "code",
   "execution_count": 10,
   "metadata": {},
   "outputs": [
    {
     "data": {
      "text/plain": [
       "{'age': 30,\n",
       " 'gender': 1,\n",
       " 'education': 7,\n",
       " 'major': 'Aerospace Engineering, Mechanical Engineering',\n",
       " 'employerType': 'Non-profit (non-profit research organization, government contractor, etc.)'}"
      ]
     },
     "execution_count": 10,
     "metadata": {},
     "output_type": "execute_result"
    }
   ],
   "source": [
    "s.demographic_data"
   ]
  },
  {
   "cell_type": "code",
   "execution_count": 11,
   "metadata": {},
   "outputs": [
    {
     "data": {
      "text/plain": [
       "{'satelliteDesign': {'exposure': 1,\n",
       "  'experience': 3,\n",
       "  'years': 3,\n",
       "  'earthObservation': 3,\n",
       "  'remoteSensing': 3},\n",
       " 'dataMining': {'exposure': 1,\n",
       "  'experience': 2,\n",
       "  'years': 2,\n",
       "  'binaryClassification': 5},\n",
       " 'tradespaceExploration': {'exposure': 1, 'experience': 4, 'years': 3}}"
      ]
     },
     "execution_count": 11,
     "metadata": {},
     "output_type": "execute_result"
    }
   ],
   "source": [
    "s.prior_experience_data"
   ]
  },
  {
   "cell_type": "code",
   "execution_count": 12,
   "metadata": {},
   "outputs": [],
   "source": [
    "s8.condition = 6"
   ]
  },
  {
   "cell_type": "code",
   "execution_count": null,
   "metadata": {},
   "outputs": [],
   "source": []
  },
  {
   "cell_type": "markdown",
   "metadata": {},
   "source": [
    "# Get DataFrame"
   ]
  },
  {
   "cell_type": "code",
   "execution_count": 13,
   "metadata": {},
   "outputs": [],
   "source": [
    "df = resultAnalyzer.getDataFrame(option=\"all\", excludeHV=True, adjustIGDUsingEntropy=False, adjustIGDUsingEntireNumDesigns=True)\n",
    "# resultAnalyzer.getDataFrame(option=\"learningTask\")\n",
    "# resultAnalyzer.getDataFrame(option=\"featureSynthesis\")\n",
    "# resultAnalyzer.getDataFrame(option=\"designSynthesis\")"
   ]
  },
  {
   "cell_type": "code",
   "execution_count": 14,
   "metadata": {},
   "outputs": [],
   "source": [
    "# print(df1.to_string(index=False))"
   ]
  },
  {
   "cell_type": "code",
   "execution_count": 15,
   "metadata": {},
   "outputs": [],
   "source": [
    "# df = df.drop(index=1)"
   ]
  },
  {
   "cell_type": "code",
   "execution_count": null,
   "metadata": {},
   "outputs": [],
   "source": []
  },
  {
   "cell_type": "markdown",
   "metadata": {},
   "source": [
    "# Rename variable "
   ]
  },
  {
   "cell_type": "code",
   "execution_count": 16,
   "metadata": {},
   "outputs": [],
   "source": [
    "df = resultAnalyzer.getDataFrame(option=\"all\", excludeHV=True, adjustIGDUsingEntropy=False, adjustIGDUsingEntireNumDesigns=True)\n",
    "\n",
    "namingScheme = {'fcl':'FID',\n",
    "                'fpwc':'FPWC',\n",
    "                'dcl':'DID',\n",
    "                'dpwc':'DPWC',\n",
    "                'conf_fcl':'confFID',\n",
    "                'conf_fpwc':'confFPWC',\n",
    "                'conf_dcl':'confDID',\n",
    "                'conf_dpwc':'confDPWC',\n",
    "                'adjustedIGD':'DSYN',\n",
    "                'normalizedDist2UP':'FSYN',\n",
    "#                 'normalizedSA':'SA',\n",
    "#                 'normalizedSAQ1':'SA',\n",
    "                'normalizedSAExclude1':'SA',\n",
    "                'normalizedCM':'CM',\n",
    "                'totalScore':'TestScore',\n",
    "            }\n",
    "\n",
    "# df = df.rename(columns=namingScheme, inplace=True)\n",
    "\n",
    "for oldName in namingScheme:\n",
    "    if oldName in df.columns:\n",
    "        newName = namingScheme[oldName]\n",
    "        df[newName] = df[oldName].values"
   ]
  },
  {
   "cell_type": "code",
   "execution_count": 17,
   "metadata": {},
   "outputs": [],
   "source": [
    "conditionAlias = {\"interactive\":\"IKE\",\n",
    "                 \"automated\":\"AKE\",\n",
    "                 \"manual\":\"MKE\"}\n",
    "\n",
    "newCol = []\n",
    "for cond in df[\"condition\"].values:\n",
    "    newCol.append(conditionAlias[cond])\n",
    "\n",
    "df[\"condition\"] = newCol"
   ]
  },
  {
   "cell_type": "code",
   "execution_count": null,
   "metadata": {},
   "outputs": [],
   "source": []
  },
  {
   "cell_type": "code",
   "execution_count": null,
   "metadata": {},
   "outputs": [],
   "source": []
  },
  {
   "cell_type": "code",
   "execution_count": 18,
   "metadata": {},
   "outputs": [
    {
     "data": {
      "text/html": [
       "<div>\n",
       "<style scoped>\n",
       "    .dataframe tbody tr th:only-of-type {\n",
       "        vertical-align: middle;\n",
       "    }\n",
       "\n",
       "    .dataframe tbody tr th {\n",
       "        vertical-align: top;\n",
       "    }\n",
       "\n",
       "    .dataframe thead th {\n",
       "        text-align: right;\n",
       "    }\n",
       "</style>\n",
       "<table border=\"1\" class=\"dataframe\">\n",
       "  <thead>\n",
       "    <tr style=\"text-align: right;\">\n",
       "      <th></th>\n",
       "      <th>condition</th>\n",
       "      <th>FID</th>\n",
       "      <th>FPWC</th>\n",
       "      <th>DID</th>\n",
       "      <th>DPWC</th>\n",
       "      <th>NScore</th>\n",
       "      <th>PScore</th>\n",
       "    </tr>\n",
       "  </thead>\n",
       "  <tbody>\n",
       "    <tr>\n",
       "      <td>0</td>\n",
       "      <td>IKE</td>\n",
       "      <td>0.889</td>\n",
       "      <td>0.333</td>\n",
       "      <td>0.778</td>\n",
       "      <td>0.667</td>\n",
       "      <td>0.778</td>\n",
       "      <td>0.444</td>\n",
       "    </tr>\n",
       "    <tr>\n",
       "      <td>1</td>\n",
       "      <td>AKE</td>\n",
       "      <td>0.222</td>\n",
       "      <td>0.222</td>\n",
       "      <td>0.667</td>\n",
       "      <td>0.333</td>\n",
       "      <td>0.222</td>\n",
       "      <td>0.222</td>\n",
       "    </tr>\n",
       "    <tr>\n",
       "      <td>2</td>\n",
       "      <td>MKE</td>\n",
       "      <td>0.444</td>\n",
       "      <td>0.556</td>\n",
       "      <td>0.444</td>\n",
       "      <td>0.333</td>\n",
       "      <td>0.333</td>\n",
       "      <td>0.667</td>\n",
       "    </tr>\n",
       "    <tr>\n",
       "      <td>3</td>\n",
       "      <td>IKE</td>\n",
       "      <td>0.333</td>\n",
       "      <td>0.444</td>\n",
       "      <td>0.667</td>\n",
       "      <td>0.778</td>\n",
       "      <td>0.667</td>\n",
       "      <td>0.111</td>\n",
       "    </tr>\n",
       "    <tr>\n",
       "      <td>4</td>\n",
       "      <td>AKE</td>\n",
       "      <td>0.444</td>\n",
       "      <td>0.556</td>\n",
       "      <td>0.667</td>\n",
       "      <td>0.222</td>\n",
       "      <td>0.556</td>\n",
       "      <td>0.444</td>\n",
       "    </tr>\n",
       "    <tr>\n",
       "      <td>5</td>\n",
       "      <td>MKE</td>\n",
       "      <td>0.222</td>\n",
       "      <td>0.333</td>\n",
       "      <td>0.444</td>\n",
       "      <td>0.111</td>\n",
       "      <td>0.222</td>\n",
       "      <td>0.333</td>\n",
       "    </tr>\n",
       "    <tr>\n",
       "      <td>6</td>\n",
       "      <td>IKE</td>\n",
       "      <td>0.889</td>\n",
       "      <td>0.667</td>\n",
       "      <td>1.000</td>\n",
       "      <td>0.778</td>\n",
       "      <td>0.778</td>\n",
       "      <td>0.778</td>\n",
       "    </tr>\n",
       "    <tr>\n",
       "      <td>7</td>\n",
       "      <td>AKE</td>\n",
       "      <td>0.444</td>\n",
       "      <td>0.556</td>\n",
       "      <td>0.778</td>\n",
       "      <td>0.556</td>\n",
       "      <td>0.667</td>\n",
       "      <td>0.333</td>\n",
       "    </tr>\n",
       "    <tr>\n",
       "      <td>8</td>\n",
       "      <td>IKE</td>\n",
       "      <td>0.667</td>\n",
       "      <td>0.778</td>\n",
       "      <td>0.778</td>\n",
       "      <td>1.000</td>\n",
       "      <td>0.889</td>\n",
       "      <td>0.556</td>\n",
       "    </tr>\n",
       "  </tbody>\n",
       "</table>\n",
       "</div>"
      ],
      "text/plain": [
       "  condition    FID   FPWC    DID   DPWC  NScore  PScore\n",
       "0       IKE  0.889  0.333  0.778  0.667   0.778   0.444\n",
       "1       AKE  0.222  0.222  0.667  0.333   0.222   0.222\n",
       "2       MKE  0.444  0.556  0.444  0.333   0.333   0.667\n",
       "3       IKE  0.333  0.444  0.667  0.778   0.667   0.111\n",
       "4       AKE  0.444  0.556  0.667  0.222   0.556   0.444\n",
       "5       MKE  0.222  0.333  0.444  0.111   0.222   0.333\n",
       "6       IKE  0.889  0.667  1.000  0.778   0.778   0.778\n",
       "7       AKE  0.444  0.556  0.778  0.556   0.667   0.333\n",
       "8       IKE  0.667  0.778  0.778  1.000   0.889   0.556"
      ]
     },
     "execution_count": 18,
     "metadata": {},
     "output_type": "execute_result"
    }
   ],
   "source": [
    "df[[\"condition\",\"FID\",\"FPWC\",\"DID\",\"DPWC\",\"NScore\",\"PScore\"]]"
   ]
  },
  {
   "cell_type": "code",
   "execution_count": null,
   "metadata": {},
   "outputs": [],
   "source": []
  },
  {
   "cell_type": "markdown",
   "metadata": {},
   "source": [
    "# Set Visualizer"
   ]
  },
  {
   "cell_type": "code",
   "execution_count": 19,
   "metadata": {},
   "outputs": [],
   "source": [
    "g1 = [s2, s5]\n",
    "g2 = [s1, s4]\n",
    "g3 = [s0, s3, s6]\n",
    "# g3 = [s6]"
   ]
  },
  {
   "cell_type": "code",
   "execution_count": 20,
   "metadata": {},
   "outputs": [],
   "source": [
    "visualizer = visualization.Visualizer(groups=[g1,g2,g3], groupNames=['MKE','AKE','IKE'])\n",
    "visualizer.setDataFrame(df)"
   ]
  },
  {
   "cell_type": "code",
   "execution_count": null,
   "metadata": {},
   "outputs": [],
   "source": []
  },
  {
   "cell_type": "markdown",
   "metadata": {},
   "source": [
    "# Synthesis task data visualization"
   ]
  },
  {
   "cell_type": "code",
   "execution_count": 21,
   "metadata": {
    "scrolled": false
   },
   "outputs": [
    {
     "data": {
      "image/png": "[encoded data removed]",
      "text/plain": [
       "<Figure size 936x432 with 1 Axes>"
      ]
     },
     "metadata": {
      "needs_background": "light"
     },
     "output_type": "display_data"
    }
   ],
   "source": [
    "visualizer.designSynthesisScatter(markers=['o','^','d'])\n"
   ]
  },
  {
   "cell_type": "code",
   "execution_count": 22,
   "metadata": {},
   "outputs": [
    {
     "data": {
      "image/png": "[encoded data removed]",
      "text/plain": [
       "<Figure size 936x432 with 1 Axes>"
      ]
     },
     "metadata": {
      "needs_background": "light"
     },
     "output_type": "display_data"
    }
   ],
   "source": [
    "visualizer.featureSynthesisScatter(markers=['o','^','d'])\n"
   ]
  },
  {
   "cell_type": "code",
   "execution_count": null,
   "metadata": {},
   "outputs": [],
   "source": []
  },
  {
   "cell_type": "markdown",
   "metadata": {},
   "source": [
    "# Parallel coordinates"
   ]
  },
  {
   "cell_type": "code",
   "execution_count": 23,
   "metadata": {
    "scrolled": false
   },
   "outputs": [
    {
     "data": {
      "image/png": "[encoded data removed]",
      "text/plain": [
       "<Figure size 792x360 with 1 Axes>"
      ]
     },
     "metadata": {
      "needs_background": "light"
     },
     "output_type": "display_data"
    }
   ],
   "source": [
    "visualizer.parallelCoordinates(columns=['FID','FPWC','DID','DPWC'], \n",
    "                                figsize=(11,5))"
   ]
  },
  {
   "cell_type": "code",
   "execution_count": 24,
   "metadata": {
    "scrolled": false
   },
   "outputs": [
    {
     "data": {
      "image/png": "[encoded data removed]",
      "text/plain": [
       "<Figure size 1080x360 with 1 Axes>"
      ]
     },
     "metadata": {
      "needs_background": "light"
     },
     "output_type": "display_data"
    }
   ],
   "source": [
    "visualizer.parallelCoordinates(columns=['FID','FPWC','DID','DPWC','FScore','DScore','PScore','NScore','HScore','LScore','totalScore'], \n",
    "                                figsize=(15,5))"
   ]
  },
  {
   "cell_type": "code",
   "execution_count": 25,
   "metadata": {},
   "outputs": [],
   "source": [
    "PROP_CYCLE = plt.rcParams['axes.prop_cycle']\n",
    "COLORS = PROP_CYCLE.by_key()['color']"
   ]
  },
  {
   "cell_type": "code",
   "execution_count": 26,
   "metadata": {},
   "outputs": [],
   "source": [
    "# tempVis = visualization.Visualizer(groups=[g3], groupNames=['IKE'])\n",
    "# tempDF = resultAnalyzer.getDataFrame().loc[df['condition'] == \"IKE\"]\n",
    "# tempVis.setDataFrame(tempDF)\n",
    "# tempVis.parallelCoordinates(columns=['FID','FPWC','DID','DPWC','FScore','DScore','PScore','NScore','HScore','LScore','totalScore'], \n",
    "#                                 figsize=(15,5))\n"
   ]
  },
  {
   "cell_type": "code",
   "execution_count": 27,
   "metadata": {},
   "outputs": [],
   "source": [
    "# tempVis = visualization.Visualizer(groups=[g3], groupNames=['AKE'])\n",
    "# tempDF = resultAnalyzer.getDataFrame().loc[df['condition'] == \"AKE\"]\n",
    "# tempVis.setDataFrame(tempDF)\n",
    "\n",
    "# tempVis.parallelCoordinates(columns=['FID','FPWC','DID','DPWC','FScore','DScore','PScore','NScore','HScore','LScore','totalScore'], \n",
    "#                                 figsize=(15,5),\n",
    "#                                 colors=[COLORS[1]])\n",
    "\n"
   ]
  },
  {
   "cell_type": "code",
   "execution_count": 28,
   "metadata": {},
   "outputs": [],
   "source": [
    "# tempVis = visualization.Visualizer(groups=[g3], groupNames=['MKE'])\n",
    "# tempDF = resultAnalyzer.getDataFrame().loc[df['condition'] == \"MKE\"]\n",
    "# tempVis.setDataFrame(tempDF)\n",
    "# tempVis.parallelCoordinates(columns=['FID','FPWC','DID','DPWC','FScore','DScore','PScore','NScore','HScore','LScore','totalScore'], \n",
    "#                                 figsize=(15,5),\n",
    "#                             colors=[COLORS[2]])\n"
   ]
  },
  {
   "cell_type": "code",
   "execution_count": null,
   "metadata": {},
   "outputs": [],
   "source": []
  },
  {
   "cell_type": "markdown",
   "metadata": {},
   "source": [
    "# Box plots"
   ]
  },
  {
   "cell_type": "code",
   "execution_count": 29,
   "metadata": {},
   "outputs": [],
   "source": [
    "# visualizer.boxPlot(columns=['FScore','DScore', 'totalScore'], nrows=1, ncols=3, sharey=True, figsize=(14,4.5))"
   ]
  },
  {
   "cell_type": "code",
   "execution_count": 30,
   "metadata": {},
   "outputs": [],
   "source": [
    "# visualizer.boxPlot(columns=['PScore','NScore', 'FScore'], nrows=1, ncols=3, sharey=True, figsize=(14,4.5))"
   ]
  },
  {
   "cell_type": "code",
   "execution_count": 31,
   "metadata": {},
   "outputs": [],
   "source": [
    "# visualizer.boxPlot(columns=['HScore','LScore', 'FScore'], nrows=1, ncols=3, sharey=True, figsize=(14,4.5))"
   ]
  },
  {
   "cell_type": "code",
   "execution_count": 32,
   "metadata": {},
   "outputs": [],
   "source": [
    "# visualizer.boxPlot(columns=['meanDist2UP', 'meanIGD', 'totalScore'], nrows=1, ncols=3, sharey=False, figsize=(14,4.5))"
   ]
  },
  {
   "cell_type": "code",
   "execution_count": 33,
   "metadata": {
    "scrolled": false
   },
   "outputs": [
    {
     "name": "stdout",
     "output_type": "stream",
     "text": [
      "\n",
      "(1, 2)\n",
      "[[0.444, 0.222]]\n",
      "\n",
      "(2,)\n",
      "[[0.444, 0.222], [0.222, 0.444, 0.444]]\n",
      "\n",
      "(3,)\n",
      "[[0.444, 0.222], [0.222, 0.444, 0.444], [0.889, 0.333, 0.889, 0.667]]\n",
      "\n",
      "(1, 2)\n",
      "[[0.556, 0.333]]\n",
      "\n",
      "(2,)\n",
      "[[0.556, 0.333], [0.222, 0.556, 0.556]]\n",
      "\n",
      "(3,)\n",
      "[[0.556, 0.333], [0.222, 0.556, 0.556], [0.333, 0.444, 0.667, 0.778]]\n",
      "\n",
      "(1, 2)\n",
      "[[0.444, 0.444]]\n",
      "\n",
      "(2,)\n",
      "[[0.444, 0.444], [0.667, 0.667, 0.778]]\n",
      "\n",
      "(3,)\n",
      "[[0.444, 0.444], [0.667, 0.667, 0.778], [0.778, 0.667, 1.0, 0.778]]\n",
      "\n",
      "(1, 2)\n",
      "[[0.333, 0.111]]\n",
      "\n",
      "(2,)\n",
      "[[0.333, 0.111], [0.333, 0.222, 0.556]]\n",
      "\n",
      "(3,)\n",
      "[[0.333, 0.111], [0.333, 0.222, 0.556], [0.667, 0.778, 0.778, 1.0]]\n",
      "\n",
      "(1, 2)\n",
      "[[0.213, 0.0]]\n",
      "\n",
      "(2,)\n",
      "[[0.213, 0.0], [1.0, 0.846, 0.225]]\n",
      "\n",
      "(3,)\n",
      "[[0.213, 0.0], [1.0, 0.846, 0.225], [0.175, 0.61, 0.503, nan]]\n",
      "\n",
      "(1, 2)\n",
      "[[0.511, 0.213]]\n",
      "\n",
      "(2,)\n",
      "[[0.511, 0.213], [0.297, 0.0, 0.507]]\n",
      "\n",
      "(3,)\n",
      "[[0.511, 0.213], [0.297, 0.0, 0.507], [0.706, 1.0, 0.328, nan]]\n",
      "\n",
      "(1, 2)\n",
      "[[0.0, 0.056]]\n",
      "\n",
      "(2,)\n",
      "[[0.0, 0.056], [0.889, 0.833, 0.056]]\n",
      "\n",
      "(3,)\n",
      "[[0.0, 0.056], [0.889, 0.833, 0.056], [1.0, 0.722, 1.0, nan]]\n",
      "\n",
      "(1, 2)\n",
      "[[0.6, 0.0]]\n",
      "\n",
      "(2,)\n",
      "[[0.6, 0.0], [0.2, 0.8, 0.6]]\n",
      "\n",
      "(3,)\n",
      "[[0.6, 0.0], [0.2, 0.8, 0.6], [0.4, 0.4, 1.0, 0.8]]\n"
     ]
    },
    {
     "data": {
      "image/png": "[encoded data removed]",
      "text/plain": [
       "<Figure size 576x1008 with 8 Axes>"
      ]
     },
     "metadata": {
      "needs_background": "light"
     },
     "output_type": "display_data"
    }
   ],
   "source": [
    "visualizer.barPlot(columns=['FID','FPWC','DID','DPWC','FSYN','DSYN','CM','SA'], \n",
    "                   showError=True, \n",
    "                   nrows=4, \n",
    "                   ncols=2, \n",
    "                   sharey=True, \n",
    "                   subplotsAdjust={\"hspace\":0.35, \"wspace\":0.1}, \n",
    "                   subplotsHide=None,\n",
    "                   figsize=(8,14))\n"
   ]
  },
  {
   "cell_type": "code",
   "execution_count": 34,
   "metadata": {},
   "outputs": [
    {
     "ename": "SyntaxError",
     "evalue": "invalid syntax (<ipython-input-34-c985d6ba8f59>, line 1)",
     "output_type": "error",
     "traceback": [
      "\u001b[0;36m  File \u001b[0;32m\"<ipython-input-34-c985d6ba8f59>\"\u001b[0;36m, line \u001b[0;32m1\u001b[0m\n\u001b[0;31m    die here\u001b[0m\n\u001b[0m           ^\u001b[0m\n\u001b[0;31mSyntaxError\u001b[0m\u001b[0;31m:\u001b[0m invalid syntax\n"
     ]
    }
   ],
   "source": [
    "die here"
   ]
  },
  {
   "cell_type": "code",
   "execution_count": null,
   "metadata": {},
   "outputs": [],
   "source": [
    "visualizer.barPlot(columns=['FScore','DScore', 'TestScore'], \n",
    "                   showError=True, nrows=1, ncols=3, \n",
    "                   subplotsAdjust={\"wspace\":0.08}, \n",
    "                   sharey=True, figsize=(12,2.85))\n"
   ]
  },
  {
   "cell_type": "code",
   "execution_count": null,
   "metadata": {},
   "outputs": [],
   "source": [
    "visualizer.barPlot(columns=['FID','FPWC','DID','DPWC'], showError=True, nrows=1, ncols=4, \n",
    "                   sharey=True, \n",
    "                   subplotsAdjust={\"wspace\":0.08}, \n",
    "                   figsize=(16,2.85))\n"
   ]
  },
  {
   "cell_type": "code",
   "execution_count": null,
   "metadata": {},
   "outputs": [],
   "source": [
    "visualizer.barPlot(columns=['PScore','NScore','HScore','LScore'], \n",
    "                   showError=True, \n",
    "                   nrows=2, ncols=2, sharey=True, \n",
    "                   subplotsAdjust={\"hspace\":0.35, \"wspace\":0.08}, \n",
    "                   figsize=(8,6))"
   ]
  },
  {
   "cell_type": "code",
   "execution_count": null,
   "metadata": {
    "scrolled": true
   },
   "outputs": [],
   "source": [
    "# visualizer.barPlot(columns=['PScore','NScore', 'FScore'], showError=True, nrows=1, ncols=3, sharey=True, figsize=(13,3))"
   ]
  },
  {
   "cell_type": "code",
   "execution_count": null,
   "metadata": {},
   "outputs": [],
   "source": [
    "# visualizer.barPlot(columns=['HScore','LScore', 'FScore'], showError=True, nrows=1, ncols=3, sharey=True, figsize=(13,3))"
   ]
  },
  {
   "cell_type": "code",
   "execution_count": null,
   "metadata": {
    "scrolled": false
   },
   "outputs": [],
   "source": [
    "visualizer.barPlot(dataFrame=df, columns=['selfAssessment', 'meanIGD', 'meanDist2UP', 'totalScore'], showError=True, nrows=1, ncols=4, sharey=False, figsize=(15,3))\n",
    "# visualizer.barPlot(dataFrame=df, columns=['selfAssessmentExclude1', 'meanIGD', 'meanDist2UP', 'totalScore'], showError=True, nrows=1, ncols=4, sharey=False, figsize=(15,3))\n"
   ]
  },
  {
   "cell_type": "code",
   "execution_count": null,
   "metadata": {},
   "outputs": [],
   "source": [
    "visualizer.barPlot(dataFrame=df, columns=['normalizedIGD', 'adjustedIGD', 'entropy', 'totalScore'], showError=True, nrows=1, ncols=4, sharey=False, figsize=(15,3))\n"
   ]
  },
  {
   "cell_type": "code",
   "execution_count": null,
   "metadata": {},
   "outputs": [],
   "source": [
    "# visualizer.barPlot(dataFrame=df, columns=['HV', 'adjustedHV', 'selfAssessment', 'totalScore'], showError=True, nrows=1, ncols=4, sharey=False, figsize=(15,3))\n"
   ]
  },
  {
   "cell_type": "code",
   "execution_count": null,
   "metadata": {},
   "outputs": [],
   "source": [
    "visualizer.barPlot(dataFrame=df, columns=[\"numNodes\",\"numEdges\",\"numHighLevelEdges\",\"totalScore\"], showError=True, nrows=1, ncols=4, sharey=False, figsize=(15,3))\n"
   ]
  },
  {
   "cell_type": "code",
   "execution_count": null,
   "metadata": {},
   "outputs": [],
   "source": []
  },
  {
   "cell_type": "code",
   "execution_count": null,
   "metadata": {},
   "outputs": [],
   "source": []
  },
  {
   "cell_type": "markdown",
   "metadata": {},
   "source": [
    "# Box plots - Logged Data"
   ]
  },
  {
   "cell_type": "code",
   "execution_count": null,
   "metadata": {
    "scrolled": true
   },
   "outputs": [],
   "source": [
    "# df_lt = resultAnalyzer.getDataFrame(option=\"learningTask\",columns=['totalScore'])\n",
    "# visualizer.boxPlot(columns=['LT_numDesignViewed','LT_numFeatureViewed','totalScore'], dataFrame=df_lt, nrows=1, ncols=3, sharey=False, figsize=(14,3.5))\n"
   ]
  },
  {
   "cell_type": "code",
   "execution_count": null,
   "metadata": {},
   "outputs": [],
   "source": [
    "df_lt = resultAnalyzer.getDataFrame(option=\"learningTask\", columns=[\"totalScore\"])\n",
    "visualizer.barPlot(columns=['LT_numDesignViewed','LT_numFeatureViewed','totalScore'], dataFrame=df_lt, showError=True, nrows=1, ncols=3, sharey=False, figsize=(14,3.5))\n"
   ]
  },
  {
   "cell_type": "code",
   "execution_count": null,
   "metadata": {},
   "outputs": [],
   "source": [
    "# df_fs = resultAnalyzer.getDataFrame(option=\"featureSynthesis\")\n",
    "# visualizer.boxPlot(columns=['meanDist2UP','FS_numFeatureViewed', 'FS_numFilterUsed','FS_numFeatureTested'], dataFrame=df_fs, nrows=1, ncols=4, sharey=False, figsize=(16,4))\n",
    "\n"
   ]
  },
  {
   "cell_type": "code",
   "execution_count": null,
   "metadata": {},
   "outputs": [],
   "source": [
    "df_fs = resultAnalyzer.getDataFrame(option=\"featureSynthesis\", invertSIB=False)\n",
    "visualizer.barPlot(columns=['meanDist2UP','FS_numFeatureViewed', 'FS_numFilterUsed','FS_numFeatureTested'], dataFrame=df_fs, showError=True, nrows=1, ncols=4, sharey=False, figsize=(16,3.5))\n"
   ]
  },
  {
   "cell_type": "code",
   "execution_count": null,
   "metadata": {},
   "outputs": [],
   "source": [
    "# df_ds = resultAnalyzer.getDataFrame(option=\"designSynthesis\")\n",
    "# visualizer.boxPlot(columns=['meanIGD','numDesigns', 'DS_numDesignViewed'], dataFrame=df_ds, nrows=1, ncols=3, sharey=False, figsize=(14,3.5))\n",
    "\n"
   ]
  },
  {
   "cell_type": "code",
   "execution_count": null,
   "metadata": {},
   "outputs": [],
   "source": [
    "df_ds = resultAnalyzer.getDataFrame(option=\"designSynthesis\", invertSIB=False)\n",
    "visualizer.barPlot(columns=['meanIGD','numDesigns', 'DS_numDesignViewed'], dataFrame=df_ds, showError=True, nrows=1, ncols=3, sharey=False, figsize=(14,3.5))\n"
   ]
  },
  {
   "cell_type": "code",
   "execution_count": null,
   "metadata": {},
   "outputs": [],
   "source": []
  },
  {
   "cell_type": "code",
   "execution_count": null,
   "metadata": {},
   "outputs": [],
   "source": []
  },
  {
   "cell_type": "code",
   "execution_count": null,
   "metadata": {},
   "outputs": [],
   "source": []
  },
  {
   "cell_type": "code",
   "execution_count": null,
   "metadata": {},
   "outputs": [],
   "source": []
  },
  {
   "cell_type": "code",
   "execution_count": null,
   "metadata": {},
   "outputs": [],
   "source": []
  },
  {
   "cell_type": "markdown",
   "metadata": {},
   "source": [
    "# Statistical tests"
   ]
  },
  {
   "cell_type": "code",
   "execution_count": null,
   "metadata": {},
   "outputs": [],
   "source": [
    "dfi = df.loc[df['condition'] == \"IKE\"]\n",
    "dfa = df.loc[df['condition'] == \"AKE\"]\n",
    "dfm = df.loc[df['condition'] == \"MKE\"]"
   ]
  },
  {
   "cell_type": "code",
   "execution_count": null,
   "metadata": {},
   "outputs": [],
   "source": [
    "conditions = [\"MKE\", \"AKE\", \"IKE\"]\n",
    "measures = [\"FID\",\"FPWC\",\"DID\",\"DPWC\",\"FSYN\",\"DSYN\",\"CM\",\"SA\"]\n",
    "\n",
    "out = []\n",
    "for mea in measures:\n",
    "    line = [mea]\n",
    "    for cond in conditions:\n",
    "        dat = None\n",
    "        if cond == \"MKE\":\n",
    "            dat = dfm\n",
    "        elif cond == \"AKE\":\n",
    "            dat = dfa\n",
    "        elif cond == \"IKE\":\n",
    "            dat = dfi\n",
    "        \n",
    "        mean = round(np.mean(dat[mea]),2)\n",
    "        stdev = round(np.std(dat[mea]),2)\n",
    "        temp = \"{0} ({1})\".format(mean, stdev)\n",
    "        line.append(temp)\n",
    "    \n",
    "    out.append(\" & \".join(line))\n",
    "\n",
    "print(\" \\\\\\\\\\n\".join(out))\n",
    "print()\n",
    "\n",
    "for mea in measures:\n",
    "    t1, p1 = stats.ttest_ind(dfi[mea], dfa[mea])\n",
    "    t2, p2 = stats.ttest_ind(dfi[mea], dfm[mea])\n",
    "    t3, p3 = stats.ttest_ind(dfa[mea], dfm[mea])\n",
    "    p1 = p1/2\n",
    "    p2 = p2/2\n",
    "    p3 = p3/2\n",
    "    if p1  < 0.05:\n",
    "        print(\"{0} IKE-AKE | p-val: {1}\".format(mea, p1))\n",
    "    if p2  < 0.05:\n",
    "        print(\"{0} IKE-MKE | p-val: {1}\".format(mea, p2))\n",
    "    if p3  < 0.05:\n",
    "        print(\"{0} AKE-MKE | p-val: {1}\".format(mea, p3))"
   ]
  },
  {
   "cell_type": "code",
   "execution_count": null,
   "metadata": {},
   "outputs": [],
   "source": []
  },
  {
   "cell_type": "code",
   "execution_count": null,
   "metadata": {},
   "outputs": [],
   "source": []
  },
  {
   "cell_type": "code",
   "execution_count": null,
   "metadata": {},
   "outputs": [],
   "source": [
    "conditions = [\"MKE\", \"AKE\", \"IKE\"]\n",
    "measures = [\"FScore\",\"DScore\",\"TestScore\"]\n",
    "\n",
    "out = []\n",
    "for mea in measures:\n",
    "    line = [mea]\n",
    "    for cond in conditions:\n",
    "        dat = None\n",
    "        if cond == \"MKE\":\n",
    "            dat = dfm\n",
    "        elif cond == \"AKE\":\n",
    "            dat = dfa\n",
    "        elif cond == \"IKE\":\n",
    "            dat = dfi\n",
    "        \n",
    "        mean = round(np.mean(dat[mea]),2)\n",
    "        stdev = round(np.std(dat[mea]),2)\n",
    "        temp = \"{0} ({1})\".format(mean, stdev)\n",
    "        line.append(temp)\n",
    "    \n",
    "    out.append(\" & \".join(line))\n",
    "\n",
    "print(\" \\\\\\\\\\n\".join(out))\n",
    "print()\n",
    "\n",
    "for mea in measures:\n",
    "    t1, p1 = stats.ttest_ind(dfi[mea], dfa[mea])\n",
    "    t2, p2 = stats.ttest_ind(dfi[mea], dfm[mea])\n",
    "    t3, p3 = stats.ttest_ind(dfa[mea], dfm[mea])\n",
    "    p1 = p1/2\n",
    "    p2 = p2/2\n",
    "    p3 = p3/2\n",
    "    if p1  < 0.05:\n",
    "        print(\"{0} IKE-AKE | p-val: {1}\".format(mea, p1))\n",
    "    if p2  < 0.05:\n",
    "        print(\"{0} IKE-MKE | p-val: {1}\".format(mea, p2))\n",
    "    if p3  < 0.05:\n",
    "        print(\"{0} AKE-MKE | p-val: {1}\".format(mea, p3))"
   ]
  },
  {
   "cell_type": "code",
   "execution_count": null,
   "metadata": {},
   "outputs": [],
   "source": []
  },
  {
   "cell_type": "code",
   "execution_count": null,
   "metadata": {},
   "outputs": [],
   "source": [
    "conditions = [\"MKE\", \"AKE\", \"IKE\"]\n",
    "measures = [\"PScore\",\"NScore\",\"HScore\",\"LScore\"]\n",
    "\n",
    "out = []\n",
    "for mea in measures:\n",
    "    line = [mea]\n",
    "    for cond in conditions:\n",
    "        dat = None\n",
    "        if cond == \"MKE\":\n",
    "            dat = dfm\n",
    "        elif cond == \"AKE\":\n",
    "            dat = dfa\n",
    "        elif cond == \"IKE\":\n",
    "            dat = dfi\n",
    "        \n",
    "        mean = round(np.mean(dat[mea]),2)\n",
    "        stdev = round(np.std(dat[mea]),2)\n",
    "        temp = \"{0} ({1})\".format(mean, stdev)\n",
    "        line.append(temp)\n",
    "    \n",
    "    out.append(\" & \".join(line))\n",
    "\n",
    "print(\" \\\\\\\\\\n\".join(out))\n",
    "print()\n",
    "\n",
    "for mea in measures:\n",
    "    t1, p1 = stats.ttest_ind(dfi[mea], dfa[mea])\n",
    "    t2, p2 = stats.ttest_ind(dfi[mea], dfm[mea])\n",
    "    t3, p3 = stats.ttest_ind(dfa[mea], dfm[mea])\n",
    "    p1 = p1/2\n",
    "    p2 = p2/2\n",
    "    p3 = p3/2\n",
    "    if p1  < 0.05:\n",
    "        print(\"{0} IKE-AKE | p-val: {1}\".format(mea, p1))\n",
    "    if p2  < 0.05:\n",
    "        print(\"{0} IKE-MKE | p-val: {1}\".format(mea, p2))\n",
    "    if p3  < 0.05:\n",
    "        print(\"{0} AKE-MKE | p-val: {1}\".format(mea, p3))"
   ]
  },
  {
   "cell_type": "code",
   "execution_count": null,
   "metadata": {},
   "outputs": [],
   "source": []
  },
  {
   "cell_type": "code",
   "execution_count": null,
   "metadata": {},
   "outputs": [],
   "source": [
    "measures = [\"FID\",\"FPWC\",\"DID\",\"DPWC\",\"FSYN\",\"DSYN\",\"SA\"] + [\"FScore\",\"DScore\",\"TestScore\"] + [\"PScore\",\"NScore\",\"HScore\",\"LScore\"]\n",
    "\n",
    "for mea in measures:\n",
    "    f,p = stats.f_oneway(dfi[mea], dfa[mea], dfm[mea])\n",
    "    if p < 0.05:\n",
    "        print(\"{0} | p-val: {1}\".format(mea, p))"
   ]
  },
  {
   "cell_type": "code",
   "execution_count": null,
   "metadata": {},
   "outputs": [],
   "source": []
  },
  {
   "cell_type": "code",
   "execution_count": null,
   "metadata": {},
   "outputs": [],
   "source": [
    "# from sklearn.linear_model import LinearRegression\n",
    "\n",
    "# # X = data.iloc[:, 0].values.reshape(-1, 1)  # values converts it into a numpy array\n",
    "\n",
    "# X = df[['condition','NScore']].values\n",
    "# y = df['totalScore'].values.reshape(-1, 1)  # -1 means that calculate the dimension of rows, but have 1 column\n",
    "# linear_regressor = LinearRegression()  # create object for the class\n",
    "# linear_regressor.fit(X, y)  # perform linear regression\n"
   ]
  },
  {
   "cell_type": "code",
   "execution_count": null,
   "metadata": {},
   "outputs": [],
   "source": [
    "# linear_regressor.score(X, y)"
   ]
  },
  {
   "cell_type": "code",
   "execution_count": null,
   "metadata": {},
   "outputs": [],
   "source": [
    "# linear_regressor.coef_"
   ]
  },
  {
   "cell_type": "code",
   "execution_count": null,
   "metadata": {},
   "outputs": [],
   "source": [
    "# import statsmodels.api as sm\n",
    "# import statsmodels.formula.api as smf\n",
    "\n",
    "# data = sm.datasets.get_rdataset(\"dietox\", \"geepack\").data\n",
    "# md = smf.mixedlm(\"Weight ~ Time\", data, groups=data[\"Pig\"])\n",
    "# mdf = md.fit()\n",
    "# print(mdf.summary())"
   ]
  },
  {
   "cell_type": "code",
   "execution_count": null,
   "metadata": {},
   "outputs": [],
   "source": []
  },
  {
   "cell_type": "code",
   "execution_count": null,
   "metadata": {},
   "outputs": [],
   "source": []
  },
  {
   "cell_type": "markdown",
   "metadata": {},
   "source": [
    "# Survey results"
   ]
  },
  {
   "cell_type": "code",
   "execution_count": null,
   "metadata": {
    "scrolled": false
   },
   "outputs": [],
   "source": [
    "visualizer.featurePrefPlot(figsize=(10,18))"
   ]
  },
  {
   "cell_type": "code",
   "execution_count": null,
   "metadata": {},
   "outputs": [],
   "source": []
  },
  {
   "cell_type": "markdown",
   "metadata": {},
   "source": [
    "1\n",
    "- Two radars should not be assigned to the same orbit\n",
    "- Instruments {AERO_POL, CPR_RAD, SAR_ALTIM} are not assigned to the same orbit"
   ]
  },
  {
   "cell_type": "markdown",
   "metadata": {},
   "source": [
    "2.\n",
    "- Instruments that measure ocean color are not assigned to AM orbit\n",
    "- AERO_LID, CPR_RAD are not assigned to SSO-600-DD orbit"
   ]
  },
  {
   "cell_type": "markdown",
   "metadata": {},
   "source": [
    "3.\n",
    "- Atmospheric chemistry instruments are assigned together in the same orbit\n",
    "- HIRES_SOUND and HYP_IMAG are assigned together in the same orbit"
   ]
  },
  {
   "cell_type": "markdown",
   "metadata": {},
   "source": [
    "4.\n",
    "- SSO-800-DD is empty, except when it contains VEG_LID and/or SAR_ALTIM\n",
    "- {OCE_SPEC, AERO_POL, AERO_LID, HYP_ERB, CPR_RAD, VEG_INSAR, CHEM_UVSPEC,CHEM_SWIRSPEC, HYP_IMAG, HIRES_SOUND} are not assigned to SSO-800-DD"
   ]
  },
  {
   "cell_type": "markdown",
   "metadata": {},
   "source": [
    "5.\n",
    "- VEG_INSAR is not used, except when it is assigned to LEO-600-polar\n",
    "- HYP_ERB is not assigned to any of the orbits in the set {LEO-600-polar, SSO-600-AM, SSO-600-DD, SSO-800-DD}"
   ]
  },
  {
   "cell_type": "markdown",
   "metadata": {},
   "source": [
    "6.\n",
    "- Radars and lidars are not assigned to the same orbit, except when VEG_LID and VEG_INSAR are assigned together\n",
    "- AERO_LID and CPR_RAD is not assigned together in the same orbit, and SAR_ALTIM and AERO_LID are not assigned together in the same orbit"
   ]
  },
  {
   "cell_type": "markdown",
   "metadata": {},
   "source": [
    "7.\n",
    "- AERO_POL and SAR_ALTIM are NOT assigned together in the same orbit\n",
    "- CHEM_UVSPEC and HIRES_SOUND are assigned together in at least one of the orbits"
   ]
  },
  {
   "cell_type": "markdown",
   "metadata": {},
   "source": [
    "8.\n",
    "- OCE_SPEC is assigned to LEO-600-polar\n",
    "- VEG_INSAR is NOT assigned to SSO-600-AM"
   ]
  },
  {
   "cell_type": "markdown",
   "metadata": {},
   "source": [
    "9.\n",
    "- AERO_LID is NOT used\n",
    "- SAR_ALTIM is used"
   ]
  },
  {
   "cell_type": "code",
   "execution_count": null,
   "metadata": {},
   "outputs": [],
   "source": []
  },
  {
   "cell_type": "code",
   "execution_count": null,
   "metadata": {},
   "outputs": [],
   "source": [
    "visualizer.selfAssessmentPlot(displayStderr=True)"
   ]
  },
  {
   "cell_type": "markdown",
   "metadata": {},
   "source": [
    "1. I learned a lot about the given design problem from this exercise\n",
    "2. The features I learned from this exercise will be useful to solve a different (but similar)\n",
    "design problem in the future\n",
    "3. The tool was useful in checking hypotheses I had based on my prior knowledge\n",
    "4. The tool was useful in checking new hypotheses I had as I analyzed the data.\n",
    "\n",
    "0=strongly disagree, 1=disagree, 2=undecided, 3=agree, 4=strongly agree"
   ]
  },
  {
   "cell_type": "code",
   "execution_count": null,
   "metadata": {},
   "outputs": [],
   "source": []
  },
  {
   "cell_type": "code",
   "execution_count": null,
   "metadata": {},
   "outputs": [],
   "source": []
  },
  {
   "cell_type": "markdown",
   "metadata": {},
   "source": [
    "# Get transcript comments"
   ]
  },
  {
   "cell_type": "code",
   "execution_count": null,
   "metadata": {},
   "outputs": [],
   "source": [
    "subjects_manual = resultAnalyzer.filterSubjects(condition=4)\n",
    "subjects_auto = resultAnalyzer.filterSubjects(condition=5)\n",
    "subjects_interactive = resultAnalyzer.filterSubjects(condition=6)"
   ]
  },
  {
   "cell_type": "code",
   "execution_count": null,
   "metadata": {},
   "outputs": [],
   "source": [
    "comments = resultAnalyzer.getComments(resultAnalyzer.subjects, \"problem_solving_task\", \"F_cl_3\", displayCondition=True, displayParticipantID=False, displayKeyword=False)\n",
    "\n",
    "for line in comments:\n",
    "    print(line)\n",
    "    print(\"\")\n",
    "    "
   ]
  },
  {
   "cell_type": "code",
   "execution_count": null,
   "metadata": {},
   "outputs": [],
   "source": [
    "resultAnalyzer.getComments(subjects_manual, \"problem_solving_task\", \"F\", displayParticipantID=False, displayKeyword=True)\n"
   ]
  },
  {
   "cell_type": "code",
   "execution_count": null,
   "metadata": {},
   "outputs": [],
   "source": [
    "resultAnalyzer.getComments(subjects_auto, \"problem_solving_task\", \"F_cl\", displayParticipantID=False, displayKeyword=True)\n"
   ]
  },
  {
   "cell_type": "code",
   "execution_count": null,
   "metadata": {
    "scrolled": true
   },
   "outputs": [],
   "source": [
    "comments = resultAnalyzer.getComments(resultAnalyzer.subjects, \"survey\", \"gen\", displayCondition=True, displayParticipantID=False, displayKeyword=True)\n",
    "\n",
    "for line in comments:\n",
    "    print(line + \"\\n\")"
   ]
  },
  {
   "cell_type": "code",
   "execution_count": null,
   "metadata": {},
   "outputs": [],
   "source": []
  },
  {
   "cell_type": "code",
   "execution_count": null,
   "metadata": {},
   "outputs": [],
   "source": []
  },
  {
   "cell_type": "markdown",
   "metadata": {},
   "source": [
    "## Correlation "
   ]
  },
  {
   "cell_type": "code",
   "execution_count": 37,
   "metadata": {},
   "outputs": [
    {
     "data": {
      "text/plain": [
       "<matplotlib.axes._subplots.AxesSubplot at 0x1c26b5b150>"
      ]
     },
     "execution_count": 37,
     "metadata": {},
     "output_type": "execute_result"
    },
    {
     "data": {
      "image/png": "[encoded data removed]",
      "text/plain": [
       "<Figure size 432x288 with 1 Axes>"
      ]
     },
     "metadata": {
      "needs_background": "light"
     },
     "output_type": "display_data"
    }
   ],
   "source": [
    "sns.regplot(x=\"SA\", y=\"totalScore\", data=df, ci=95)"
   ]
  },
  {
   "cell_type": "code",
   "execution_count": 38,
   "metadata": {},
   "outputs": [
    {
     "name": "stdout",
     "output_type": "stream",
     "text": [
      "                                 OLS Regression Results                                \n",
      "=======================================================================================\n",
      "Dep. Variable:                      y   R-squared (uncentered):                   0.891\n",
      "Model:                            OLS   Adj. R-squared (uncentered):              0.877\n",
      "Method:                 Least Squares   F-statistic:                              65.45\n",
      "Date:                Fri, 08 Nov 2019   Prob (F-statistic):                    4.03e-05\n",
      "Time:                        15:05:36   Log-Likelihood:                          1.6405\n",
      "No. Observations:                   9   AIC:                                     -1.281\n",
      "Df Residuals:                       8   BIC:                                     -1.084\n",
      "Df Model:                           1                                                  \n",
      "Covariance Type:            nonrobust                                                  \n",
      "==============================================================================\n",
      "                 coef    std err          t      P>|t|      [0.025      0.975]\n",
      "------------------------------------------------------------------------------\n",
      "x1             0.9881      0.122      8.090      0.000       0.706       1.270\n",
      "==============================================================================\n",
      "Omnibus:                        0.828   Durbin-Watson:                   2.903\n",
      "Prob(Omnibus):                  0.661   Jarque-Bera (JB):                0.616\n",
      "Skew:                           0.255   Prob(JB):                        0.735\n",
      "Kurtosis:                       1.824   Cond. No.                         1.00\n",
      "==============================================================================\n",
      "\n",
      "Warnings:\n",
      "[1] Standard Errors assume that the covariance matrix of the errors is correctly specified.\n"
     ]
    },
    {
     "name": "stderr",
     "output_type": "stream",
     "text": [
      "/Users/bang/anaconda3/lib/python3.7/site-packages/scipy/stats/stats.py:1450: UserWarning: kurtosistest only valid for n>=20 ... continuing anyway, n=9\n",
      "  \"anyway, n=%i\" % int(n))\n"
     ]
    }
   ],
   "source": [
    "mod = sm.OLS(np.array(df['SA']), np.array(df['totalScore']))\n",
    "res = mod.fit()\n",
    "print(res.summary())"
   ]
  },
  {
   "cell_type": "code",
   "execution_count": null,
   "metadata": {},
   "outputs": [],
   "source": [
    "sns.lmplot(x=\"selfAssessment\", y=\"totalScore\", hue=\"condition\", markers=[\"o\",\"x\",\"^\"], data=df, ci=None);\n",
    "# sns.lmplot(x=\"selfAssessmentExclude1\", y=\"totalScore\", hue=\"condition\", markers=[\"o\",\"x\",\"^\"], data=df, ci=None);"
   ]
  },
  {
   "cell_type": "code",
   "execution_count": null,
   "metadata": {},
   "outputs": [],
   "source": [
    "# sns.lmplot(x=\"selfAssessment\", y=\"totalScore\", hue=\"type1\", markers=[\"o\",\"x\"], data=df, ci=None);\n",
    "# sns.lmplot(x=\"selfAssessmentExclude1\", y=\"totalScore\", hue=\"type\", markers=[\"o\",\"x\"], data=df, ci=None);"
   ]
  },
  {
   "cell_type": "code",
   "execution_count": null,
   "metadata": {},
   "outputs": [],
   "source": []
  },
  {
   "cell_type": "markdown",
   "metadata": {},
   "source": [
    "## Correlation - Design synthesis task"
   ]
  },
  {
   "cell_type": "code",
   "execution_count": 35,
   "metadata": {},
   "outputs": [
    {
     "data": {
      "image/png": "[encoded data removed]",
      "text/plain": [
       "<Figure size 432x288 with 1 Axes>"
      ]
     },
     "metadata": {
      "needs_background": "light"
     },
     "output_type": "display_data"
    }
   ],
   "source": [
    "sns.regplot(x=\"DPWC\", y=\"DSYN\", data=df, ci=None);"
   ]
  },
  {
   "cell_type": "code",
   "execution_count": 36,
   "metadata": {},
   "outputs": [
    {
     "ename": "MissingDataError",
     "evalue": "exog contains inf or nans",
     "output_type": "error",
     "traceback": [
      "\u001b[0;31m---------------------------------------------------------------------------\u001b[0m",
      "\u001b[0;31mMissingDataError\u001b[0m                          Traceback (most recent call last)",
      "\u001b[0;32m<ipython-input-36-af160ce838ad>\u001b[0m in \u001b[0;36m<module>\u001b[0;34m\u001b[0m\n\u001b[0;32m----> 1\u001b[0;31m \u001b[0mxmod\u001b[0m \u001b[0;34m=\u001b[0m \u001b[0msm\u001b[0m\u001b[0;34m.\u001b[0m\u001b[0mOLS\u001b[0m\u001b[0;34m(\u001b[0m\u001b[0mnp\u001b[0m\u001b[0;34m.\u001b[0m\u001b[0marray\u001b[0m\u001b[0;34m(\u001b[0m\u001b[0mdf\u001b[0m\u001b[0;34m[\u001b[0m\u001b[0;34m'selfAssessment'\u001b[0m\u001b[0;34m]\u001b[0m\u001b[0;34m)\u001b[0m\u001b[0;34m,\u001b[0m \u001b[0mnp\u001b[0m\u001b[0;34m.\u001b[0m\u001b[0marray\u001b[0m\u001b[0;34m(\u001b[0m\u001b[0mdf\u001b[0m\u001b[0;34m[\u001b[0m\u001b[0;34m'meanIGD'\u001b[0m\u001b[0;34m]\u001b[0m\u001b[0;34m)\u001b[0m\u001b[0;34m)\u001b[0m\u001b[0;34m\u001b[0m\u001b[0;34m\u001b[0m\u001b[0m\n\u001b[0m\u001b[1;32m      2\u001b[0m \u001b[0mres\u001b[0m \u001b[0;34m=\u001b[0m \u001b[0mmod\u001b[0m\u001b[0;34m.\u001b[0m\u001b[0mfit\u001b[0m\u001b[0;34m(\u001b[0m\u001b[0;34m)\u001b[0m\u001b[0;34m\u001b[0m\u001b[0;34m\u001b[0m\u001b[0m\n\u001b[1;32m      3\u001b[0m \u001b[0mprint\u001b[0m\u001b[0;34m(\u001b[0m\u001b[0mres\u001b[0m\u001b[0;34m.\u001b[0m\u001b[0msummary\u001b[0m\u001b[0;34m(\u001b[0m\u001b[0;34m)\u001b[0m\u001b[0;34m)\u001b[0m\u001b[0;34m\u001b[0m\u001b[0;34m\u001b[0m\u001b[0m\n",
      "\u001b[0;32m~/anaconda3/lib/python3.7/site-packages/statsmodels/regression/linear_model.py\u001b[0m in \u001b[0;36m__init__\u001b[0;34m(self, endog, exog, missing, hasconst, **kwargs)\u001b[0m\n\u001b[1;32m    836\u001b[0m                  **kwargs):\n\u001b[1;32m    837\u001b[0m         super(OLS, self).__init__(endog, exog, missing=missing,\n\u001b[0;32m--> 838\u001b[0;31m                                   hasconst=hasconst, **kwargs)\n\u001b[0m\u001b[1;32m    839\u001b[0m         \u001b[0;32mif\u001b[0m \u001b[0;34m\"weights\"\u001b[0m \u001b[0;32min\u001b[0m \u001b[0mself\u001b[0m\u001b[0;34m.\u001b[0m\u001b[0m_init_keys\u001b[0m\u001b[0;34m:\u001b[0m\u001b[0;34m\u001b[0m\u001b[0;34m\u001b[0m\u001b[0m\n\u001b[1;32m    840\u001b[0m             \u001b[0mself\u001b[0m\u001b[0;34m.\u001b[0m\u001b[0m_init_keys\u001b[0m\u001b[0;34m.\u001b[0m\u001b[0mremove\u001b[0m\u001b[0;34m(\u001b[0m\u001b[0;34m\"weights\"\u001b[0m\u001b[0;34m)\u001b[0m\u001b[0;34m\u001b[0m\u001b[0;34m\u001b[0m\u001b[0m\n",
      "\u001b[0;32m~/anaconda3/lib/python3.7/site-packages/statsmodels/regression/linear_model.py\u001b[0m in \u001b[0;36m__init__\u001b[0;34m(self, endog, exog, weights, missing, hasconst, **kwargs)\u001b[0m\n\u001b[1;32m    682\u001b[0m             \u001b[0mweights\u001b[0m \u001b[0;34m=\u001b[0m \u001b[0mweights\u001b[0m\u001b[0;34m.\u001b[0m\u001b[0msqueeze\u001b[0m\u001b[0;34m(\u001b[0m\u001b[0;34m)\u001b[0m\u001b[0;34m\u001b[0m\u001b[0;34m\u001b[0m\u001b[0m\n\u001b[1;32m    683\u001b[0m         super(WLS, self).__init__(endog, exog, missing=missing,\n\u001b[0;32m--> 684\u001b[0;31m                                   weights=weights, hasconst=hasconst, **kwargs)\n\u001b[0m\u001b[1;32m    685\u001b[0m         \u001b[0mnobs\u001b[0m \u001b[0;34m=\u001b[0m \u001b[0mself\u001b[0m\u001b[0;34m.\u001b[0m\u001b[0mexog\u001b[0m\u001b[0;34m.\u001b[0m\u001b[0mshape\u001b[0m\u001b[0;34m[\u001b[0m\u001b[0;36m0\u001b[0m\u001b[0;34m]\u001b[0m\u001b[0;34m\u001b[0m\u001b[0;34m\u001b[0m\u001b[0m\n\u001b[1;32m    686\u001b[0m         \u001b[0mweights\u001b[0m \u001b[0;34m=\u001b[0m \u001b[0mself\u001b[0m\u001b[0;34m.\u001b[0m\u001b[0mweights\u001b[0m\u001b[0;34m\u001b[0m\u001b[0;34m\u001b[0m\u001b[0m\n",
      "\u001b[0;32m~/anaconda3/lib/python3.7/site-packages/statsmodels/regression/linear_model.py\u001b[0m in \u001b[0;36m__init__\u001b[0;34m(self, endog, exog, **kwargs)\u001b[0m\n\u001b[1;32m    194\u001b[0m     \"\"\"\n\u001b[1;32m    195\u001b[0m     \u001b[0;32mdef\u001b[0m \u001b[0m__init__\u001b[0m\u001b[0;34m(\u001b[0m\u001b[0mself\u001b[0m\u001b[0;34m,\u001b[0m \u001b[0mendog\u001b[0m\u001b[0;34m,\u001b[0m \u001b[0mexog\u001b[0m\u001b[0;34m,\u001b[0m \u001b[0;34m**\u001b[0m\u001b[0mkwargs\u001b[0m\u001b[0;34m)\u001b[0m\u001b[0;34m:\u001b[0m\u001b[0;34m\u001b[0m\u001b[0;34m\u001b[0m\u001b[0m\n\u001b[0;32m--> 196\u001b[0;31m         \u001b[0msuper\u001b[0m\u001b[0;34m(\u001b[0m\u001b[0mRegressionModel\u001b[0m\u001b[0;34m,\u001b[0m \u001b[0mself\u001b[0m\u001b[0;34m)\u001b[0m\u001b[0;34m.\u001b[0m\u001b[0m__init__\u001b[0m\u001b[0;34m(\u001b[0m\u001b[0mendog\u001b[0m\u001b[0;34m,\u001b[0m \u001b[0mexog\u001b[0m\u001b[0;34m,\u001b[0m \u001b[0;34m**\u001b[0m\u001b[0mkwargs\u001b[0m\u001b[0;34m)\u001b[0m\u001b[0;34m\u001b[0m\u001b[0;34m\u001b[0m\u001b[0m\n\u001b[0m\u001b[1;32m    197\u001b[0m         \u001b[0mself\u001b[0m\u001b[0;34m.\u001b[0m\u001b[0m_data_attr\u001b[0m\u001b[0;34m.\u001b[0m\u001b[0mextend\u001b[0m\u001b[0;34m(\u001b[0m\u001b[0;34m[\u001b[0m\u001b[0;34m'pinv_wexog'\u001b[0m\u001b[0;34m,\u001b[0m \u001b[0;34m'wendog'\u001b[0m\u001b[0;34m,\u001b[0m \u001b[0;34m'wexog'\u001b[0m\u001b[0;34m,\u001b[0m \u001b[0;34m'weights'\u001b[0m\u001b[0;34m]\u001b[0m\u001b[0;34m)\u001b[0m\u001b[0;34m\u001b[0m\u001b[0;34m\u001b[0m\u001b[0m\n\u001b[1;32m    198\u001b[0m \u001b[0;34m\u001b[0m\u001b[0m\n",
      "\u001b[0;32m~/anaconda3/lib/python3.7/site-packages/statsmodels/base/model.py\u001b[0m in \u001b[0;36m__init__\u001b[0;34m(self, endog, exog, **kwargs)\u001b[0m\n\u001b[1;32m    214\u001b[0m \u001b[0;34m\u001b[0m\u001b[0m\n\u001b[1;32m    215\u001b[0m     \u001b[0;32mdef\u001b[0m \u001b[0m__init__\u001b[0m\u001b[0;34m(\u001b[0m\u001b[0mself\u001b[0m\u001b[0;34m,\u001b[0m \u001b[0mendog\u001b[0m\u001b[0;34m,\u001b[0m \u001b[0mexog\u001b[0m\u001b[0;34m=\u001b[0m\u001b[0;32mNone\u001b[0m\u001b[0;34m,\u001b[0m \u001b[0;34m**\u001b[0m\u001b[0mkwargs\u001b[0m\u001b[0;34m)\u001b[0m\u001b[0;34m:\u001b[0m\u001b[0;34m\u001b[0m\u001b[0;34m\u001b[0m\u001b[0m\n\u001b[0;32m--> 216\u001b[0;31m         \u001b[0msuper\u001b[0m\u001b[0;34m(\u001b[0m\u001b[0mLikelihoodModel\u001b[0m\u001b[0;34m,\u001b[0m \u001b[0mself\u001b[0m\u001b[0;34m)\u001b[0m\u001b[0;34m.\u001b[0m\u001b[0m__init__\u001b[0m\u001b[0;34m(\u001b[0m\u001b[0mendog\u001b[0m\u001b[0;34m,\u001b[0m \u001b[0mexog\u001b[0m\u001b[0;34m,\u001b[0m \u001b[0;34m**\u001b[0m\u001b[0mkwargs\u001b[0m\u001b[0;34m)\u001b[0m\u001b[0;34m\u001b[0m\u001b[0;34m\u001b[0m\u001b[0m\n\u001b[0m\u001b[1;32m    217\u001b[0m         \u001b[0mself\u001b[0m\u001b[0;34m.\u001b[0m\u001b[0minitialize\u001b[0m\u001b[0;34m(\u001b[0m\u001b[0;34m)\u001b[0m\u001b[0;34m\u001b[0m\u001b[0;34m\u001b[0m\u001b[0m\n\u001b[1;32m    218\u001b[0m \u001b[0;34m\u001b[0m\u001b[0m\n",
      "\u001b[0;32m~/anaconda3/lib/python3.7/site-packages/statsmodels/base/model.py\u001b[0m in \u001b[0;36m__init__\u001b[0;34m(self, endog, exog, **kwargs)\u001b[0m\n\u001b[1;32m     66\u001b[0m         \u001b[0mhasconst\u001b[0m \u001b[0;34m=\u001b[0m \u001b[0mkwargs\u001b[0m\u001b[0;34m.\u001b[0m\u001b[0mpop\u001b[0m\u001b[0;34m(\u001b[0m\u001b[0;34m'hasconst'\u001b[0m\u001b[0;34m,\u001b[0m \u001b[0;32mNone\u001b[0m\u001b[0;34m)\u001b[0m\u001b[0;34m\u001b[0m\u001b[0;34m\u001b[0m\u001b[0m\n\u001b[1;32m     67\u001b[0m         self.data = self._handle_data(endog, exog, missing, hasconst,\n\u001b[0;32m---> 68\u001b[0;31m                                       **kwargs)\n\u001b[0m\u001b[1;32m     69\u001b[0m         \u001b[0mself\u001b[0m\u001b[0;34m.\u001b[0m\u001b[0mk_constant\u001b[0m \u001b[0;34m=\u001b[0m \u001b[0mself\u001b[0m\u001b[0;34m.\u001b[0m\u001b[0mdata\u001b[0m\u001b[0;34m.\u001b[0m\u001b[0mk_constant\u001b[0m\u001b[0;34m\u001b[0m\u001b[0;34m\u001b[0m\u001b[0m\n\u001b[1;32m     70\u001b[0m         \u001b[0mself\u001b[0m\u001b[0;34m.\u001b[0m\u001b[0mexog\u001b[0m \u001b[0;34m=\u001b[0m \u001b[0mself\u001b[0m\u001b[0;34m.\u001b[0m\u001b[0mdata\u001b[0m\u001b[0;34m.\u001b[0m\u001b[0mexog\u001b[0m\u001b[0;34m\u001b[0m\u001b[0;34m\u001b[0m\u001b[0m\n",
      "\u001b[0;32m~/anaconda3/lib/python3.7/site-packages/statsmodels/base/model.py\u001b[0m in \u001b[0;36m_handle_data\u001b[0;34m(self, endog, exog, missing, hasconst, **kwargs)\u001b[0m\n\u001b[1;32m     89\u001b[0m \u001b[0;34m\u001b[0m\u001b[0m\n\u001b[1;32m     90\u001b[0m     \u001b[0;32mdef\u001b[0m \u001b[0m_handle_data\u001b[0m\u001b[0;34m(\u001b[0m\u001b[0mself\u001b[0m\u001b[0;34m,\u001b[0m \u001b[0mendog\u001b[0m\u001b[0;34m,\u001b[0m \u001b[0mexog\u001b[0m\u001b[0;34m,\u001b[0m \u001b[0mmissing\u001b[0m\u001b[0;34m,\u001b[0m \u001b[0mhasconst\u001b[0m\u001b[0;34m,\u001b[0m \u001b[0;34m**\u001b[0m\u001b[0mkwargs\u001b[0m\u001b[0;34m)\u001b[0m\u001b[0;34m:\u001b[0m\u001b[0;34m\u001b[0m\u001b[0;34m\u001b[0m\u001b[0m\n\u001b[0;32m---> 91\u001b[0;31m         \u001b[0mdata\u001b[0m \u001b[0;34m=\u001b[0m \u001b[0mhandle_data\u001b[0m\u001b[0;34m(\u001b[0m\u001b[0mendog\u001b[0m\u001b[0;34m,\u001b[0m \u001b[0mexog\u001b[0m\u001b[0;34m,\u001b[0m \u001b[0mmissing\u001b[0m\u001b[0;34m,\u001b[0m \u001b[0mhasconst\u001b[0m\u001b[0;34m,\u001b[0m \u001b[0;34m**\u001b[0m\u001b[0mkwargs\u001b[0m\u001b[0;34m)\u001b[0m\u001b[0;34m\u001b[0m\u001b[0;34m\u001b[0m\u001b[0m\n\u001b[0m\u001b[1;32m     92\u001b[0m         \u001b[0;31m# kwargs arrays could have changed, easier to just attach here\u001b[0m\u001b[0;34m\u001b[0m\u001b[0;34m\u001b[0m\u001b[0;34m\u001b[0m\u001b[0m\n\u001b[1;32m     93\u001b[0m         \u001b[0;32mfor\u001b[0m \u001b[0mkey\u001b[0m \u001b[0;32min\u001b[0m \u001b[0mkwargs\u001b[0m\u001b[0;34m:\u001b[0m\u001b[0;34m\u001b[0m\u001b[0;34m\u001b[0m\u001b[0m\n",
      "\u001b[0;32m~/anaconda3/lib/python3.7/site-packages/statsmodels/base/data.py\u001b[0m in \u001b[0;36mhandle_data\u001b[0;34m(endog, exog, missing, hasconst, **kwargs)\u001b[0m\n\u001b[1;32m    633\u001b[0m     \u001b[0mklass\u001b[0m \u001b[0;34m=\u001b[0m \u001b[0mhandle_data_class_factory\u001b[0m\u001b[0;34m(\u001b[0m\u001b[0mendog\u001b[0m\u001b[0;34m,\u001b[0m \u001b[0mexog\u001b[0m\u001b[0;34m)\u001b[0m\u001b[0;34m\u001b[0m\u001b[0;34m\u001b[0m\u001b[0m\n\u001b[1;32m    634\u001b[0m     return klass(endog, exog=exog, missing=missing, hasconst=hasconst,\n\u001b[0;32m--> 635\u001b[0;31m                  **kwargs)\n\u001b[0m",
      "\u001b[0;32m~/anaconda3/lib/python3.7/site-packages/statsmodels/base/data.py\u001b[0m in \u001b[0;36m__init__\u001b[0;34m(self, endog, exog, missing, hasconst, **kwargs)\u001b[0m\n\u001b[1;32m     78\u001b[0m         \u001b[0mself\u001b[0m\u001b[0;34m.\u001b[0m\u001b[0mconst_idx\u001b[0m \u001b[0;34m=\u001b[0m \u001b[0;32mNone\u001b[0m\u001b[0;34m\u001b[0m\u001b[0;34m\u001b[0m\u001b[0m\n\u001b[1;32m     79\u001b[0m         \u001b[0mself\u001b[0m\u001b[0;34m.\u001b[0m\u001b[0mk_constant\u001b[0m \u001b[0;34m=\u001b[0m \u001b[0;36m0\u001b[0m\u001b[0;34m\u001b[0m\u001b[0;34m\u001b[0m\u001b[0m\n\u001b[0;32m---> 80\u001b[0;31m         \u001b[0mself\u001b[0m\u001b[0;34m.\u001b[0m\u001b[0m_handle_constant\u001b[0m\u001b[0;34m(\u001b[0m\u001b[0mhasconst\u001b[0m\u001b[0;34m)\u001b[0m\u001b[0;34m\u001b[0m\u001b[0;34m\u001b[0m\u001b[0m\n\u001b[0m\u001b[1;32m     81\u001b[0m         \u001b[0mself\u001b[0m\u001b[0;34m.\u001b[0m\u001b[0m_check_integrity\u001b[0m\u001b[0;34m(\u001b[0m\u001b[0;34m)\u001b[0m\u001b[0;34m\u001b[0m\u001b[0;34m\u001b[0m\u001b[0m\n\u001b[1;32m     82\u001b[0m         \u001b[0mself\u001b[0m\u001b[0;34m.\u001b[0m\u001b[0m_cache\u001b[0m \u001b[0;34m=\u001b[0m \u001b[0;34m{\u001b[0m\u001b[0;34m}\u001b[0m\u001b[0;34m\u001b[0m\u001b[0;34m\u001b[0m\u001b[0m\n",
      "\u001b[0;32m~/anaconda3/lib/python3.7/site-packages/statsmodels/base/data.py\u001b[0m in \u001b[0;36m_handle_constant\u001b[0;34m(self, hasconst)\u001b[0m\n\u001b[1;32m    124\u001b[0m             \u001b[0mptp_\u001b[0m \u001b[0;34m=\u001b[0m \u001b[0mnp\u001b[0m\u001b[0;34m.\u001b[0m\u001b[0mptp\u001b[0m\u001b[0;34m(\u001b[0m\u001b[0mself\u001b[0m\u001b[0;34m.\u001b[0m\u001b[0mexog\u001b[0m\u001b[0;34m,\u001b[0m \u001b[0maxis\u001b[0m\u001b[0;34m=\u001b[0m\u001b[0;36m0\u001b[0m\u001b[0;34m)\u001b[0m\u001b[0;34m\u001b[0m\u001b[0;34m\u001b[0m\u001b[0m\n\u001b[1;32m    125\u001b[0m             \u001b[0;32mif\u001b[0m \u001b[0;32mnot\u001b[0m \u001b[0mnp\u001b[0m\u001b[0;34m.\u001b[0m\u001b[0misfinite\u001b[0m\u001b[0;34m(\u001b[0m\u001b[0mptp_\u001b[0m\u001b[0;34m)\u001b[0m\u001b[0;34m.\u001b[0m\u001b[0mall\u001b[0m\u001b[0;34m(\u001b[0m\u001b[0;34m)\u001b[0m\u001b[0;34m:\u001b[0m\u001b[0;34m\u001b[0m\u001b[0;34m\u001b[0m\u001b[0m\n\u001b[0;32m--> 126\u001b[0;31m                 \u001b[0;32mraise\u001b[0m \u001b[0mMissingDataError\u001b[0m\u001b[0;34m(\u001b[0m\u001b[0;34m'exog contains inf or nans'\u001b[0m\u001b[0;34m)\u001b[0m\u001b[0;34m\u001b[0m\u001b[0;34m\u001b[0m\u001b[0m\n\u001b[0m\u001b[1;32m    127\u001b[0m             \u001b[0mconst_idx\u001b[0m \u001b[0;34m=\u001b[0m \u001b[0mnp\u001b[0m\u001b[0;34m.\u001b[0m\u001b[0mwhere\u001b[0m\u001b[0;34m(\u001b[0m\u001b[0mptp_\u001b[0m \u001b[0;34m==\u001b[0m \u001b[0;36m0\u001b[0m\u001b[0;34m)\u001b[0m\u001b[0;34m[\u001b[0m\u001b[0;36m0\u001b[0m\u001b[0;34m]\u001b[0m\u001b[0;34m.\u001b[0m\u001b[0msqueeze\u001b[0m\u001b[0;34m(\u001b[0m\u001b[0;34m)\u001b[0m\u001b[0;34m\u001b[0m\u001b[0;34m\u001b[0m\u001b[0m\n\u001b[1;32m    128\u001b[0m             \u001b[0mself\u001b[0m\u001b[0;34m.\u001b[0m\u001b[0mk_constant\u001b[0m \u001b[0;34m=\u001b[0m \u001b[0mconst_idx\u001b[0m\u001b[0;34m.\u001b[0m\u001b[0msize\u001b[0m\u001b[0;34m\u001b[0m\u001b[0;34m\u001b[0m\u001b[0m\n",
      "\u001b[0;31mMissingDataError\u001b[0m: exog contains inf or nans"
     ]
    }
   ],
   "source": [
    "xmod = sm.OLS(np.array(df['selfAssessment']), np.array(df['meanIGD']))\n",
    "res = mod.fit()\n",
    "print(res.summary())"
   ]
  },
  {
   "cell_type": "code",
   "execution_count": null,
   "metadata": {},
   "outputs": [],
   "source": [
    "sns.lmplot(x=\"selfAssessment\", y=\"normalizedIGD\", hue=\"condition\", markers=[\"o\",\"x\",\"^\"], data=df, ci=None);\n",
    "# sns.lmplot(x=\"selfAssessmentExclude1\", y=\"normalizedIGD\", hue=\"condition\", markers=[\"o\",\"x\",\"^\"], data=df, ci=None);"
   ]
  },
  {
   "cell_type": "code",
   "execution_count": null,
   "metadata": {},
   "outputs": [],
   "source": [
    "# sns.lmplot(x=\"selfAssessment\", y=\"normalizedIGD\", hue=\"type1\", markers=[\"o\",\"x\"], data=df, ci=None);\n",
    "# sns.lmplot(x=\"selfAssessmentExclude1\", y=\"normalizedIGD\", hue=\"type\", markers=[\"o\",\"x\"], data=df, ci=None);"
   ]
  },
  {
   "cell_type": "code",
   "execution_count": null,
   "metadata": {},
   "outputs": [],
   "source": [
    "sns.lmplot(x=\"totalScore\", y=\"meanIGD\", hue=\"condition\", markers=[\"o\",\"x\",\"^\"], data=df, ci=None);\n"
   ]
  },
  {
   "cell_type": "code",
   "execution_count": null,
   "metadata": {},
   "outputs": [],
   "source": [
    "sns.regplot(x=\"selfAssessment\", y=\"numDesigns\", data=df, ci=None);"
   ]
  },
  {
   "cell_type": "code",
   "execution_count": null,
   "metadata": {},
   "outputs": [],
   "source": [
    "sns.regplot(x=\"numDesigns\", y=\"totalScore\", data=df, ci=None);"
   ]
  },
  {
   "cell_type": "code",
   "execution_count": null,
   "metadata": {},
   "outputs": [],
   "source": [
    "sns.regplot(x=\"numDesigns\", y=\"normalizedIGD\", data=df, ci=None);"
   ]
  },
  {
   "cell_type": "code",
   "execution_count": null,
   "metadata": {},
   "outputs": [],
   "source": [
    "sns.regplot(x=\"numDesigns\", y=\"selfAssessment\", data=df, ci=None);"
   ]
  },
  {
   "cell_type": "code",
   "execution_count": null,
   "metadata": {},
   "outputs": [],
   "source": []
  },
  {
   "cell_type": "code",
   "execution_count": null,
   "metadata": {},
   "outputs": [],
   "source": []
  },
  {
   "cell_type": "code",
   "execution_count": null,
   "metadata": {},
   "outputs": [],
   "source": []
  },
  {
   "cell_type": "code",
   "execution_count": null,
   "metadata": {},
   "outputs": [],
   "source": []
  },
  {
   "cell_type": "code",
   "execution_count": null,
   "metadata": {},
   "outputs": [],
   "source": []
  },
  {
   "cell_type": "code",
   "execution_count": null,
   "metadata": {},
   "outputs": [],
   "source": [
    "sns.regplot(x=\"selfAssessment\", y=\"adjustedIGD\", data=df);"
   ]
  },
  {
   "cell_type": "code",
   "execution_count": null,
   "metadata": {},
   "outputs": [],
   "source": [
    "sns.regplot(x=\"DScore\", y=\"adjustedIGD\", data=df);"
   ]
  },
  {
   "cell_type": "code",
   "execution_count": null,
   "metadata": {},
   "outputs": [],
   "source": [
    "sns.regplot(x=\"DPWC\", y=\"adjustedIGD\", data=df);"
   ]
  },
  {
   "cell_type": "code",
   "execution_count": null,
   "metadata": {},
   "outputs": [],
   "source": []
  },
  {
   "cell_type": "markdown",
   "metadata": {},
   "source": [
    "## Correlation - feature synthesis task"
   ]
  },
  {
   "cell_type": "code",
   "execution_count": null,
   "metadata": {},
   "outputs": [],
   "source": [
    "sns.regplot(x=\"selfAssessment\", y=\"meanDist2UP\", data=df);"
   ]
  },
  {
   "cell_type": "code",
   "execution_count": null,
   "metadata": {},
   "outputs": [],
   "source": [
    "# sns.regplot(x=\"selfAssessmentExclude1\", y=\"meanDist2UP\", data=df);"
   ]
  },
  {
   "cell_type": "code",
   "execution_count": null,
   "metadata": {},
   "outputs": [],
   "source": [
    "sns.lmplot(x=\"selfAssessment\", y=\"meanDist2UP\", hue=\"condition\", markers=[\"o\",\"x\",\"^\"], data=df, ci=None);\n",
    "# sns.lmplot(x=\"selfAssessmentExclude1\", y=\"meanDist2UP\", hue=\"condition\", markers=[\"o\",\"x\",\"^\"], data=df, ci=None);"
   ]
  },
  {
   "cell_type": "code",
   "execution_count": null,
   "metadata": {},
   "outputs": [],
   "source": [
    "# sns.lmplot(x=\"selfAssessment\", y=\"meanDist2UP\", hue=\"type\", markers=[\"o\",\"x\"], data=df, ci=None);\n",
    "# sns.lmplot(x=\"selfAssessmentExclude1\", y=\"meanDist2UP\", hue=\"type\", markers=[\"o\",\"x\"], data=df, ci=None);"
   ]
  },
  {
   "cell_type": "code",
   "execution_count": null,
   "metadata": {},
   "outputs": [],
   "source": [
    "sns.lmplot(x=\"totalScore\", y=\"meanDist2UP\", hue=\"condition\", markers=[\"o\",\"x\",\"^\"], data=df, ci=None);"
   ]
  },
  {
   "cell_type": "code",
   "execution_count": null,
   "metadata": {},
   "outputs": [],
   "source": []
  },
  {
   "cell_type": "code",
   "execution_count": null,
   "metadata": {},
   "outputs": [],
   "source": []
  },
  {
   "cell_type": "code",
   "execution_count": null,
   "metadata": {},
   "outputs": [],
   "source": [
    "mod = sm.OLS(np.array(df['selfAssessment']), np.array(df['meanDist2UP']))\n",
    "res = mod.fit()\n",
    "print(res.summary())"
   ]
  },
  {
   "cell_type": "code",
   "execution_count": null,
   "metadata": {},
   "outputs": [],
   "source": []
  },
  {
   "cell_type": "markdown",
   "metadata": {},
   "source": [
    "# Correlation - concept mapping"
   ]
  },
  {
   "cell_type": "code",
   "execution_count": null,
   "metadata": {},
   "outputs": [],
   "source": [
    "sns.regplot(x=\"numEdges\", y=\"totalScore\", data=df);"
   ]
  },
  {
   "cell_type": "code",
   "execution_count": null,
   "metadata": {},
   "outputs": [],
   "source": [
    "sns.lmplot(x=\"numEdges\", y=\"totalScore\", hue=\"type2\", markers=[\"o\",\"x\"], data=df, ci=None);\n"
   ]
  },
  {
   "cell_type": "code",
   "execution_count": null,
   "metadata": {},
   "outputs": [],
   "source": [
    "mod = smf.ols(formula='totalScore ~ numEdges * C(type2)', data=df)\n",
    "res = mod.fit()\n",
    "print(res.summary())"
   ]
  },
  {
   "cell_type": "code",
   "execution_count": null,
   "metadata": {},
   "outputs": [],
   "source": []
  },
  {
   "cell_type": "code",
   "execution_count": null,
   "metadata": {},
   "outputs": [],
   "source": []
  },
  {
   "cell_type": "code",
   "execution_count": null,
   "metadata": {},
   "outputs": [],
   "source": []
  },
  {
   "cell_type": "code",
   "execution_count": null,
   "metadata": {},
   "outputs": [],
   "source": [
    "die here"
   ]
  },
  {
   "cell_type": "code",
   "execution_count": null,
   "metadata": {},
   "outputs": [],
   "source": []
  },
  {
   "cell_type": "markdown",
   "metadata": {},
   "source": [
    "# Etc"
   ]
  },
  {
   "cell_type": "code",
   "execution_count": null,
   "metadata": {},
   "outputs": [],
   "source": [
    "df.columns"
   ]
  },
  {
   "cell_type": "code",
   "execution_count": null,
   "metadata": {},
   "outputs": [],
   "source": [
    "sns.pairplot(df[['condition','FScore','DScore','selfAssessment']], kind=\"reg\")"
   ]
  },
  {
   "cell_type": "code",
   "execution_count": null,
   "metadata": {},
   "outputs": [],
   "source": [
    "sns.pairplot(df[['condition','PScore','NScore','selfAssessment']], kind=\"reg\")"
   ]
  },
  {
   "cell_type": "code",
   "execution_count": null,
   "metadata": {},
   "outputs": [],
   "source": [
    "sns.pairplot(df[['condition','FScore','normalizedDist2UP','selfAssessment']], kind=\"reg\")"
   ]
  },
  {
   "cell_type": "code",
   "execution_count": null,
   "metadata": {},
   "outputs": [],
   "source": [
    "sns.pairplot(df[['condition','DScore','adjustedIGD','selfAssessment']], kind=\"reg\")"
   ]
  },
  {
   "cell_type": "code",
   "execution_count": null,
   "metadata": {},
   "outputs": [],
   "source": [
    "sns.pairplot(df[['condition','numDesigns','selfAssessment','normalizedIGD']], kind=\"reg\")"
   ]
  },
  {
   "cell_type": "code",
   "execution_count": null,
   "metadata": {},
   "outputs": [],
   "source": [
    "sns.pairplot(df[['condition','adjustedIGD','entropy','selfAssessment']], kind=\"reg\")"
   ]
  },
  {
   "cell_type": "code",
   "execution_count": null,
   "metadata": {},
   "outputs": [],
   "source": [
    "sns.pairplot(df[['condition','confFID','FID','selfAssessment']], kind=\"reg\")"
   ]
  },
  {
   "cell_type": "code",
   "execution_count": null,
   "metadata": {},
   "outputs": [],
   "source": []
  },
  {
   "cell_type": "code",
   "execution_count": null,
   "metadata": {},
   "outputs": [],
   "source": []
  },
  {
   "cell_type": "code",
   "execution_count": null,
   "metadata": {},
   "outputs": [],
   "source": []
  },
  {
   "cell_type": "code",
   "execution_count": null,
   "metadata": {},
   "outputs": [],
   "source": []
  },
  {
   "cell_type": "code",
   "execution_count": null,
   "metadata": {},
   "outputs": [],
   "source": [
    "die here"
   ]
  },
  {
   "cell_type": "code",
   "execution_count": null,
   "metadata": {},
   "outputs": [],
   "source": []
  },
  {
   "cell_type": "code",
   "execution_count": null,
   "metadata": {},
   "outputs": [],
   "source": []
  },
  {
   "cell_type": "markdown",
   "metadata": {},
   "source": [
    "# Figures for learning measure comparison"
   ]
  },
  {
   "cell_type": "code",
   "execution_count": null,
   "metadata": {},
   "outputs": [],
   "source": []
  },
  {
   "cell_type": "code",
   "execution_count": null,
   "metadata": {},
   "outputs": [],
   "source": [
    "# index_implicit = dfRenamed[ dfRenamed[\"type\"] == \"implicit\" ].index\n",
    "# dfRenamed = dfRenamed.drop(index_implicit)"
   ]
  },
  {
   "cell_type": "code",
   "execution_count": null,
   "metadata": {},
   "outputs": [],
   "source": [
    "dfm = df[['condition','FID','FPWC','FSYN','DID','DPWC','DSYN','CM','SA']].copy()"
   ]
  },
  {
   "cell_type": "code",
   "execution_count": null,
   "metadata": {},
   "outputs": [],
   "source": [
    "dfconf = df[['condition','FID','confFID','FPWC','confFPWC','FSYN','DID','confDID','DPWC','confDPWC','DSYN','SA']].copy()\n"
   ]
  },
  {
   "cell_type": "code",
   "execution_count": null,
   "metadata": {},
   "outputs": [],
   "source": [
    "dfm"
   ]
  },
  {
   "cell_type": "code",
   "execution_count": null,
   "metadata": {},
   "outputs": [],
   "source": []
  },
  {
   "cell_type": "code",
   "execution_count": null,
   "metadata": {
    "scrolled": true
   },
   "outputs": [],
   "source": [
    "rPearson, pPearson, ciLoPearson, ciHiPearson = utils.calculate_pearsonr(dfm, decimal=2)"
   ]
  },
  {
   "cell_type": "code",
   "execution_count": null,
   "metadata": {},
   "outputs": [],
   "source": [
    "rSpearman, pSpearman, ciLoSpearman, ciHiSpearman = utils.calculate_spearmanr(dfm, decimal=2)"
   ]
  },
  {
   "cell_type": "code",
   "execution_count": null,
   "metadata": {},
   "outputs": [],
   "source": [
    "rPearson"
   ]
  },
  {
   "cell_type": "code",
   "execution_count": null,
   "metadata": {},
   "outputs": [],
   "source": [
    "tempdf = rPearson\n",
    "for rowname, row in tempdf.iterrows():\n",
    "    out = [rowname]\n",
    "    i = np.where(tempdf.columns.values == rowname)[0][0]\n",
    "    for j, col in enumerate(row):\n",
    "        if i == j:\n",
    "            out.append(\"-\")\n",
    "        elif j > i:\n",
    "            out.append(\"\")\n",
    "        else:    \n",
    "            out.append(str(col))\n",
    "    out = \" & \".join(out) + \" \\\\\\\\\"\n",
    "    print(out)"
   ]
  },
  {
   "cell_type": "code",
   "execution_count": null,
   "metadata": {},
   "outputs": [],
   "source": [
    "pPearson / 2"
   ]
  },
  {
   "cell_type": "code",
   "execution_count": null,
   "metadata": {},
   "outputs": [],
   "source": [
    "ciLoPearson"
   ]
  },
  {
   "cell_type": "code",
   "execution_count": null,
   "metadata": {},
   "outputs": [],
   "source": [
    "ciHiPearson"
   ]
  },
  {
   "cell_type": "code",
   "execution_count": null,
   "metadata": {
    "scrolled": true
   },
   "outputs": [],
   "source": [
    "rSpearman"
   ]
  },
  {
   "cell_type": "code",
   "execution_count": null,
   "metadata": {},
   "outputs": [],
   "source": [
    "pSpearman / 2"
   ]
  },
  {
   "cell_type": "code",
   "execution_count": null,
   "metadata": {},
   "outputs": [],
   "source": [
    "ciLoSpearman"
   ]
  },
  {
   "cell_type": "code",
   "execution_count": null,
   "metadata": {},
   "outputs": [],
   "source": [
    "ciHiSpearman"
   ]
  },
  {
   "cell_type": "code",
   "execution_count": null,
   "metadata": {},
   "outputs": [],
   "source": []
  },
  {
   "cell_type": "code",
   "execution_count": null,
   "metadata": {},
   "outputs": [],
   "source": []
  },
  {
   "cell_type": "code",
   "execution_count": null,
   "metadata": {},
   "outputs": [],
   "source": [
    "from scipy.stats import pearsonr, spearmanr\n",
    "\n",
    "print(pearsonr(dfconf[\"FID\"],dfconf[\"confFID\"]))\n",
    "print(pearsonr(dfconf[\"FPWC\"],dfconf[\"confFPWC\"]))\n",
    "print(pearsonr(dfconf[\"DID\"],dfconf[\"confDID\"]))\n",
    "print(pearsonr(dfconf[\"DPWC\"],dfconf[\"confDPWC\"]))\n",
    "print()\n",
    "\n",
    "print(spearmanr(dfconf[\"FID\"],dfconf[\"confFID\"]))\n",
    "print(spearmanr(dfconf[\"FPWC\"],dfconf[\"confFPWC\"]))\n",
    "print(spearmanr(dfconf[\"DID\"],dfconf[\"confDID\"]))\n",
    "print(spearmanr(dfconf[\"DPWC\"],dfconf[\"confDPWC\"]))"
   ]
  },
  {
   "cell_type": "code",
   "execution_count": null,
   "metadata": {},
   "outputs": [],
   "source": [
    "sns.regplot(x=\"confFPWC\", y=\"FPWC\", data=dfconf, ci=95)"
   ]
  },
  {
   "cell_type": "code",
   "execution_count": null,
   "metadata": {},
   "outputs": [],
   "source": [
    "rPearson"
   ]
  },
  {
   "cell_type": "code",
   "execution_count": null,
   "metadata": {},
   "outputs": [],
   "source": []
  },
  {
   "cell_type": "code",
   "execution_count": null,
   "metadata": {},
   "outputs": [],
   "source": [
    "x=\"CM\"\n",
    "y=\"SA\"\n",
    "sns.regplot(x=x, y=y, data=df, ci=95)\n",
    "sns.lmplot(x=x, y=y, hue=\"condition\", markers=[\"o\",\"x\",\"^\"], data=df, ci=None)\n",
    "sns.lmplot(x=x, y=y, hue=\"type1\", markers=[\"o\",\"x\"], data=df, ci=None)\n",
    "sns.lmplot(x=x, y=y, hue=\"type2\", markers=[\"o\",\"x\"], data=df, ci=None)\n",
    "sns.lmplot(x=x, y=\"totalScore\", hue=\"type2\", markers=[\"o\",\"x\"], data=df, ci=None)\n"
   ]
  },
  {
   "cell_type": "code",
   "execution_count": null,
   "metadata": {},
   "outputs": [],
   "source": [
    "# corr = dfm.corr()\n",
    "\n",
    "# # Generate a mask for the upper triangle\n",
    "# mask = np.zeros_like(corr, dtype=np.bool)\n",
    "# mask[np.triu_indices_from(mask)] = True\n",
    "\n",
    "# # Set up the matplotlib figure\n",
    "# f, ax = plt.subplots(figsize=(11, 13))\n",
    "\n",
    "# # Generate a custom diverging colormap\n",
    "# cmap = sns.diverging_palette(220, 10, as_cmap=True)\n",
    "\n",
    "# # Draw the heatmap with the mask and correct aspect ratio\n",
    "# sns.heatmap(corr, mask=mask, annot=True, cmap=cmap, vmax=.3, center=0,\n",
    "#             square=True, linewidths=.5, cbar_kws={\"shrink\": .6})"
   ]
  },
  {
   "cell_type": "code",
   "execution_count": null,
   "metadata": {},
   "outputs": [],
   "source": []
  },
  {
   "cell_type": "code",
   "execution_count": null,
   "metadata": {},
   "outputs": [],
   "source": []
  },
  {
   "cell_type": "code",
   "execution_count": null,
   "metadata": {},
   "outputs": [],
   "source": []
  },
  {
   "cell_type": "code",
   "execution_count": null,
   "metadata": {
    "scrolled": false
   },
   "outputs": [],
   "source": [
    "tempvis = visualization.Visualizer()\n",
    "try:\n",
    "    dfm[\"index\"]\n",
    "except:\n",
    "    dfm[\"index\"] = [i for i in range(len(dfm[\"condition\"].values))]\n",
    "tempvis.parallelCoordinates(columns=['FID','FPWC','FSYN','DID','DPWC','DSYN','CM','SA'], \n",
    "                                colors=None,\n",
    "                                dataFrame=dfm,\n",
    "                                grid=True,\n",
    "                                figsize=(14,4), \n",
    "                                groupBy=\"index\",\n",
    "                                removeLegend=True,\n",
    "                               alpha=0.9)"
   ]
  },
  {
   "cell_type": "code",
   "execution_count": null,
   "metadata": {},
   "outputs": [],
   "source": [
    "tempvis = visualization.Visualizer()\n",
    "tempvis.parallelCoordinates(columns=['FID','FPWC','DID','DPWC','SA'], dataFrame=dfm,\n",
    "                                colors=[\"black\"]*3,\n",
    "                                grid=True,\n",
    "                                figsize=(12,4), \n",
    "                                groupBy=None,\n",
    "                               alpha=0.5)"
   ]
  },
  {
   "cell_type": "code",
   "execution_count": null,
   "metadata": {},
   "outputs": [],
   "source": []
  },
  {
   "cell_type": "code",
   "execution_count": null,
   "metadata": {
    "scrolled": false
   },
   "outputs": [],
   "source": [
    "tempvis = visualization.Visualizer()\n",
    "try:\n",
    "    dfm[\"index\"]\n",
    "except:\n",
    "    dfm[\"index\"] = [i for i in range(len(dfm[\"condition\"].values))]\n",
    "tempvis.parallelCoordinateVariablePairs(varPairList=[\n",
    "                                            ['FID','SA'],\n",
    "                                            ['FPWC','SA'],\n",
    "                                            ['DID','DPWC'],\n",
    "                                            ['DPWC','DSYN'],\n",
    "                                        ],\n",
    "                                        colors=None,\n",
    "                                        grid=True,\n",
    "                                        groupBy=\"index\",\n",
    "                                        dataFrame=dfm,\n",
    "                                        removeLegend=True,\n",
    "                                        nrows=1, ncols=4, sharey=True, figsize=(15,3))\n"
   ]
  },
  {
   "cell_type": "code",
   "execution_count": null,
   "metadata": {},
   "outputs": [],
   "source": [
    "tempvis = visualization.Visualizer()\n",
    "try:\n",
    "    dfconf[\"index\"]\n",
    "except:\n",
    "    dfconf[\"index\"] = [i for i in range(len(dfconf[\"condition\"].values))]\n",
    "tempvis.parallelCoordinateVariablePairs(varPairList=[\n",
    "                                            ['confFID','FID'],\n",
    "                                            ['confFPWC','FPWC'],\n",
    "                                            ['confDID','DID'],\n",
    "                                            ['confDPWC','DPWC'],\n",
    "                                        ],\n",
    "                                        colors=[\"black\"]*3,\n",
    "                                        grid=True,\n",
    "                                        groupBy=\"index\",\n",
    "                                        dataFrame=dfconf,\n",
    "                                        removeLegend=True,\n",
    "                                        nrows=1, ncols=4, sharey=True, figsize=(15,3))\n"
   ]
  },
  {
   "cell_type": "code",
   "execution_count": null,
   "metadata": {},
   "outputs": [],
   "source": []
  },
  {
   "cell_type": "code",
   "execution_count": null,
   "metadata": {},
   "outputs": [],
   "source": [
    "df"
   ]
  },
  {
   "cell_type": "code",
   "execution_count": null,
   "metadata": {},
   "outputs": [],
   "source": [
    "for s in resultAnalyzer.subjects:\n",
    "    tempdata = s.learning_self_assessment_data\n",
    "    out = \"{0} {1} {2} {3}\".format(tempdata[0],tempdata[1],tempdata[2],tempdata[3])\n",
    "    print(out)"
   ]
  },
  {
   "cell_type": "code",
   "execution_count": null,
   "metadata": {},
   "outputs": [],
   "source": []
  },
  {
   "cell_type": "code",
   "execution_count": null,
   "metadata": {},
   "outputs": [],
   "source": []
  },
  {
   "cell_type": "code",
   "execution_count": null,
   "metadata": {},
   "outputs": [],
   "source": []
  }
 ],
 "metadata": {
  "kernelspec": {
   "display_name": "Python 3",
   "language": "python",
   "name": "python3"
  },
  "language_info": {
   "codemirror_mode": {
    "name": "ipython",
    "version": 3
   },
   "file_extension": ".py",
   "mimetype": "text/x-python",
   "name": "python",
   "nbconvert_exporter": "python",
   "pygments_lexer": "ipython3",
   "version": "3.7.4"
  }
 },
 "nbformat": 4,
 "nbformat_minor": 2
}
